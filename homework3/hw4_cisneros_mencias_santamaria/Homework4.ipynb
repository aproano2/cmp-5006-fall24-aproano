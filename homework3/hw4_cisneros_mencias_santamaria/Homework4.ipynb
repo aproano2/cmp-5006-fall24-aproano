{
 "cells": [
  {
   "cell_type": "markdown",
   "id": "31c33ad6b08f1345",
   "metadata": {
    "collapsed": false
   },
   "source": [
    "## HW4\n",
    "### Juan Francisco Cisneros, Randall Mencías, Christian Santamaria"
   ]
  },
  {
   "cell_type": "markdown",
   "id": "fb728ae66347794d",
   "metadata": {
    "collapsed": false
   },
   "source": [
    "### Constitution of the Republic of Ecuador\n",
    "\n",
    "**Article 66, Item 19**  \n",
    "Guarantees the right to the protection of personal data, including:\n",
    "- Access to personal data.\n",
    "- The ability to decide its use.\n",
    "- Knowledge of information obtained about an individual.\n",
    "\n",
    "This right covers data collection, storage, and processing, which must be done with the owner’s consent or legal authorization.\n",
    "\n",
    "**Article 92**  \n",
    "Recognizes the right to access public information while respecting privacy rights and the security of personal data. It ensures that public information is not misused against its owners.\n",
    "\n",
    "**Article 94**  \n",
    "Establishes the writ of *habeas data* as a legal tool to protect personal data and information rights. This action allows individuals to know, update, rectify, or delete personal data collected in public or private databases.\n",
    "\n",
    "---\n",
    "\n",
    "### Organic Comprehensive Criminal Code (COIP)\n",
    "\n",
    "**Article 178**  \n",
    "Criminalizes violations of privacy, including unauthorized access, interception, or use of private, confidential, or personal information, including electronic communications like emails and messages.\n",
    "\n",
    "**Article 179**  \n",
    "Penalizes the unauthorized disclosure of secrets obtained in the exercise of a profession or position, if their revelation could cause harm.\n",
    "\n",
    "**Article 180**  \n",
    "Penalizes the unauthorized dissemination of restricted-circulation information.\n",
    "\n",
    "**Article 229**  \n",
    "Punishes the unlawful disclosure or use of personal data or databases, especially when it compromises privacy or system security.\n",
    "\n",
    "**Article 230**  \n",
    "Criminalizes the illegal interception of data, such as recordings or the redirection of communications without proper authorization.\n",
    "\n",
    "**Article 233**  \n",
    "Penalizes crimes involving the unauthorized use or dissemination of legally classified public information.\n"
   ]
  },
  {
   "cell_type": "markdown",
   "id": "initial_id",
   "metadata": {
    "collapsed": true
   },
   "source": [
    "### What kind of crimes or infractions can a person be judged for using those articles?\n",
    "\n",
    "1.\tViolation of Privacy (Art. 178)\n",
    "\n",
    "\n",
    "•\tPenalty: Imprisonment from 1 to 3 years.\n",
    "\n",
    "\n",
    "2.\tUnauthorized Disclosure of Professional Secrets (Art. 179)\n",
    "\n",
    "\n",
    "•\tPenalty: Imprisonment from 6 months to 1 year.\n",
    "\n",
    "\n",
    "3.\tDisclosure of Restricted Information (Art. 180)\n",
    "\n",
    "\n",
    "•\tPenalty: Imprisonment from 1 to 3 years.\n",
    "\n",
    "\n",
    "4.\tImproper Use of Databases (Art. 229)\n",
    "\n",
    "\n",
    "•\tPenalty: Imprisonment from 3 to 5 years.\n",
    "\n",
    "\n",
    "5.\tInterception of Communications (Art. 230)\n",
    "\n",
    "\n",
    "•\tPenalty: Imprisonment from 3 to 5 years.\n",
    "\n",
    "\n",
    "6.\tDisclosure of Classified Information (Art. 233)\n",
    "\n",
    "\n",
    "•\tPenalty: Imprisonment from 5 to 7 years.\n",
    "\n"
   ]
  },
  {
   "cell_type": "markdown",
   "id": "42b6e183",
   "metadata": {},
   "source": [
    "### How do the terms of services of applications like Whatsapp and TikTok align with the privacy laws in Ecuador? What kind of protections Ecuadorian citizens are guaranteed under the law?\n",
    "\n",
    "1. Data Collection Practices, both platforms typically collect extensive user data such as, Device information, Location data ,Usage patterns , Contact lists and Interaction histories\n",
    "\n",
    "2. Consent and Transparency Issues, both users Terms of service use, complex legal language, require accepting entire terms to use the service and provide limited clear information about data usage.\n",
    "\n",
    "3. Data Sharing and Third-Party Access, both platforms, WhatsApp (owned by Meta) and TikTok (ByteDance) are known for sharing data across platforms, selling anonymized user data and allowing third-party access for advertising.\n",
    "\n",
    "\n",
    "These policies and practices violate Ecuadorian laws protecting personal data privacy\n",
    "\n",
    "\n",
    "Protections Guaranteed to Ecuadorian Citizens:\n",
    "\n",
    "\n",
    "1.\tConsent Requirement: Personal data processing must be based on the explicit consent of the data subject, ensuring individuals have control over their information.\n",
    "2.\tAccess and Rectification Rights: Individuals have the right to access their personal data and request corrections if inaccuracies are found.\n",
    "3.\tData Portability: Citizens can request the transfer of their data between service providers, promoting interoperability and user autonomy.\n",
    "4.\tRight to Be Forgotten: Individuals can request the deletion of their personal data when it’s no longer necessary for the purposes it was collected.\n",
    "5.\tData Breach Notification: Organizations are obligated to inform individuals promptly about data breaches that may affect their personal information.\n",
    "\n",
    "In addition the Organic Comprehensive Criminal Code provides strong protections for Ecuadorian citizens in some areas, including, specifically in the articles:\n",
    "\n",
    "1. Article 178: Criminalizes unauthorized access to private communications\n",
    "2. Article 229: Punishes unlawful disclosure or misuse of personal databases\n",
    "3. Article 230: Prohibits illegal interception of data communications\n",
    "\n"
   ]
  },
  {
   "cell_type": "markdown",
   "id": "fb3c1145",
   "metadata": {},
   "source": [
    "Bibliography\n",
    "\n",
    "https://www.oas.org/juridico/pdfs/mesicic4_ecu_const.pdf\n",
    "\n",
    "https://www.defensa.gob.ec/wp-content/uploads/downloads/2021/03/COIP_act_feb-2021.pdf"
   ]
  },
  {
   "cell_type": "markdown",
   "id": "321af2b9",
   "metadata": {},
   "source": []
  }
 ],
 "metadata": {
  "kernelspec": {
   "display_name": "Python 3",
   "language": "python",
   "name": "python3"
  },
  "language_info": {
   "codemirror_mode": {
    "name": "ipython",
    "version": 2
   },
   "file_extension": ".py",
   "mimetype": "text/x-python",
   "name": "python",
   "nbconvert_exporter": "python",
   "pygments_lexer": "ipython2",
   "version": "2.7.6"
  }
 },
 "nbformat": 4,
 "nbformat_minor": 5
}
