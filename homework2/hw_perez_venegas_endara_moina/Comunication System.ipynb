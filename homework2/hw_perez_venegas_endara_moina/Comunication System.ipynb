{
 "cells": [
  {
   "cell_type": "markdown",
   "metadata": {},
   "source": [
    "## Secure Communication System"
   ]
  },
  {
   "cell_type": "markdown",
   "metadata": {},
   "source": [
    "### 1. System Architecture"
   ]
  },
  {
   "cell_type": "markdown",
   "metadata": {},
   "source": [
    "### Components\n",
    "1. Key Management System (KMS)\n",
    "\n",
    "Purpose: Manages the creation, exchange, storage, and rotation of cryptographic keys.  \n",
    "    Responsibilities:\n",
    "- RSA Key Generation: Generates RSA key pairs (public and private keys) for both Alice and Bob. These keys are used for session key encryption and digital signatures.\n",
    "- Session Key Generation: Creates a unique AES session key for each communication session. This AES key is used to encrypt the actual message content.\n",
    "- Key Exchange Management: Handles the secure exchange of public keys and encrypted session keys.\n",
    "- Key Storage and Rotation: Stores the private RSA keys securely and rotates session keys for each new communication session.\n",
    "\n",
    "2. Encryption and Decryption Modules\n",
    "\n",
    "Purpose: Handles encryption and decryption of messages and session keys to ensure message confidentiality.  \n",
    "    Responsibilities:\n",
    "- Message Encryption: Encrypts the message content using the AES session key. AES provides fast and secure symmetric encryption for the message body.\n",
    "- Session Key Encryption: Encrypts the AES session key with the recipient’s RSA public key to ensure only the recipient can access the session key.\n",
    "- Message Decryption: Decrypts the AES-encrypted message using the decrypted session key.\n",
    "\n",
    "3. Message Verification Module\n",
    "\n",
    "Purpose: Verifies the integrity and authenticity of each message.  \n",
    "Responsibilities:\n",
    "- Hashing: Creates a SHA-256 hash of the encrypted message to produce a unique message digest.\n",
    "- Digital Signature: Uses RSA to sign the hash of the message, enabling the recipient to verify that the message was indeed sent by the expected sender.\n",
    "- Signature Verification: On the recipient’s side, verifies the sender’s digital signature using their public key, confirming that the message hasn’t been altered and originated from the authentic sender.\n",
    "\n",
    "### Protocols\n",
    "1. RSA for Key Exchange and Digital Signatures\n",
    "\n",
    "- Purpose: RSA is used both for securely exchanging the session key and for signing the message to ensure authenticity and non-repudiation.\n",
    "- Application: \n",
    "    - Key Exchange: Alice encrypts the AES session key using Bob’s RSA public key, which only Bob can decrypt with his private key.\n",
    "    - Digital Signature: Alice signs the message hash with her RSA private key, allowing Bob to authenticate her identity and verify message integrity.\n",
    "\n",
    "2. AES for Message Encryption\n",
    "\n",
    "- Purpose: AES is used as a symmetric encryption algorithm to encrypt the actual message content, ensuring confidentiality.\n",
    "- Application:\n",
    "    - Alice encrypts her message using the AES session key, providing fast and efficient encryption.\n",
    "    - Only Bob, after decrypting the AES session key, can decrypt the message content.\n",
    "\n",
    "3. SHA-256 for Hashing\n",
    "\n",
    "- Purpose: SHA-256 generates a unique hash for each message, ensuring integrity by detecting any modifications to the message.\n",
    "- Application:\n",
    "    - Before signing, Alice creates a SHA-256 hash of the encrypted message. This hash serves as a unique “fingerprint” of the message content.\n",
    "    - Bob computes the hash of the received message and compares it to the hash extracted from the signature. If the hashes match, the message integrity is confirmed."
   ]
  },
  {
   "cell_type": "markdown",
   "metadata": {},
   "source": [
    "### 2. Message Flow Design\n",
    "\n",
    "#### Step-by-Step Message Encryption Process (Alice to Bob)\n",
    "\n",
    "Session Key Generation: Alice generates a random AES session key (AES_Session_Key) for symmetric encryption of the message.  \n",
    "Encrypting the Message: Alice encrypts her message using the AES session key: \n",
    "- Encrypted_Message = AES_Encrypt(AES_Session_Key, Message).  \n",
    "- Session Key Encryption: Alice encrypts the AES_Session_Key with Bob’s public RSA key: \n",
    "- Encrypted_Session_Key = RSA_Encrypt(Bob_Public_Key, AES_Session_Key).  \n",
    "Signing the Message:\n",
    "- Alice hashes Encrypted_Message using SHA-256 to create a message digest.\n",
    "- Alice signs this digest with her RSA private key to create a digital signature: Signature = RSA_Sign(Alice_Private_Key, Message_Digest).\n",
    "- Sending the Message: Alice sends Encrypted_Message, Encrypted_Session_Key, and Signature to Bob.  \n",
    "\n",
    "#### Step-by-Step Message Decryption Process (Bob receives from Alice)\n",
    "Decrypting the Session Key: \n",
    "- Bob uses his RSA private key to decrypt Encrypted_Session_Key, retrieving the AES_Session_Key.  \n",
    "  \n",
    "Decrypting the Message: \n",
    "- Bob decrypts Encrypted_Message using AES_Session_Key to obtain the original message.  \n",
    "  \n",
    "Verifying the Signature:\n",
    "- Bob hashes Encrypted_Message to create a digest.\n",
    "- Bob verifies Signature using Alice’s RSA public key. If the signature matches the hash, the message’s integrity and authenticity are confirmed.\n",
    "\n",
    "#### Error Handling Procedures\n",
    "Invalid Signature: \n",
    "- If the signature is invalid, Bob discards the message and logs an error.   \n",
    "   \n",
    "Decryption Failure: \n",
    "- If decryption of the session key or message fails, an error is logged, and Bob requests retransmission from Alice.  \n",
    "  \n",
    "Replay Attack Prevention: \n",
    "- Alice includes a unique nonce or timestamp with each message. Bob checks this value to confirm it’s recent and unique. If it’s reused, Bob rejects the message.\n",
    "\n",
    "#### Session Management\n",
    "Session Key Management: \n",
    "- Each communication session uses a unique AES session key, which is discarded at the end of the session.    \n",
    "  \n",
    "Long Sessions:  \n",
    "- For prolonged sessions, the session key is re-generated periodically to maintain security."
   ]
  },
  {
   "cell_type": "markdown",
   "metadata": {},
   "source": [
    "#### Flow Diagram:\n",
    "##### Encryption Flow Diagram (Alice's Side)\n",
    "![Encryption Flow Diagram - Alice's Side](./encryption.jpg)\n",
    "\n",
    "##### Decryption Flow Diagram (Bob's Side)\n",
    "![Decryption Flow Diagram - Bob's Side](./decryption.jpg)\n"
   ]
  },
  {
   "cell_type": "markdown",
   "metadata": {},
   "source": [
    "### 3. Security Analysis"
   ]
  },
  {
   "cell_type": "markdown",
   "metadata": {},
   "source": [
    "Confidentiality\n",
    "- Achieved: Messages are encrypted using AES, and the AES key is protected with RSA encryption. Only the recipient, who holds the private key, can decrypt the AES session key.\n",
    "\n",
    "Integrity\n",
    "- Achieved: The message hash is signed with the sender’s RSA private key, enabling the recipient to confirm that the message hasn’t been altered.\n",
    "\n",
    "Authenticity and Non-repudiation\n",
    "- Achieved: The digital signature provides a cryptographic way to verify the sender’s identity, ensuring authenticity. Non-repudiation is ensured as the sender cannot deny sending the message due to their unique digital signature.\n",
    "\n",
    "Replay Attack Prevention\n",
    "- Achieved: Using nonces and timestamps allows the system to detect and reject replayed messages."
   ]
  },
  {
   "cell_type": "markdown",
   "metadata": {},
   "source": [
    "### 4. Implementation Considerations\n",
    "- Performance: RSA is used only for encrypting the session key and signing the message. AES is used for the message body to maintain high performance.\n",
    "- Compatibility: Ensure compatibility of RSA and AES libraries on all devices involved.\n",
    "- Scalability: Consider a PKI system if the system scales to support additional users beyond Alice and Bob."
   ]
  },
  {
   "cell_type": "markdown",
   "metadata": {},
   "source": [
    "### 5. Potential Vulnerabilities and Mitigations\n",
    "| Vulnerability              | Mitigation                                       |\n",
    "|----------------------------|--------------------------------------------------|\n",
    "| Man-in-the-Middle Attack   | Use secure PKI for public key verification       |\n",
    "| Key Compromise             | Use secure storage, and periodically rotate keys |\n",
    "| Replay Attacks             | Implement nonce/timestamp-based checks           |\n",
    "| Brute-force Key Attacks    | Use strong RSA (2048-bit+) and AES (256-bit) keys|\n",
    "| Side-channel Attacks       | Secure environment, hardware protection          |\n"
   ]
  },
  {
   "cell_type": "markdown",
   "metadata": {},
   "source": []
  }
 ],
 "metadata": {
  "language_info": {
   "name": "python"
  }
 },
 "nbformat": 4,
 "nbformat_minor": 2
}
