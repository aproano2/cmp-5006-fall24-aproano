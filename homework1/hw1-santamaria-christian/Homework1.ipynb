{
 "cells": [
  {
   "cell_type": "markdown",
   "id": "5fcee4eb406e395c",
   "metadata": {},
   "source": [
    "## HW1\n",
    "### Juan Francisco Cisneros, Randall Mencías, Christian Santamaria"
   ]
  },
  {
   "cell_type": "markdown",
   "id": "c3cb4a96ee80584f",
   "metadata": {},
   "source": [
    "### 1. The hw-crypto assignment is available in the picoCTF platform. As we discussed in class, you need to write a notebook describing 2 alternative solutions for each problem\n"
   ]
  },
  {
   "cell_type": "markdown",
   "id": "1f3f4205",
   "metadata": {},
   "source": [
    "### 1.1.1 interencdec"
   ]
  },
  {
   "cell_type": "markdown",
   "id": "bafbfef7",
   "metadata": {},
   "source": [
    "1. The first thing I did was analyze the encrypted flag = YidkM0JxZGtwQlRYdHFhR3g2YUhsZmF6TnFlVGwzWVROclh6YzRNalV3YUcxcWZRPT0nCg==. To do this, I used the CyberChef tool and discovered that the flag was in base64.\n",
    "\n",
    "![image](./ImagesHW1/interencdec1.png)\n",
    "\n",
    "\n",
    "2.\tThe text was much more readable, but it still didn’t resemble the flag.\n",
    "3.\tI went back to PicoCTF and saw the hint, which said that sometimes the decoding process needs to be done twice.\n",
    "4.\tI decoded the base64 text again, but I noticed that the text had an initial padding b' and a final ',, so I removed it.\n",
    "\n",
    "![image](./ImagesHW1/interencdec2.png)\n",
    "\n",
    "5.\tThe text looked much more like the flag, which is always in the format picoCTF{}, and after analyzing it, it seemed that a Caesar cipher was being applied, meaning a letter shift. In CyberChef, I used the ROT13 tool, which shifts the letters by 13 positions, but in reality, the shift was by 19 positions.\n",
    "\n",
    "![image](./ImagesHW1/interencdec3.png)\n",
    "\n",
    "6.\tFinally, I obtained the flag: picoCTF{caesar_d3cr9pt3d_78250afc}.\n"
   ]
  },
  {
   "cell_type": "markdown",
   "id": "c5fa9e7a",
   "metadata": {},
   "source": [
    "### 1.1.2 interencdec"
   ]
  },
  {
   "cell_type": "code",
   "execution_count": 131,
   "id": "79ea9e1d",
   "metadata": {},
   "outputs": [
    {
     "name": "stdout",
     "output_type": "stream",
     "text": [
      "b\"b'd3BqdkpBTXtqaGx6aHlfazNqeTl3YTNrXzc4MjUwaG1qfQ=='\\n\"\n"
     ]
    }
   ],
   "source": [
    "# I'm using python to decode the base64 string using the base64 library\n",
    "import base64\n",
    "\n",
    "coded_string = 'YidkM0JxZGtwQlRYdHFhR3g2YUhsZmF6TnFlVGwzWVROclh6YzRNalV3YUcxcWZRPT0nCg=='\n",
    "firstRound = base64.b64decode(coded_string)\n",
    "print(firstRound)"
   ]
  },
  {
   "cell_type": "code",
   "execution_count": 132,
   "id": "b0b7d2b4",
   "metadata": {},
   "outputs": [
    {
     "name": "stdout",
     "output_type": "stream",
     "text": [
      "d3BqdkpBTXtqaGx6aHlfazNqeTl3YTNrXzc4MjUwaG1qfQ==\n",
      "b'wpjvJAM{jhlzhy_k3jy9wa3k_78250hmj}'\n"
     ]
    }
   ],
   "source": [
    "# Decode the byte string and strip the unwanted characters\n",
    "decoded_string = firstRound.decode(\"utf-8\").strip()  # Remove leading/trailing whitespace\n",
    "cleaned_string = decoded_string.strip(\"b'\")  # Remove \"b'\" and the trailing \"'\"\n",
    "\n",
    "print(cleaned_string)  # The flag is is cleaned for a second round of base64 decoding\n",
    "\n",
    "secondRound = base64.b64decode(cleaned_string)\n",
    "print(secondRound)"
   ]
  },
  {
   "cell_type": "code",
   "execution_count": 133,
   "id": "b47d74c0",
   "metadata": {},
   "outputs": [
    {
     "name": "stdout",
     "output_type": "stream",
     "text": [
      "picoCTF{caesar_d3cr9pt3d_78250afc}\n"
     ]
    }
   ],
   "source": [
    "# This function rotates the letters of the string by a given number of rotations\n",
    "def rotation(numberRotations, fraseToRotate):\n",
    "    rotatedFrase = \"\"\n",
    "    for letter in fraseToRotate:\n",
    "        if letter.isalpha():\n",
    "            asciiCode = ord(letter)\n",
    "            if letter.islower():\n",
    "                asciiCode = ((asciiCode - 97 + numberRotations) % 26) + 97\n",
    "            else:\n",
    "                asciiCode = ((asciiCode - 65 + numberRotations) % 26) + 65\n",
    "            rotatedFrase += chr(asciiCode)\n",
    "        else:\n",
    "            rotatedFrase += letter\n",
    "    return rotatedFrase\n",
    "\n",
    "\n",
    "# The flag is rotated by 19 characters\n",
    "print(rotation(19, secondRound.decode(\"utf-8\")))\n"
   ]
  },
  {
   "cell_type": "markdown",
   "id": "2c2f487a67b74c45",
   "metadata": {
    "collapsed": false
   },
   "source": [
    "### 1.2.1 The Numbers Mason, What Do They Mean?"
   ]
  },
  {
   "cell_type": "markdown",
   "id": "d14151efa15e2241",
   "metadata": {
    "collapsed": false
   },
   "source": [
    "To do this challenge it was first important to see the image and keep it simple, although many times images contain hidden messages within metadata or the colors if you observe the image you can notice that the structure of the nubers are all between 1 and 26, so it is possible that the numbers are representing the alphabet, so I decided to map the numbers to the alphabet and decrypt the message."
   ]
  },
  {
   "cell_type": "code",
   "execution_count": 134,
   "id": "7b01b929becd0c86",
   "metadata": {
    "ExecuteTime": {
     "end_time": "2024-10-15T01:52:13.074896Z",
     "start_time": "2024-10-15T01:52:12.778711900Z"
    },
    "collapsed": false
   },
   "outputs": [],
   "source": [
    "# map the alphabet to numbers\n",
    "alphabet = 'abcdefghijklmnopqrstuvwxyz'\n",
    "alphabet_map = {c: i for i, c in enumerate(alphabet)}\n"
   ]
  },
  {
   "cell_type": "code",
   "execution_count": 135,
   "id": "3c7988971690faf7",
   "metadata": {
    "ExecuteTime": {
     "end_time": "2024-10-15T01:52:13.358200800Z",
     "start_time": "2024-10-15T01:52:12.779221400Z"
    },
    "collapsed": false
   },
   "outputs": [],
   "source": [
    "# decrypt the message\n",
    "message = \"16 9 3 15 3 20 6\"\n",
    "message_2 = \" 20 8 5 14 21 13 2 5 18 19 13 1 19 15 14 \"\n",
    "message = message.split()\n",
    "message_2 = message_2.split()\n"
   ]
  },
  {
   "cell_type": "code",
   "execution_count": 136,
   "id": "2cedcd9d92ba6ea0",
   "metadata": {
    "ExecuteTime": {
     "end_time": "2024-10-15T01:52:13.406654600Z",
     "start_time": "2024-10-15T01:52:12.976680200Z"
    },
    "collapsed": false
   },
   "outputs": [
    {
     "name": "stdout",
     "output_type": "stream",
     "text": [
      "picoctfthenumbersmason\n"
     ]
    }
   ],
   "source": [
    "# decrypt the first part of the message\n",
    "decrypted_message = ''\n",
    "for num in message:\n",
    "    decrypted_message += alphabet[int(num) - 1]\n",
    "for num in message_2:\n",
    "    decrypted_message += alphabet[int(num) - 1]\n",
    "\n",
    "print(decrypted_message)"
   ]
  },
  {
   "cell_type": "markdown",
   "id": "e9d653cb46975929",
   "metadata": {
    "collapsed": false
   },
   "source": [
    "The reasoning behind observing the simple parts of the image worked as it showd that the image was a simple substitution cipher, and by mapping the numbers to the alphabet I was able to decrypt the message and obtain the flag"
   ]
  },
  {
   "cell_type": "markdown",
   "id": "e0f3b72d6ce281c2",
   "metadata": {
    "collapsed": false
   },
   "source": [
    "### 1.2.2 The Numbers Mason What Do They Mean?"
   ]
  },
  {
   "cell_type": "markdown",
   "id": "e0f06ca648b61a15",
   "metadata": {
    "collapsed": false
   },
   "source": [
    "To test a second method I decided to do to brute force the message as being a short message it would not take too much resources\n"
   ]
  },
  {
   "cell_type": "code",
   "execution_count": 137,
   "id": "4df754b092bbd7fd",
   "metadata": {
    "ExecuteTime": {
     "end_time": "2024-10-15T01:52:13.406654600Z",
     "start_time": "2024-10-15T01:52:13.113815700Z"
    },
    "collapsed": false
   },
   "outputs": [
    {
     "name": "stdout",
     "output_type": "stream",
     "text": [
      "Shift 1: qjdpduguifovncfstnbtpo\n",
      "Shift 2: rkeqevhvjgpwodgtuocuqp\n",
      "Shift 3: slfrfwiwkhqxpehuvpdvrq\n",
      "Shift 4: tmgsgxjxliryqfivwqewsr\n",
      "Shift 5: unhthykymjszrgjwxrfxts\n",
      "Shift 6: voiuizlznktashkxysgyut\n",
      "Shift 7: wpjvjamaolubtilyzthzvu\n",
      "Shift 8: xqkwkbnbpmvcujmzauiawv\n",
      "Shift 9: yrlxlcocqnwdvknabvjbxw\n",
      "Shift 10: zsmymdpdroxewlobcwkcyx\n",
      "Shift 11: atnzneqespyfxmpcdxldzy\n",
      "Shift 12: buoaofrftqzgynqdeymeaz\n",
      "Shift 13: cvpbpgsgurahzorefznfba\n",
      "Shift 14: dwqcqhthvsbiapsfgaogcb\n",
      "Shift 15: exrdriuiwtcjbqtghbphdc\n",
      "Shift 16: fysesjvjxudkcruhicqied\n",
      "Shift 17: gztftkwkyveldsvijdrjfe\n",
      "Shift 18: haugulxlzwfmetwjkeskgf\n",
      "Shift 19: ibvhvmymaxgnfuxklftlhg\n",
      "Shift 20: jcwiwnznbyhogvylmgumih\n",
      "Shift 21: kdxjxoaocziphwzmnhvnji\n",
      "Shift 22: leykypbpdajqixanoiwokj\n",
      "Shift 23: mfzlzqcqebkrjybopjxplk\n",
      "Shift 24: ngamardrfclskzcpqkyqml\n",
      "Shift 25: ohbnbsesgdmtladqrlzrnm\n",
      "Shift 26: picoctfthenumbersmason\n"
     ]
    }
   ],
   "source": [
    "#brute force the message by substitution\n",
    "# decrypt the message\n",
    "message = \"16 9 3 15 3 20 6\"\n",
    "message_2 = \" 20 8 5 14 21 13 2 5 18 19 13 1 19 15 14 \"\n",
    "message = message.split()\n",
    "message_2 = message_2.split()\n",
    "\n",
    "for i in range(1, 27):\n",
    "    decrypted_message = ''\n",
    "    for num in message:\n",
    "        decrypted_message += alphabet[(int(num) - 1 + i) % 26]\n",
    "    for num in message_2:\n",
    "        decrypted_message += alphabet[(int(num) - 1 + i) % 26]\n",
    "    print(f\"Shift {i}: {decrypted_message}\")\n",
    "\n"
   ]
  },
  {
   "cell_type": "markdown",
   "id": "120fb6a5815816f9",
   "metadata": {
    "collapsed": false
   },
   "source": [
    "The brute force method had the worst case scenario of 26 iterations, but it was able to decrypt the message and obtain the flag"
   ]
  },
  {
   "cell_type": "markdown",
   "id": "346a9db543db17c6",
   "metadata": {
    "collapsed": false
   },
   "source": [
    "### 1.3.1 C3"
   ]
  },
  {
   "cell_type": "code",
   "execution_count": 39,
   "id": "e931648bc1e94424",
   "metadata": {
    "ExecuteTime": {
     "end_time": "2024-10-17T02:27:56.725549800Z",
     "start_time": "2024-10-17T02:27:56.722443900Z"
    },
    "collapsed": false
   },
   "outputs": [],
   "source": [
    "C3text = \"DLSeGAGDgBNJDQJDCFSFnRBIDjgHoDFCFtHDgJpiHtGDmMAQFnRBJKkBAsTMrsPSDDnEFCFtIbEDtDCIbFCFtHTJDKerFldbFObFCFtLBFkBAAAPFnRBJGEkerFlcPgKkImHnIlATJDKbTbFOkdNnsgbnJRMFnRBNAFkBAAAbrcbTKAkOgFpOgFpOpkBAAAAAAAiClFGIPFnRBaKliCgClFGtIBAAAAAAAOgGEkImHnIl\""
   ]
  },
  {
   "cell_type": "code",
   "execution_count": 139,
   "id": "1ac319e01f4ea46b",
   "metadata": {
    "ExecuteTime": {
     "end_time": "2024-10-15T01:52:13.549544700Z",
     "start_time": "2024-10-15T01:52:13.318885100Z"
    },
    "collapsed": false
   },
   "outputs": [
    {
     "name": "stdout",
     "output_type": "stream",
     "text": [
      "#asciiorder\n",
      "#fortychars\n",
      "#selfinput\n",
      "#pythontwo\n",
      "\n",
      "chars = \"\"\n",
      "from fileinput import input\n",
      "for line in input():\n",
      "    chars += line\n",
      "b = 1 / 1\n",
      "\n",
      "for i in range(len(chars)):\n",
      "    if i == b * b * b:\n",
      "        print chars[i] #prints\n",
      "        b += 1 / 1\n"
     ]
    }
   ],
   "source": [
    "\n",
    "# Lookup tables, same as in the encoder\n",
    "lookup1 = \"\\n \\\"#()*+/1:=[]abcdefghijklmnopqrstuvwxyz\"\n",
    "lookup2 = \"ABCDEFGHIJKLMNOPQRSTabcdefghijklmnopqrst\"\n",
    "\n",
    "\n",
    "def decode(encoded_text):\n",
    "    decoded_text = \"\"\n",
    "    prev = 0  # Start with prev as 0, same as in encoding\n",
    "\n",
    "    for char in encoded_text:\n",
    "        # Find the current character's index in lookup2\n",
    "        cur = lookup2.index(char)\n",
    "\n",
    "        # Reverse the encoding operation\n",
    "        original_index = (cur + prev) % 40\n",
    "        decoded_text += lookup1[original_index]\n",
    "\n",
    "        # Update prev to cur for the next character\n",
    "        prev = original_index\n",
    "\n",
    "    return decoded_text\n",
    "\n",
    "\n",
    "# Example usage:\n",
    "# Read encoded message from standard input (or modify to read from a file if needed)\n",
    "\n",
    "decoded_message = decode(C3text)\n",
    "\n",
    "# Output the decoded message\n",
    "print(decoded_message)\n"
   ]
  },
  {
   "cell_type": "code",
   "execution_count": 140,
   "id": "50b470448f45445a",
   "metadata": {
    "ExecuteTime": {
     "end_time": "2024-10-15T01:52:13.549544700Z",
     "start_time": "2024-10-15T01:52:13.454589100Z"
    },
    "collapsed": false
   },
   "outputs": [
    {
     "name": "stdout",
     "output_type": "stream",
     "text": [
      "a\n",
      "d\n",
      "l\n",
      "i\n",
      "b\n",
      "s\n"
     ]
    }
   ],
   "source": [
    "ciphertext = decoded_message\n",
    "b = 1\n",
    "for i in range(len(ciphertext)):\n",
    "    if i == b * b * b:\n",
    "        print(ciphertext[i])\n",
    "        b += 1\n"
   ]
  },
  {
   "cell_type": "markdown",
   "id": "46decb6a71f1c72d",
   "metadata": {
    "collapsed": false
   },
   "source": [
    "### 1.3.2 C3"
   ]
  },
  {
   "cell_type": "markdown",
   "id": "1f37eef2",
   "metadata": {},
   "source": [
    "This problem had a very specific way of solving it, since PicoCTF provided an encoder code. No better and more efficient way of solving it was found, so we applied brute force. "
   ]
  },
  {
   "cell_type": "markdown",
   "id": "af45984ccb904039",
   "metadata": {
    "collapsed": false
   },
   "source": [
    "Knowing the original code we can brute force the correct shift to obtain the dictionary used to first encrypt the message"
   ]
  },
  {
   "cell_type": "code",
   "execution_count": 62,
   "id": "198bedda92bcd883",
   "metadata": {
    "collapsed": false
   },
   "outputs": [
    {
     "name": "stdout",
     "output_type": "stream",
     "text": [
      "Shift 28: #a(\n",
      "**[b]an/=n/=]e/]e+/cfgel#*=]e /=1ell(bhk\n",
      "[[\n",
      "):n\n",
      "1fhii(j+cm]#*1aejl\"]haeh(+1d:bdi)[#[blh\"+:)m#d:bdi)cdikllll[di=[hn#) :be[nl+1dh\n",
      ")]cc+cf i]*=lni+[ig]enc\n",
      "):n\n",
      "]]eghhhhajd: ==]nl\"1jhm)fm\n",
      "         #*=dl[di=[(addfdfin)ckllllllll=1bfh )[dl\n",
      "\n",
      "Shift 30: #a\"m\"\"/=+/h\n",
      "#fo #/m (hi\n",
      "#\"o)1[dfk#:]1ejho+]ce\n",
      "\n",
      "chk=[h  \"\":p=em=p\")/[dfk#=\"*1ehj inp(]g1eh l\"+/ in=\"+1aj()::====m (hi +==)[de:lh  1=ehp\n",
      "\n",
      "fo =\"h[d  k+:ea)/d(chk=[ll\n",
      "\n",
      "    iph[ ===lhm b=ch)::========1=[dj chk=[\"[]=]1=[dj\":========lhn  1=ehp\n",
      "\n",
      "Shift 31: #a l\n",
      "\n",
      "*1()enqbknp#hmoabjmkfmp */]ho\n",
      "m(/)[gmpq==n #ghq1/11c(cip]\n",
      "#*/[dfk 1q#*adfndikp*] :]jcinnf1aoejlq+efkjkkkk/]b \"=dhg]fkkbql(#=[fhpppdmp/pd+[mldq /#km(h\"+1mn11a]aaaa(: i:ggf\"o\"*gbgk+=:========/::bhp]eg*+n**#)\n",
      "\"\"+]hpqqqqqqqq]/aedlm\"([[\n",
      "Shift 32: #a\n",
      "kqq(+ \"bkn=gjlqchi+/cfc:dfinp\"1cf]ilho#1[[kk/]ar\n",
      "1fdeek=jo\"d#*1:afhm 1q\")[bdlafhm /n(+d1afe1q#d*=]el():/1111kpqbclr# lq#\"k+ =1ddkl \n",
      "\n",
      "for1qd*=ljano\"oden[kpqbcpp\"\n",
      "    ind*l## b1adrlq becdddddddd]bafl chi+/o*) #prq#1ckllllllll+ +=1ddkl \n",
      "\n",
      "Shift 33: #asjpp\")rs[hk+cfhm=cc\n",
      " 1[/ /1[dfkq(+\n",
      "1=*]flon**inn=[hropp gs#/j/=aaejlq#=s#*[bdl]eglr)k\n",
      "#](/]= in/p #/almropppp=cc\n",
      " :cgd/[db(f[ifnm\n",
      "\n",
      "/**l (a\"h1aolboo\n",
      "maaj+fkk/1iinkllll]d*n]jjg ns b/]bproppppppppkmkp\":lqqab\"[:)+\n",
      "\"\n",
      ")=dlmmmmmmmm+\n",
      "*:+bahhpn\n",
      "Shift 34: #asioo\n",
      "#pq1eh#[bdi*=:no\")\n",
      "mtt\"+1afmphqrls#1[:ii(1/lm =+//[r1[crbehgkpr\"+b\"*1adfnafhmr(js = (1*pch inp\n",
      ")cdieffff\n",
      ")(hir#+#nq sg n#t+)[=fcc :]j:pch rgts\"obaj*eji)*ffkghhhh/=tg)bb=ldij#p\n",
      " bc[]]]]]]]]+1*=dl*=:noakhbd1=/]fkstttttttt])=b=fdkjro\n",
      "Shift 35: #ashnnt no*beu/=]e *(hiqtnelknsu(/be1ee=eioro))hmk*+cmhiil1hjm*knqos\"(1]h+=aehjrdikpt)kt =\n",
      "\"+#m[drdikpt1:b:====mrp=[hnrmbdie)g=hckhomuqqajm i*ns=*p+)/ugen1hmk*+gglghhhh+1rd ==*g=ccqhmm))\n",
      "        prns#=mrp=[s+#rtkmint\":========lcimhpmtr(\n",
      "\n",
      "Shift 36: #asgmmsvlm#[br(+1as ubckng:dbejlqt(+t*)t(+]c[kk(1*jkt+ \"\"(jv\n",
      "\"dv\")\"*=]ehpaehknp inpu /n\n",
      "#] \"+\"l:bpafhmp():())))gli#(]fjd)*=*o+t+ 1)[1d[[r(+d\"h*=lf*fce/pmvcotq=[llqkllll:=te ==)f1a]ndihvuopppppppphjejp chev\n",
      "gqldf1=*=dgopppppppp+t#+ 1)[1d[\n",
      "Shift 38: #asekkqthiv*1lux *kpk#([b*s v\n",
      ")+[]gj=gd+abhkeqq/]/lmv+x\n",
      "\n",
      "\n",
      "frqq+lormqvx()]u\n",
      "#(+1d\n",
      ")+[]g :]j1/]*p[drafhmn\n",
      " *wxxxxafars#1])potm:l]jbjdkfngg :]j*l/]nf(d[[\n",
      "hcl(chctu11a*++++on=s]jjbpdifthmjxumnnnnnnnndf[djr/]/lm/e= #prkpvw*++++++++h1bf=f]gbjc\n",
      "Shift 40: #asciiorder\n",
      "#fortychars\n",
      "#selfinput\n",
      "#pythontwo\n",
      "\n",
      "chars = \"\"\n",
      "from fileinput import input\n",
      "for line in input():\n",
      "    chars += line\n",
      "b = 1 / 1\n",
      "\n",
      "for i in range(len(chars)):\n",
      "    if i == b * b * b:\n",
      "        print chars[i] #prints\n",
      "        b += 1 / 1\n"
     ]
    }
   ],
   "source": [
    "# Defined lookup tables and ciphertext\n",
    "lookup1 = \"\\n \\\"#()*+/1:=[]abcdefghijklmnopqrstuvwxyz\"  # Now used as the target for decrypted text\n",
    "lookup2 = \"ABCDEFGHIJKLMNOPQRSTabcdefghijklmnopqrst\"  # Now considered as the source for ciphertext\n",
    "ciphertext = \"YourEncryptedTextHere\"  # Replace with actual ciphertext\n",
    "\n",
    "# Common bigrams and trigrams for English readability check\n",
    "common_bigrams = [\"th\", \"he\", \"in\", \"er\", \"an\", \"re\", \"nd\"]\n",
    "common_trigrams = [\"the\", \"and\", \"ing\", \"her\", \"ent\"]\n",
    "\n",
    "\n",
    "def contains_common_patterns(text):\n",
    "    \"\"\"Check if text contains any common bigrams or trigrams.\"\"\"\n",
    "    for bigram in common_bigrams:\n",
    "        if bigram in text:\n",
    "            return True\n",
    "    for trigram in common_trigrams:\n",
    "        if trigram in text:\n",
    "            return True\n",
    "    return False\n",
    "\n",
    "\n",
    "def decode(encoded_text, modulos):\n",
    "    decoded_text = \"\"\n",
    "    prev = 0  # Start with prev as 0, same as in encoding\n",
    "\n",
    "    for char in encoded_text:\n",
    "        # Find the current character's index in lookup2\n",
    "        cur = lookup2.index(char)\n",
    "\n",
    "        # Reverse the encoding operation\n",
    "        original_index = (cur + prev) % modulos\n",
    "        decoded_text += lookup1[original_index]\n",
    "\n",
    "        # Update prev to cur for the next character\n",
    "        prev = original_index\n",
    "\n",
    "    return decoded_text\n",
    "\n",
    "\n",
    "# Brute force the shift value\n",
    "for i in range(1, 41):\n",
    "    decoded_message = decode(C3text, i)\n",
    "    if contains_common_patterns(decoded_message):\n",
    "        print(f\"Shift {i}: {decoded_message}\")\n"
   ]
  },
  {
   "cell_type": "code",
   "execution_count": 74,
   "id": "deac5cc3dc3118df",
   "metadata": {
    "ExecuteTime": {
     "end_time": "2024-10-17T03:16:27.251858700Z",
     "start_time": "2024-10-17T03:16:27.045558700Z"
    },
    "collapsed": false
   },
   "outputs": [
    {
     "name": "stdout",
     "output_type": "stream",
     "text": [
      "a\n",
      "d\n",
      "l\n",
      "i\n",
      "b\n",
      "s\n"
     ]
    }
   ],
   "source": [
    "#once we have the shift value we just have to take the cubic index of the message to obtain the flag\n",
    "selfinput = decode(C3text, 40)\n",
    "chars = \"\"\n",
    "for line in selfinput:\n",
    "    chars += line\n",
    "b = 1 / 1\n",
    "\n",
    "for i in range(len(chars)):\n",
    "    if i == b * b * b:\n",
    "        print(chars[i])  #prints\n",
    "        b += 1 / 1"
   ]
  },
  {
   "cell_type": "markdown",
   "id": "f53cda04",
   "metadata": {},
   "source": [
    "### 1.4.1 Custom encryption"
   ]
  },
  {
   "cell_type": "markdown",
   "id": "e98de588",
   "metadata": {},
   "source": [
    "1.\tWe are given a list of numbers, along with two numbers, a and b.\n",
    "2.\tThe hint for this exercise was “understand the encryption algorithm to be able to decrypt.”\n",
    "3.\tAfter reading the code, I realized that I needed to reproduce the Shared Key g and p. After that, I had to decrypt the message. I chose to divide each number in the message by the Shared Key and a constant. In my code, the constant was 311.\n",
    "4.\tThen, I noticed that the XOR function was applied to the message, so I had to apply the inverse XOR.\n",
    "5.\tI obtained a flag, but it was in an unconventional format. After examining it closely, I realized it was reversed, so I reversed the entire string."
   ]
  },
  {
   "cell_type": "code",
   "execution_count": 141,
   "id": "5c2f7f59",
   "metadata": {
    "ExecuteTime": {
     "end_time": "2024-10-15T01:52:13.723045300Z",
     "start_time": "2024-10-15T01:52:13.525289700Z"
    }
   },
   "outputs": [
    {
     "name": "stdout",
     "output_type": "stream",
     "text": [
      "picoCTF{custom_d2cr0pt6d_dc499538}\n"
     ]
    }
   ],
   "source": [
    "def generator(g, x, p):\n",
    "    '''\n",
    "    This function generates the public key\n",
    "    '''\n",
    "    return pow(g, x, p)\n",
    "\n",
    "\n",
    "def decrypt(cipher, key, constant=311):\n",
    "    semi_plain_text = \"\"\n",
    "    for num in cipher:\n",
    "        if num == 0:\n",
    "            semi_plain_text += chr(0)\n",
    "        else:\n",
    "            char_code = num // (key * constant)\n",
    "            semi_plain_text += chr(char_code)\n",
    "    return semi_plain_text\n",
    "\n",
    "\n",
    "def dynamic_xor_decrypt(cipher_text, text_key):\n",
    "    plain_text = \"\"\n",
    "    key_length = len(text_key)\n",
    "    for i, char in enumerate(cipher_text):\n",
    "        key_char = text_key[i % key_length]\n",
    "        decrypted_char = chr(ord(char) ^ ord(key_char))\n",
    "        plain_text += decrypted_char\n",
    "    return plain_text\n",
    "\n",
    "\n",
    "def decrypt_message(cipher_text, a, b, p, g, text_key):\n",
    "    shared_key = generator(generator(g, b, p), a, p)\n",
    "    semi_plain_text = decrypt(cipher_text, shared_key)\n",
    "    original_message = dynamic_xor_decrypt(semi_plain_text, text_key)\n",
    "    return original_message[::-1]\n",
    "\n",
    "\n",
    "cipher_text = [33588, 276168, 261240, 302292, 343344, 328416, 242580, 85836, 82104, 156744, 0, 309756, 78372, 18660,\n",
    "               253776, 0, 82104, 320952, 3732, 231384, 89568, 100764, 22392, 22392, 63444, 22392, 97032, 190332, 119424,\n",
    "               182868, 97032, 26124, 44784, 63444]\n",
    "a = 89\n",
    "b = 27\n",
    "p = 97\n",
    "g = 31\n",
    "text_key = \"trudeau\"\n",
    "\n",
    "message = decrypt_message(cipher_text, a, b, p, g, text_key)\n",
    "print(message)"
   ]
  },
  {
   "cell_type": "markdown",
   "id": "0bd9d4a7",
   "metadata": {},
   "source": [
    "### 1.4.2 Custom encryption"
   ]
  },
  {
   "cell_type": "code",
   "execution_count": 1,
   "id": "fd987dcd",
   "metadata": {},
   "outputs": [
    {
     "name": "stdout",
     "output_type": "stream",
     "text": [
      "picoCTF{picoCTF{picoCTF{picoCTF{pi\n",
      "aedurtuavxeiXLxz&c+FA\u0015{Z-!-\u0015\t@=6`\n",
      "aedurtuaedurtuaedurtuaedurtuaedurt\n",
      "picoCTF{custom_d2cr0pt6d_66778b34}\n"
     ]
    }
   ],
   "source": [
    "\n",
    "def generator(g, x, p):\n",
    "    '''\n",
    "    This function generates the public key\n",
    "    '''\n",
    "    return pow(g, x) % p\n",
    "\n",
    "\n",
    "def dynamic_xor_encrypt(plaintext, text_key):\n",
    "    '''\n",
    "    1. This function encrypts the plaintext using the key\n",
    "    2. It returns the cipher text\n",
    "    3. The key is the public key\n",
    "    4. The key is repeated to match the length of the plaintext\n",
    "    5. The key is used to encrypt the plaintext\n",
    "    '''\n",
    "    cipher_text = \"\"\n",
    "    key_length = len(text_key)\n",
    "    k = \"\"\n",
    "    for i, char in enumerate(plaintext[:: -1]):\n",
    "        key_char = text_key[i % key_length]\n",
    "        k += key_char\n",
    "        encrypted_char = chr(ord(char) ^ ord(key_char))\n",
    "        cipher_text += encrypted_char\n",
    "    print(k)\n",
    "    return cipher_text\n",
    "\n",
    "\n",
    "cipher_text = [237915, 1850450, 1850450, 158610, 2458455, 2273410, 1744710, 1744710, 1797580, 1110270, 0, 2194105, 555135, 132175, 1797580, 0, 581570, 2273410, 26435, 1638970, 634440, 713745, 158610, 158610, 449395, 158610, 687310, 1348185, 845920, 1295315, 687310, 185045, 317220, 449395]\n",
    "a = 95\n",
    "b = 21\n",
    "p = 97\n",
    "g = 31\n",
    "text_key = \"trudeau\"\n",
    "\n",
    "v = generator(g, b, p)\n",
    "key = generator(v, a, p)\n",
    "\n",
    "decipher = ''\n",
    "\n",
    "for c in cipher_text:\n",
    "    decipher += chr(c // 311 // key)\n",
    "\n",
    "'''\n",
    "We know that the flag starts with picoCTF{, knowing this we can use the dynamic_xor_encrypt function to find the key,\n",
    "which is 'aedurtu', we can infer this is the key beacuse the key is repeated to match the length of the plaintext\n",
    "'''\n",
    "\n",
    "print(dynamic_xor_encrypt(decipher, \"picoCTF{\"))\n",
    "\n",
    "'''\n",
    "knowing the key we can decrypt the message\n",
    "'''\n",
    "\n",
    "print(dynamic_xor_encrypt(decipher, \"aedurtu\"))\n"
   ]
  },
  {
   "cell_type": "markdown",
   "id": "223e583abfb141bf",
   "metadata": {
    "collapsed": false
   },
   "source": [
    "### 1.5.1 Rotation"
   ]
  },
  {
   "cell_type": "code",
   "execution_count": 2,
   "id": "6d6adaf498087447",
   "metadata": {
    "ExecuteTime": {
     "end_time": "2024-10-15T01:52:14.122692400Z",
     "start_time": "2024-10-15T01:52:13.723045300Z"
    },
    "collapsed": false
   },
   "outputs": [],
   "source": [
    "text = \"xqkwKBN{z0bib1wv_l3kzgxb3l_25l7k61j}\"\n"
   ]
  },
  {
   "cell_type": "code",
   "execution_count": 3,
   "id": "2cc513deb624c8f0",
   "metadata": {
    "ExecuteTime": {
     "end_time": "2024-10-15T01:52:14.252931600Z",
     "start_time": "2024-10-15T01:52:14.117813300Z"
    },
    "collapsed": false
   },
   "outputs": [],
   "source": [
    "#rot13\n",
    "def caesar_shift(text, shift):\n",
    "    result = \"\"\n",
    "    for char in text:\n",
    "        if 'a' <= char <= 'z':  # For lowercase letters\n",
    "            result += chr((ord(char) - ord('a') + shift) % 26 + ord('a'))\n",
    "        elif 'A' <= char <= 'Z':  # For uppercase letters\n",
    "            result += chr((ord(char) - ord('A') + shift) % 26 + ord('A'))\n",
    "        else:\n",
    "            result += char  # Non-alphabet characters remain unchanged\n",
    "    return result\n"
   ]
  },
  {
   "cell_type": "code",
   "execution_count": 4,
   "id": "734333d41196802d",
   "metadata": {
    "ExecuteTime": {
     "end_time": "2024-10-15T01:52:14.327598300Z",
     "start_time": "2024-10-15T01:52:14.252931600Z"
    },
    "collapsed": false
   },
   "outputs": [
    {
     "name": "stdout",
     "output_type": "stream",
     "text": [
      "picoCTF{r0tat1on_d3crypt3d_25d7c61b} 18\n"
     ]
    }
   ],
   "source": [
    "for i in range(26):\n",
    "    d = caesar_shift(text, i)\n",
    "    if 'pico' in d:\n",
    "        print(d, i)\n"
   ]
  },
  {
   "cell_type": "markdown",
   "id": "f418b267db1c589f",
   "metadata": {
    "collapsed": false
   },
   "source": [
    "### 1.5.2 Rotation"
   ]
  },
  {
   "cell_type": "code",
   "execution_count": 72,
   "id": "8b4eea36fd1b1399",
   "metadata": {
    "ExecuteTime": {
     "end_time": "2024-10-17T03:11:14.682925Z",
     "start_time": "2024-10-17T03:11:14.474001800Z"
    },
    "collapsed": false
   },
   "outputs": [
    {
     "name": "stdout",
     "output_type": "stream",
     "text": [
      "picoCTF{r0tat1on_d3crypt3d_429af00f}\n"
     ]
    }
   ],
   "source": [
    "# The flag is in the format picoCTF{} so we can use this to find the key\n",
    "text = \"xqkwKBN{z0bib1wv_l3kzgxb3l_429in00n}\"\n",
    "#picoCTF == xqkwKBN\n",
    "dictionarty = {\n",
    "    'x': 'p',\n",
    "    'q': 'i',\n",
    "    'k': 'c',\n",
    "    'w': 'o',\n",
    "    'B': 'T',\n",
    "    'N': 'F'\n",
    "}\n",
    "#calculate the shift\n",
    "shift = ord('p') - ord('x')\n",
    "\n",
    "\n",
    "#solve the cipher\n",
    "def caesar_shift(text, shift):\n",
    "    result = \"\"\n",
    "    for char in text:\n",
    "        if 'a' <= char <= 'z':  # For lowercase letters\n",
    "            result += chr((ord(char) - ord('a') + shift) % 26 + ord('a'))\n",
    "        elif 'A' <= char <= 'Z':  # For uppercase letters\n",
    "            result += chr((ord(char) - ord('A') + shift) % 26 + ord('A'))\n",
    "        else:\n",
    "            result += char  # Non-alphabet characters remain unchanged\n",
    "    return result\n",
    "\n",
    "\n",
    "print(caesar_shift(text, shift))"
   ]
  },
  {
   "cell_type": "markdown",
   "id": "34278eb04bf98151",
   "metadata": {},
   "source": [
    "### 2. Prove that if a cryptosystem has perfect secrecy and |K|= |C|= |P|, then every ciphertext is equally probable."
   ]
  },
  {
   "cell_type": "markdown",
   "id": "b00a6abef0590ede",
   "metadata": {},
   "source": [
    "Let’s assume a perfect secrecy, that is,  $p(x \\mid y) = p(x)$  for all  x  and  y . Unless  $p(x) = 0$ , there must be enough keys so that any ciphertext can be decoded as a given plaintext, that is,  $|K| \\geq |C|$ , but by assumption, equality must hold. Therefore, there is a unique key for each pair  $(x, y)$ .\n",
    "\n",
    "Let’s assume the keys $k_1$, $k_2$, … are the unique keys such that  $d_{k_i}(y) = x_i$ . Using Bayes’ theorem:\n",
    "\n",
    "\n",
    "$p(x_i \\mid y) = \\frac{p(y \\mid x_i) p(x_i)}{p(y)}$\n",
    "\n",
    "\n",
    "Using the assumption of perfect secrecy, we have:\n",
    "\n",
    "\n",
    "$p(y \\mid x_i) = p(y)$\n",
    "\n",
    "\n",
    "Thus, each  k_i  must occur with the same probability.\n",
    "\n",
    "Now, assuming that  $p(k) = \\frac{1}{|K|}$  and that there is a unique key relating any pair of plaintext and ciphertext, we get:\n",
    "\n",
    "\n",
    "$p(x \\mid y) = \\frac{p(y \\mid x) p(x)}{p(y)}$\n",
    "\n",
    "\n",
    "Due to the uniqueness of the keys,  $p(y \\mid x) = \\frac{1}{|K|}$. We also compute:\n",
    "\n",
    "\n",
    "$p(y) = \\sum_k p(k) p(d_k(y)) = \\frac{1}{|K|} \\sum_k p(d_k(y)) = \\frac{1}{|K|} \\sum_x p(x) = \\frac{1}{|K|}$\n",
    "\n",
    "\n",
    "By canceling  $\\frac{1}{|K|}$ , we obtain the result  $p(x \\mid y) = p(x)$ , which is perfect secrecy."
   ]
  },
  {
   "cell_type": "markdown",
   "id": "2f5db748",
   "metadata": {},
   "source": [
    "### 3. Suppose that APNDJI or XYGROBO are ciphertexts that are obtained from encryption using the Shift Cipher. Show in each case that there are two ”meaningful” plaintexts that could encrypt to the given ciphertext. "
   ]
  },
  {
   "cell_type": "markdown",
   "id": "9de0b7945ea6c5f3",
   "metadata": {},
   "source": [
    "To demonstrate that the encrypted texts APNDJI and XYGROBO could derive from two different “meaningful” plaintexts, we need to:\n",
    "\n",
    "\t1.\tAssume a shift value for each encrypted text (for example, 3 positions, 5 positions, etc.).\n",
    "\t2.\tApply the inverse shift to decrypt the encrypted text and find the possible plaintexts.\n",
    "\t3.\tShow that two different shift values could produce two different “meaningful” plaintexts.\n",
    "\n",
    "Demonstration:\n",
    "\n",
    "By using brute force, it was found that APNDJI can generate two meaningful plaintexts: FUSION and LAYOUT. Likewise, for XYGROBO, the meaningful plaintexts NOWHERE and ABJURER were obtained.\n",
    "\n",
    "\t1.\tFor APNDJI, we apply an inverse shift of 15 positions, obtaining: LAYOUT, which is a “meaningful” plaintext different from the original.\n",
    "\t2.\tFor APNDJI, we apply an inverse shift of 21 positions, obtaining: FUSION, which is a “meaningful” plaintext different from the original.\n",
    "\t3.\tFor XYGROBO, we apply an inverse shift of 10 positions, obtaining: NOWHERE, which is a “meaningful” plaintext different from the original.\n",
    "\t4.\tFor XYGROBO, we apply an inverse shift of 23 positions, obtaining: ABJURER, which is a “meaningful” plaintext different from the original."
   ]
  },
  {
   "cell_type": "markdown",
   "id": "505ae844bed9a179",
   "metadata": {},
   "source": [
    "### 4. Compute H(K|C) and H(K|P, C) for the Affine Cipher, assuming that keys are used equiprobably and the plaintexts are equiprobable."
   ]
  },
  {
   "cell_type": "markdown",
   "id": "d666ea9f",
   "metadata": {},
   "source": [
    "![q4 resolution](ImagesHW1/q4.jpg)"
   ]
  },
  {
   "cell_type": "markdown",
   "id": "5f8c029c3cd255a3",
   "metadata": {},
   "source": [
    "### 5. Below are given four examples of ciphertext, one obtained from a Substitution Cipher, one from a Vigen` ere Cipher, one from an Affine Cipher, and one unspecified. In each case, the task is to determine the plaintext. Give a clearly written description of the steps you followed to decrypt each ciphertext. This should include all statistical analysis and computations you performed. The first two plaintexts were taken from The Diary of Samuel Marchbanks, by Robertson Davies, Clarke Irwin, 1947; the fourth was taken from Lake Wobegon Days, by Garrison Keillor, Viking Penguin, Inc., 1985."
   ]
  },
  {
   "cell_type": "markdown",
   "id": "4aa0314ac03bb31c",
   "metadata": {},
   "source": [
    "## Substitution Cipher:\n",
    "\n",
    "EMGLOSUDCGDNCUSWYSFHNSFCYKDPUMLWGYICOXYSIPJCKQPKUGKMGOLICGINCGACKSNISACYKZSCKXECJCKSHYSXCGOIDPKZCNKSHICGIWYGKKGKGOLDSILKGOIUSIGLEDSPWZUGFZCCNDGYYSFUSZCNXEOJNCGYEOWEUPXEZGACGNFGLKNSACIGOIYCKXCJUCIUZCFZCCNDGYYSFEUEKUZCSOCFZCCNCIACZEJNCSHFZEJZEGMXCYHCJUMGKUCY\n"
   ]
  },
  {
   "cell_type": "markdown",
   "id": "494bbfc27dd65dff",
   "metadata": {
    "collapsed": false
   },
   "source": [
    "Most common bigrams and trigrams according to Oxford\n",
    "\n",
    "Most common bigrams (in order)\n",
    "th, he, in, en, nt, re, er, an, ti, es, on, at, se, nd, or, ar, al, te, co, de, to, ra, et, ed, it, sa, em, ro.\n",
    "\n",
    "Most common trigrams (in order)\n",
    "the, and, tha, ent, ing, ion, tio, for, nde, has, nce, edt, tis, oft, sth, men"
   ]
  },
  {
   "cell_type": "code",
   "execution_count": 5,
   "id": "21853cf171867cbd",
   "metadata": {
    "ExecuteTime": {
     "end_time": "2024-10-15T01:52:14.421655600Z",
     "start_time": "2024-10-15T01:52:14.327598300Z"
    },
    "collapsed": false
   },
   "outputs": [],
   "source": [
    "substitution_cipher = \"EMGLOSUDCGDNCUSWYSFHNSFCYKDPUMLWGYICOXYSIPJCKQPKUGKMGOLICGINCGACKSNISACYKZSCKXECJCKSHYSXCGOIDPKZCNKSHICGIWYGKKGKGOLDSILKGOIUSIGLEDSPWZUGFZCCNDGYYSFUSZCNXEOJNCGYEOWEUPXEZGACGNFGLKNSACIGOIYCKXCJUCIUZCFZCCNDGYYSFEUEKUZCSOCFZCCNCIACZEJNCSHFZEJZEGMXCYHCJUMGKUCY\""
   ]
  },
  {
   "cell_type": "code",
   "execution_count": 146,
   "id": "7d8dec3a995cf9a4",
   "metadata": {
    "ExecuteTime": {
     "end_time": "2024-10-15T01:52:14.500225Z",
     "start_time": "2024-10-15T01:52:14.398468800Z"
    },
    "collapsed": false
   },
   "outputs": [
    {
     "data": {
      "text/plain": [
       "'EMGLOSUDCGDNCUSWYSFHNSFCYKDPUMLWGYICOXYSIPJCKQPKUGKMGOLICGINCGACKSNISACYKZSCKXECJCKSHYSXCGOIDPKZCNKSHICGIWYGKKGKGOLDSILKGOIUSIGLEDSPWZUGFZCCNDGYYSFUSZCNXEOJNCGYEOWEUPXEZGACGNFGLKNSACIGOIYCKXCJUCIUZCFZCCNDGYYSFEUEKUZCSOCFZCCNCIACZEJNCSHFZEJZEGMXCYHCJUMGKUCY'"
      ]
     },
     "execution_count": 146,
     "metadata": {},
     "output_type": "execute_result"
    }
   ],
   "source": [
    "# Step 1: Normalize the text\n",
    "substitution_cipher = substitution_cipher.upper()\n",
    "substitution_cipher = substitution_cipher.strip()\n",
    "substitution_cipher"
   ]
  },
  {
   "cell_type": "code",
   "execution_count": 147,
   "id": "8525d8165b6ff285",
   "metadata": {
    "ExecuteTime": {
     "end_time": "2024-10-15T01:52:14.578713300Z",
     "start_time": "2024-10-15T01:52:14.471701500Z"
    },
    "collapsed": false
   },
   "outputs": [
    {
     "name": "stdout",
     "output_type": "stream",
     "text": [
      "1 C: 37\n",
      "2 G: 24\n",
      "3 S: 20\n",
      "4 K: 18\n",
      "5 Y: 15\n",
      "6 I: 15\n",
      "7 U: 14\n",
      "8 N: 13\n",
      "9 Z: 13\n",
      "10 E: 12\n",
      "11 O: 10\n",
      "12 F: 9\n",
      "13 D: 8\n",
      "14 L: 7\n",
      "15 X: 7\n",
      "16 J: 7\n",
      "17 P: 6\n",
      "18 M: 5\n",
      "19 W: 5\n",
      "20 H: 5\n",
      "21 A: 5\n",
      "22 Q: 1\n"
     ]
    }
   ],
   "source": [
    "\n",
    "from collections import Counter\n",
    "\n",
    "# Frequency analysis of the ciphertext\n",
    "cipher_freq = Counter(substitution_cipher)\n",
    "cipher_sorted_freq = cipher_freq.most_common()\n",
    "\n",
    "i = 1\n",
    "for letter, freq in cipher_sorted_freq:\n",
    "    print(f\"{i} {letter}: {freq}\")\n",
    "    i += 1\n"
   ]
  },
  {
   "cell_type": "code",
   "execution_count": 148,
   "id": "99c79363e39d207d",
   "metadata": {
    "ExecuteTime": {
     "end_time": "2024-10-15T01:52:14.744905Z",
     "start_time": "2024-10-15T01:52:14.542897Z"
    },
    "collapsed": false
   },
   "outputs": [
    {
     "name": "stdout",
     "output_type": "stream",
     "text": [
      "Decoded Text with Initial Mapping:\n",
      "________E___E__________E___________E_______E____________E___E__E______E____E___E_E______E_______E_____E___________________________________EE__________E______E_____________E_________E_____E__E__E___E__EE_____________E__E__EE_E__E____E___________E__E______E_\n"
     ]
    }
   ],
   "source": [
    "#map the most common letters in the cipher text to the most common letters in the book text\n",
    "substitution_mapping = {\n",
    "    'C': 'E',\n",
    "}\n",
    "\n",
    "\n",
    "def apply_substitution(text, mapping):\n",
    "    return ''.join(mapping.get(char, '_') for char in text)\n",
    "\n",
    "\n",
    "decoded_text = apply_substitution(substitution_cipher, substitution_mapping)\n",
    "print(\"Decoded Text with Initial Mapping:\")\n",
    "print(decoded_text)"
   ]
  },
  {
   "cell_type": "code",
   "execution_count": 149,
   "id": "263135bfb59f4465",
   "metadata": {
    "ExecuteTime": {
     "end_time": "2024-10-15T01:52:14.814645400Z",
     "start_time": "2024-10-15T01:52:14.745425100Z"
    },
    "collapsed": false
   },
   "outputs": [
    {
     "name": "stdout",
     "output_type": "stream",
     "text": [
      "Bigram Frequency Analysis:\n",
      "CG: 7\n",
      "ZC: 7\n",
      "NC: 5\n",
      "YS: 5\n",
      "CK: 5\n",
      "GO: 5\n",
      "AC: 5\n",
      "CN: 5\n",
      "SF: 4\n",
      "CY: 4\n",
      "GY: 4\n",
      "GK: 4\n",
      "FZ: 4\n",
      "MG: 3\n",
      "GL: 3\n",
      "US: 3\n",
      "IC: 3\n",
      "SI: 3\n",
      "KU: 3\n",
      "KS: 3\n",
      "XE: 3\n",
      "CJ: 3\n",
      "SH: 3\n",
      "XC: 3\n",
      "OI: 3\n",
      "KG: 3\n",
      "CC: 3\n",
      "CI: 3\n",
      "ZE: 3\n",
      "WY: 2\n",
      "NS: 2\n",
      "YK: 2\n",
      "DP: 2\n",
      "UM: 2\n",
      "JC: 2\n",
      "PK: 2\n",
      "UG: 2\n",
      "OL: 2\n",
      "GI: 2\n",
      "GA: 2\n",
      "SA: 2\n",
      "KZ: 2\n",
      "KX: 2\n",
      "DS: 2\n",
      "LK: 2\n",
      "IU: 2\n",
      "IG: 2\n",
      "ND: 2\n",
      "DG: 2\n",
      "YY: 2\n",
      "EO: 2\n",
      "JN: 2\n",
      "EU: 2\n",
      "JU: 2\n",
      "UC: 2\n",
      "UZ: 2\n",
      "CF: 2\n",
      "CS: 2\n",
      "EJ: 2\n",
      "EM: 1\n",
      "LO: 1\n",
      "OS: 1\n",
      "SU: 1\n",
      "UD: 1\n",
      "DC: 1\n",
      "GD: 1\n",
      "DN: 1\n",
      "CU: 1\n",
      "SW: 1\n",
      "FH: 1\n",
      "HN: 1\n",
      "FC: 1\n",
      "KD: 1\n",
      "PU: 1\n",
      "ML: 1\n",
      "LW: 1\n",
      "WG: 1\n",
      "YI: 1\n",
      "CO: 1\n",
      "OX: 1\n",
      "XY: 1\n",
      "IP: 1\n",
      "PJ: 1\n",
      "KQ: 1\n",
      "QP: 1\n",
      "KM: 1\n",
      "LI: 1\n",
      "IN: 1\n",
      "SN: 1\n",
      "NI: 1\n",
      "IS: 1\n",
      "ZS: 1\n",
      "SC: 1\n",
      "EC: 1\n",
      "HY: 1\n",
      "SX: 1\n",
      "ID: 1\n",
      "NK: 1\n",
      "HI: 1\n",
      "IW: 1\n",
      "YG: 1\n",
      "KK: 1\n",
      "LD: 1\n",
      "IL: 1\n",
      "LE: 1\n",
      "ED: 1\n",
      "SP: 1\n",
      "PW: 1\n",
      "WZ: 1\n",
      "ZU: 1\n",
      "GF: 1\n",
      "FU: 1\n",
      "SZ: 1\n",
      "NX: 1\n",
      "OJ: 1\n",
      "YE: 1\n",
      "OW: 1\n",
      "WE: 1\n",
      "UP: 1\n",
      "PX: 1\n",
      "EZ: 1\n",
      "ZG: 1\n",
      "GN: 1\n",
      "NF: 1\n",
      "FG: 1\n",
      "KN: 1\n",
      "IY: 1\n",
      "YC: 1\n",
      "FE: 1\n",
      "UE: 1\n",
      "EK: 1\n",
      "SO: 1\n",
      "OC: 1\n",
      "IA: 1\n",
      "CZ: 1\n",
      "HF: 1\n",
      "JZ: 1\n",
      "EG: 1\n",
      "GM: 1\n",
      "MX: 1\n",
      "YH: 1\n",
      "HC: 1\n",
      "Bigrams ending in E Frequency Analysis:\n",
      "ZC: 7\n",
      "NC: 5\n",
      "AC: 5\n",
      "IC: 3\n",
      "XC: 3\n",
      "CC: 3\n",
      "JC: 2\n",
      "UC: 2\n",
      "DC: 1\n",
      "FC: 1\n",
      "SC: 1\n",
      "EC: 1\n",
      "YC: 1\n",
      "OC: 1\n",
      "HC: 1\n"
     ]
    }
   ],
   "source": [
    "#search for bigrams within the text\n",
    "bigrams = Counter([substitution_cipher[i:i + 2] for i in range(len(substitution_cipher) - 1)])\n",
    "bigrams = {bigram: count for bigram, count in bigrams.items() if bigram.isalpha()}\n",
    "sorted_bigrams = sorted(bigrams.items(), key=lambda item: item[1], reverse=True)\n",
    "print(\"Bigram Frequency Analysis:\")\n",
    "for bigram, freq in sorted_bigrams:\n",
    "    print(f\"{bigram}: {freq}\")\n",
    "\n",
    "print(\"Bigrams ending in E Frequency Analysis:\")\n",
    "for bigram, freq in sorted_bigrams:\n",
    "    if bigram[1] == 'C':\n",
    "        print(f\"{bigram}: {freq}\")\n"
   ]
  },
  {
   "cell_type": "markdown",
   "id": "97bc0a6a9a85c73",
   "metadata": {
    "collapsed": false
   },
   "source": [
    "A very common bigram is He making it possible to map z to h as well as \"en\" and \"nt\" making it possible to look for n. with this information we can start mapping \"the\" and \"and\""
   ]
  },
  {
   "cell_type": "code",
   "execution_count": 150,
   "id": "640325f9f4b34ace",
   "metadata": {
    "ExecuteTime": {
     "end_time": "2024-10-15T01:52:15.013220300Z",
     "start_time": "2024-10-15T01:52:14.814645400Z"
    },
    "collapsed": false
   },
   "outputs": [
    {
     "name": "stdout",
     "output_type": "stream",
     "text": [
      "Triple Frequency Analysis:\n",
      "FZC: 3\n",
      "GAC: 2\n",
      "SAC: 2\n",
      "JNC: 2\n",
      "UZC: 2\n",
      "UDC: 1\n",
      "DNC: 1\n",
      "SFC: 1\n",
      "YIC: 1\n",
      "PJC: 1\n",
      "LIC: 1\n",
      "INC: 1\n",
      "ZSC: 1\n",
      "XEC: 1\n",
      "SXC: 1\n",
      "KZC: 1\n",
      "HIC: 1\n",
      "SZC: 1\n",
      "IYC: 1\n",
      "KXC: 1\n",
      "JUC: 1\n",
      "SOC: 1\n",
      "IAC: 1\n",
      "MXC: 1\n",
      "YHC: 1\n",
      "KUC: 1\n"
     ]
    }
   ],
   "source": [
    "#search for trigrams within the text\n",
    "triples = Counter([substitution_cipher[i:i + 3] for i in range(len(substitution_cipher) - 2)])\n",
    "triples = {triple: count for triple, count in triples.items() if triple.isalpha()}\n",
    "sorted_triples = sorted(triples.items(), key=lambda item: item[1], reverse=True)\n",
    "print(\"Triple Frequency Analysis:\")\n",
    "for triple, freq in sorted_triples:\n",
    "    if triple[2] == 'C' and triple[0] != 'C' and triple[1] != 'C':\n",
    "        print(f\"{triple}: {freq}\")\n"
   ]
  },
  {
   "cell_type": "markdown",
   "id": "549e3a87c47a75f1",
   "metadata": {
    "collapsed": false
   },
   "source": [
    "knowing that c == e and observing the most common trigram and bigram we can also se that Z is the most likely to be h. Knowing this we can search for \"the\""
   ]
  },
  {
   "cell_type": "code",
   "execution_count": 151,
   "id": "e4e3412ae5565925",
   "metadata": {
    "ExecuteTime": {
     "end_time": "2024-10-15T01:52:15.084156100Z",
     "start_time": "2024-10-15T01:52:15.013220300Z"
    },
    "collapsed": false
   },
   "outputs": [
    {
     "name": "stdout",
     "output_type": "stream",
     "text": [
      "FZC: 3\n",
      "UZC: 2\n",
      "KZC: 1\n",
      "SZC: 1\n"
     ]
    }
   ],
   "source": [
    "#searching for \"the\"\n",
    "for triple, freq in sorted_triples:\n",
    "    if triple[2] == 'C' and triple[1] == 'Z':\n",
    "        print(f\"{triple}: {freq}\")"
   ]
  },
  {
   "cell_type": "markdown",
   "id": "f6fcdb54fdd00ee0",
   "metadata": {
    "collapsed": false
   },
   "source": [
    "To determine if FZC or UZC is \"The\" we can look at the cyphertext and see if any of this trigrams happen to repeat the next letters making it more likely to be part of a bigger word"
   ]
  },
  {
   "cell_type": "code",
   "execution_count": 152,
   "id": "1c7bc9dc8aac201a",
   "metadata": {
    "ExecuteTime": {
     "end_time": "2024-10-15T01:52:15.284571100Z",
     "start_time": "2024-10-15T01:52:15.084156100Z"
    },
    "collapsed": false
   },
   "outputs": [
    {
     "name": "stdout",
     "output_type": "stream",
     "text": [
      "FZCCNDG\n",
      "FZCCNDG\n",
      "FZCCNCI\n",
      "----------------\n",
      "UZCF\n",
      "UZCS\n"
     ]
    }
   ],
   "source": [
    "#print fcz+1 and uzc +1 in the text\n",
    "for i in range(len(substitution_cipher) - 3):\n",
    "    if substitution_cipher[i:i + 3] == 'FZC':\n",
    "        print(substitution_cipher[i:i + 7])\n",
    "print(\"----------------\")\n",
    "for i in range(len(substitution_cipher) - 3):\n",
    "    if substitution_cipher[i:i + 3] == 'UZC':\n",
    "        print(substitution_cipher[i:i + 4])"
   ]
  },
  {
   "cell_type": "markdown",
   "id": "ee7e78f1039580d5",
   "metadata": {
    "collapsed": false
   },
   "source": [
    "we can see that FZC is most likely part of a bigger word, so we can map U to T. What word could \\_hee\\_ _ _ be"
   ]
  },
  {
   "cell_type": "markdown",
   "id": "3ea717951de1a56d",
   "metadata": {
    "collapsed": false
   },
   "source": [
    "Searching for options on what the word could be we can see that the most likely word is \"wheel\" and \"sheep\", \"cheers\" and \"sheer\" are also possible\n",
    "so we can try this map this letters and see if they make sense"
   ]
  },
  {
   "cell_type": "markdown",
   "id": "6a528571561a3",
   "metadata": {
    "collapsed": false
   },
   "source": [
    "testing this theory we can see that wheel is a word that makes sense however S does not fit anywhere"
   ]
  },
  {
   "cell_type": "markdown",
   "id": "9178f70fccd8952c",
   "metadata": {
    "collapsed": false
   },
   "source": []
  },
  {
   "cell_type": "code",
   "execution_count": 153,
   "id": "b664a1f22878a2a6",
   "metadata": {
    "ExecuteTime": {
     "end_time": "2024-10-15T01:52:15.421300200Z",
     "start_time": "2024-10-15T01:52:15.286315800Z"
    },
    "collapsed": false
   },
   "outputs": [
    {
     "name": "stdout",
     "output_type": "stream",
     "text": [
      "Decoded Text with Initial Mapping:\n",
      "EMGLOSUDCGDNCUSWYSFHNSFCYKDPUMLWGYICOXYSIPJCKQPKUGKMGOLICGINCGACKSNISACYKZSCKXECJCKSHYSXCGOIDPKZCNKSHICGIWYGKKGKGOLDSILKGOIUSIGLEDSPWZUGFZCCNDGYYSFUSZCNXEOJNCGYEOWEUPXEZGACGNFGLKNSACIGOIYCKXCJUCIUZCFZCCNDGYYSFEUEKUZCSOCFZCCNCIACZEJNCSHFZEJZEGMXCYHCJUMGKUCY\n",
      "______T_E__LET____W_L_WE____T______E_______E____T_______E__LE__E__L___E__H_E___E_E______E______HEL____E____________________T_________HT_WHEEL_____WT_HEL____LE______T___H__E_LW___L__E_____E__E_TE_THEWHEEL_____W_T__THE__EWHEELE__EH__LE__WH__H____E__E_T___TE_\n"
     ]
    }
   ],
   "source": [
    "#map the most common letters in the cipher text to the most common letters in the book text\n",
    "substitution_mapping = {\n",
    "    'C': 'E',\n",
    "    'U': 'T',\n",
    "    'Z': 'H',\n",
    "    'F': 'W',\n",
    "    'N': 'L',\n",
    "}\n",
    "\n",
    "\n",
    "def apply_substitution(text, mapping):\n",
    "    return ''.join(mapping.get(char, '_') for char in text)\n",
    "\n",
    "\n",
    "decoded_text = apply_substitution(substitution_cipher, substitution_mapping)\n",
    "print(\"Decoded Text with Initial Mapping:\")\n",
    "print(substitution_cipher)\n",
    "print(decoded_text)"
   ]
  },
  {
   "cell_type": "markdown",
   "id": "bf887ab6a2ec8516",
   "metadata": {
    "collapsed": false
   },
   "source": [
    "Comparing the text with what we have so far we can test different theories like the possibility of I being \"D\" as it could complete wheeled and it appears to bext to several e's making it for the bigram ed"
   ]
  },
  {
   "cell_type": "code",
   "execution_count": 154,
   "id": "368704599b5be718",
   "metadata": {
    "ExecuteTime": {
     "end_time": "2024-10-15T01:52:15.506231700Z",
     "start_time": "2024-10-15T01:52:15.421300200Z"
    },
    "collapsed": false
   },
   "outputs": [
    {
     "name": "stdout",
     "output_type": "stream",
     "text": [
      "Decoded Text with Initial Mapping:\n",
      "EMGLOSUDCGDNCUSWYSFHNSFCYKDPUMLWGYICOXYSIPJCKQPKUGKMGOLICGINCGACKSNISACYKZSCKXECJCKSHYSXCGOIDPKZCNKSHICGIWYGKKGKGOLDSILKGOIUSIGLEDSPWZUGFZCCNDGYYSFUSZCNXEOJNCGYEOWEUPXEZGACGNFGLKNSACIGOIYCKXCJUCIUZCFZCCNDGYYSFEUEKUZCSOCFZCCNCIACZEJNCSHFZEJZEGMXCYHCJUMGKUCY\n",
      "______T_E__LET____W_L_WE____T_____DE____D__E____T______DE_DLE__E__LD__E__H_E___E_E______E__D___HEL___DE_D____________D____DT_D_______HT_WHEEL_____WT_HEL____LE______T___H__E_LW___L__ED__D_E__E_TEDTHEWHEEL_____W_T__THE__EWHEELED_EH__LE__WH__H____E__E_T___TE_\n"
     ]
    }
   ],
   "source": [
    "#map the most common letters in the cipher text to the most common letters in the book text\n",
    "substitution_mapping = {\n",
    "    'C': 'E',\n",
    "    'U': 'T',\n",
    "    'Z': 'H',\n",
    "    'F': 'W',\n",
    "    'N': 'L',\n",
    "    'I': 'D'\n",
    "}\n",
    "decoded_text = apply_substitution(substitution_cipher, substitution_mapping)\n",
    "print(\"Decoded Text with Initial Mapping:\")\n",
    "print(substitution_cipher)\n",
    "print(decoded_text)"
   ]
  },
  {
   "cell_type": "markdown",
   "id": "32efea9152295bc0",
   "metadata": {
    "collapsed": false
   },
   "source": [
    "if D fits we can search for \"and\"\n"
   ]
  },
  {
   "cell_type": "code",
   "execution_count": 155,
   "id": "13a06d8cdd3ef810",
   "metadata": {
    "ExecuteTime": {
     "end_time": "2024-10-15T01:52:15.693042500Z",
     "start_time": "2024-10-15T01:52:15.493654300Z"
    },
    "collapsed": false
   },
   "outputs": [
    {
     "name": "stdout",
     "output_type": "stream",
     "text": [
      "GOI: 3\n",
      "GYI: 1\n",
      "YSI: 1\n",
      "OLI: 1\n",
      "SHI: 1\n",
      "DSI: 1\n"
     ]
    }
   ],
   "source": [
    "#searching for \"and\"\n",
    "for triple, freq in sorted_triples:\n",
    "    if triple[0] not in ['C', 'U', 'Z', 'F', 'N'] and triple[1] not in ['C', 'U', 'Z', 'F', 'N'] and triple[2] == 'I':\n",
    "        print(f\"{triple}: {freq}\")"
   ]
  },
  {
   "cell_type": "markdown",
   "id": "6fff419e6eb4beec",
   "metadata": {
    "collapsed": false
   },
   "source": []
  },
  {
   "cell_type": "code",
   "execution_count": 156,
   "id": "f96e18b7fb28d926",
   "metadata": {
    "ExecuteTime": {
     "end_time": "2024-10-15T01:52:15.891636Z",
     "start_time": "2024-10-15T01:52:15.693042500Z"
    },
    "collapsed": false
   },
   "outputs": [
    {
     "name": "stdout",
     "output_type": "stream",
     "text": [
      "Decoded Text with Initial Mapping:\n",
      "EMGLOSUDCGDNCUSWYSFHNSFCYKDPUMLWGYICOXYSIPJCKQPKUGKMGOLICGINCGACKSNISACYKZSCKXECJCKSHYSXCGOIDPKZCNKSHICGIWYGKKGKGOLDSILKGOIUSIGLEDSPWZUGFZCCNDGYYSFUSZCNXEOJNCGYEOWEUPXEZGACGNFGLKNSACIGOIYCKXCJUCIUZCFZCCNDGYYSFEUEKUZCSOCFZCCNCIACZEJNCSHFZEJZEGMXCYHCJUMGKUCY\n",
      "__A_NOTBEABLETO_ROW_LOWER_B_T___ARDEN_ROD__E____TA__AN_DEADLEA_E_OLDO_ER_HOE___E_E_O_RO_EANDB__HEL_O_DEAD_RA__A_AN_BOD__ANDTODA__BO__HTAWHEELBARROWTOHEL__N_LEAR_N__T___HA_EALWA__LO_EDANDRE__E_TEDTHEWHEELBARROW_T__THEONEWHEELED_EH__LEO_WH__H_A__ER_E_T_A_TER\n"
     ]
    }
   ],
   "source": [
    "substitution_mapping = {\n",
    "    'C': 'E',\n",
    "    'U': 'T',\n",
    "    'Z': 'H',\n",
    "    'F': 'W',\n",
    "    'N': 'L',\n",
    "    'I': 'D',\n",
    "    'G': 'A',\n",
    "    'O': 'N',\n",
    "    'Y': 'R',\n",
    "    'S': 'O',\n",
    "    'D': 'B'\n",
    "}\n",
    "decoded_text = apply_substitution(substitution_cipher, substitution_mapping)\n",
    "print(\"Decoded Text with Initial Mapping:\")\n",
    "print(substitution_cipher)\n",
    "print(decoded_text)"
   ]
  },
  {
   "cell_type": "markdown",
   "id": "28bb6f9ff150a93e",
   "metadata": {
    "collapsed": false
   },
   "source": [
    "The next step we can taked is to keep looking and bigrams and the next one in the list is \"Re\". Comparing cypher and plain we can se there are several e alone that could be part of re"
   ]
  },
  {
   "cell_type": "markdown",
   "id": "70683b6e39c3cddc",
   "metadata": {
    "collapsed": false
   },
   "source": [
    "testing all possible options we can see that \"y\" is the most likely to be \"Re\" as it revealed twice in the text wheel_arr_ow\n",
    "this could be the word wheelbarrow. We can try this by mapping D to B and S to O"
   ]
  },
  {
   "cell_type": "code",
   "execution_count": 157,
   "id": "2418280289b9e52f",
   "metadata": {
    "ExecuteTime": {
     "end_time": "2024-10-15T01:52:15.968032800Z",
     "start_time": "2024-10-15T01:52:15.891636Z"
    },
    "collapsed": false
   },
   "outputs": [
    {
     "name": "stdout",
     "output_type": "stream",
     "text": [
      "AC: 5\n",
      "XC: 3\n",
      "JC: 2\n",
      "DC: 1\n",
      "SC: 1\n",
      "EC: 1\n",
      "YC: 1\n",
      "HC: 1\n"
     ]
    }
   ],
   "source": [
    "#searching for \"re\"\n",
    "for bigram, freq in sorted_bigrams:\n",
    "    if bigram[0] not in ['C', 'U', 'Z', 'F', 'N', 'I', 'G', 'O'] and bigram[1] == 'C':\n",
    "        print(f\"{bigram}: {freq}\")"
   ]
  },
  {
   "cell_type": "markdown",
   "id": "66e2a3ac89bae4f9",
   "metadata": {
    "collapsed": false
   },
   "source": [
    "With this mapping a lot of the next has been reavealed and knowing the origin of the text we can goo look for this text in the book and see if it makes sense\n"
   ]
  },
  {
   "cell_type": "markdown",
   "id": "5e1c33d7d5fb9a6b",
   "metadata": {
    "collapsed": false
   },
   "source": [
    "Looking into the book \"the wheelbarrow\" appears only twice in the text in a reapeating paragraph and it matches to the cypher text making this the final plain text:\n",
    "\"I may not be able to grow flowers, but my garden produces just\n",
    "as many dead leaves, old overshoes, pieces of rope and bushels of\n",
    "dead grass as anybody’s and today I bought a wheelbarrow to help\n",
    "in clearing it up. I have always loved and respected the\n",
    "wheelbarrow; it is one wheeled vehicle of which I am perfect\n",
    "master.\""
   ]
  },
  {
   "cell_type": "markdown",
   "id": "ecba163edccfede9",
   "metadata": {},
   "source": [
    "## Vigenere Cipher:\n",
    "\n",
    "KCCPKBGUFDPHQTYAVINRRTMVGRKDNBVFDETDGILTXRGUDDKOTFMBPVGEGLTGCKQRACQCWDNAWCRXIZAKFTLEWRPTYCQKYVXCHKFTPONCQQRHJVAJUWETMCMSPKQDYHJVDAHCTRLSVSKCGCZQQDZXGSFRLSWCWSJTBHAFSIASPRJAHKJRJUMVGKMITZHFPDISPZLVLGWTFPLKKEBDPGCEBSHCTJRWXBAFSPEZQNRWXCVYCGAONWDDKACKAWBBIKFTIOVKCGGHJVLNHIFFSQESVYCLACNVRWBBIREPBBVFEXOSCDYGZWPFDTKFQIYCWHJVLNHIQIBTKHJVNPIST\n"
   ]
  },
  {
   "cell_type": "markdown",
   "id": "6fe113ba48e17f34",
   "metadata": {},
   "source": [
    "After doing some research online, I found that the Vigenère cipher can be broken using the index of coincidence, which is a measure of the similarity between two probability samples. It is calculated as the probability that two randomly selected elements from the samples will match. In this case, the index of coincidence is calculated for different key lengths, and the key length that produces the highest index of coincidence is identified. Once the key length is found, frequency analysis can be used to find the key and decrypt the ciphertext.\n",
    "I have decided to perform the Kasiski Examination to find the key length."
   ]
  },
  {
   "cell_type": "code",
   "execution_count": 158,
   "id": "b7e1a2d6e3c5180d",
   "metadata": {
    "ExecuteTime": {
     "end_time": "2024-10-15T01:52:16.097693500Z",
     "start_time": "2024-10-15T01:52:15.962497700Z"
    }
   },
   "outputs": [],
   "source": [
    "cyphertext = \"KCCPKBGUFDPHQTYAVINRRTMVGRKDNBVFDETDGILTXRGUDDKOTFMBPVGEGLTGCKQRACQCWDNAWCRXIZAKFTLEWRPTYCQKYVXCHKFTPONCQQRHJVAJUWETMCMSPKQDYHJVDAHCTRLSVSKCGCZQQDZXGSFRLSWCWSJTBHAFSIASPRJAHKJRJUMVGKMITZHFPDISPZLVLGWTFPLKKEBDPGCEBSHCTJRWXBAFSPEZQNRWXCVYCGAONWDDKACKAWBBIKFTIOVKCGGHJVLNHIFFSQESVYCLACNVRWBBIREPBBVFEXOSCDYGZWPFDTKFQIYCWHJVLNHIQIBTKHJVNPIST\""
   ]
  },
  {
   "cell_type": "code",
   "execution_count": 159,
   "id": "4235a90bf14f699d",
   "metadata": {
    "ExecuteTime": {
     "end_time": "2024-10-15T01:52:16.310601600Z",
     "start_time": "2024-10-15T01:52:16.101224100Z"
    }
   },
   "outputs": [
    {
     "name": "stdout",
     "output_type": "stream",
     "text": [
      "Posibles longitudes de clave: [6]\n"
     ]
    }
   ],
   "source": [
    "import re\n",
    "import math\n",
    "\n",
    "\n",
    "def normalize(s):\n",
    "    s = s.strip().upper()\n",
    "    s = re.sub(r'[^A-Z]+', '', s)\n",
    "    return s\n",
    "\n",
    "\n",
    "def find_key_length(s, min_num=3):\n",
    "    \"\"\"\n",
    "    Encuentra posibles longitudes de la clave basadas en el análisis de coincidencias repetidas.\n",
    "    \n",
    "    Parámetros:\n",
    "    - s (str): El texto a analizar.\n",
    "    - min_num (int): El número mínimo de caracteres repetidos para que se consideren coincidencias.\n",
    "\n",
    "    Retorna:\n",
    "    - Una lista de posibles longitudes de clave.\n",
    "    \"\"\"\n",
    "    s = normalize(s)\n",
    "    matches = []\n",
    "    found = {}\n",
    "    key_lengths = []\n",
    "\n",
    "    # Encontrar coincidencias repetidas en el texto\n",
    "    for k in range(min_num, len(s) // 2):\n",
    "        found[k] = {}\n",
    "        for i in range(0, len(s) - k):\n",
    "            v = s[i:i + k]\n",
    "            if v not in found[k]:\n",
    "                found[k][v] = 1\n",
    "            else:\n",
    "                found[k][v] += 1\n",
    "\n",
    "        # Identificar las coincidencias con más de 2 repeticiones\n",
    "        for v in found[k]:\n",
    "            if found[k][v] > 2:\n",
    "                matches.append((v, k))\n",
    "\n",
    "    # Si no hay coincidencias, retornar una lista vacía\n",
    "    if not matches:\n",
    "        return []\n",
    "\n",
    "    # Calcular los factores basados en las posiciones de las coincidencias\n",
    "    for v, k in matches:\n",
    "        p = []\n",
    "        for i in range(len(s)):\n",
    "            if s[i:i + k] == v:\n",
    "                p.append(i)\n",
    "\n",
    "        # Calcular la distancia entre posiciones y encontrar el GCD de las distancias\n",
    "        if len(p) > 1:\n",
    "            factor = p[1] - p[0]\n",
    "            for i in range(2, len(p)):\n",
    "                factor = math.gcd(factor, p[i] - p[i - 1])\n",
    "            if factor > 1:  # Evitar factores triviales como 1\n",
    "                key_lengths.append(factor)\n",
    "\n",
    "    # Devolver una lista con posibles longitudes de clave (únicos y ordenados)\n",
    "    return sorted(set(key_lengths))\n",
    "\n",
    "\n",
    "resultados = find_key_length(cyphertext)\n",
    "print(\"Posibles longitudes de clave:\", resultados)"
   ]
  },
  {
   "cell_type": "markdown",
   "id": "4d196352",
   "metadata": {},
   "source": [
    "With this, we know that our key has a length of 6 characters. Searching online, we found that there are 11,881,376 × 26 = 308,915,776 possible keys.\n",
    "\n",
    "Several online tools have been found that can help decrypt the Vigenère cipher, each performing a different type of analysis. For example, I have found frequency attacks or dictionary attacks.\n",
    "\n",
    "I have decided to use the tool at https://www.dcode.fr/vigenere-cipher, where you input the key length and the ciphertext. It automatically calculates the index of coincidence and provides the key and the plaintext."
   ]
  },
  {
   "cell_type": "markdown",
   "id": "831f3f27",
   "metadata": {},
   "source": [
    "![image](./ImagesHW1/VigenereDecoder.png)\n"
   ]
  },
  {
   "cell_type": "markdown",
   "id": "ea797ee9",
   "metadata": {},
   "source": [
    "ANSWER: i learned how to calculate the amount of paper needed for a room when i was at school you multiply the square foot age of the walls by the cubic contents of the floor and ceiling combined and double it you then allow half the total for openings such as windows and doors then you allow the other half for match ing the pattern then you double the whole thing again to give a margin of error and then you order the paper"
   ]
  },
  {
   "cell_type": "markdown",
   "id": "a7c6569c",
   "metadata": {},
   "source": [
    "## Affine Cipher:\n",
    "\n",
    "KQEREJEBCPPCJCRKIEACUZBKRVPKRBCIBQCARBJCVFCUPKRIOFKPACUZQEPBKRXPEIIEABDKPBCPFCDCCAFIEABDKPBCPFEQPKAZBKRHAIBKAPCCIBURCCDKDCCJCIDFUIXPAFFERBICZDFKABICBBENEFCUPJCVKABPCYDCCDPKBCOCPERKIVKSCPICBRKIJPKABI"
   ]
  },
  {
   "cell_type": "markdown",
   "id": "d14cdb75",
   "metadata": {},
   "source": [
    "In this case, after doing some research online, I found that the affine cipher can be broken using various methods, including frequency attacks, brute force, and a known plaintext attack, among others. I have decided to use the brute force method, but since we also know where the text comes from, a known plaintext attack could also be used."
   ]
  },
  {
   "cell_type": "code",
   "execution_count": 160,
   "id": "67b2fea3",
   "metadata": {
    "ExecuteTime": {
     "end_time": "2024-10-15T01:52:16.389026700Z",
     "start_time": "2024-10-15T01:52:16.310601600Z"
    }
   },
   "outputs": [
    {
     "name": "stdout",
     "output_type": "stream",
     "text": [
      "Probando clave x=1, y=1\n",
      "JPDQDIDABOOBIBQJHDZBTYAJQUOJQABHAPBZQAIBUEBTOJQHNEJOZBTYPDOAJQWODHHDZACJOABOEBCBBZEHDZACJOABOEDPOJZYAJQGZHAJZOBBHATQBBCJCBBIBHCETHWOZEEDQAHBYCEJZAHBAADMDEBTOIBUJZAOBXCBBCOJABNBODQJHUJRBOHBAQJHIOJZAH\n",
      "\n",
      "Probando clave x=1, y=2\n",
      "IOCPCHCZANNAHAPIGCYASXZIPTNIPZAGZOAYPZHATDASNIPGMDINYASXOCNZIPVNCGGCYZBINZANDABAAYDGCYZBINZANDCONIYXZIPFYGZIYNAAGZSPAABIBAAHAGBDSGVNYDDCPZGAXBDIYZGAZZCLCDASNHATIYZNAWBAABNIZAMANCPIGTIQANGAZPIGHNIYZG\n",
      "\n",
      "Probando clave x=1, y=3\n",
      "HNBOBGBYZMMZGZOHFBXZRWYHOSMHOYZFYNZXOYGZSCZRMHOFLCHMXZRWNBMYHOUMBFFBXYAHMYZMCZAZZXCFBXYAHMYZMCBNMHXWYHOEXFYHXMZZFYROZZAHAZZGZFACRFUMXCCBOYFZWACHXYFZYYBKBCZRMGZSHXYMZVAZZAMHYZLZMBOHFSHPZMFZYOHFGMHXYF\n",
      "\n",
      "Probando clave x=1, y=4\n",
      "GMANAFAXYLLYFYNGEAWYQVXGNRLGNXYEXMYWNXFYRBYQLGNEKBGLWYQVMALXGNTLAEEAWXZGLXYLBYZYYWBEAWXZGLXYLBAMLGWVXGNDWEXGWLYYEXQNYYZGZYYFYEZBQETLWBBANXEYVZBGWXEYXXAJABYQLFYRGWXLYUZYYZLGXYKYLANGERGOYLEYXNGEFLGWXE\n",
      "\n",
      "Probando clave x=1, y=5\n",
      "FLZMZEZWXKKXEXMFDZVXPUWFMQKFMWXDWLXVMWEXQAXPKFMDJAFKVXPULZKWFMSKZDDZVWYFKWXKAXYXXVADZVWYFKWXKAZLKFVUWFMCVDWFVKXXDWPMXXYFYXXEXDYAPDSKVAAZMWDXUYAFVWDXWWZIZAXPKEXQFVWKXTYXXYKFWXJXKZMFDQFNXKDXWMFDEKFVWD\n",
      "\n",
      "Probando clave x=1, y=6\n",
      "EKYLYDYVWJJWDWLECYUWOTVELPJELVWCVKWULVDWPZWOJELCIZEJUWOTKYJVELRJYCCYUVXEJVWJZWXWWUZCYUVXEJVWJZYKJEUTVELBUCVEUJWWCVOLWWXEXWWDWCXZOCRJUZZYLVCWTXZEUVCWVVYHYZWOJDWPEUVJWSXWWXJEVWIWJYLECPEMWJCWVLECDJEUVC\n",
      "\n",
      "Probando clave x=1, y=7\n",
      "DJXKXCXUVIIVCVKDBXTVNSUDKOIDKUVBUJVTKUCVOYVNIDKBHYDITVNSJXIUDKQIXBBXTUWDIUVIYVWVVTYBXTUWDIUVIYXJIDTSUDKATBUDTIVVBUNKVVWDWVVCVBWYNBQITYYXKUBVSWYDTUBVUUXGXYVNICVODTUIVRWVVWIDUVHVIXKDBODLVIBVUKDBCIDTUB\n",
      "\n",
      "Probando clave x=1, y=8\n",
      "CIWJWBWTUHHUBUJCAWSUMRTCJNHCJTUATIUSJTBUNXUMHCJAGXCHSUMRIWHTCJPHWAAWSTVCHTUHXUVUUSXAWSTVCHTUHXWIHCSRTCJZSATCSHUUATMJUUVCVUUBUAVXMAPHSXXWJTAURVXCSTAUTTWFWXUMHBUNCSTHUQVUUVHCTUGUHWJCANCKUHAUTJCABHCSTA\n",
      "\n",
      "Probando clave x=1, y=9\n",
      "BHVIVAVSTGGTATIBZVRTLQSBIMGBISTZSHTRISATMWTLGBIZFWBGRTLQHVGSBIOGVZZVRSUBGSTGWTUTTRWZVRSUBGSTGWVHGBRQSBIYRZSBRGTTZSLITTUBUTTATZUWLZOGRWWVISZTQUWBRSZTSSVEVWTLGATMBRSGTPUTTUGBSTFTGVIBZMBJTGZTSIBZAGBRSZ\n",
      "\n",
      "Probando clave x=1, y=10\n",
      "AGUHUZURSFFSZSHAYUQSKPRAHLFAHRSYRGSQHRZSLVSKFAHYEVAFQSKPGUFRAHNFUYYUQRTAFRSFVSTSSQVYUQRTAFRSFVUGFAQPRAHXQYRAQFSSYRKHSSTATSSZSYTVKYNFQVVUHRYSPTVAQRYSRRUDUVSKFZSLAQRFSOTSSTFARSESFUHAYLAISFYSRHAYZFAQRY\n",
      "\n",
      "Probando clave x=1, y=11\n",
      "ZFTGTYTQREERYRGZXTPRJOQZGKEZGQRXQFRPGQYRKURJEZGXDUZEPRJOFTEQZGMETXXTPQSZEQREURSRRPUXTPQSZEQREUTFEZPOQZGWPXQZPERRXQJGRRSZSRRYRXSUJXMEPUUTGQXROSUZPQXRQQTCTURJEYRKZPQERNSRRSEZQRDRETGZXKZHREXRQGZXYEZPQX\n",
      "\n",
      "Probando clave x=1, y=12\n",
      "YESFSXSPQDDQXQFYWSOQINPYFJDYFPQWPEQOFPXQJTQIDYFWCTYDOQINESDPYFLDSWWSOPRYDPQDTQRQQOTWSOPRYDPQDTSEDYONPYFVOWPYODQQWPIFQQRYRQQXQWRTIWLDOTTSFPWQNRTYOPWQPPSBSTQIDXQJYOPDQMRQQRDYPQCQDSFYWJYGQDWQPFYWXDYOPW\n",
      "\n",
      "Probando clave x=1, y=13\n",
      "XDRERWROPCCPWPEXVRNPHMOXEICXEOPVODPNEOWPISPHCXEVBSXCNPHMDRCOXEKCRVVRNOQXCOPCSPQPPNSVRNOQXCOPCSRDCXNMOXEUNVOXNCPPVOHEPPQXQPPWPVQSHVKCNSSREOVPMQSXNOVPOORARSPHCWPIXNOCPLQPPQCXOPBPCREXVIXFPCVPOEXVWCXNOV\n",
      "\n",
      "Probando clave x=1, y=14\n",
      "WCQDQVQNOBBOVODWUQMOGLNWDHBWDNOUNCOMDNVOHROGBWDUARWBMOGLCQBNWDJBQUUQMNPWBNOBROPOOMRUQMNPWBNOBRQCBWMLNWDTMUNWMBOOUNGDOOPWPOOVOUPRGUJBMRRQDNUOLPRWMNUONNQZQROGBVOHWMNBOKPOOPBWNOAOBQDWUHWEOBUONDWUVBWMNU\n",
      "\n",
      "Probando clave x=1, y=15\n",
      "VBPCPUPMNAANUNCVTPLNFKMVCGAVCMNTMBNLCMUNGQNFAVCTZQVALNFKBPAMVCIAPTTPLMOVAMNAQNONNLQTPLMOVAMNAQPBAVLKMVCSLTMVLANNTMFCNNOVONNUNTOQFTIALQQPCMTNKOQVLMTNMMPYPQNFAUNGVLMANJONNOAVMNZNAPCVTGVDNATNMCVTUAVLMT\n",
      "\n",
      "Probando clave x=1, y=16\n",
      "UAOBOTOLMZZMTMBUSOKMEJLUBFZUBLMSLAMKBLTMFPMEZUBSYPUZKMEJAOZLUBHZOSSOKLNUZLMZPMNMMKPSOKLNUZLMZPOAZUKJLUBRKSLUKZMMSLEBMMNUNMMTMSNPESHZKPPOBLSMJNPUKLSMLLOXOPMEZTMFUKLZMINMMNZULMYMZOBUSFUCMZSMLBUSTZUKLS\n",
      "\n",
      "Probando clave x=1, y=17\n",
      "TZNANSNKLYYLSLATRNJLDIKTAEYTAKLRKZLJAKSLEOLDYTARXOTYJLDIZNYKTAGYNRRNJKMTYKLYOLMLLJORNJKMTYKLYONZYTJIKTAQJRKTJYLLRKDALLMTMLLSLRMODRGYJOONAKRLIMOTJKRLKKNWNOLDYSLETJKYLHMLLMYTKLXLYNATRETBLYRLKATRSYTJKR\n",
      "\n",
      "Probando clave x=1, y=18\n",
      "SYMZMRMJKXXKRKZSQMIKCHJSZDXSZJKQJYKIZJRKDNKCXSZQWNSXIKCHYMXJSZFXMQQMIJLSXJKXNKLKKINQMIJLSXJKXNMYXSIHJSZPIQJSIXKKQJCZKKLSLKKRKQLNCQFXINNMZJQKHLNSIJQKJJMVMNKCXRKDSIJXKGLKKLXSJKWKXMZSQDSAKXQKJZSQRXSIJQ\n",
      "\n",
      "Probando clave x=1, y=19\n",
      "RXLYLQLIJWWJQJYRPLHJBGIRYCWRYIJPIXJHYIQJCMJBWRYPVMRWHJBGXLWIRYEWLPPLHIKRWIJWMJKJJHMPLHIKRWIJWMLXWRHGIRYOHPIRHWJJPIBYJJKRKJJQJPKMBPEWHMMLYIPJGKMRHIPJIILULMJBWQJCRHIWJFKJJKWRIJVJWLYRPCRZJWPJIYRPQWRHIP\n",
      "\n",
      "Probando clave x=2, y=1\n",
      "Invalid key: modular inverse does not exist\n",
      "\n",
      "Probando clave x=2, y=2\n",
      "Invalid key: modular inverse does not exist\n",
      "\n",
      "Probando clave x=2, y=3\n",
      "Invalid key: modular inverse does not exist\n",
      "\n",
      "Probando clave x=2, y=4\n",
      "Invalid key: modular inverse does not exist\n",
      "\n",
      "Probando clave x=2, y=5\n",
      "Invalid key: modular inverse does not exist\n",
      "\n",
      "Probando clave x=2, y=6\n",
      "Invalid key: modular inverse does not exist\n",
      "\n",
      "Probando clave x=2, y=7\n",
      "Invalid key: modular inverse does not exist\n",
      "\n",
      "Probando clave x=2, y=8\n",
      "Invalid key: modular inverse does not exist\n",
      "\n",
      "Probando clave x=2, y=9\n",
      "Invalid key: modular inverse does not exist\n",
      "\n",
      "Probando clave x=2, y=10\n",
      "Invalid key: modular inverse does not exist\n",
      "\n",
      "Probando clave x=2, y=11\n",
      "Invalid key: modular inverse does not exist\n",
      "\n",
      "Probando clave x=2, y=12\n",
      "Invalid key: modular inverse does not exist\n",
      "\n",
      "Probando clave x=2, y=13\n",
      "Invalid key: modular inverse does not exist\n",
      "\n",
      "Probando clave x=2, y=14\n",
      "Invalid key: modular inverse does not exist\n",
      "\n",
      "Probando clave x=2, y=15\n",
      "Invalid key: modular inverse does not exist\n",
      "\n",
      "Probando clave x=2, y=16\n",
      "Invalid key: modular inverse does not exist\n",
      "\n",
      "Probando clave x=2, y=17\n",
      "Invalid key: modular inverse does not exist\n",
      "\n",
      "Probando clave x=2, y=18\n",
      "Invalid key: modular inverse does not exist\n",
      "\n",
      "Probando clave x=2, y=19\n",
      "Invalid key: modular inverse does not exist\n",
      "\n",
      "Probando clave x=3, y=1\n",
      "DFBOBUBAJWWJUJODLBRJPIADOYWDOAJLAFJROAUJYKJPWDOLNKDWRJPIFBWADOQWBLLBRASDWAJWKJSJJRKLBRASDWAJWKBFWDRIADOCRLADRWJJLAPOJJSDSJJUJLSKPLQWRKKBOALJISKDRALJAABEBKJPWUJYDRAWJZSJJSWDAJNJWBODLYDXJWLJAODLUWDRAL\n",
      "\n",
      "Probando clave x=3, y=2\n",
      "UWSFSLSRANNALAFUCSIAGZRUFPNUFRACRWAIFRLAPBAGNUFCEBUNIAGZWSNRUFHNSCCSIRJUNRANBAJAAIBCSIRJUNRANBSWNUIZRUFTICRUINAACRGFAAJUJAALACJBGCHNIBBSFRCAZJBUIRCARRSVSBAGNLAPUIRNAQJAAJNURAEANSFUCPUOANCARFUCLNUIRC\n",
      "\n",
      "Probando clave x=3, y=3\n",
      "LNJWJCJIREERCRWLTJZRXQILWGELWIRTINRZWICRGSRXELWTVSLEZRXQNJEILWYEJTTJZIALEIRESRARRZSTJZIALEIRESJNELZQILWKZTILZERRTIXWRRALARRCRTASXTYEZSSJWITRQASLZITRIIJMJSRXECRGLZIERHARRAELIRVREJWLTGLFRETRIWLTCELZIT\n",
      "\n",
      "Probando clave x=3, y=4\n",
      "CEANATAZIVVITINCKAQIOHZCNXVCNZIKZEIQNZTIXJIOVCNKMJCVQIOHEAVZCNPVAKKAQZRCVZIVJIRIIQJKAQZRCVZIVJAEVCQHZCNBQKZCQVIIKZONIIRCRIITIKRJOKPVQJJANZKIHRJCQZKIZZADAJIOVTIXCQZVIYRIIRVCZIMIVANCKXCWIVKIZNCKTVCQZK\n",
      "\n",
      "Probando clave x=3, y=5\n",
      "TVRERKRQZMMZKZETBRHZFYQTEOMTEQZBQVZHEQKZOAZFMTEBDATMHZFYVRMQTEGMRBBRHQITMQZMAZIZZHABRHQITMQZMARVMTHYQTESHBQTHMZZBQFEZZITIZZKZBIAFBGMHAAREQBZYIATHQBZQQRURAZFMKZOTHQMZPIZZIMTQZDZMRETBOTNZMBZQETBKMTHQB\n",
      "\n",
      "Probando clave x=3, y=6\n",
      "KMIVIBIHQDDQBQVKSIYQWPHKVFDKVHQSHMQYVHBQFRQWDKVSURKDYQWPMIDHKVXDISSIYHZKDHQDRQZQQYRSIYHZKDHQDRIMDKYPHKVJYSHKYDQQSHWVQQZKZQQBQSZRWSXDYRRIVHSQPZRKYHSQHHILIRQWDBQFKYHDQGZQQZDKHQUQDIVKSFKEQDSQHVKSBDKYHS\n",
      "\n",
      "Probando clave x=3, y=7\n",
      "BDZMZSZYHUUHSHMBJZPHNGYBMWUBMYHJYDHPMYSHWIHNUBMJLIBUPHNGDZUYBMOUZJJZPYQBUYHUIHQHHPIJZPYQBUYHUIZDUBPGYBMAPJYBPUHHJYNMHHQBQHHSHJQINJOUPIIZMYJHGQIBPYJHYYZCZIHNUSHWBPYUHXQHHQUBYHLHUZMBJWBVHUJHYMBJSUBPYJ\n",
      "\n",
      "Probando clave x=3, y=8\n",
      "SUQDQJQPYLLYJYDSAQGYEXPSDNLSDPYAPUYGDPJYNZYELSDACZSLGYEXUQLPSDFLQAAQGPHSLPYLZYHYYGZAQGPHSLPYLZQULSGXPSDRGAPSGLYYAPEDYYHSHYYJYAHZEAFLGZZQDPAYXHZSGPAYPPQTQZYELJYNSGPLYOHYYHLSPYCYLQDSANSMYLAYPDSAJLSGPA\n",
      "\n",
      "Probando clave x=3, y=9\n",
      "JLHUHAHGPCCPAPUJRHXPVOGJUECJUGPRGLPXUGAPEQPVCJURTQJCXPVOLHCGJUWCHRRHXGYJCGPCQPYPPXQRHXGYJCGPCQHLCJXOGJUIXRGJXCPPRGVUPPYJYPPAPRYQVRWCXQQHUGRPOYQJXGRPGGHKHQPVCAPEJXGCPFYPPYCJGPTPCHUJREJDPCRPGUJRACJXGR\n",
      "\n",
      "Probando clave x=3, y=10\n",
      "ACYLYRYXGTTGRGLAIYOGMFXALVTALXGIXCGOLXRGVHGMTALIKHATOGMFCYTXALNTYIIYOXPATXGTHGPGGOHIYOXPATXGTHYCTAOFXALZOIXAOTGGIXMLGGPAPGGRGIPHMINTOHHYLXIGFPHAOXIGXXYBYHGMTRGVAOXTGWPGGPTAXGKGTYLAIVAUGTIGXLAIRTAOXI\n",
      "\n",
      "Probando clave x=3, y=11\n",
      "RTPCPIPOXKKXIXCRZPFXDWORCMKRCOXZOTXFCOIXMYXDKRCZBYRKFXDWTPKORCEKPZZPFOGRKOXKYXGXXFYZPFOGRKOXKYPTKRFWORCQFZORFKXXZODCXXGRGXXIXZGYDZEKFYYPCOZXWGYRFOZXOOPSPYXDKIXMRFOKXNGXXGKROXBXKPCRZMRLXKZXOCRZIKRFOZ\n",
      "\n",
      "Probando clave x=3, y=12\n",
      "IKGTGZGFOBBOZOTIQGWOUNFITDBITFOQFKOWTFZODPOUBITQSPIBWOUNKGBFITVBGQQGWFXIBFOBPOXOOWPQGWFXIBFOBPGKBIWNFITHWQFIWBOOQFUTOOXIXOOZOQXPUQVBWPPGTFQONXPIWFQOFFGJGPOUBZODIWFBOEXOOXBIFOSOBGTIQDICOBQOFTIQZBIWFQ\n",
      "\n",
      "Probando clave x=3, y=13\n",
      "ZBXKXQXWFSSFQFKZHXNFLEWZKUSZKWFHWBFNKWQFUGFLSZKHJGZSNFLEBXSWZKMSXHHXNWOZSWFSGFOFFNGHXNWOZSWFSGXBSZNEWZKYNHWZNSFFHWLKFFOZOFFQFHOGLHMSNGGXKWHFEOGZNWHFWWXAXGFLSQFUZNWSFVOFFOSZWFJFSXKZHUZTFSHFWKZHQSZNWH\n",
      "\n",
      "Probando clave x=3, y=14\n",
      "QSOBOHONWJJWHWBQYOEWCVNQBLJQBNWYNSWEBNHWLXWCJQBYAXQJEWCVSOJNQBDJOYYOENFQJNWJXWFWWEXYOENFQJNWJXOSJQEVNQBPEYNQEJWWYNCBWWFQFWWHWYFXCYDJEXXOBNYWVFXQENYWNNOROXWCJHWLQENJWMFWWFJQNWAWJOBQYLQKWJYWNBQYHJQENY\n",
      "\n",
      "Probando clave x=3, y=15\n",
      "HJFSFYFENAANYNSHPFVNTMEHSCAHSENPEJNVSEYNCONTAHSPROHAVNTMJFAEHSUAFPPFVEWHAENAONWNNVOPFVEWHAENAOFJAHVMEHSGVPEHVANNPETSNNWHWNNYNPWOTPUAVOOFSEPNMWOHVEPNEEFIFONTAYNCHVEANDWNNWAHENRNAFSHPCHBNAPNESHPYAHVEP\n",
      "\n",
      "Probando clave x=3, y=16\n",
      "YAWJWPWVERREPEJYGWMEKDVYJTRYJVEGVAEMJVPETFEKRYJGIFYRMEKDAWRVYJLRWGGWMVNYRVERFENEEMFGWMVNYRVERFWARYMDVYJXMGVYMREEGVKJEENYNEEPEGNFKGLRMFFWJVGEDNFYMVGEVVWZWFEKRPETYMVREUNEENRYVEIERWJYGTYSERGEVJYGPRYMVG\n",
      "\n",
      "Probando clave x=3, y=17\n",
      "PRNANGNMVIIVGVAPXNDVBUMPAKIPAMVXMRVDAMGVKWVBIPAXZWPIDVBURNIMPACINXXNDMEPIMVIWVEVVDWXNDMEPIMVIWNRIPDUMPAODXMPDIVVXMBAVVEPEVVGVXEWBXCIDWWNAMXVUEWPDMXVMMNQNWVBIGVKPDMIVLEVVEIPMVZVINAPXKPJVIXVMAPXGIPDMX\n",
      "\n",
      "Probando clave x=3, y=18\n",
      "GIEREXEDMZZMXMRGOEUMSLDGRBZGRDMODIMURDXMBNMSZGROQNGZUMSLIEZDGRTZEOOEUDVGZDMZNMVMMUNOEUDVGZDMZNEIZGULDGRFUODGUZMMODSRMMVGVMMXMOVNSOTZUNNERDOMLVNGUDOMDDEHENMSZXMBGUDZMCVMMVZGDMQMZERGOBGAMZOMDRGOXZGUDO\n",
      "\n",
      "Probando clave x=3, y=19\n",
      "XZVIVOVUDQQDODIXFVLDJCUXISQXIUDFUZDLIUODSEDJQXIFHEXQLDJCZVQUXIKQVFFVLUMXQUDQEDMDDLEFVLUMXQUDQEVZQXLCUXIWLFUXLQDDFUJIDDMXMDDODFMEJFKQLEEVIUFDCMEXLUFDUUVYVEDJQODSXLUQDTMDDMQXUDHDQVIXFSXRDQFDUIXFOQXLUF\n",
      "\n",
      "Probando clave x=4, y=1\n",
      "Invalid key: modular inverse does not exist\n",
      "\n",
      "Probando clave x=4, y=2\n",
      "Invalid key: modular inverse does not exist\n",
      "\n",
      "Probando clave x=4, y=3\n",
      "Invalid key: modular inverse does not exist\n",
      "\n",
      "Probando clave x=4, y=4\n",
      "Invalid key: modular inverse does not exist\n",
      "\n",
      "Probando clave x=4, y=5\n",
      "Invalid key: modular inverse does not exist\n",
      "\n",
      "Probando clave x=4, y=6\n",
      "Invalid key: modular inverse does not exist\n",
      "\n",
      "Probando clave x=4, y=7\n",
      "Invalid key: modular inverse does not exist\n",
      "\n",
      "Probando clave x=4, y=8\n",
      "Invalid key: modular inverse does not exist\n",
      "\n",
      "Probando clave x=4, y=9\n",
      "Invalid key: modular inverse does not exist\n",
      "\n",
      "Probando clave x=4, y=10\n",
      "Invalid key: modular inverse does not exist\n",
      "\n",
      "Probando clave x=4, y=11\n",
      "Invalid key: modular inverse does not exist\n",
      "\n",
      "Probando clave x=4, y=12\n",
      "Invalid key: modular inverse does not exist\n",
      "\n",
      "Probando clave x=4, y=13\n",
      "Invalid key: modular inverse does not exist\n",
      "\n",
      "Probando clave x=4, y=14\n",
      "Invalid key: modular inverse does not exist\n",
      "\n",
      "Probando clave x=4, y=15\n",
      "Invalid key: modular inverse does not exist\n",
      "\n",
      "Probando clave x=4, y=16\n",
      "Invalid key: modular inverse does not exist\n",
      "\n",
      "Probando clave x=4, y=17\n",
      "Invalid key: modular inverse does not exist\n",
      "\n",
      "Probando clave x=4, y=18\n",
      "Invalid key: modular inverse does not exist\n",
      "\n",
      "Probando clave x=4, y=19\n",
      "Invalid key: modular inverse does not exist\n",
      "\n",
      "Probando clave x=5, y=1\n",
      "HDLYLMLAVIIVMVYHRLFVJKAHYEIHYAVRADVFYAMVEGVJIHYRNGHIFVJKDLIAHYUILRRLFAQHIAVIGVQVVFGRLFAQHIAVIGLDIHFKAHYWFRAHFIVVRAJYVVQHQVVMVRQGJRUIFGGLYARVKQGHFARVAALSLGVJIMVEHFAIVPQVVQIHAVNVILYHREHTVIRVAYHRMIHFAR\n",
      "\n",
      "Probando clave x=5, y=2\n",
      "MIQDQRQFANNARADMWQKAOPFMDJNMDFAWFIAKDFRAJLAONMDWSLMNKAOPIQNFMDZNQWWQKFVMNFANLAVAAKLWQKFVMNFANLQINMKPFMDBKWFMKNAAWFODAAVMVAARAWVLOWZNKLLQDFWAPVLMKFWAFFQXQLAONRAJMKFNAUVAAVNMFASANQDMWJMYANWAFDMWRNMKFW\n",
      "\n",
      "Probando clave x=5, y=3\n",
      "RNVIVWVKFSSFWFIRBVPFTUKRIOSRIKFBKNFPIKWFOQFTSRIBXQRSPFTUNVSKRIESVBBVPKARSKFSQFAFFPQBVPKARSKFSQVNSRPUKRIGPBKRPSFFBKTIFFARAFFWFBAQTBESPQQVIKBFUAQRPKBFKKVCVQFTSWFORPKSFZAFFASRKFXFSVIRBORDFSBFKIRBWSRPKB\n",
      "\n",
      "Probando clave x=5, y=4\n",
      "WSANABAPKXXKBKNWGAUKYZPWNTXWNPKGPSKUNPBKTVKYXWNGCVWXUKYZSAXPWNJXAGGAUPFWXPKXVKFKKUVGAUPFWXPKXVASXWUZPWNLUGPWUXKKGPYNKKFWFKKBKGFVYGJXUVVANPGKZFVWUPGKPPAHAVKYXBKTWUPXKEFKKFXWPKCKXANWGTWIKXGKPNWGBXWUPG\n",
      "\n",
      "Probando clave x=5, y=5\n",
      "BXFSFGFUPCCPGPSBLFZPDEUBSYCBSUPLUXPZSUGPYAPDCBSLHABCZPDEXFCUBSOCFLLFZUKBCUPCAPKPPZALFZUKBCUPCAFXCBZEUBSQZLUBZCPPLUDSPPKBKPPGPLKADLOCZAAFSULPEKABZULPUUFMFAPDCGPYBZUCPJKPPKCBUPHPCFSBLYBNPCLPUSBLGCBZUL\n",
      "\n",
      "Probando clave x=5, y=6\n",
      "GCKXKLKZUHHULUXGQKEUIJZGXDHGXZUQZCUEXZLUDFUIHGXQMFGHEUIJCKHZGXTHKQQKEZPGHZUHFUPUUEFQKEZPGHZUHFKCHGEJZGXVEQZGEHUUQZIXUUPGPUULUQPFIQTHEFFKXZQUJPFGEZQUZZKRKFUIHLUDGEZHUOPUUPHGZUMUHKXGQDGSUHQUZXGQLHGEZQ\n",
      "\n",
      "Probando clave x=5, y=7\n",
      "LHPCPQPEZMMZQZCLVPJZNOELCIMLCEZVEHZJCEQZIKZNMLCVRKLMJZNOHPMELCYMPVVPJEULMEZMKZUZZJKVPJEULMEZMKPHMLJOELCAJVELJMZZVENCZZULUZZQZVUKNVYMJKKPCEVZOUKLJEVZEEPWPKZNMQZILJEMZTUZZUMLEZRZMPCLVILXZMVZECLVQMLJEV\n",
      "\n",
      "Probando clave x=5, y=8\n",
      "QMUHUVUJERREVEHQAUOESTJQHNRQHJEAJMEOHJVENPESRQHAWPQROESTMURJQHDRUAAUOJZQRJERPEZEEOPAUOJZQRJERPUMRQOTJQHFOAJQOREEAJSHEEZQZEEVEAZPSADROPPUHJAETZPQOJAEJJUBUPESRVENQOJREYZEEZRQJEWERUHQANQCERAEJHQAVRQOJA\n",
      "\n",
      "Probando clave x=5, y=9\n",
      "VRZMZAZOJWWJAJMVFZTJXYOVMSWVMOJFORJTMOAJSUJXWVMFBUVWTJXYRZWOVMIWZFFZTOEVWOJWUJEJJTUFZTOEVWOJWUZRWVTYOVMKTFOVTWJJFOXMJJEVEJJAJFEUXFIWTUUZMOFJYEUVTOFJOOZGZUJXWAJSVTOWJDEJJEWVOJBJWZMVFSVHJWFJOMVFAWVTOF\n",
      "\n",
      "Probando clave x=5, y=10\n",
      "AWEREFETOBBOFORAKEYOCDTARXBARTOKTWOYRTFOXZOCBARKGZABYOCDWEBTARNBEKKEYTJABTOBZOJOOYZKEYTJABTOBZEWBAYDTARPYKTAYBOOKTCROOJAJOOFOKJZCKNBYZZERTKODJZAYTKOTTELEZOCBFOXAYTBOIJOOJBATOGOBERAKXAMOBKOTRAKFBAYTK\n",
      "\n",
      "Probando clave x=5, y=11\n",
      "FBJWJKJYTGGTKTWFPJDTHIYFWCGFWYTPYBTDWYKTCETHGFWPLEFGDTHIBJGYFWSGJPPJDYOFGYTGETOTTDEPJDYOFGYTGEJBGFDIYFWUDPYFDGTTPYHWTTOFOTTKTPOEHPSGDEEJWYPTIOEFDYPTYYJQJETHGKTCFDYGTNOTTOGFYTLTGJWFPCFRTGPTYWFPKGFDYP\n",
      "\n",
      "Probando clave x=5, y=12\n",
      "KGOBOPODYLLYPYBKUOIYMNDKBHLKBDYUDGYIBDPYHJYMLKBUQJKLIYMNGOLDKBXLOUUOIDTKLDYLJYTYYIJUOIDTKLDYLJOGLKINDKBZIUDKILYYUDMBYYTKTYYPYUTJMUXLIJJOBDUYNTJKIDUYDDOVOJYMLPYHKIDLYSTYYTLKDYQYLOBKUHKWYLUYDBKUPLKIDU\n",
      "\n",
      "Probando clave x=5, y=13\n",
      "PLTGTUTIDQQDUDGPZTNDRSIPGMQPGIDZILDNGIUDMODRQPGZVOPQNDRSLTQIPGCQTZZTNIYPQIDQODYDDNOZTNIYPQIDQOTLQPNSIPGENZIPNQDDZIRGDDYPYDDUDZYORZCQNOOTGIZDSYOPNIZDIITATODRQUDMPNIQDXYDDYQPIDVDQTGPZMPBDQZDIGPZUQPNIZ\n",
      "\n",
      "Probando clave x=5, y=14\n",
      "UQYLYZYNIVVIZILUEYSIWXNULRVULNIENQISLNZIRTIWVULEATUVSIWXQYVNULHVYEEYSNDUVNIVTIDIISTEYSNDUVNIVTYQVUSXNULJSENUSVIIENWLIIDUDIIZIEDTWEHVSTTYLNEIXDTUSNEINNYFYTIWVZIRUSNVICDIIDVUNIAIVYLUERUGIVEINLUEZVUSNE\n",
      "\n",
      "Probando clave x=5, y=15\n",
      "ZVDQDEDSNAANENQZJDXNBCSZQWAZQSNJSVNXQSENWYNBAZQJFYZAXNBCVDASZQMADJJDXSIZASNAYNINNXYJDXSIZASNAYDVAZXCSZQOXJSZXANNJSBQNNIZINNENJIYBJMAXYYDQSJNCIYZXSJNSSDKDYNBAENWZXSANHINNIAZSNFNADQZJWZLNAJNSQZJEAZXSJ\n",
      "\n",
      "Probando clave x=5, y=16\n",
      "EAIVIJIXSFFSJSVEOICSGHXEVBFEVXSOXASCVXJSBDSGFEVOKDEFCSGHAIFXEVRFIOOICXNEFXSFDSNSSCDOICXNEFXSFDIAFECHXEVTCOXECFSSOXGVSSNENSSJSONDGORFCDDIVXOSHNDECXOSXXIPIDSGFJSBECXFSMNSSNFEXSKSFIVEOBEQSFOSXVEOJFECXO\n",
      "\n",
      "Probando clave x=5, y=17\n",
      "JFNANONCXKKXOXAJTNHXLMCJAGKJACXTCFXHACOXGIXLKJATPIJKHXLMFNKCJAWKNTTNHCSJKCXKIXSXXHITNHCSJKCXKINFKJHMCJAYHTCJHKXXTCLAXXSJSXXOXTSILTWKHIINACTXMSIJHCTXCCNUNIXLKOXGJHCKXRSXXSKJCXPXKNAJTGJVXKTXCAJTOKJHCT\n",
      "\n",
      "Probando clave x=5, y=18\n",
      "OKSFSTSHCPPCTCFOYSMCQRHOFLPOFHCYHKCMFHTCLNCQPOFYUNOPMCQRKSPHOFBPSYYSMHXOPHCPNCXCCMNYSMHXOPHCPNSKPOMRHOFDMYHOMPCCYHQFCCXOXCCTCYXNQYBPMNNSFHYCRXNOMHYCHHSZSNCQPTCLOMHPCWXCCXPOHCUCPSFOYLOACPYCHFOYTPOMHY\n",
      "\n",
      "Probando clave x=5, y=19\n",
      "TPXKXYXMHUUHYHKTDXRHVWMTKQUTKMHDMPHRKMYHQSHVUTKDZSTURHVWPXUMTKGUXDDXRMCTUMHUSHCHHRSDXRMCTUMHUSXPUTRWMTKIRDMTRUHHDMVKHHCTCHHYHDCSVDGURSSXKMDHWCSTRMDHMMXEXSHVUYHQTRMUHBCHHCUTMHZHUXKTDQTFHUDHMKTDYUTRMD\n",
      "\n",
      "Probando clave x=6, y=1\n",
      "Invalid key: modular inverse does not exist\n",
      "\n",
      "Probando clave x=6, y=2\n",
      "Invalid key: modular inverse does not exist\n",
      "\n",
      "Probando clave x=6, y=3\n",
      "Invalid key: modular inverse does not exist\n",
      "\n",
      "Probando clave x=6, y=4\n",
      "Invalid key: modular inverse does not exist\n",
      "\n",
      "Probando clave x=6, y=5\n",
      "Invalid key: modular inverse does not exist\n",
      "\n",
      "Probando clave x=6, y=6\n",
      "Invalid key: modular inverse does not exist\n",
      "\n",
      "Probando clave x=6, y=7\n",
      "Invalid key: modular inverse does not exist\n",
      "\n",
      "Probando clave x=6, y=8\n",
      "Invalid key: modular inverse does not exist\n",
      "\n",
      "Probando clave x=6, y=9\n",
      "Invalid key: modular inverse does not exist\n",
      "\n",
      "Probando clave x=6, y=10\n",
      "Invalid key: modular inverse does not exist\n",
      "\n",
      "Probando clave x=6, y=11\n",
      "Invalid key: modular inverse does not exist\n",
      "\n",
      "Probando clave x=6, y=12\n",
      "Invalid key: modular inverse does not exist\n",
      "\n",
      "Probando clave x=6, y=13\n",
      "Invalid key: modular inverse does not exist\n",
      "\n",
      "Probando clave x=6, y=14\n",
      "Invalid key: modular inverse does not exist\n",
      "\n",
      "Probando clave x=6, y=15\n",
      "Invalid key: modular inverse does not exist\n",
      "\n",
      "Probando clave x=6, y=16\n",
      "Invalid key: modular inverse does not exist\n",
      "\n",
      "Probando clave x=6, y=17\n",
      "Invalid key: modular inverse does not exist\n",
      "\n",
      "Probando clave x=6, y=18\n",
      "Invalid key: modular inverse does not exist\n",
      "\n",
      "Probando clave x=6, y=19\n",
      "Invalid key: modular inverse does not exist\n",
      "\n",
      "Probando clave x=7, y=1\n",
      "FRTGTQTAPCCPQPGFBTLPZWAFGOCFGAPBARPLGAQPOIPZCFGBNIFCLPZWRTCAFGSCTBBTLAEFCAPCIPEPPLIBTLAEFCAPCITRCFLWAFGMLBAFLCPPBAZGPPEFEPPQPBEIZBSCLIITGABPWEIFLABPAATYTIPZCQPOFLACPHEPPECFAPNPCTGFBOFVPCBPAGFBQCFLAB\n",
      "\n",
      "Probando clave x=7, y=2\n",
      "QCEREBELANNABARQMEWAKHLQRZNQRLAMLCAWRLBAZTAKNQRMYTQNWAKHCENLQRDNEMMEWLPQNLANTAPAAWTMEWLPQNLANTECNQWHLQRXWMLQWNAAMLKRAAPQPAABAMPTKMDNWTTERLMAHPTQWLMALLEJETAKNBAZQWLNASPAAPNQLAYANERQMZQGANMALRQMBNQWLM\n",
      "\n",
      "Probando clave x=7, y=3\n",
      "BNPCPMPWLYYLMLCBXPHLVSWBCKYBCWLXWNLHCWMLKELVYBCXJEBYHLVSNPYWBCOYPXXPHWABYWLYELALLHEXPHWABYWLYEPNYBHSWBCIHXWBHYLLXWVCLLABALLMLXAEVXOYHEEPCWXLSAEBHWXLWWPUPELVYMLKBHWYLDALLAYBWLJLYPCBXKBRLYXLWCBXMYBHWX\n",
      "\n",
      "Probando clave x=7, y=4\n",
      "MYANAXAHWJJWXWNMIASWGDHMNVJMNHWIHYWSNHXWVPWGJMNIUPMJSWGDYAJHMNZJAIIASHLMJHWJPWLWWSPIASHLMJHWJPAYJMSDHMNTSIHMSJWWIHGNWWLMLWWXWILPGIZJSPPANHIWDLPMSHIWHHAFAPWGJXWVMSHJWOLWWLJMHWUWJANMIVMCWJIWHNMIXJMSHI\n",
      "\n",
      "Probando clave x=7, y=5\n",
      "XJLYLILSHUUHIHYXTLDHROSXYGUXYSHTSJHDYSIHGAHRUXYTFAXUDHROJLUSXYKULTTLDSWXUSHUAHWHHDATLDSWXUSHUALJUXDOSXYEDTSXDUHHTSRYHHWXWHHIHTWARTKUDAALYSTHOWAXDSTHSSLQLAHRUIHGXDSUHZWHHWUXSHFHULYXTGXNHUTHSYXTIUXDST\n",
      "\n",
      "Probando clave x=7, y=6\n",
      "IUWJWTWDSFFSTSJIEWOSCZDIJRFIJDSEDUSOJDTSRLSCFIJEQLIFOSCZUWFDIJVFWEEWODHIFDSFLSHSSOLEWODHIFDSFLWUFIOZDIJPOEDIOFSSEDCJSSHIHSSTSEHLCEVFOLLWJDESZHLIODESDDWBWLSCFTSRIODFSKHSSHFIDSQSFWJIERIYSFESDJIETFIODE\n",
      "\n",
      "Probando clave x=7, y=7\n",
      "TFHUHEHODQQDEDUTPHZDNKOTUCQTUODPOFDZUOEDCWDNQTUPBWTQZDNKFHQOTUGQHPPHZOSTQODQWDSDDZWPHZOSTQODQWHFQTZKOTUAZPOTZQDDPONUDDSTSDDEDPSWNPGQZWWHUOPDKSWTZOPDOOHMHWDNQEDCTZOQDVSDDSQTODBDQHUTPCTJDQPDOUTPEQTZOP\n",
      "\n",
      "Probando clave x=7, y=8\n",
      "EQSFSPSZOBBOPOFEASKOYVZEFNBEFZOAZQOKFZPONHOYBEFAMHEBKOYVQSBZEFRBSAASKZDEBZOBHODOOKHASKZDEBZOBHSQBEKVZEFLKAZEKBOOAZYFOODEDOOPOADHYARBKHHSFZAOVDHEKZAOZZSXSHOYBPONEKZBOGDOODBEZOMOBSFEANEUOBAOZFEAPBEKZA\n",
      "\n",
      "Probando clave x=7, y=9\n",
      "PBDQDADKZMMZAZQPLDVZJGKPQYMPQKZLKBZVQKAZYSZJMPQLXSPMVZJGBDMKPQCMDLLDVKOPMKZMSZOZZVSLDVKOPMKZMSDBMPVGKPQWVLKPVMZZLKJQZZOPOZZAZLOSJLCMVSSDQKLZGOSPVKLZKKDIDSZJMAZYPVKMZROZZOMPKZXZMDQPLYPFZMLZKQPLAMPVKL\n",
      "\n",
      "Probando clave x=7, y=10\n",
      "AMOBOLOVKXXKLKBAWOGKURVABJXABVKWVMKGBVLKJDKUXABWIDAXGKURMOXVABNXOWWOGVZAXVKXDKZKKGDWOGVZAXVKXDOMXAGRVABHGWVAGXKKWVUBKKZAZKKLKWZDUWNXGDDOBVWKRZDAGVWKVVOTODKUXLKJAGVXKCZKKZXAVKIKXOBAWJAQKXWKVBAWLXAGVW\n",
      "\n",
      "Probando clave x=7, y=11\n",
      "LXZMZWZGVIIVWVMLHZRVFCGLMUILMGVHGXVRMGWVUOVFILMHTOLIRVFCXZIGLMYIZHHZRGKLIGVIOVKVVROHZRGKLIGVIOZXILRCGLMSRHGLRIVVHGFMVVKLKVVWVHKOFHYIROOZMGHVCKOLRGHVGGZEZOVFIWVULRGIVNKVVKILGVTVIZMLHULBVIHVGMLHWILRGH\n",
      "\n",
      "Probando clave x=7, y=12\n",
      "WIKXKHKRGTTGHGXWSKCGQNRWXFTWXRGSRIGCXRHGFZGQTWXSEZWTCGQNIKTRWXJTKSSKCRVWTRGTZGVGGCZSKCRVWTRGTZKITWCNRWXDCSRWCTGGSRQXGGVWVGGHGSVZQSJTCZZKXRSGNVZWCRSGRRKPKZGQTHGFWCRTGYVGGVTWRGEGTKXWSFWMGTSGRXWSHTWCRS\n",
      "\n",
      "Probando clave x=7, y=13\n",
      "HTVIVSVCREERSRIHDVNRBYCHIQEHICRDCTRNICSRQKRBEHIDPKHENRBYTVECHIUEVDDVNCGHECREKRGRRNKDVNCGHECREKVTEHNYCHIONDCHNERRDCBIRRGHGRRSRDGKBDUENKKVICDRYGKHNCDRCCVAVKRBESRQHNCERJGRRGEHCRPREVIHDQHXREDRCIHDSEHNCD\n",
      "\n",
      "Probando clave x=7, y=14\n",
      "SEGTGDGNCPPCDCTSOGYCMJNSTBPSTNCONECYTNDCBVCMPSTOAVSPYCMJEGPNSTFPGOOGYNRSPNCPVCRCCYVOGYNRSPNCPVGEPSYJNSTZYONSYPCCONMTCCRSRCCDCORVMOFPYVVGTNOCJRVSYNOCNNGLGVCMPDCBSYNPCURCCRPSNCACPGTSOBSICPOCNTSODPSYNO\n",
      "\n",
      "Probando clave x=7, y=15\n",
      "DPRERORYNAANONEDZRJNXUYDEMADEYNZYPNJEYONMGNXADEZLGDAJNXUPRAYDEQARZZRJYCDAYNAGNCNNJGZRJYCDAYNAGRPADJUYDEKJZYDJANNZYXENNCDCNNONZCGXZQAJGGREYZNUCGDJYZNYYRWRGNXAONMDJYANFCNNCADYNLNAREDZMDTNAZNYEDZOADJYZ\n",
      "\n",
      "Probando clave x=7, y=16\n",
      "OACPCZCJYLLYZYPOKCUYIFJOPXLOPJYKJAYUPJZYXRYILOPKWROLUYIFACLJOPBLCKKCUJNOLJYLRYNYYURKCUJNOLJYLRCALOUFJOPVUKJOULYYKJIPYYNONYYZYKNRIKBLURRCPJKYFNROUJKYJJCHCRYILZYXOUJLYQNYYNLOJYWYLCPOKXOEYLKYJPOKZLOUJK\n",
      "\n",
      "Probando clave x=7, y=17\n",
      "ZLNANKNUJWWJKJAZVNFJTQUZAIWZAUJVULJFAUKJICJTWZAVHCZWFJTQLNWUZAMWNVVNFUYZWUJWCJYJJFCVNFUYZWUJWCNLWZFQUZAGFVUZFWJJVUTAJJYZYJJKJVYCTVMWFCCNAUVJQYCZFUVJUUNSNCJTWKJIZFUWJBYJJYWZUJHJWNAZVIZPJWVJUAZVKWZFUV\n",
      "\n",
      "Probando clave x=7, y=18\n",
      "KWYLYVYFUHHUVULKGYQUEBFKLTHKLFUGFWUQLFVUTNUEHKLGSNKHQUEBWYHFKLXHYGGYQFJKHFUHNUJUUQNGYQFJKHFUHNYWHKQBFKLRQGFKQHUUGFELUUJKJUUVUGJNEGXHQNNYLFGUBJNKQFGUFFYDYNUEHVUTKQFHUMJUUJHKFUSUHYLKGTKAUHGUFLKGVHKQFG\n",
      "\n",
      "Probando clave x=7, y=19\n",
      "VHJWJGJQFSSFGFWVRJBFPMQVWESVWQFRQHFBWQGFEYFPSVWRDYVSBFPMHJSQVWISJRRJBQUVSQFSYFUFFBYRJBQUVSQFSYJHSVBMQVWCBRQVBSFFRQPWFFUVUFFGFRUYPRISBYYJWQRFMUYVBQRFQQJOJYFPSGFEVBQSFXUFFUSVQFDFSJWVREVLFSRFQWVRGSVBQR\n",
      "\n",
      "Probando clave x=8, y=1\n",
      "Invalid key: modular inverse does not exist\n",
      "\n",
      "Probando clave x=8, y=2\n",
      "Invalid key: modular inverse does not exist\n",
      "\n",
      "Probando clave x=8, y=3\n",
      "Invalid key: modular inverse does not exist\n",
      "\n",
      "Probando clave x=8, y=4\n",
      "Invalid key: modular inverse does not exist\n",
      "\n",
      "Probando clave x=8, y=5\n",
      "Invalid key: modular inverse does not exist\n",
      "\n",
      "Probando clave x=8, y=6\n",
      "Invalid key: modular inverse does not exist\n",
      "\n",
      "Probando clave x=8, y=7\n",
      "Invalid key: modular inverse does not exist\n",
      "\n",
      "Probando clave x=8, y=8\n",
      "Invalid key: modular inverse does not exist\n",
      "\n",
      "Probando clave x=8, y=9\n",
      "Invalid key: modular inverse does not exist\n",
      "\n",
      "Probando clave x=8, y=10\n",
      "Invalid key: modular inverse does not exist\n",
      "\n",
      "Probando clave x=8, y=11\n",
      "Invalid key: modular inverse does not exist\n",
      "\n",
      "Probando clave x=8, y=12\n",
      "Invalid key: modular inverse does not exist\n",
      "\n",
      "Probando clave x=8, y=13\n",
      "Invalid key: modular inverse does not exist\n",
      "\n",
      "Probando clave x=8, y=14\n",
      "Invalid key: modular inverse does not exist\n",
      "\n",
      "Probando clave x=8, y=15\n",
      "Invalid key: modular inverse does not exist\n",
      "\n",
      "Probando clave x=8, y=16\n",
      "Invalid key: modular inverse does not exist\n",
      "\n",
      "Probando clave x=8, y=17\n",
      "Invalid key: modular inverse does not exist\n",
      "\n",
      "Probando clave x=8, y=18\n",
      "Invalid key: modular inverse does not exist\n",
      "\n",
      "Probando clave x=8, y=19\n",
      "Invalid key: modular inverse does not exist\n",
      "\n",
      "Probando clave x=9, y=1\n",
      "BTJWJYJADQQDYDWBVJXDFUABWIQBWADVATDXWAYDIMDFQBWVNMBQXDFUTJQABWOQJVVJXAGBQADQMDGDDXMVJXAGBQADQMJTQBXUABWSXVABXQDDVAFWDDGBGDDYDVGMFVOQXMMJWAVDUGMBXAVDAAJKJMDFQYDIBXAQDRGDDGQBADNDQJWBVIBZDQVDAWBVYQBXAV\n",
      "\n",
      "Probando clave x=9, y=2\n",
      "YQGTGVGXANNAVATYSGUACRXYTFNYTXASXQAUTXVAFJACNYTSKJYNUACRQGNXYTLNGSSGUXDYNXANJADAAUJSGUXDYNXANJGQNYURXYTPUSXYUNAASXCTAADYDAAVASDJCSLNUJJGTXSARDJYUXSAXXGHGJACNVAFYUXNAODAADNYXAKANGTYSFYWANSAXTYSVNYUXS\n",
      "\n",
      "Probando clave x=9, y=3\n",
      "VNDQDSDUXKKXSXQVPDRXZOUVQCKVQUXPUNXRQUSXCGXZKVQPHGVKRXZONDKUVQIKDPPDRUAVKUXKGXAXXRGPDRUAVKUXKGDNKVROUVQMRPUVRKXXPUZQXXAVAXXSXPAGZPIKRGGDQUPXOAGVRUPXUUDEDGXZKSXCVRUKXLAXXAKVUXHXKDQVPCVTXKPXUQVPSKVRUP\n",
      "\n",
      "Probando clave x=9, y=4\n",
      "SKANAPARUHHUPUNSMAOUWLRSNZHSNRUMRKUONRPUZDUWHSNMEDSHOUWLKAHRSNFHAMMAORXSHRUHDUXUUODMAORXSHRUHDAKHSOLRSNJOMRSOHUUMRWNUUXSXUUPUMXDWMFHODDANRMULXDSORMURRABADUWHPUZSORHUIXUUXHSRUEUHANSMZSQUHMURNSMPHSORM\n",
      "\n",
      "Probando clave x=9, y=5\n",
      "PHXKXMXOREERMRKPJXLRTIOPKWEPKORJOHRLKOMRWARTEPKJBAPELRTIHXEOPKCEXJJXLOUPEOREARURRLAJXLOUPEOREAXHEPLIOPKGLJOPLERRJOTKRRUPURRMRJUATJCELAAXKOJRIUAPLOJROOXYXARTEMRWPLOERFURRUEPORBREXKPJWPNREJROKPJMEPLOJ\n",
      "\n",
      "Probando clave x=9, y=6\n",
      "MEUHUJULOBBOJOHMGUIOQFLMHTBMHLOGLEOIHLJOTXOQBMHGYXMBIOQFEUBLMHZBUGGUILRMBLOBXOROOIXGUILRMBLOBXUEBMIFLMHDIGLMIBOOGLQHOORMROOJOGRXQGZBIXXUHLGOFRXMILGOLLUVUXOQBJOTMILBOCROORBMLOYOBUHMGTMKOBGOLHMGJBMILG\n",
      "\n",
      "Probando clave x=9, y=7\n",
      "JBRERGRILYYLGLEJDRFLNCIJEQYJEILDIBLFEIGLQULNYJEDVUJYFLNCBRYIJEWYRDDRFIOJYILYULOLLFUDRFIOJYILYURBYJFCIJEAFDIJFYLLDINELLOJOLLGLDOUNDWYFUUREIDLCOUJFIDLIIRSRULNYGLQJFIYLZOLLOYJILVLYREJDQJHLYDLIEJDGYJFID\n",
      "\n",
      "Probando clave x=9, y=8\n",
      "GYOBODOFIVVIDIBGAOCIKZFGBNVGBFIAFYICBFDINRIKVGBASRGVCIKZYOVFGBTVOAAOCFLGVFIVRILIICRAOCFLGVFIVROYVGCZFGBXCAFGCVIIAFKBIILGLIIDIALRKATVCRROBFAIZLRGCFAIFFOPORIKVDINGCFVIWLIILVGFISIVOBGANGEIVAIFBGADVGCFA\n",
      "\n",
      "Probando clave x=9, y=9\n",
      "DVLYLALCFSSFAFYDXLZFHWCDYKSDYCFXCVFZYCAFKOFHSDYXPODSZFHWVLSCDYQSLXXLZCIDSCFSOFIFFZOXLZCIDSCFSOLVSDZWCDYUZXCDZSFFXCHYFFIDIFFAFXIOHXQSZOOLYCXFWIODZCXFCCLMLOFHSAFKDZCSFTIFFISDCFPFSLYDXKDBFSXFCYDXASDZCX\n",
      "\n",
      "Probando clave x=9, y=10\n",
      "ASIVIXIZCPPCXCVAUIWCETZAVHPAVZCUZSCWVZXCHLCEPAVUMLAPWCETSIPZAVNPIUUIWZFAPZCPLCFCCWLUIWZFAPZCPLISPAWTZAVRWUZAWPCCUZEVCCFAFCCXCUFLEUNPWLLIVZUCTFLAWZUCZZIJILCEPXCHAWZPCQFCCFPAZCMCPIVAUHAYCPUCZVAUXPAWZU\n",
      "\n",
      "Probando clave x=9, y=11\n",
      "XPFSFUFWZMMZUZSXRFTZBQWXSEMXSWZRWPZTSWUZEIZBMXSRJIXMTZBQPFMWXSKMFRRFTWCXMWZMIZCZZTIRFTWCXMWZMIFPMXTQWXSOTRWXTMZZRWBSZZCXCZZUZRCIBRKMTIIFSWRZQCIXTWRZWWFGFIZBMUZEXTWMZNCZZCMXWZJZMFSXREXVZMRZWSXRUMXTWR\n",
      "\n",
      "Probando clave x=9, y=12\n",
      "UMCPCRCTWJJWRWPUOCQWYNTUPBJUPTWOTMWQPTRWBFWYJUPOGFUJQWYNMCJTUPHJCOOCQTZUJTWJFWZWWQFOCQTZUJTWJFCMJUQNTUPLQOTUQJWWOTYPWWZUZWWRWOZFYOHJQFFCPTOWNZFUQTOWTTCDCFWYJRWBUQTJWKZWWZJUTWGWJCPUOBUSWJOWTPUORJUQTO\n",
      "\n",
      "Probando clave x=9, y=13\n",
      "RJZMZOZQTGGTOTMRLZNTVKQRMYGRMQTLQJTNMQOTYCTVGRMLDCRGNTVKJZGQRMEGZLLZNQWRGQTGCTWTTNCLZNQWRGQTGCZJGRNKQRMINLQRNGTTLQVMTTWRWTTOTLWCVLEGNCCZMQLTKWCRNQLTQQZAZCTVGOTYRNQGTHWTTWGRQTDTGZMRLYRPTGLTQMRLOGRNQL\n",
      "\n",
      "Probando clave x=9, y=14\n",
      "OGWJWLWNQDDQLQJOIWKQSHNOJVDOJNQINGQKJNLQVZQSDOJIAZODKQSHGWDNOJBDWIIWKNTODNQDZQTQQKZIWKNTODNQDZWGDOKHNOJFKINOKDQQINSJQQTOTQQLQITZSIBDKZZWJNIQHTZOKNIQNNWXWZQSDLQVOKNDQETQQTDONQAQDWJOIVOMQDIQNJOILDOKNI\n",
      "\n",
      "Probando clave x=9, y=15\n",
      "LDTGTITKNAANINGLFTHNPEKLGSALGKNFKDNHGKINSWNPALGFXWLAHNPEDTAKLGYATFFTHKQLAKNAWNQNNHWFTHKQLAKNAWTDALHEKLGCHFKLHANNFKPGNNQLQNNINFQWPFYAHWWTGKFNEQWLHKFNKKTUTWNPAINSLHKANBQNNQALKNXNATGLFSLJNAFNKGLFIALHKF\n",
      "\n",
      "Probando clave x=9, y=16\n",
      "IAQDQFQHKXXKFKDICQEKMBHIDPXIDHKCHAKEDHFKPTKMXIDCUTIXEKMBAQXHIDVXQCCQEHNIXHKXTKNKKETCQEHNIXHKXTQAXIEBHIDZECHIEXKKCHMDKKNINKKFKCNTMCVXETTQDHCKBNTIEHCKHHQRQTKMXFKPIEHXKYNKKNXIHKUKXQDICPIGKXCKHDICFXIEHC\n",
      "\n",
      "Probando clave x=9, y=17\n",
      "FXNANCNEHUUHCHAFZNBHJYEFAMUFAEHZEXHBAECHMQHJUFAZRQFUBHJYXNUEFASUNZZNBEKFUEHUQHKHHBQZNBEKFUEHUQNXUFBYEFAWBZEFBUHHZEJAHHKFKHHCHZKQJZSUBQQNAEZHYKQFBEZHEENONQHJUCHMFBEUHVKHHKUFEHRHUNAFZMFDHUZHEAFZCUFBEZ\n",
      "\n",
      "Probando clave x=9, y=18\n",
      "CUKXKZKBERREZEXCWKYEGVBCXJRCXBEWBUEYXBZEJNEGRCXWONCRYEGVUKRBCXPRKWWKYBHCRBERNEHEEYNWKYBHCRBERNKURCYVBCXTYWBCYREEWBGXEEHCHEEZEWHNGWPRYNNKXBWEVHNCYBWEBBKLKNEGRZEJCYBRESHEEHRCBEOERKXCWJCAERWEBXCWZRCYBW\n",
      "\n",
      "Probando clave x=9, y=19\n",
      "ZRHUHWHYBOOBWBUZTHVBDSYZUGOZUYBTYRBVUYWBGKBDOZUTLKZOVBDSRHOYZUMOHTTHVYEZOYBOKBEBBVKTHVYEZOYBOKHROZVSYZUQVTYZVOBBTYDUBBEZEBBWBTEKDTMOVKKHUYTBSEKZVYTBYYHIHKBDOWBGZVYOBPEBBEOZYBLBOHUZTGZXBOTBYUZTWOZVYT\n",
      "\n",
      "Probando clave x=10, y=1\n",
      "Invalid key: modular inverse does not exist\n",
      "\n",
      "Probando clave x=10, y=2\n",
      "Invalid key: modular inverse does not exist\n",
      "\n",
      "Probando clave x=10, y=3\n",
      "Invalid key: modular inverse does not exist\n",
      "\n",
      "Probando clave x=10, y=4\n",
      "Invalid key: modular inverse does not exist\n",
      "\n",
      "Probando clave x=10, y=5\n",
      "Invalid key: modular inverse does not exist\n",
      "\n",
      "Probando clave x=10, y=6\n",
      "Invalid key: modular inverse does not exist\n",
      "\n",
      "Probando clave x=10, y=7\n",
      "Invalid key: modular inverse does not exist\n",
      "\n",
      "Probando clave x=10, y=8\n",
      "Invalid key: modular inverse does not exist\n",
      "\n",
      "Probando clave x=10, y=9\n",
      "Invalid key: modular inverse does not exist\n",
      "\n",
      "Probando clave x=10, y=10\n",
      "Invalid key: modular inverse does not exist\n",
      "\n",
      "Probando clave x=10, y=11\n",
      "Invalid key: modular inverse does not exist\n",
      "\n",
      "Probando clave x=10, y=12\n",
      "Invalid key: modular inverse does not exist\n",
      "\n",
      "Probando clave x=10, y=13\n",
      "Invalid key: modular inverse does not exist\n",
      "\n",
      "Probando clave x=10, y=14\n",
      "Invalid key: modular inverse does not exist\n",
      "\n",
      "Probando clave x=10, y=15\n",
      "Invalid key: modular inverse does not exist\n",
      "\n",
      "Probando clave x=10, y=16\n",
      "Invalid key: modular inverse does not exist\n",
      "\n",
      "Probando clave x=10, y=17\n",
      "Invalid key: modular inverse does not exist\n",
      "\n",
      "Probando clave x=10, y=18\n",
      "Invalid key: modular inverse does not exist\n",
      "\n",
      "Probando clave x=10, y=19\n",
      "Invalid key: modular inverse does not exist\n",
      "\n",
      "Probando clave x=11, y=1\n",
      "PZFSFWFATGGTWTSPDFHTXOAPSQGPSATDAZTHSAWTQYTXGPSDNYPGHTXOZFGAPSCGFDDFHAMPGATGYTMTTHYDFHAMPGATGYFZGPHOAPSKHDAPHGTTDAXSTTMPMTTWTDMYXDCGHYYFSADTOMYPHADTAAFUFYTXGWTQPHAGTVMTTMGPATNTGFSPDQPLTGDTASPDWGPHAD\n",
      "\n",
      "Probando clave x=11, y=2\n",
      "WGMZMDMHANNADAZWKMOAEVHWZXNWZHAKHGAOZHDAXFAENWZKUFWNOAEVGMNHWZJNMKKMOHTWNHANFATAAOFKMOHTWNHANFMGNWOVHWZROKHWONAAKHEZAATWTAADAKTFEKJNOFFMZHKAVTFWOHKAHHMBMFAENDAXWOHNACTAATNWHAUANMZWKXWSANKAHZWKDNWOHK\n",
      "\n",
      "Probando clave x=11, y=3\n",
      "DNTGTKTOHUUHKHGDRTVHLCODGEUDGOHRONHVGOKHEMHLUDGRBMDUVHLCNTUODGQUTRRTVOADUOHUMHAHHVMRTVOADUOHUMTNUDVCODGYVRODVUHHROLGHHADAHHKHRAMLRQUVMMTGORHCAMDVORHOOTITMHLUKHEDVOUHJAHHAUDOHBHUTGDREDZHURHOGDRKUDVOR\n",
      "\n",
      "Probando clave x=11, y=4\n",
      "KUANARAVOBBORONKYACOSJVKNLBKNVOYVUOCNVROLTOSBKNYITKBCOSJUABVKNXBAYYACVHKBVOBTOHOOCTYACVHKBVOBTAUBKCJVKNFCYVKCBOOYVSNOOHKHOOROYHTSYXBCTTANVYOJHTKCVYOVVAPATOSBROLKCVBOQHOOHBKVOIOBANKYLKGOBYOVNKYRBKCVY\n",
      "\n",
      "Probando clave x=11, y=5\n",
      "RBHUHYHCVIIVYVURFHJVZQCRUSIRUCVFCBVJUCYVSAVZIRUFPARIJVZQBHICRUEIHFFHJCORICVIAVOVVJAFHJCORICVIAHBIRJQCRUMJFCRJIVVFCZUVVOROVVYVFOAZFEIJAAHUCFVQOARJCFVCCHWHAVZIYVSRJCIVXOVVOIRCVPVIHURFSRNVIFVCURFYIRJCF\n",
      "\n",
      "Probando clave x=11, y=6\n",
      "YIOBOFOJCPPCFCBYMOQCGXJYBZPYBJCMJICQBJFCZHCGPYBMWHYPQCGXIOPJYBLPOMMOQJVYPJCPHCVCCQHMOQJVYPJCPHOIPYQXJYBTQMJYQPCCMJGBCCVYVCCFCMVHGMLPQHHOBJMCXVHYQJMCJJODOHCGPFCZYQJPCEVCCVPYJCWCPOBYMZYUCPMCJBYMFPYQJM\n",
      "\n",
      "Probando clave x=11, y=7\n",
      "FPVIVMVQJWWJMJIFTVXJNEQFIGWFIQJTQPJXIQMJGOJNWFITDOFWXJNEPVWQFISWVTTVXQCFWQJWOJCJJXOTVXQCFWQJWOVPWFXEQFIAXTQFXWJJTQNIJJCFCJJMJTCONTSWXOOVIQTJECOFXQTJQQVKVOJNWMJGFXQWJLCJJCWFQJDJWVIFTGFBJWTJQIFTMWFXQT\n",
      "\n",
      "Probando clave x=11, y=8\n",
      "MWCPCTCXQDDQTQPMACEQULXMPNDMPXQAXWQEPXTQNVQUDMPAKVMDEQULWCDXMPZDCAACEXJMDXQDVQJQQEVACEXJMDXQDVCWDMELXMPHEAXMEDQQAXUPQQJMJQQTQAJVUAZDEVVCPXAQLJVMEXAQXXCRCVQUDTQNMEXDQSJQQJDMXQKQDCPMANMIQDAQXPMATDMEXA\n",
      "\n",
      "Probando clave x=11, y=9\n",
      "TDJWJAJEXKKXAXWTHJLXBSETWUKTWEXHEDXLWEAXUCXBKTWHRCTKLXBSDJKETWGKJHHJLEQTKEXKCXQXXLCHJLEQTKEXKCJDKTLSETWOLHETLKXXHEBWXXQTQXXAXHQCBHGKLCCJWEHXSQCTLEHXEEJYJCXBKAXUTLEKXZQXXQKTEXRXKJWTHUTPXKHXEWTHAKTLEH\n",
      "\n",
      "Probando clave x=11, y=10\n",
      "AKQDQHQLERREHEDAOQSEIZLADBRADLEOLKESDLHEBJEIRADOYJARSEIZKQRLADNRQOOQSLXARLERJEXEESJOQSLXARLERJQKRASZLADVSOLASREEOLIDEEXAXEEHEOXJIONRSJJQDLOEZXJASLOELLQFQJEIRHEBASLREGXEEXRALEYERQDAOBAWEROELDAOHRASLO\n",
      "\n",
      "Probando clave x=11, y=11\n",
      "HRXKXOXSLYYLOLKHVXZLPGSHKIYHKSLVSRLZKSOLIQLPYHKVFQHYZLPGRXYSHKUYXVVXZSEHYSLYQLELLZQVXZSEHYSLYQXRYHZGSHKCZVSHZYLLVSPKLLEHELLOLVEQPVUYZQQXKSVLGEQHZSVLSSXMXQLPYOLIHZSYLNELLEYHSLFLYXKHVIHDLYVLSKHVOYHZSV\n",
      "\n",
      "Probando clave x=11, y=12\n",
      "OYEREVEZSFFSVSROCEGSWNZORPFORZSCZYSGRZVSPXSWFORCMXOFGSWNYEFZORBFECCEGZLOFZSFXSLSSGXCEGZLOFZSFXEYFOGNZORJGCZOGFSSCZWRSSLOLSSVSCLXWCBFGXXERZCSNLXOGZCSZZETEXSWFVSPOGZFSULSSLFOZSMSFEROCPOKSFCSZROCVFOGZC\n",
      "\n",
      "Probando clave x=11, y=13\n",
      "VFLYLCLGZMMZCZYVJLNZDUGVYWMVYGZJGFZNYGCZWEZDMVYJTEVMNZDUFLMGVYIMLJJLNGSVMGZMEZSZZNEJLNGSVMGZMELFMVNUGVYQNJGVNMZZJGDYZZSVSZZCZJSEDJIMNEELYGJZUSEVNGJZGGLALEZDMCZWVNGMZBSZZSMVGZTZMLYVJWVRZMJZGYVJCMVNGJ\n",
      "\n",
      "Probando clave x=11, y=14\n",
      "CMSFSJSNGTTGJGFCQSUGKBNCFDTCFNGQNMGUFNJGDLGKTCFQALCTUGKBMSTNCFPTSQQSUNZCTNGTLGZGGULQSUNZCTNGTLSMTCUBNCFXUQNCUTGGQNKFGGZCZGGJGQZLKQPTULLSFNQGBZLCUNQGNNSHSLGKTJGDCUNTGIZGGZTCNGAGTSFCQDCYGTQGNFCQJTCUNQ\n",
      "\n",
      "Probando clave x=11, y=15\n",
      "JTZMZQZUNAANQNMJXZBNRIUJMKAJMUNXUTNBMUQNKSNRAJMXHSJABNRITZAUJMWAZXXZBUGJAUNASNGNNBSXZBUGJAUNASZTAJBIUJMEBXUJBANNXURMNNGJGNNQNXGSRXWABSSZMUXNIGSJBUXNUUZOZSNRAQNKJBUANPGNNGAJUNHNAZMJXKJFNAXNUMJXQAJBUX\n",
      "\n",
      "Probando clave x=11, y=16\n",
      "QAGTGXGBUHHUXUTQEGIUYPBQTRHQTBUEBAUITBXURZUYHQTEOZQHIUYPAGHBQTDHGEEGIBNQHBUHZUNUUIZEGIBNQHBUHZGAHQIPBQTLIEBQIHUUEBYTUUNQNUUXUENZYEDHIZZGTBEUPNZQIBEUBBGVGZUYHXURQIBHUWNUUNHQBUOUHGTQERQMUHEUBTQEXHQIBE\n",
      "\n",
      "Probando clave x=11, y=17\n",
      "XHNANENIBOOBEBAXLNPBFWIXAYOXAIBLIHBPAIEBYGBFOXALVGXOPBFWHNOIXAKONLLNPIUXOIBOGBUBBPGLNPIUXOIBOGNHOXPWIXASPLIXPOBBLIFABBUXUBBEBLUGFLKOPGGNAILBWUGXPILBIINCNGBFOEBYXPIOBDUBBUOXIBVBONAXLYXTBOLBIAXLEOXPIL\n",
      "\n",
      "Probando clave x=11, y=18\n",
      "EOUHULUPIVVILIHESUWIMDPEHFVEHPISPOIWHPLIFNIMVEHSCNEVWIMDOUVPEHRVUSSUWPBEVPIVNIBIIWNSUWPBEVPIVNUOVEWDPEHZWSPEWVIISPMHIIBEBIILISBNMSRVWNNUHPSIDBNEWPSIPPUJUNIMVLIFEWPVIKBIIBVEPICIVUHESFEAIVSIPHESLVEWPS\n",
      "\n",
      "Probando clave x=11, y=19\n",
      "LVBOBSBWPCCPSPOLZBDPTKWLOMCLOWPZWVPDOWSPMUPTCLOZJULCDPTKVBCWLOYCBZZBDWILCWPCUPIPPDUZBDWILCWPCUBVCLDKWLOGDZWLDCPPZWTOPPILIPPSPZIUTZYCDUUBOWZPKIULDWZPWWBQBUPTCSPMLDWCPRIPPICLWPJPCBOLZMLHPCZPWOLZSCLDWZ\n",
      "\n",
      "Probando clave x=12, y=1\n",
      "Invalid key: modular inverse does not exist\n",
      "\n",
      "Probando clave x=12, y=2\n",
      "Invalid key: modular inverse does not exist\n",
      "\n",
      "Probando clave x=12, y=3\n",
      "Invalid key: modular inverse does not exist\n",
      "\n",
      "Probando clave x=12, y=4\n",
      "Invalid key: modular inverse does not exist\n",
      "\n",
      "Probando clave x=12, y=5\n",
      "Invalid key: modular inverse does not exist\n",
      "\n",
      "Probando clave x=12, y=6\n",
      "Invalid key: modular inverse does not exist\n",
      "\n",
      "Probando clave x=12, y=7\n",
      "Invalid key: modular inverse does not exist\n",
      "\n",
      "Probando clave x=12, y=8\n",
      "Invalid key: modular inverse does not exist\n",
      "\n",
      "Probando clave x=12, y=9\n",
      "Invalid key: modular inverse does not exist\n",
      "\n",
      "Probando clave x=12, y=10\n",
      "Invalid key: modular inverse does not exist\n",
      "\n",
      "Probando clave x=12, y=11\n",
      "Invalid key: modular inverse does not exist\n",
      "\n",
      "Probando clave x=12, y=12\n",
      "Invalid key: modular inverse does not exist\n",
      "\n",
      "Probando clave x=12, y=13\n",
      "Invalid key: modular inverse does not exist\n",
      "\n",
      "Probando clave x=12, y=14\n",
      "Invalid key: modular inverse does not exist\n",
      "\n",
      "Probando clave x=12, y=15\n",
      "Invalid key: modular inverse does not exist\n",
      "\n",
      "Probando clave x=12, y=16\n",
      "Invalid key: modular inverse does not exist\n",
      "\n",
      "Probando clave x=12, y=17\n",
      "Invalid key: modular inverse does not exist\n",
      "\n",
      "Probando clave x=12, y=18\n",
      "Invalid key: modular inverse does not exist\n",
      "\n",
      "Probando clave x=12, y=19\n",
      "Invalid key: modular inverse does not exist\n",
      "\n",
      "Probando clave x=13, y=1\n",
      "Invalid key: modular inverse does not exist\n",
      "\n",
      "Probando clave x=13, y=2\n",
      "Invalid key: modular inverse does not exist\n",
      "\n",
      "Probando clave x=13, y=3\n",
      "Invalid key: modular inverse does not exist\n",
      "\n",
      "Probando clave x=13, y=4\n",
      "Invalid key: modular inverse does not exist\n",
      "\n",
      "Probando clave x=13, y=5\n",
      "Invalid key: modular inverse does not exist\n",
      "\n",
      "Probando clave x=13, y=6\n",
      "Invalid key: modular inverse does not exist\n",
      "\n",
      "Probando clave x=13, y=7\n",
      "Invalid key: modular inverse does not exist\n",
      "\n",
      "Probando clave x=13, y=8\n",
      "Invalid key: modular inverse does not exist\n",
      "\n",
      "Probando clave x=13, y=9\n",
      "Invalid key: modular inverse does not exist\n",
      "\n",
      "Probando clave x=13, y=10\n",
      "Invalid key: modular inverse does not exist\n",
      "\n",
      "Probando clave x=13, y=11\n",
      "Invalid key: modular inverse does not exist\n",
      "\n",
      "Probando clave x=13, y=12\n",
      "Invalid key: modular inverse does not exist\n",
      "\n",
      "Probando clave x=13, y=13\n",
      "Invalid key: modular inverse does not exist\n",
      "\n",
      "Probando clave x=13, y=14\n",
      "Invalid key: modular inverse does not exist\n",
      "\n",
      "Probando clave x=13, y=15\n",
      "Invalid key: modular inverse does not exist\n",
      "\n",
      "Probando clave x=13, y=16\n",
      "Invalid key: modular inverse does not exist\n",
      "\n",
      "Probando clave x=13, y=17\n",
      "Invalid key: modular inverse does not exist\n",
      "\n",
      "Probando clave x=13, y=18\n",
      "Invalid key: modular inverse does not exist\n",
      "\n",
      "Probando clave x=13, y=19\n",
      "Invalid key: modular inverse does not exist\n",
      "\n",
      "Probando clave x=14, y=1\n",
      "Invalid key: modular inverse does not exist\n",
      "\n",
      "Probando clave x=14, y=2\n",
      "Invalid key: modular inverse does not exist\n",
      "\n",
      "Probando clave x=14, y=3\n",
      "Invalid key: modular inverse does not exist\n",
      "\n",
      "Probando clave x=14, y=4\n",
      "Invalid key: modular inverse does not exist\n",
      "\n",
      "Probando clave x=14, y=5\n",
      "Invalid key: modular inverse does not exist\n",
      "\n",
      "Probando clave x=14, y=6\n",
      "Invalid key: modular inverse does not exist\n",
      "\n",
      "Probando clave x=14, y=7\n",
      "Invalid key: modular inverse does not exist\n",
      "\n",
      "Probando clave x=14, y=8\n",
      "Invalid key: modular inverse does not exist\n",
      "\n",
      "Probando clave x=14, y=9\n",
      "Invalid key: modular inverse does not exist\n",
      "\n",
      "Probando clave x=14, y=10\n",
      "Invalid key: modular inverse does not exist\n",
      "\n",
      "Probando clave x=14, y=11\n",
      "Invalid key: modular inverse does not exist\n",
      "\n",
      "Probando clave x=14, y=12\n",
      "Invalid key: modular inverse does not exist\n",
      "\n",
      "Probando clave x=14, y=13\n",
      "Invalid key: modular inverse does not exist\n",
      "\n",
      "Probando clave x=14, y=14\n",
      "Invalid key: modular inverse does not exist\n",
      "\n",
      "Probando clave x=14, y=15\n",
      "Invalid key: modular inverse does not exist\n",
      "\n",
      "Probando clave x=14, y=16\n",
      "Invalid key: modular inverse does not exist\n",
      "\n",
      "Probando clave x=14, y=17\n",
      "Invalid key: modular inverse does not exist\n",
      "\n",
      "Probando clave x=14, y=18\n",
      "Invalid key: modular inverse does not exist\n",
      "\n",
      "Probando clave x=14, y=19\n",
      "Invalid key: modular inverse does not exist\n",
      "\n",
      "Probando clave x=15, y=1\n",
      "LBVIVEVAHUUHEHILXVTHDMALIKULIAHXABHTIAEHKCHDULIXNCLUTHDMBVUALIYUVXXVTAOLUAHUCHOHHTCXVTAOLUAHUCVBULTMALIQTXALTUHHXADIHHOLOHHEHXOCDXYUTCCVIAXHMOCLTAXHAAVGVCHDUEHKLTAUHFOHHOULAHNHUVILXKLPHUXHAILXEULTAX\n",
      "\n",
      "Probando clave x=15, y=2\n",
      "EUOBOXOTANNAXABEQOMAWFTEBDNEBTAQTUAMBTXADVAWNEBQGVENMAWFUONTEBRNOQQOMTHENTANVAHAAMVQOMTHENTANVOUNEMFTEBJMQTEMNAAQTWBAAHEHAAXAQHVWQRNMVVOBTQAFHVEMTQATTOZOVAWNXADEMTNAYHAAHNETAGANOBEQDEIANQATBEQXNEMTQ\n",
      "\n",
      "Probando clave x=15, y=3\n",
      "XNHUHQHMTGGTQTUXJHFTPYMXUWGXUMTJMNTFUMQTWOTPGXUJZOXGFTPYNHGMXUKGHJJHFMAXGMTGOTATTFOJHFMAXGMTGOHNGXFYMXUCFJMXFGTTJMPUTTAXATTQTJAOPJKGFOOHUMJTYAOXFMJTMMHSHOTPGQTWXFMGTRATTAGXMTZTGHUXJWXBTGJTMUXJQGXFMJ\n",
      "\n",
      "Probando clave x=15, y=4\n",
      "QGANAJAFMZZMJMNQCAYMIRFQNPZQNFMCFGMYNFJMPHMIZQNCSHQZYMIRGAZFQNDZACCAYFTQZFMZHMTMMYHCAYFTQZFMZHAGZQYRFQNVYCFQYZMMCFINMMTQTMMJMCTHICDZYHHANFCMRTHQYFCMFFALAHMIZJMPQYFZMKTMMTZQFMSMZANQCPQUMZCMFNQCJZQYFC\n",
      "\n",
      "Probando clave x=15, y=5\n",
      "JZTGTCTYFSSFCFGJVTRFBKYJGISJGYFVYZFRGYCFIAFBSJGVLAJSRFBKZTSYJGWSTVVTRYMJSYFSAFMFFRAVTRYMJSYFSATZSJRKYJGORVYJRSFFVYBGFFMJMFFCFVMABVWSRAATGYVFKMAJRYVFYYTETAFBSCFIJRYSFDMFFMSJYFLFSTGJVIJNFSVFYGJVCSJRYV\n",
      "\n",
      "Probando clave x=15, y=6\n",
      "CSMZMVMRYLLYVYZCOMKYUDRCZBLCZRYORSYKZRVYBTYULCZOETCLKYUDSMLRCZPLMOOMKRFCLRYLTYFYYKTOMKRFCLRYLTMSLCKDRCZHKORCKLYYORUZYYFCFYYVYOFTUOPLKTTMZROYDFTCKROYRRMXMTYULVYBCKRLYWFYYFLCRYEYLMZCOBCGYLOYRZCOVLCKRO\n",
      "\n",
      "Probando clave x=15, y=7\n",
      "VLFSFOFKREERORSVHFDRNWKVSUEVSKRHKLRDSKORUMRNEVSHXMVEDRNWLFEKVSIEFHHFDKYVEKREMRYRRDMHFDKYVEKREMFLEVDWKVSADHKVDERRHKNSRRYVYRRORHYMNHIEDMMFSKHRWYMVDKHRKKFQFMRNEORUVDKERPYRRYEVKRXREFSVHUVZREHRKSVHOEVDKH\n",
      "\n",
      "Probando clave x=15, y=8\n",
      "OEYLYHYDKXXKHKLOAYWKGPDOLNXOLDKADEKWLDHKNFKGXOLAQFOXWKGPEYXDOLBXYAAYWDROXDKXFKRKKWFAYWDROXDKXFYEXOWPDOLTWADOWXKKADGLKKRORKKHKARFGABXWFFYLDAKPRFOWDAKDDYJYFKGXHKNOWDXKIRKKRXODKQKXYLOANOSKXAKDLOAHXOWDA\n",
      "\n",
      "Probando clave x=15, y=9\n",
      "HXRERARWDQQDADEHTRPDZIWHEGQHEWDTWXDPEWADGYDZQHETJYHQPDZIXRQWHEUQRTTRPWKHQWDQYDKDDPYTRPWKHQWDQYRXQHPIWHEMPTWHPQDDTWZEDDKHKDDADTKYZTUQPYYREWTDIKYHPWTDWWRCRYDZQADGHPWQDBKDDKQHWDJDQREHTGHLDQTDWEHTAQHPWT\n",
      "\n",
      "Probando clave x=15, y=10\n",
      "AQKXKTKPWJJWTWXAMKIWSBPAXZJAXPWMPQWIXPTWZRWSJAXMCRAJIWSBQKJPAXNJKMMKIPDAJPWJRWDWWIRMKIPDAJPWJRKQJAIBPAXFIMPAIJWWMPSXWWDADWWTWMDRSMNJIRRKXPMWBDRAIPMWPPKVKRWSJTWZAIPJWUDWWDJAPWCWJKXAMZAEWJMWPXAMTJAIPM\n",
      "\n",
      "Probando clave x=15, y=11\n",
      "TJDQDMDIPCCPMPQTFDBPLUITQSCTQIPFIJPBQIMPSKPLCTQFVKTCBPLUJDCITQGCDFFDBIWTCIPCKPWPPBKFDBIWTCIPCKDJCTBUITQYBFITBCPPFILQPPWTWPPMPFWKLFGCBKKDQIFPUWKTBIFPIIDODKPLCMPSTBICPNWPPWCTIPVPCDQTFSTXPCFPIQTFMCTBIF\n",
      "\n",
      "Probando clave x=15, y=12\n",
      "MCWJWFWBIVVIFIJMYWUIENBMJLVMJBIYBCIUJBFILDIEVMJYODMVUIENCWVBMJZVWYYWUBPMVBIVDIPIIUDYWUBPMVBIVDWCVMUNBMJRUYBMUVIIYBEJIIPMPIIFIYPDEYZVUDDWJBYINPDMUBYIBBWHWDIEVFILMUBVIGPIIPVMBIOIVWJMYLMQIVYIBJMYFVMUBY\n",
      "\n",
      "Probando clave x=15, y=13\n",
      "FVPCPYPUBOOBYBCFRPNBXGUFCEOFCUBRUVBNCUYBEWBXOFCRHWFONBXGVPOUFCSOPRRPNUIFOUBOWBIBBNWRPNUIFOUBOWPVOFNGUFCKNRUFNOBBRUXCBBIFIBBYBRIWXRSONWWPCURBGIWFNURBUUPAPWBXOYBEFNUOBZIBBIOFUBHBOPCFREFJBORBUCFRYOFNUR\n",
      "\n",
      "Probando clave x=15, y=14\n",
      "YOIVIRINUHHURUVYKIGUQZNYVXHYVNUKNOUGVNRUXPUQHYVKAPYHGUQZOIHNYVLHIKKIGNBYHNUHPUBUUGPKIGNBYHNUHPIOHYGZNYVDGKNYGHUUKNQVUUBYBUURUKBPQKLHGPPIVNKUZBPYGNKUNNITIPUQHRUXYGNHUSBUUBHYNUAUHIVYKXYCUHKUNVYKRHYGNK\n",
      "\n",
      "Probando clave x=15, y=15\n",
      "RHBOBKBGNAANKNORDBZNJSGROQAROGNDGHNZOGKNQINJARODTIRAZNJSHBAGROEABDDBZGURAGNAINUNNZIDBZGURAGNAIBHARZSGROWZDGRZANNDGJONNURUNNKNDUIJDEAZIIBOGDNSUIRZGDNGGBMBINJAKNQRZGANLUNNUARGNTNABORDQRVNADNGORDKARZGD\n",
      "\n",
      "Probando clave x=15, y=16\n",
      "KAUHUDUZGTTGDGHKWUSGCLZKHJTKHZGWZAGSHZDGJBGCTKHWMBKTSGCLAUTZKHXTUWWUSZNKTZGTBGNGGSBWUSZNKTZGTBUATKSLZKHPSWZKSTGGWZCHGGNKNGGDGWNBCWXTSBBUHZWGLNBKSZWGZZUFUBGCTDGJKSZTGENGGNTKZGMGTUHKWJKOGTWGZHKWDTKSZW\n",
      "\n",
      "Probando clave x=15, y=17\n",
      "DTNANWNSZMMZWZADPNLZVESDACMDASZPSTZLASWZCUZVMDAPFUDMLZVETNMSDAQMNPPNLSGDMSZMUZGZZLUPNLSGDMSZMUNTMDLESDAILPSDLMZZPSVAZZGDGZZWZPGUVPQMLUUNASPZEGUDLSPZSSNYNUZVMWZCDLSMZXGZZGMDSZFZMNADPCDHZMPZSADPWMDLSP\n",
      "\n",
      "Probando clave x=15, y=18\n",
      "WMGTGPGLSFFSPSTWIGESOXLWTVFWTLSILMSETLPSVNSOFWTIYNWFESOXMGFLWTJFGIIGELZWFLSFNSZSSENIGELZWFLSFNGMFWEXLWTBEILWEFSSILOTSSZWZSSPSIZNOIJFENNGTLISXZNWELISLLGRGNSOFPSVWELFSQZSSZFWLSYSFGTWIVWASFISLTWIPFWELI\n",
      "\n",
      "Probando clave x=15, y=19\n",
      "PFZMZIZELYYLILMPBZXLHQEPMOYPMELBEFLXMEILOGLHYPMBRGPYXLHQFZYEPMCYZBBZXESPYELYGLSLLXGBZXESPYELYGZFYPXQEPMUXBEPXYLLBEHMLLSPSLLILBSGHBCYXGGZMEBLQSGPXEBLEEZKZGLHYILOPXEYLJSLLSYPELRLYZMPBOPTLYBLEMPBIYPXEB\n",
      "\n",
      "Probando clave x=16, y=1\n",
      "Invalid key: modular inverse does not exist\n",
      "\n",
      "Probando clave x=16, y=2\n",
      "Invalid key: modular inverse does not exist\n",
      "\n",
      "Probando clave x=16, y=3\n",
      "Invalid key: modular inverse does not exist\n",
      "\n",
      "Probando clave x=16, y=4\n",
      "Invalid key: modular inverse does not exist\n",
      "\n",
      "Probando clave x=16, y=5\n",
      "Invalid key: modular inverse does not exist\n",
      "\n",
      "Probando clave x=16, y=6\n",
      "Invalid key: modular inverse does not exist\n",
      "\n",
      "Probando clave x=16, y=7\n",
      "Invalid key: modular inverse does not exist\n",
      "\n",
      "Probando clave x=16, y=8\n",
      "Invalid key: modular inverse does not exist\n",
      "\n",
      "Probando clave x=16, y=9\n",
      "Invalid key: modular inverse does not exist\n",
      "\n",
      "Probando clave x=16, y=10\n",
      "Invalid key: modular inverse does not exist\n",
      "\n",
      "Probando clave x=16, y=11\n",
      "Invalid key: modular inverse does not exist\n",
      "\n",
      "Probando clave x=16, y=12\n",
      "Invalid key: modular inverse does not exist\n",
      "\n",
      "Probando clave x=16, y=13\n",
      "Invalid key: modular inverse does not exist\n",
      "\n",
      "Probando clave x=16, y=14\n",
      "Invalid key: modular inverse does not exist\n",
      "\n",
      "Probando clave x=16, y=15\n",
      "Invalid key: modular inverse does not exist\n",
      "\n",
      "Probando clave x=16, y=16\n",
      "Invalid key: modular inverse does not exist\n",
      "\n",
      "Probando clave x=16, y=17\n",
      "Invalid key: modular inverse does not exist\n",
      "\n",
      "Probando clave x=16, y=18\n",
      "Invalid key: modular inverse does not exist\n",
      "\n",
      "Probando clave x=16, y=19\n",
      "Invalid key: modular inverse does not exist\n",
      "\n",
      "Probando clave x=17, y=1\n",
      "ZHRERCRAXKKXCXEZFRDXVGAZESKZEAXFAHXDEACXSOXVKZEFNOZKDXVGHRKAZEMKRFFRDAUZKAXKOXUXXDOFRDAUZKAXKORHKZDGAZEIDFAZDKXXFAVEXXUZUXXCXFUOVFMKDOOREAFXGUOZDAFXAARQROXVKCXSZDAKXJUXXUKZAXNXKREZFSZBXKFXAEZFCKZDAF\n",
      "\n",
      "Probando clave x=17, y=2\n",
      "CKUHUFUDANNAFAHCIUGAYJDCHVNCHDAIDKAGHDFAVRAYNCHIQRCNGAYJKUNDCHPNUIIUGDXCNDANRAXAAGRIUGDXCNDANRUKNCGJDCHLGIDCGNAAIDYHAAXCXAAFAIXRYIPNGRRUHDIAJXRCGDIADDUTURAYNFAVCGDNAMXAAXNCDAQANUHCIVCEANIADHCIFNCGDI\n",
      "\n",
      "Probando clave x=17, y=3\n",
      "FNXKXIXGDQQDIDKFLXJDBMGFKYQFKGDLGNDJKGIDYUDBQFKLTUFQJDBMNXQGFKSQXLLXJGAFQGDQUDADDJULXJGAFQGDQUXNQFJMGFKOJLGFJQDDLGBKDDAFADDIDLAUBLSQJUUXKGLDMAUFJGLDGGXWXUDBQIDYFJGQDPADDAQFGDTDQXKFLYFHDQLDGKFLIQFJGL\n",
      "\n",
      "Probando clave x=17, y=4\n",
      "IQANALAJGTTGLGNIOAMGEPJINBTINJGOJQGMNJLGBXGETINOWXITMGEPQATJINVTAOOAMJDITJGTXGDGGMXOAMJDITJGTXAQTIMPJINRMOJIMTGGOJENGGDIDGGLGODXEOVTMXXANJOGPDXIMJOGJJAZAXGETLGBIMJTGSDGGDTIJGWGTANIOBIKGTOGJNIOLTIMJO\n",
      "\n",
      "Probando clave x=17, y=5\n",
      "LTDQDODMJWWJOJQLRDPJHSMLQEWLQMJRMTJPQMOJEAJHWLQRZALWPJHSTDWMLQYWDRRDPMGLWMJWAJGJJPARDPMGLWMJWADTWLPSMLQUPRMLPWJJRMHQJJGLGJJOJRGAHRYWPAADQMRJSGALPMRJMMDCDAJHWOJELPMWJVGJJGWLMJZJWDQLRELNJWRJMQLROWLPMR\n",
      "\n",
      "Probando clave x=17, y=6\n",
      "OWGTGRGPMZZMRMTOUGSMKVPOTHZOTPMUPWMSTPRMHDMKZOTUCDOZSMKVWGZPOTBZGUUGSPJOZPMZDMJMMSDUGSPJOZPMZDGWZOSVPOTXSUPOSZMMUPKTMMJOJMMRMUJDKUBZSDDGTPUMVJDOSPUMPPGFGDMKZRMHOSPZMYJMMJZOPMCMZGTOUHOQMZUMPTOURZOSPU\n",
      "\n",
      "Probando clave x=17, y=7\n",
      "RZJWJUJSPCCPUPWRXJVPNYSRWKCRWSPXSZPVWSUPKGPNCRWXFGRCVPNYZJCSRWECJXXJVSMRCSPCGPMPPVGXJVSMRCSPCGJZCRVYSRWAVXSRVCPPXSNWPPMRMPPUPXMGNXECVGGJWSXPYMGRVSXPSSJIJGPNCUPKRVSCPBMPPMCRSPFPCJWRXKRTPCXPSWRXUCRVSX\n",
      "\n",
      "Probando clave x=17, y=8\n",
      "UCMZMXMVSFFSXSZUAMYSQBVUZNFUZVSAVCSYZVXSNJSQFUZAIJUFYSQBCMFVUZHFMAAMYVPUFVSFJSPSSYJAMYVPUFVSFJMCFUYBVUZDYAVUYFSSAVQZSSPUPSSXSAPJQAHFYJJMZVASBPJUYVASVVMLMJSQFXSNUYVFSEPSSPFUVSISFMZUANUWSFASVZUAXFUYVA\n",
      "\n",
      "Probando clave x=17, y=9\n",
      "XFPCPAPYVIIVAVCXDPBVTEYXCQIXCYVDYFVBCYAVQMVTIXCDLMXIBVTEFPIYXCKIPDDPBYSXIYVIMVSVVBMDPBYSXIYVIMPFIXBEYXCGBDYXBIVVDYTCVVSXSVVAVDSMTDKIBMMPCYDVESMXBYDVYYPOPMVTIAVQXBYIVHSVVSIXYVLVIPCXDQXZVIDVYCXDAIXBYD\n",
      "\n",
      "Probando clave x=17, y=10\n",
      "AISFSDSBYLLYDYFAGSEYWHBAFTLAFBYGBIYEFBDYTPYWLAFGOPALEYWHISLBAFNLSGGSEBVALBYLPYVYYEPGSEBVALBYLPSILAEHBAFJEGBAELYYGBWFYYVAVYYDYGVPWGNLEPPSFBGYHVPAEBGYBBSRSPYWLDYTAEBLYKVYYVLABYOYLSFAGTACYLGYBFAGDLAEBG\n",
      "\n",
      "Probando clave x=17, y=11\n",
      "DLVIVGVEBOOBGBIDJVHBZKEDIWODIEBJELBHIEGBWSBZODIJRSDOHBZKLVOEDIQOVJJVHEYDOEBOSBYBBHSJVHEYDOEBOSVLODHKEDIMHJEDHOBBJEZIBBYDYBBGBJYSZJQOHSSVIEJBKYSDHEJBEEVUVSBZOGBWDHEOBNYBBYODEBRBOVIDJWDFBOJBEIDJGODHEJ\n",
      "\n",
      "Probando clave x=17, y=12\n",
      "GOYLYJYHERREJELGMYKECNHGLZRGLHEMHOEKLHJEZVECRGLMUVGRKECNOYRHGLTRYMMYKHBGRHERVEBEEKVMYKHBGRHERVYORGKNHGLPKMHGKREEMHCLEEBGBEEJEMBVCMTRKVVYLHMENBVGKHMEHHYXYVECRJEZGKHREQBEEBRGHEUERYLGMZGIERMEHLGMJRGKHM\n",
      "\n",
      "Probando clave x=17, y=13\n",
      "JRBOBMBKHUUHMHOJPBNHFQKJOCUJOKHPKRHNOKMHCYHFUJOPXYJUNHFQRBUKJOWUBPPBNKEJUKHUYHEHHNYPBNKEJUKHUYBRUJNQKJOSNPKJNUHHPKFOHHEJEHHMHPEYFPWUNYYBOKPHQEYJNKPHKKBABYHFUMHCJNKUHTEHHEUJKHXHUBOJPCJLHUPHKOJPMUJNKP\n",
      "\n",
      "Probando clave x=17, y=14\n",
      "MUEREPENKXXKPKRMSEQKITNMRFXMRNKSNUKQRNPKFBKIXMRSABMXQKITUEXNMRZXESSEQNHMXNKXBKHKKQBSEQNHMXNKXBEUXMQTNMRVQSNMQXKKSNIRKKHMHKKPKSHBISZXQBBERNSKTHBMQNSKNNEDEBKIXPKFMQNXKWHKKHXMNKAKXERMSFMOKXSKNRMSPXMQNS\n",
      "\n",
      "Probando clave x=17, y=15\n",
      "PXHUHSHQNAANSNUPVHTNLWQPUIAPUQNVQXNTUQSNIENLAPUVDEPATNLWXHAQPUCAHVVHTQKPAQNAENKNNTEVHTQKPAQNAEHXAPTWQPUYTVQPTANNVQLUNNKPKNNSNVKELVCATEEHUQVNWKEPTQVNQQHGHENLASNIPTQANZKNNKAPQNDNAHUPVIPRNAVNQUPVSAPTQV\n",
      "\n",
      "Probando clave x=17, y=16\n",
      "SAKXKVKTQDDQVQXSYKWQOZTSXLDSXTQYTAQWXTVQLHQODSXYGHSDWQOZAKDTSXFDKYYKWTNSDTQDHQNQQWHYKWTNSDTQDHKADSWZTSXBWYTSWDQQYTOXQQNSNQQVQYNHOYFDWHHKXTYQZNHSWTYQTTKJKHQODVQLSWTDQCNQQNDSTQGQDKXSYLSUQDYQTXSYVDSWTY\n",
      "\n",
      "Probando clave x=17, y=17\n",
      "VDNANYNWTGGTYTAVBNZTRCWVAOGVAWTBWDTZAWYTOKTRGVABJKVGZTRCDNGWVAIGNBBNZWQVGWTGKTQTTZKBNZWQVGWTGKNDGVZCWVAEZBWVZGTTBWRATTQVQTTYTBQKRBIGZKKNAWBTCQKVZWBTWWNMNKTRGYTOVZWGTFQTTQGVWTJTGNAVBOVXTGBTWAVBYGVZWB\n",
      "\n",
      "Probando clave x=17, y=18\n",
      "YGQDQBQZWJJWBWDYEQCWUFZYDRJYDZWEZGWCDZBWRNWUJYDEMNYJCWUFGQJZYDLJQEEQCZTYJZWJNWTWWCNEQCZTYJZWJNQGJYCFZYDHCEZYCJWWEZUDWWTYTWWBWETNUELJCNNQDZEWFTNYCZEWZZQPQNWUJBWRYCZJWITWWTJYZWMWJQDYERYAWJEWZDYEBJYCZE\n",
      "\n",
      "Probando clave x=17, y=19\n",
      "BJTGTETCZMMZEZGBHTFZXICBGUMBGCZHCJZFGCEZUQZXMBGHPQBMFZXIJTMCBGOMTHHTFCWBMCZMQZWZZFQHTFCWBMCZMQTJMBFICBGKFHCBFMZZHCXGZZWBWZZEZHWQXHOMFQQTGCHZIWQBFCHZCCTSTQZXMEZUBFCMZLWZZWMBCZPZMTGBHUBDZMHZCGBHEMBFCH\n",
      "\n",
      "Probando clave x=18, y=1\n",
      "Invalid key: modular inverse does not exist\n",
      "\n",
      "Probando clave x=18, y=2\n",
      "Invalid key: modular inverse does not exist\n",
      "\n",
      "Probando clave x=18, y=3\n",
      "Invalid key: modular inverse does not exist\n",
      "\n",
      "Probando clave x=18, y=4\n",
      "Invalid key: modular inverse does not exist\n",
      "\n",
      "Probando clave x=18, y=5\n",
      "Invalid key: modular inverse does not exist\n",
      "\n",
      "Probando clave x=18, y=6\n",
      "Invalid key: modular inverse does not exist\n",
      "\n",
      "Probando clave x=18, y=7\n",
      "Invalid key: modular inverse does not exist\n",
      "\n",
      "Probando clave x=18, y=8\n",
      "Invalid key: modular inverse does not exist\n",
      "\n",
      "Probando clave x=18, y=9\n",
      "Invalid key: modular inverse does not exist\n",
      "\n",
      "Probando clave x=18, y=10\n",
      "Invalid key: modular inverse does not exist\n",
      "\n",
      "Probando clave x=18, y=11\n",
      "Invalid key: modular inverse does not exist\n",
      "\n",
      "Probando clave x=18, y=12\n",
      "Invalid key: modular inverse does not exist\n",
      "\n",
      "Probando clave x=18, y=13\n",
      "Invalid key: modular inverse does not exist\n",
      "\n",
      "Probando clave x=18, y=14\n",
      "Invalid key: modular inverse does not exist\n",
      "\n",
      "Probando clave x=18, y=15\n",
      "Invalid key: modular inverse does not exist\n",
      "\n",
      "Probando clave x=18, y=16\n",
      "Invalid key: modular inverse does not exist\n",
      "\n",
      "Probando clave x=18, y=17\n",
      "Invalid key: modular inverse does not exist\n",
      "\n",
      "Probando clave x=18, y=18\n",
      "Invalid key: modular inverse does not exist\n",
      "\n",
      "Probando clave x=18, y=19\n",
      "Invalid key: modular inverse does not exist\n",
      "\n",
      "Probando clave x=19, y=1\n",
      "VJHUHKHALYYLKLUVZHPLBEAVUMYVUALZAJLPUAKLMSLBYVUZNSVYPLBEJHYAVUIYHZZHPAWVYALYSLWLLPSZHPAWVYALYSHJYVPEAVUOPZAVPYLLZABULLWVWLLKLZWSBZIYPSSHUAZLEWSVPAZLAAHCHSLBYKLMVPAYLTWLLWYVALNLYHUVZMVFLYZLAUVZKYVPAZ\n",
      "\n",
      "Probando clave x=19, y=2\n",
      "KYWJWZWPANNAZAJKOWEAQTPKJBNKJPAOPYAEJPZABHAQNKJOCHKNEAQTYWNPKJXNWOOWEPLKNPANHALAAEHOWEPLKNPANHWYNKETPKJDEOPKENAAOPQJAALKLAAZAOLHQOXNEHHWJPOATLHKEPOAPPWRWHAQNZABKEPNAILAALNKPACANWJKOBKUANOAPJKOZNKEPO\n",
      "\n",
      "Probando clave x=19, y=3\n",
      "ZNLYLOLEPCCPOPYZDLTPFIEZYQCZYEPDENPTYEOPQWPFCZYDRWZCTPFINLCEZYMCLDDLTEAZCEPCWPAPPTWDLTEAZCEPCWLNCZTIEZYSTDEZTCPPDEFYPPAZAPPOPDAWFDMCTWWLYEDPIAWZTEDPEELGLWPFCOPQZTECPXAPPACZEPRPCLYZDQZJPCDPEYZDOCZTED\n",
      "\n",
      "Probando clave x=19, y=4\n",
      "OCANADATERREDENOSAIEUXTONFRONTESTCEINTDEFLEURONSGLORIEUXCARTONBRASSAITPORTERLEPEEILSAITPORTERLACROIXTONHISTOIREESTUNEEPOPEEDESPLUSBRILLANTSEXPLOITSETTAVALEURDEFOITREMPEEPROTEGERANOSFOYERSETNOSDROITS\n",
      "\n",
      "Probando clave x=19, y=5\n",
      "DRPCPSPITGGTSTCDHPXTJMIDCUGDCITHIRTXCISTUATJGDCHVADGXTJMRPGIDCQGPHHPXIEDGITGATETTXAHPXIEDGITGAPRGDXMIDCWXHIDXGTTHIJCTTEDETTSTHEAJHQGXAAPCIHTMEADXIHTIIPKPATJGSTUDXIGTBETTEGDITVTGPCDHUDNTGHTICDHSGDXIH\n",
      "\n",
      "Probando clave x=19, y=6\n",
      "SGEREHEXIVVIHIRSWEMIYBXSRJVSRXIWXGIMRXHIJPIYVSRWKPSVMIYBGEVXSRFVEWWEMXTSVXIVPITIIMPWEMXTSVXIVPEGVSMBXSRLMWXSMVIIWXYRIITSTIIHIWTPYWFVMPPERXWIBTPSMXWIXXEZEPIYVHIJSMXVIQTIITVSXIKIVERSWJSCIVWIXRSWHVSMXW\n",
      "\n",
      "Probando clave x=19, y=7\n",
      "HVTGTWTMXKKXWXGHLTBXNQMHGYKHGMXLMVXBGMWXYEXNKHGLZEHKBXNQVTKMHGUKTLLTBMIHKMXKEXIXXBELTBMIHKMXKETVKHBQMHGABLMHBKXXLMNGXXIHIXXWXLIENLUKBEETGMLXQIEHBMLXMMTOTEXNKWXYHBMKXFIXXIKHMXZXKTGHLYHRXKLXMGHLWKHBML\n",
      "\n",
      "Probando clave x=19, y=8\n",
      "WKIVILIBMZZMLMVWAIQMCFBWVNZWVBMABKMQVBLMNTMCZWVAOTWZQMCFKIZBWVJZIAAIQBXWZBMZTMXMMQTAIQBXWZBMZTIKZWQFBWVPQABWQZMMABCVMMXWXMMLMAXTCAJZQTTIVBAMFXTWQBAMBBIDITMCZLMNWQBZMUXMMXZWBMOMZIVWANWGMZAMBVWALZWQBA\n",
      "\n",
      "Probando clave x=19, y=9\n",
      "LZXKXAXQBOOBABKLPXFBRUQLKCOLKQBPQZBFKQABCIBROLKPDILOFBRUZXOQLKYOXPPXFQMLOQBOIBMBBFIPXFQMLOQBOIXZOLFUQLKEFPQLFOBBPQRKBBMLMBBABPMIRPYOFIIXKQPBUMILFQPBQQXSXIBROABCLFQOBJMBBMOLQBDBOXKLPCLVBOPBQKLPAOLFQP\n",
      "\n",
      "Probando clave x=19, y=10\n",
      "AOMZMPMFQDDQPQZAEMUQGJFAZRDAZFQEFOQUZFPQRXQGDAZESXADUQGJOMDFAZNDMEEMUFBADFQDXQBQQUXEMUFBADFQDXMODAUJFAZTUEFAUDQQEFGZQQBABQQPQEBXGENDUXXMZFEQJBXAUFEQFFMHMXQGDPQRAUFDQYBQQBDAFQSQDMZAERAKQDEQFZAEPDAUFE\n",
      "\n",
      "Probando clave x=19, y=11\n",
      "PDBOBEBUFSSFEFOPTBJFVYUPOGSPOUFTUDFJOUEFGMFVSPOTHMPSJFVYDBSUPOCSBTTBJUQPSUFSMFQFFJMTBJUQPSUFSMBDSPJYUPOIJTUPJSFFTUVOFFQPQFFEFTQMVTCSJMMBOUTFYQMPJUTFUUBWBMFVSEFGPJUSFNQFFQSPUFHFSBOPTGPZFSTFUOPTESPJUT\n",
      "\n",
      "Probando clave x=19, y=12\n",
      "ESQDQTQJUHHUTUDEIQYUKNJEDVHEDJUIJSUYDJTUVBUKHEDIWBEHYUKNSQHJEDRHQIIQYJFEHJUHBUFUUYBIQYJFEHJUHBQSHEYNJEDXYIJEYHUUIJKDUUFEFUUTUIFBKIRHYBBQDJIUNFBEYJIUJJQLQBUKHTUVEYJHUCFUUFHEJUWUHQDEIVEOUHIUJDEITHEYJI\n",
      "\n",
      "Probando clave x=19, y=13\n",
      "THFSFIFYJWWJIJSTXFNJZCYTSKWTSYJXYHJNSYIJKQJZWTSXLQTWNJZCHFWYTSGWFXXFNYUTWYJWQJUJJNQXFNYUTWYJWQFHWTNCYTSMNXYTNWJJXYZSJJUTUJJIJXUQZXGWNQQFSYXJCUQTNYXJYYFAFQJZWIJKTNYWJRUJJUWTYJLJWFSTXKTDJWXJYSTXIWTNYX\n",
      "\n",
      "Probando clave x=19, y=14\n",
      "IWUHUXUNYLLYXYHIMUCYORNIHZLIHNYMNWYCHNXYZFYOLIHMAFILCYORWULNIHVLUMMUCNJILNYLFYJYYCFMUCNJILNYLFUWLICRNIHBCMNICLYYMNOHYYJIJYYXYMJFOMVLCFFUHNMYRJFICNMYNNUPUFYOLXYZICNLYGJYYJLINYAYLUHIMZISYLMYNHIMXLICNM\n",
      "\n",
      "Probando clave x=19, y=15\n",
      "XLJWJMJCNAANMNWXBJRNDGCXWOAXWCNBCLNRWCMNOUNDAXWBPUXARNDGLJACXWKAJBBJRCYXACNAUNYNNRUBJRCYXACNAUJLAXRGCXWQRBCXRANNBCDWNNYXYNNMNBYUDBKARUUJWCBNGYUXRCBNCCJEJUNDAMNOXRCANVYNNYAXCNPNAJWXBOXHNABNCWXBMAXRCB\n",
      "\n",
      "Probando clave x=19, y=16\n",
      "MAYLYBYRCPPCBCLMQYGCSVRMLDPMLRCQRACGLRBCDJCSPMLQEJMPGCSVAYPRMLZPYQQYGRNMPRCPJCNCCGJQYGRNMPRCPJYAPMGVRMLFGQRMGPCCQRSLCCNMNCCBCQNJSQZPGJJYLRQCVNJMGRQCRRYTYJCSPBCDMGRPCKNCCNPMRCECPYLMQDMWCPQCRLMQBPMGRQ\n",
      "\n",
      "Probando clave x=19, y=17\n",
      "BPNANQNGREERQRABFNVRHKGBASEBAGRFGPRVAGQRSYRHEBAFTYBEVRHKPNEGBAOENFFNVGCBEGREYRCRRVYFNVGCBEGREYNPEBVKGBAUVFGBVERRFGHARRCBCRRQRFCYHFOEVYYNAGFRKCYBVGFRGGNINYRHEQRSBVGERZCRRCEBGRTRENABFSBLREFRGABFQEBVGF\n",
      "\n",
      "Probando clave x=19, y=18\n",
      "QECPCFCVGTTGFGPQUCKGWZVQPHTQPVGUVEGKPVFGHNGWTQPUINQTKGWZECTVQPDTCUUCKVRQTVGTNGRGGKNUCKVRQTVGTNCETQKZVQPJKUVQKTGGUVWPGGRQRGGFGURNWUDTKNNCPVUGZRNQKVUGVVCXCNGWTFGHQKVTGORGGRTQVGIGTCPQUHQAGTUGVPQUFTQKVU\n",
      "\n",
      "Probando clave x=19, y=19\n",
      "FTRERURKVIIVUVEFJRZVLOKFEWIFEKVJKTVZEKUVWCVLIFEJXCFIZVLOTRIKFESIRJJRZKGFIKVICVGVVZCJRZKGFIKVICRTIFZOKFEYZJKFZIVVJKLEVVGFGVVUVJGCLJSIZCCREKJVOGCFZKJVKKRMRCVLIUVWFZKIVDGVVGIFKVXVIREFJWFPVIJVKEFJUIFZKJ\n"
     ]
    }
   ],
   "source": [
    "# Extended Euclidean Algorithm for finding modular inverse\n",
    "# eg: modinv(7, 26) = 15\n",
    "def egcd(a, b):\n",
    "    x, y, u, v = 0, 1, 1, 0\n",
    "    while a != 0:\n",
    "        q, r = b // a, b % a\n",
    "        m, n = x - u * q, y - v * q\n",
    "        b, a, x, y, u, v = a, r, u, v, m, n\n",
    "    gcd = b\n",
    "    return gcd, x, y\n",
    "\n",
    "\n",
    "def modinv(a, m):\n",
    "    gcd, x, y = egcd(a, m)\n",
    "    if gcd != 1:\n",
    "        return None  # modular inverse does not exist\n",
    "    else:\n",
    "        return x % m\n",
    "\n",
    "\n",
    "# affine cipher decryption function \n",
    "# returns original text\n",
    "def affine_decrypt(cipher, key):\n",
    "    '''\n",
    "    P = (a^-1 * (C - b)) % 26\n",
    "    '''\n",
    "    mod_inv = modinv(key[0], 26)\n",
    "    if mod_inv is None:\n",
    "        return \"Invalid key: modular inverse does not exist\"\n",
    "    return ''.join([chr(((mod_inv * (ord(c) - ord('A') - key[1])) % 26) + ord('A')) for c in cipher])\n",
    "\n",
    "\n",
    "# Probar 20 posibles claves x, y\n",
    "cyphertext = \"KQEREJEBCPPCJCRKIEACUZBKRVPKRBCIBQCARBJCVFCUPKRIOFKPACUZQEPBKRXPEIIEABDKPBCPFCDCCAFIEABDKPBCPFEQPKAZBKRHAIBKAPCCIBURCCDKDCCJCIDFUIXPAFFERBICZDFKABICBBENEFCUPJCVKABPCYDCCDPKBCOCPERKIVKSCPICBRKIJPKABI\"\n",
    "for x in range(1, 20):\n",
    "    for y in range(1, 20):\n",
    "        print(f\"Probando clave x={x}, y={y}\")\n",
    "        print(affine_decrypt(cyphertext, (x, y)))\n",
    "        print()\n",
    "\n"
   ]
  },
  {
   "cell_type": "markdown",
   "id": "f0829b6e",
   "metadata": {
    "vscode": {
     "languageId": "bat"
    }
   },
   "source": [
    "After analyzing the results, although it was a tedious process, it was found that the correct key was x=19, y=4. With this key, the message was successfully decrypted, and the correct answer was obtained.\n",
    "\n",
    "ANSWER: o canada terredenosaieuxt on front est ce in tdefleuronsglorieux carton brass a it porter lepeeilsa it porter lacroixt on his to ireestuneepopeedes plus brill ants exploit set tavaleurdefoitrempee protege ran os foyer set nos droits"
   ]
  },
  {
   "cell_type": "markdown",
   "id": "6953ed6a7cd15b6d",
   "metadata": {
    "collapsed": false
   },
   "source": [
    "### Unspecified Cipher:\n",
    "BNVSNSIHQCEELSSKKYERIFJKXUMBGYKAMQLJTYAVFBKVTDVBPVVRJYYLAOKYMPQSCGDLFSRLLPROYGESEBUUALRWXMMASAZLGLEDFJBZAVVPXWICGJXASCBYEHOSNMULKCEAHTQOKMFLEBKFXLRRFDTZXCIWBJSICBGAWDVYDHAVFJXZIBKCGJIWEAHTTOEWTUHKRQVVRGZBXYIREMMASCSPBNLHJMBLRFFJELHWEYLWISTFVVYFJCMHYUYRUFSFMGESIGRLWALSWMNUHSIMYYITCCQPZSICEHBCCMZFEGVJYOCDEMMPGHVAAUMELCMOEHVLTIPSUYILVGFLMVWDVYDBTHFRAYISYSGKVSUUHYHGGCKTMBLRX\n",
    "\n"
   ]
  },
  {
   "cell_type": "code",
   "execution_count": 161,
   "id": "1ffa68a8",
   "metadata": {
    "ExecuteTime": {
     "end_time": "2024-10-15T01:52:16.467348200Z",
     "start_time": "2024-10-15T01:52:16.389026700Z"
    }
   },
   "outputs": [],
   "source": [
    "\n",
    "unspecified_cipher = \"BNVSNSIHQCEELSSKKYERIFJKXUMBGYKAMQLJTYAVFBKVTDVBPVVRJYYLAOKYMPQSCGDLFSRLLPROYGESEBUUALRWXMMASAZLGLEDFJBZAVVPXWICGJXASCBYEHOSNMULKCEAHTQOKMFLEBKFXLRRFDTZXCIWBJSICBGAWDVYDHAVFJXZIBKCGJIWEAHTTOEWTUHKRQVVRGZBXYIREMMASCSPBNLHJMBLRFFJELHWEYLWISTFVVYFJCMHYUYRUFSFMGESIGRLWALSWMNUHSIMYYITCCQPZSICEHBCCMZFEGVJYOCDEMMPGHVAAUMELCMOEHVLTIPSUYILVGFLMVWDVYDBTHFRAYISYSGKVSUUHYHGGCKTMBLRX\"\n"
   ]
  },
  {
   "cell_type": "code",
   "execution_count": 110,
   "id": "4a3533bfee0c403c",
   "metadata": {
    "ExecuteTime": {
     "end_time": "2024-10-16T15:41:18.167348900Z",
     "start_time": "2024-10-16T15:41:18.022829100Z"
    },
    "collapsed": false
   },
   "outputs": [
    {
     "name": "stdout",
     "output_type": "stream",
     "text": [
      "Counter({'S': 23, 'L': 23, 'Y': 22, 'V': 21, 'M': 21, 'E': 20, 'C': 18, 'B': 17, 'F': 17, 'A': 17, 'I': 16, 'H': 16, 'G': 16, 'R': 15, 'K': 13, 'J': 12, 'U': 12, 'T': 12, 'W': 11, 'X': 9, 'D': 9, 'P': 8, 'O': 7, 'Z': 7, 'Q': 6, 'N': 5})\n"
     ]
    }
   ],
   "source": [
    "#frequency analysis\n",
    "cipher_freq = Counter(unspecified_cipher)\n",
    "print(cipher_freq)"
   ]
  },
  {
   "cell_type": "markdown",
   "id": "97ac7fce2b8db081",
   "metadata": {
    "collapsed": false
   },
   "source": [
    "Observing the frequency analysis we can see that it doesnt not follow the normal distribution of the english language for a substitution cypher which mean its most likely a rotating cypher"
   ]
  },
  {
   "cell_type": "code",
   "execution_count": 106,
   "id": "43da5bc515800fc0",
   "metadata": {
    "ExecuteTime": {
     "end_time": "2024-10-16T15:37:51.428522200Z",
     "start_time": "2024-10-16T15:37:51.398702700Z"
    },
    "collapsed": false
   },
   "outputs": [
    {
     "data": {
      "text/plain": [
       "[2, 3, 4, 6, 8, 24, 66]"
      ]
     },
     "execution_count": 106,
     "metadata": {},
     "output_type": "execute_result"
    }
   ],
   "source": [
    "#Using the previous function we developed to check the vignere cypher we get the pssible key lengths, we can test vignere cypher with this keys\n",
    "find_key_length(unspecified_cipher, min_num=2)"
   ]
  },
  {
   "cell_type": "markdown",
   "id": "711a1d28bc60f681",
   "metadata": {
    "collapsed": false
   },
   "source": [
    "Testing the different key we get the result that the key was Theory\n"
   ]
  },
  {
   "cell_type": "markdown",
   "id": "c67d6a66a67ac480",
   "metadata": {
    "collapsed": false
   },
   "source": [
    "![image](./ImagesHW1/Q5.png)\n"
   ]
  }
 ],
 "metadata": {
  "kernelspec": {
   "display_name": "Python 3",
   "language": "python",
   "name": "python3"
  },
  "language_info": {
   "codemirror_mode": {
    "name": "ipython",
    "version": 3
   },
   "file_extension": ".py",
   "mimetype": "text/x-python",
   "name": "python",
   "nbconvert_exporter": "python",
   "pygments_lexer": "ipython3",
   "version": "3.10.6"
  }
 },
 "nbformat": 4,
 "nbformat_minor": 5
}
