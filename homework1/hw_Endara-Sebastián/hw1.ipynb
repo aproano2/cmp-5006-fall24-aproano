{
 "cells": [
  {
   "cell_type": "markdown",
   "metadata": {},
   "source": [
    "# SECURITY HW 1"
   ]
  },
  {
   "cell_type": "markdown",
   "metadata": {},
   "source": [
    "## Members\n",
    "- Josue Endara (323096)\n",
    "- Juan Venegas (209856)"
   ]
  },
  {
   "cell_type": "markdown",
   "metadata": {},
   "source": [
    "## Question 1"
   ]
  },
  {
   "cell_type": "markdown",
   "metadata": {},
   "source": [
    "The hw-crypto assignment is available in the picoCTF platform. As we discussed in class, you need to write a notebook describing 2 alternative solutions for each problem\n",
    "### PicoCTF Question 1 - interencdec"
   ]
  },
  {
   "cell_type": "markdown",
   "metadata": {},
   "source": [
    "For this flag YidkM0JxZGtwQlRYdHFhR3g2YUhsZmF6TnFlVGwzWVROclgya3lNRFJvYTJvMmZRPT0nCg==\n",
    "We can assume it's in base 64 since the two == at the end of the string are used in base 64 to make the number of characters a multiple of 4, and we can confirm this by looking at the question tags"
   ]
  },
  {
   "cell_type": "code",
   "execution_count": 1,
   "metadata": {},
   "outputs": [
    {
     "name": "stdout",
     "output_type": "stream",
     "text": [
      "18.0\n"
     ]
    }
   ],
   "source": [
    "# we can algo check by the length to make sure the string is a multiple of 4\n",
    "\n",
    "flag = 'YidkM0JxZGtwQlRYdHFhR3g2YUhsZmF6TnFlVGwzWVROclgyMHdNakV5TnpVNGZRPT0nCg=='\n",
    "print(len(flag)/4)"
   ]
  },
  {
   "cell_type": "markdown",
   "metadata": {},
   "source": [
    "We then used a web tool to decode from base64 and got the following output.  \n",
    "$ d3BqdkpBTXtqaGx6aHlfazNqeTl3YTNrX2kyMDRoa2o2fQ== $  \n",
    "Since it follows the same rules as before, we decode it again and get the following flag, which, from previous work on the picoCTF platform, we know follows the normal structure used on the site."
   ]
  },
  {
   "cell_type": "code",
   "execution_count": 2,
   "metadata": {},
   "outputs": [],
   "source": [
    "flag = 'wpjvJAM{jhlzhy_k3jy9wa3k_m0212758}'\n"
   ]
  },
  {
   "cell_type": "markdown",
   "metadata": {},
   "source": [
    "### method 1"
   ]
  },
  {
   "cell_type": "markdown",
   "metadata": {},
   "source": [
    "For the first method, we use a Caesar's decryption function inside a loop simulating a brute force attack, alternating between keys from 1 to 25."
   ]
  },
  {
   "cell_type": "code",
   "execution_count": 60,
   "metadata": {},
   "outputs": [
    {
     "name": "stdout",
     "output_type": "stream",
     "text": [
      "Shift 1: voiuIZL{igkygx_j3ix9vz3j_l0212758}\n",
      "Shift 2: unhtHYK{hfjxfw_i3hw9uy3i_k0212758}\n",
      "Shift 3: tmgsGXJ{geiwev_h3gv9tx3h_j0212758}\n",
      "Shift 4: slfrFWI{fdhvdu_g3fu9sw3g_i0212758}\n",
      "Shift 5: rkeqEVH{ecguct_f3et9rv3f_h0212758}\n",
      "Shift 6: qjdpDUG{dbftbs_e3ds9qu3e_g0212758}\n",
      "Shift 7: picoCTF{caesar_d3cr9pt3d_f0212758}\n",
      "Shift 8: ohbnBSE{bzdrzq_c3bq9os3c_e0212758}\n",
      "Shift 9: ngamARD{aycqyp_b3ap9nr3b_d0212758}\n",
      "Shift 10: mfzlZQC{zxbpxo_a3zo9mq3a_c0212758}\n",
      "Shift 11: leykYPB{ywaown_z3yn9lp3z_b0212758}\n",
      "Shift 12: kdxjXOA{xvznvm_y3xm9ko3y_a0212758}\n",
      "Shift 13: jcwiWNZ{wuymul_x3wl9jn3x_z0212758}\n",
      "Shift 14: ibvhVMY{vtxltk_w3vk9im3w_y0212758}\n",
      "Shift 15: haugULX{uswksj_v3uj9hl3v_x0212758}\n",
      "Shift 16: gztfTKW{trvjri_u3ti9gk3u_w0212758}\n",
      "Shift 17: fyseSJV{squiqh_t3sh9fj3t_v0212758}\n",
      "Shift 18: exrdRIU{rpthpg_s3rg9ei3s_u0212758}\n",
      "Shift 19: dwqcQHT{qosgof_r3qf9dh3r_t0212758}\n",
      "Shift 20: cvpbPGS{pnrfne_q3pe9cg3q_s0212758}\n",
      "Shift 21: buoaOFR{omqemd_p3od9bf3p_r0212758}\n",
      "Shift 22: atnzNEQ{nlpdlc_o3nc9ae3o_q0212758}\n",
      "Shift 23: zsmyMDP{mkockb_n3mb9zd3n_p0212758}\n",
      "Shift 24: yrlxLCO{ljnbja_m3la9yc3m_o0212758}\n",
      "Shift 25: xqkwKBN{kimaiz_l3kz9xb3l_n0212758}\n"
     ]
    }
   ],
   "source": [
    "def caesar_decrypt(text, shift):\n",
    "    decrypted_text = []\n",
    "    for char in text:\n",
    "        if char.isalpha():\n",
    "            shift_base = 65 if char.isupper() else 97\n",
    "            decrypted_text.append(chr((ord(char) - shift_base - shift) % 26 + shift_base))\n",
    "        else:\n",
    "            decrypted_text.append(char)\n",
    "    return ''.join(decrypted_text)\n",
    "\n",
    "encrypted_message = flag\n",
    "\n",
    "for shift in range(1, 26):\n",
    "    print(f\"Shift {shift}: {caesar_decrypt(encrypted_message, shift)}\")"
   ]
  },
  {
   "cell_type": "markdown",
   "metadata": {},
   "source": [
    "After analyzing this output, we conclude that shift7 is the answer.  \n",
    "Shift 7: picoCTF{caesar_d3cr9pt3d_b204adc6}\n"
   ]
  },
  {
   "cell_type": "markdown",
   "metadata": {},
   "source": [
    "### method 2\n",
    "Apply a brute force to the caesar_decrypt, in each shift we get a variation of the characters, until we do all the alphabet"
   ]
  },
  {
   "cell_type": "code",
   "execution_count": 75,
   "metadata": {},
   "outputs": [
    {
     "name": "stdout",
     "output_type": "stream",
     "text": [
      "Shift 1: voiuIZL{igkygx_j3ix9vz3j_l0212758}\n",
      "Shift 2: unhtHYK{hfjxfw_i3hw9uy3i_k0212758}\n",
      "Shift 3: tmgsGXJ{geiwev_h3gv9tx3h_j0212758}\n",
      "Shift 4: slfrFWI{fdhvdu_g3fu9sw3g_i0212758}\n",
      "Shift 5: rkeqEVH{ecguct_f3et9rv3f_h0212758}\n",
      "Shift 6: qjdpDUG{dbftbs_e3ds9qu3e_g0212758}\n",
      "Shift 7: picoCTF{caesar_d3cr9pt3d_f0212758}\n",
      "Shift 8: ohbnBSE{bzdrzq_c3bq9os3c_e0212758}\n",
      "Shift 9: ngamARD{aycqyp_b3ap9nr3b_d0212758}\n",
      "Shift 10: mfzlZQC{zxbpxo_a3zo9mq3a_c0212758}\n",
      "Shift 11: leykYPB{ywaown_z3yn9lp3z_b0212758}\n",
      "Shift 12: kdxjXOA{xvznvm_y3xm9ko3y_a0212758}\n",
      "Shift 13: jcwiWNZ{wuymul_x3wl9jn3x_z0212758}\n",
      "Shift 14: ibvhVMY{vtxltk_w3vk9im3w_y0212758}\n",
      "Shift 15: haugULX{uswksj_v3uj9hl3v_x0212758}\n",
      "Shift 16: gztfTKW{trvjri_u3ti9gk3u_w0212758}\n",
      "Shift 17: fyseSJV{squiqh_t3sh9fj3t_v0212758}\n",
      "Shift 18: exrdRIU{rpthpg_s3rg9ei3s_u0212758}\n",
      "Shift 19: dwqcQHT{qosgof_r3qf9dh3r_t0212758}\n",
      "Shift 20: cvpbPGS{pnrfne_q3pe9cg3q_s0212758}\n",
      "Shift 21: buoaOFR{omqemd_p3od9bf3p_r0212758}\n",
      "Shift 22: atnzNEQ{nlpdlc_o3nc9ae3o_q0212758}\n",
      "Shift 23: zsmyMDP{mkockb_n3mb9zd3n_p0212758}\n",
      "Shift 24: yrlxLCO{ljnbja_m3la9yc3m_o0212758}\n",
      "Shift 25: xqkwKBN{kimaiz_l3kz9xb3l_n0212758}\n"
     ]
    }
   ],
   "source": [
    "def caesar_decrypt_variation(text, shift):\n",
    "    decrypted_chars = []\n",
    "    \n",
    "    for char in text:\n",
    "        if char.isalpha():\n",
    "            base = ord('A') if char.isupper() else ord('a')\n",
    "            # Calculate the new character with wrapping\n",
    "            decrypted_char = chr((ord(char) - base - shift) % 26 + base)\n",
    "            decrypted_chars.append(decrypted_char)\n",
    "        else:\n",
    "            decrypted_chars.append(char)  # Keep non-alphabetic characters unchanged\n",
    "            \n",
    "    return ''.join(decrypted_chars)\n",
    "\n",
    "\n",
    "\n",
    "def brute_force_caesar_decrypt(text):\n",
    "    for shift in range(1, 26):\n",
    "        decrypted_text = caesar_decrypt_variation(text, shift)\n",
    "        print(f\"Shift {shift}: {decrypted_text}\")\n",
    "    # User can manually inspect the output or implement a selection mechanism.\n",
    "\n",
    "# Example usage\n",
    "encrypted_message = flag\n",
    "brute_force_caesar_decrypt(encrypted_message)\n"
   ]
  },
  {
   "cell_type": "markdown",
   "metadata": {},
   "source": [
    "## PicoCTF Question 2 - The numbers"
   ]
  },
  {
   "cell_type": "markdown",
   "metadata": {},
   "source": [
    "numbers: 16 9 3 15 3 20 6 {20 8 5 14 21 13 2 5 18 19 13 1 19 15 14}"
   ]
  },
  {
   "cell_type": "markdown",
   "metadata": {},
   "source": [
    "### Method 1\n",
    "\n",
    "After analyzing the numbers, we can conclude that each number corresponds to its index in the alphabet. We then make the corresponding substitution (16 = p, 9 = i, 3 = c, ...), and get the following answer.  \n",
    "**picoctf{thenumbersmason}**\n"
   ]
  },
  {
   "cell_type": "markdown",
   "metadata": {},
   "source": [
    "# Method 2\n",
    "Code a python code brute-force attack for the Affine Cipher. The brute-force approach will try all possible combinations of a and b to check for valid decrypted text."
   ]
  },
  {
   "cell_type": "code",
   "execution_count": 58,
   "metadata": {},
   "outputs": [
    {
     "name": "stdout",
     "output_type": "stream",
     "text": [
      "a = 1, b = 0 -> QJDPDUGUIFOVNCFSTNBTPO\n",
      "a = 1, b = 1 -> PICOCTFTHENUMBERSMASON\n",
      "a = 1, b = 2 -> OHBNBSESGDMTLADQRLZRNM\n",
      "a = 1, b = 3 -> NGAMARDRFCLSKZCPQKYQML\n",
      "a = 1, b = 4 -> MFZLZQCQEBKRJYBOPJXPLK\n",
      "a = 1, b = 5 -> LEYKYPBPDAJQIXANOIWOKJ\n",
      "a = 1, b = 6 -> KDXJXOAOCZIPHWZMNHVNJI\n",
      "a = 1, b = 7 -> JCWIWNZNBYHOGVYLMGUMIH\n",
      "a = 1, b = 8 -> IBVHVMYMAXGNFUXKLFTLHG\n",
      "a = 1, b = 9 -> HAUGULXLZWFMETWJKESKGF\n",
      "a = 1, b = 10 -> GZTFTKWKYVELDSVIJDRJFE\n",
      "a = 1, b = 11 -> FYSESJVJXUDKCRUHICQIED\n",
      "a = 1, b = 12 -> EXRDRIUIWTCJBQTGHBPHDC\n",
      "a = 1, b = 13 -> DWQCQHTHVSBIAPSFGAOGCB\n",
      "a = 1, b = 14 -> CVPBPGSGURAHZOREFZNFBA\n",
      "a = 1, b = 15 -> BUOAOFRFTQZGYNQDEYMEAZ\n",
      "a = 1, b = 16 -> ATNZNEQESPYFXMPCDXLDZY\n",
      "a = 1, b = 17 -> ZSMYMDPDROXEWLOBCWKCYX\n",
      "a = 1, b = 18 -> YRLXLCOCQNWDVKNABVJBXW\n",
      "a = 1, b = 19 -> XQKWKBNBPMVCUJMZAUIAWV\n",
      "a = 1, b = 20 -> WPJVJAMAOLUBTILYZTHZVU\n",
      "a = 1, b = 21 -> VOIUIZLZNKTASHKXYSGYUT\n",
      "a = 1, b = 22 -> UNHTHYKYMJSZRGJWXRFXTS\n",
      "a = 1, b = 23 -> TMGSGXJXLIRYQFIVWQEWSR\n",
      "a = 1, b = 24 -> SLFRFWIWKHQXPEHUVPDVRQ\n",
      "a = 1, b = 25 -> RKEQEVHVJGPWODGTUOCUQP\n",
      "a = 3, b = 0 -> ODBFBYCYUTWHNSTGPNJPFW\n",
      "a = 3, b = 1 -> FUSWSPTPLKNYEJKXGEAGWN\n",
      "a = 3, b = 2 -> WLJNJGKGCBEPVABOXVRXNE\n",
      "a = 3, b = 3 -> NCAEAXBXTSVGMRSFOMIOEV\n",
      "a = 3, b = 4 -> ETRVROSOKJMXDIJWFDZFVM\n",
      "a = 3, b = 5 -> VKIMIFJFBADOUZANWUQWMD\n",
      "a = 3, b = 6 -> MBZDZWAWSRUFLQRENLHNDU\n",
      "a = 3, b = 7 -> DSQUQNRNJILWCHIVECYEUL\n",
      "a = 3, b = 8 -> UJHLHEIEAZCNTYZMVTPVLC\n",
      "a = 3, b = 9 -> LAYCYVZVRQTEKPQDMKGMCT\n",
      "a = 3, b = 10 -> CRPTPMQMIHKVBGHUDBXDTK\n",
      "a = 3, b = 11 -> TIGKGDHDZYBMSXYLUSOUKB\n",
      "a = 3, b = 12 -> KZXBXUYUQPSDJOPCLJFLBS\n",
      "a = 3, b = 13 -> BQOSOLPLHGJUAFGTCAWCSJ\n",
      "a = 3, b = 14 -> SHFJFCGCYXALRWXKTRNTJA\n",
      "a = 3, b = 15 -> JYWAWTXTPORCINOBKIEKAR\n",
      "a = 3, b = 16 -> APNRNKOKGFITZEFSBZVBRI\n",
      "a = 3, b = 17 -> RGEIEBFBXWZKQVWJSQMSIZ\n",
      "a = 3, b = 18 -> IXVZVSWSONQBHMNAJHDJZQ\n",
      "a = 3, b = 19 -> ZOMQMJNJFEHSYDERAYUAQH\n",
      "a = 3, b = 20 -> QFDHDAEAWVYJPUVIRPLRHY\n",
      "a = 3, b = 21 -> HWUYURVRNMPAGLMZIGCIYP\n",
      "a = 3, b = 22 -> YNLPLIMIEDGRXCDQZXTZPG\n",
      "a = 3, b = 23 -> PECGCZDZVUXIOTUHQOKQGX\n",
      "a = 3, b = 24 -> GVTXTQUQMLOZFKLYHFBHXO\n",
      "a = 3, b = 25 -> XMKOKHLHDCFQWBCPYWSYOF\n",
      "a = 5, b = 0 -> YHLDLEWEMBIZNQBOJNVJDI\n",
      "a = 5, b = 1 -> DMQIQJBJRGNESVGTOSAOIN\n",
      "a = 5, b = 2 -> IRVNVOGOWLSJXALYTXFTNS\n",
      "a = 5, b = 3 -> NWASATLTBQXOCFQDYCKYSX\n",
      "a = 5, b = 4 -> SBFXFYQYGVCTHKVIDHPDXC\n",
      "a = 5, b = 5 -> XGKCKDVDLAHYMPANIMUICH\n",
      "a = 5, b = 6 -> CLPHPIAIQFMDRUFSNRZNHM\n",
      "a = 5, b = 7 -> HQUMUNFNVKRIWZKXSWESMR\n",
      "a = 5, b = 8 -> MVZRZSKSAPWNBEPCXBJXRW\n",
      "a = 5, b = 9 -> RAEWEXPXFUBSGJUHCGOCWB\n",
      "a = 5, b = 10 -> WFJBJCUCKZGXLOZMHLTHBG\n",
      "a = 5, b = 11 -> BKOGOHZHPELCQTERMQYMGL\n",
      "a = 5, b = 12 -> GPTLTMEMUJQHVYJWRVDRLQ\n",
      "a = 5, b = 13 -> LUYQYRJRZOVMADOBWAIWQV\n",
      "a = 5, b = 14 -> QZDVDWOWETARFITGBFNBVA\n",
      "a = 5, b = 15 -> VEIAIBTBJYFWKNYLGKSGAF\n",
      "a = 5, b = 16 -> AJNFNGYGODKBPSDQLPXLFK\n",
      "a = 5, b = 17 -> FOSKSLDLTIPGUXIVQUCQKP\n",
      "a = 5, b = 18 -> KTXPXQIQYNULZCNAVZHVPU\n",
      "a = 5, b = 19 -> PYCUCVNVDSZQEHSFAEMAUZ\n",
      "a = 5, b = 20 -> UDHZHASAIXEVJMXKFJRFZE\n",
      "a = 5, b = 21 -> ZIMEMFXFNCJAORCPKOWKEJ\n",
      "a = 5, b = 22 -> ENRJRKCKSHOFTWHUPTBPJO\n",
      "a = 5, b = 23 -> JSWOWPHPXMTKYBMZUYGUOT\n",
      "a = 5, b = 24 -> OXBTBUMUCRYPDGREZDLZTY\n",
      "a = 5, b = 25 -> TCGYGZRZHWDUILWJEIQEYD\n",
      "a = 7, b = 0 -> GFTRTOMOQXCDNEXKZNPZRC\n",
      "a = 7, b = 1 -> RQECEZXZBINOYPIVKYAKCN\n",
      "a = 7, b = 2 -> CBPNPKIKMTYZJATGVJLVNY\n",
      "a = 7, b = 3 -> NMAYAVTVXEJKULERGUWGYJ\n",
      "a = 7, b = 4 -> YXLJLGEGIPUVFWPCRFHRJU\n",
      "a = 7, b = 5 -> JIWUWRPRTAFGQHANCQSCUF\n",
      "a = 7, b = 6 -> UTHFHCACELQRBSLYNBDNFQ\n",
      "a = 7, b = 7 -> FESQSNLNPWBCMDWJYMOYQB\n",
      "a = 7, b = 8 -> QPDBDYWYAHMNXOHUJXZJBM\n",
      "a = 7, b = 9 -> BAOMOJHJLSXYIZSFUIKUMX\n",
      "a = 7, b = 10 -> MLZXZUSUWDIJTKDQFTVFXI\n",
      "a = 7, b = 11 -> XWKIKFDFHOTUEVOBQEGQIT\n",
      "a = 7, b = 12 -> IHVTVQOQSZEFPGZMBPRBTE\n",
      "a = 7, b = 13 -> TSGEGBZBDKPQARKXMACMEP\n",
      "a = 7, b = 14 -> EDRPRMKMOVABLCVIXLNXPA\n",
      "a = 7, b = 15 -> POCACXVXZGLMWNGTIWYIAL\n",
      "a = 7, b = 16 -> AZNLNIGIKRWXHYRETHJTLW\n",
      "a = 7, b = 17 -> LKYWYTRTVCHISJCPESUEWH\n",
      "a = 7, b = 18 -> WVJHJECEGNSTDUNAPDFPHS\n",
      "a = 7, b = 19 -> HGUSUPNPRYDEOFYLAOQASD\n",
      "a = 7, b = 20 -> SRFDFAYACJOPZQJWLZBLDO\n",
      "a = 7, b = 21 -> DCQOQLJLNUZAKBUHWKMWOZ\n",
      "a = 7, b = 22 -> ONBZBWUWYFKLVMFSHVXHZK\n",
      "a = 7, b = 23 -> ZYMKMHFHJQVWGXQDSGISKV\n",
      "a = 7, b = 24 -> KJXVXSQSUBGHRIBODRTDVG\n",
      "a = 7, b = 25 -> VUIGIDBDFMRSCTMZOCEOGR\n",
      "a = 9, b = 0 -> WBJTJISIYPQLNGPCFNDFTQ\n",
      "a = 9, b = 1 -> TYGQGFPFVMNIKDMZCKACQN\n",
      "a = 9, b = 2 -> QVDNDCMCSJKFHAJWZHXZNK\n",
      "a = 9, b = 3 -> NSAKAZJZPGHCEXGTWEUWKH\n",
      "a = 9, b = 4 -> KPXHXWGWMDEZBUDQTBRTHE\n",
      "a = 9, b = 5 -> HMUEUTDTJABWYRANQYOQEB\n",
      "a = 9, b = 6 -> EJRBRQAQGXYTVOXKNVLNBY\n",
      "a = 9, b = 7 -> BGOYONXNDUVQSLUHKSIKYV\n",
      "a = 9, b = 8 -> YDLVLKUKARSNPIREHPFHVS\n",
      "a = 9, b = 9 -> VAISIHRHXOPKMFOBEMCESP\n",
      "a = 9, b = 10 -> SXFPFEOEULMHJCLYBJZBPM\n",
      "a = 9, b = 11 -> PUCMCBLBRIJEGZIVYGWYMJ\n",
      "a = 9, b = 12 -> MRZJZYIYOFGBDWFSVDTVJG\n",
      "a = 9, b = 13 -> JOWGWVFVLCDYATCPSAQSGD\n",
      "a = 9, b = 14 -> GLTDTSCSIZAVXQZMPXNPDA\n",
      "a = 9, b = 15 -> DIQAQPZPFWXSUNWJMUKMAX\n",
      "a = 9, b = 16 -> AFNXNMWMCTUPRKTGJRHJXU\n",
      "a = 9, b = 17 -> XCKUKJTJZQRMOHQDGOEGUR\n",
      "a = 9, b = 18 -> UZHRHGQGWNOJLENADLBDRO\n",
      "a = 9, b = 19 -> RWEOEDNDTKLGIBKXAIYAOL\n",
      "a = 9, b = 20 -> OTBLBAKAQHIDFYHUXFVXLI\n",
      "a = 9, b = 21 -> LQYIYXHXNEFACVERUCSUIF\n",
      "a = 9, b = 22 -> INVFVUEUKBCXZSBORZPRFC\n",
      "a = 9, b = 23 -> FKSCSRBRHYZUWPYLOWMOCZ\n",
      "a = 9, b = 24 -> CHPZPOYOEVWRTMVILTJLZW\n",
      "a = 9, b = 25 -> ZEMWMLVLBSTOQJSFIQGIWT\n",
      "a = 11, b = 0 -> SPFZFQKQWRGJNMREXNTXZG\n",
      "a = 11, b = 1 -> ZWMGMXRXDYNQUTYLEUAEGN\n",
      "a = 11, b = 2 -> GDTNTEYEKFUXBAFSLBHLNU\n",
      "a = 11, b = 3 -> NKAUALFLRMBEIHMZSIOSUB\n",
      "a = 11, b = 4 -> URHBHSMSYTILPOTGZPVZBI\n",
      "a = 11, b = 5 -> BYOIOZTZFAPSWVANGWCGIP\n",
      "a = 11, b = 6 -> IFVPVGAGMHWZDCHUNDJNPW\n",
      "a = 11, b = 7 -> PMCWCNHNTODGKJOBUKQUWD\n",
      "a = 11, b = 8 -> WTJDJUOUAVKNRQVIBRXBDK\n",
      "a = 11, b = 9 -> DAQKQBVBHCRUYXCPIYEIKR\n",
      "a = 11, b = 10 -> KHXRXICIOJYBFEJWPFLPRY\n",
      "a = 11, b = 11 -> ROEYEPJPVQFIMLQDWMSWYF\n",
      "a = 11, b = 12 -> YVLFLWQWCXMPTSXKDTZDFM\n",
      "a = 11, b = 13 -> FCSMSDXDJETWAZERKAGKMT\n",
      "a = 11, b = 14 -> MJZTZKEKQLADHGLYRHNRTA\n",
      "a = 11, b = 15 -> TQGAGRLRXSHKONSFYOUYAH\n",
      "a = 11, b = 16 -> AXNHNYSYEZORVUZMFVBFHO\n",
      "a = 11, b = 17 -> HEUOUFZFLGVYCBGTMCIMOV\n",
      "a = 11, b = 18 -> OLBVBMGMSNCFJINATJPTVC\n",
      "a = 11, b = 19 -> VSICITNTZUJMQPUHAQWACJ\n",
      "a = 11, b = 20 -> CZPJPAUAGBQTXWBOHXDHJQ\n",
      "a = 11, b = 21 -> JGWQWHBHNIXAEDIVOEKOQX\n",
      "a = 11, b = 22 -> QNDXDOIOUPEHLKPCVLRVXE\n",
      "a = 11, b = 23 -> XUKEKVPVBWLOSRWJCSYCEL\n",
      "a = 11, b = 24 -> EBRLRCWCIDSVZYDQJZFJLS\n",
      "a = 11, b = 25 -> LIYSYJDJPKZCGFKXQGMQSZ\n",
      "a = 15, b = 0 -> ILVBVKQKEJURNOJWDNHDBU\n",
      "a = 15, b = 1 -> BEOUODJDXCNKGHCPWGAWUN\n",
      "a = 15, b = 2 -> UXHNHWCWQVGDZAVIPZTPNG\n",
      "a = 15, b = 3 -> NQAGAPVPJOZWSTOBISMIGZ\n",
      "a = 15, b = 4 -> GJTZTIOICHSPLMHUBLFBZS\n",
      "a = 15, b = 5 -> ZCMSMBHBVALIEFANUEYUSL\n",
      "a = 15, b = 6 -> SVFLFUAUOTEBXYTGNXRNLE\n",
      "a = 15, b = 7 -> LOYEYNTNHMXUQRMZGQKGEX\n",
      "a = 15, b = 8 -> EHRXRGMGAFQNJKFSZJDZXQ\n",
      "a = 15, b = 9 -> XAKQKZFZTYJGCDYLSCWSQJ\n",
      "a = 15, b = 10 -> QTDJDSYSMRCZVWRELVPLJC\n",
      "a = 15, b = 11 -> JMWCWLRLFKVSOPKXEOIECV\n",
      "a = 15, b = 12 -> CFPVPEKEYDOLHIDQXHBXVO\n",
      "a = 15, b = 13 -> VYIOIXDXRWHEABWJQAUQOH\n",
      "a = 15, b = 14 -> ORBHBQWQKPAXTUPCJTNJHA\n",
      "a = 15, b = 15 -> HKUAUJPJDITQMNIVCMGCAT\n",
      "a = 15, b = 16 -> ADNTNCICWBMJFGBOVFZVTM\n",
      "a = 15, b = 17 -> TWGMGVBVPUFCYZUHOYSOMF\n",
      "a = 15, b = 18 -> MPZFZOUOINYVRSNAHRLHFY\n",
      "a = 15, b = 19 -> FISYSHNHBGROKLGTAKEAYR\n",
      "a = 15, b = 20 -> YBLRLAGAUZKHDEZMTDXTRK\n",
      "a = 15, b = 21 -> RUEKETZTNSDAWXSFMWQMKD\n",
      "a = 15, b = 22 -> KNXDXMSMGLWTPQLYFPJFDW\n",
      "a = 15, b = 23 -> DGQWQFLFZEPMIJERYICYWP\n",
      "a = 15, b = 24 -> WZJPJYEYSXIFBCXKRBVRPI\n",
      "a = 15, b = 25 -> PSCICRXRLQBYUVQDKUOKIB\n",
      "a = 17, b = 0 -> EZRHRSISCLKPNULYVNXVHK\n",
      "a = 17, b = 1 -> HCUKUVLVFONSQXOBYQAYKN\n",
      "a = 17, b = 2 -> KFXNXYOYIRQVTAREBTDBNQ\n",
      "a = 17, b = 3 -> NIAQABRBLUTYWDUHEWGEQT\n",
      "a = 17, b = 4 -> QLDTDEUEOXWBZGXKHZJHTW\n",
      "a = 17, b = 5 -> TOGWGHXHRAZECJANKCMKWZ\n",
      "a = 17, b = 6 -> WRJZJKAKUDCHFMDQNFPNZC\n",
      "a = 17, b = 7 -> ZUMCMNDNXGFKIPGTQISQCF\n",
      "a = 17, b = 8 -> CXPFPQGQAJINLSJWTLVTFI\n",
      "a = 17, b = 9 -> FASISTJTDMLQOVMZWOYWIL\n",
      "a = 17, b = 10 -> IDVLVWMWGPOTRYPCZRBZLO\n",
      "a = 17, b = 11 -> LGYOYZPZJSRWUBSFCUECOR\n",
      "a = 17, b = 12 -> OJBRBCSCMVUZXEVIFXHFRU\n",
      "a = 17, b = 13 -> RMEUEFVFPYXCAHYLIAKIUX\n",
      "a = 17, b = 14 -> UPHXHIYISBAFDKBOLDNLXA\n",
      "a = 17, b = 15 -> XSKAKLBLVEDIGNEROGQOAD\n",
      "a = 17, b = 16 -> AVNDNOEOYHGLJQHURJTRDG\n",
      "a = 17, b = 17 -> DYQGQRHRBKJOMTKXUMWUGJ\n",
      "a = 17, b = 18 -> GBTJTUKUENMRPWNAXPZXJM\n",
      "a = 17, b = 19 -> JEWMWXNXHQPUSZQDASCAMP\n",
      "a = 17, b = 20 -> MHZPZAQAKTSXVCTGDVFDPS\n",
      "a = 17, b = 21 -> PKCSCDTDNWVAYFWJGYIGSV\n",
      "a = 17, b = 22 -> SNFVFGWGQZYDBIZMJBLJVY\n",
      "a = 17, b = 23 -> VQIYIJZJTCBGELCPMEOMYB\n",
      "a = 17, b = 24 -> YTLBLMCMWFEJHOFSPHRPBE\n",
      "a = 17, b = 25 -> BWOEOPFPZIHMKRIVSKUSEH\n",
      "a = 19, b = 0 -> UVHJHMOMKDYXNWDQBNLBJY\n",
      "a = 19, b = 1 -> JKWYWBDBZSNMCLSFQCAQYN\n",
      "a = 19, b = 2 -> YZLNLQSQOHCBRAHUFRPFNC\n",
      "a = 19, b = 3 -> NOACAFHFDWRQGPWJUGEUCR\n",
      "a = 19, b = 4 -> CDPRPUWUSLGFVELYJVTJRG\n",
      "a = 19, b = 5 -> RSEGEJLJHAVUKTANYKIYGV\n",
      "a = 19, b = 6 -> GHTVTYAYWPKJZIPCNZXNVK\n",
      "a = 19, b = 7 -> VWIKINPNLEZYOXERCOMCKZ\n",
      "a = 19, b = 8 -> KLXZXCECATONDMTGRDBRZO\n",
      "a = 19, b = 9 -> ZAMOMRTRPIDCSBIVGSQGOD\n",
      "a = 19, b = 10 -> OPBDBGIGEXSRHQXKVHFVDS\n",
      "a = 19, b = 11 -> DEQSQVXVTMHGWFMZKWUKSH\n",
      "a = 19, b = 12 -> STFHFKMKIBWVLUBOZLJZHW\n",
      "a = 19, b = 13 -> HIUWUZBZXQLKAJQDOAYOWL\n",
      "a = 19, b = 14 -> WXJLJOQOMFAZPYFSDPNDLA\n",
      "a = 19, b = 15 -> LMYAYDFDBUPOENUHSECSAP\n",
      "a = 19, b = 16 -> ABNPNSUSQJEDTCJWHTRHPE\n",
      "a = 19, b = 17 -> PQCECHJHFYTSIRYLWIGWET\n",
      "a = 19, b = 18 -> EFRTRWYWUNIHXGNALXVLTI\n",
      "a = 19, b = 19 -> TUGIGLNLJCXWMVCPAMKAIX\n",
      "a = 19, b = 20 -> IJVXVACAYRMLBKREPBZPXM\n",
      "a = 19, b = 21 -> XYKMKPRPNGBAQZGTEQOEMB\n",
      "a = 19, b = 22 -> MNZBZEGECVQPFOVITFDTBQ\n",
      "a = 19, b = 23 -> BCOQOTVTRKFEUDKXIUSIQF\n",
      "a = 19, b = 24 -> QRDFDIKIGZUTJSZMXJHXFU\n",
      "a = 19, b = 25 -> FGSUSXZXVOJIYHOBMYWMUJ\n",
      "a = 21, b = 0 -> CTPXPWEWOZSBNKZMRNFRXS\n",
      "a = 21, b = 1 -> XOKSKRZRJUNWIFUHMIAMSN\n",
      "a = 21, b = 2 -> SJFNFMUMEPIRDAPCHDVHNI\n",
      "a = 21, b = 3 -> NEAIAHPHZKDMYVKXCYQCID\n",
      "a = 21, b = 4 -> IZVDVCKCUFYHTQFSXTLXDY\n",
      "a = 21, b = 5 -> DUQYQXFXPATCOLANSOGSYT\n",
      "a = 21, b = 6 -> YPLTLSASKVOXJGVINJBNTO\n",
      "a = 21, b = 7 -> TKGOGNVNFQJSEBQDIEWIOJ\n",
      "a = 21, b = 8 -> OFBJBIQIALENZWLYDZRDJE\n",
      "a = 21, b = 9 -> JAWEWDLDVGZIURGTYUMYEZ\n",
      "a = 21, b = 10 -> EVRZRYGYQBUDPMBOTPHTZU\n",
      "a = 21, b = 11 -> ZQMUMTBTLWPYKHWJOKCOUP\n",
      "a = 21, b = 12 -> ULHPHOWOGRKTFCREJFXJPK\n",
      "a = 21, b = 13 -> PGCKCJRJBMFOAXMZEASEKF\n",
      "a = 21, b = 14 -> KBXFXEMEWHAJVSHUZVNZFA\n",
      "a = 21, b = 15 -> FWSASZHZRCVEQNCPUQIUAV\n",
      "a = 21, b = 16 -> ARNVNUCUMXQZLIXKPLDPVQ\n",
      "a = 21, b = 17 -> VMIQIPXPHSLUGDSFKGYKQL\n",
      "a = 21, b = 18 -> QHDLDKSKCNGPBYNAFBTFLG\n",
      "a = 21, b = 19 -> LCYGYFNFXIBKWTIVAWOAGB\n",
      "a = 21, b = 20 -> GXTBTAIASDWFRODQVRJVBW\n",
      "a = 21, b = 21 -> BSOWOVDVNYRAMJYLQMEQWR\n",
      "a = 21, b = 22 -> WNJRJQYQITMVHETGLHZLRM\n",
      "a = 21, b = 23 -> RIEMELTLDOHQCZOBGCUGMH\n",
      "a = 21, b = 24 -> MDZHZGOGYJCLXUJWBXPBHC\n",
      "a = 21, b = 25 -> HYUCUBJBTEXGSPERWSKWCX\n",
      "a = 23, b = 0 -> MXZVZCYCGHETNIHULNRLVE\n",
      "a = 23, b = 1 -> VGIEILHLPQNCWRQDUWAUEN\n",
      "a = 23, b = 2 -> EPRNRUQUYZWLFAZMDFJDNW\n",
      "a = 23, b = 3 -> NYAWADZDHIFUOJIVMOSMWF\n",
      "a = 23, b = 4 -> WHJFJMIMQRODXSREVXBVFO\n",
      "a = 23, b = 5 -> FQSOSVRVZAXMGBANEGKEOX\n",
      "a = 23, b = 6 -> OZBXBEAEIJGVPKJWNPTNXG\n",
      "a = 23, b = 7 -> XIKGKNJNRSPEYTSFWYCWGP\n",
      "a = 23, b = 8 -> GRTPTWSWABYNHCBOFHLFPY\n",
      "a = 23, b = 9 -> PACYCFBFJKHWQLKXOQUOYH\n",
      "a = 23, b = 10 -> YJLHLOKOSTQFZUTGXZDXHQ\n",
      "a = 23, b = 11 -> HSUQUXTXBCZOIDCPGIMGQZ\n",
      "a = 23, b = 12 -> QBDZDGCGKLIXRMLYPRVPZI\n",
      "a = 23, b = 13 -> ZKMIMPLPTURGAVUHYAEYIR\n",
      "a = 23, b = 14 -> ITVRVYUYCDAPJEDQHJNHRA\n",
      "a = 23, b = 15 -> RCEAEHDHLMJYSNMZQSWQAJ\n",
      "a = 23, b = 16 -> ALNJNQMQUVSHBWVIZBFZJS\n",
      "a = 23, b = 17 -> JUWSWZVZDEBQKFERIKOISB\n",
      "a = 23, b = 18 -> SDFBFIEIMNKZTONARTXRBK\n",
      "a = 23, b = 19 -> BMOKORNRVWTICXWJACGAKT\n",
      "a = 23, b = 20 -> KVXTXAWAEFCRLGFSJLPJTC\n",
      "a = 23, b = 21 -> TEGCGJFJNOLAUPOBSUYSCL\n",
      "a = 23, b = 22 -> CNPLPSOSWXUJDYXKBDHBLU\n",
      "a = 23, b = 23 -> LWYUYBXBFGDSMHGTKMQKUD\n",
      "a = 23, b = 24 -> UFHDHKGKOPMBVQPCTVZTDM\n",
      "a = 23, b = 25 -> DOQMQTPTXYVKEZYLCEICMV\n",
      "a = 25, b = 0 -> KRXLXGUGSVMFNYVIHNZHLM\n",
      "a = 25, b = 1 -> LSYMYHVHTWNGOZWJIOAIMN\n",
      "a = 25, b = 2 -> MTZNZIWIUXOHPAXKJPBJNO\n",
      "a = 25, b = 3 -> NUAOAJXJVYPIQBYLKQCKOP\n",
      "a = 25, b = 4 -> OVBPBKYKWZQJRCZMLRDLPQ\n",
      "a = 25, b = 5 -> PWCQCLZLXARKSDANMSEMQR\n",
      "a = 25, b = 6 -> QXDRDMAMYBSLTEBONTFNRS\n",
      "a = 25, b = 7 -> RYESENBNZCTMUFCPOUGOST\n",
      "a = 25, b = 8 -> SZFTFOCOADUNVGDQPVHPTU\n",
      "a = 25, b = 9 -> TAGUGPDPBEVOWHERQWIQUV\n",
      "a = 25, b = 10 -> UBHVHQEQCFWPXIFSRXJRVW\n",
      "a = 25, b = 11 -> VCIWIRFRDGXQYJGTSYKSWX\n",
      "a = 25, b = 12 -> WDJXJSGSEHYRZKHUTZLTXY\n",
      "a = 25, b = 13 -> XEKYKTHTFIZSALIVUAMUYZ\n",
      "a = 25, b = 14 -> YFLZLUIUGJATBMJWVBNVZA\n",
      "a = 25, b = 15 -> ZGMAMVJVHKBUCNKXWCOWAB\n",
      "a = 25, b = 16 -> AHNBNWKWILCVDOLYXDPXBC\n",
      "a = 25, b = 17 -> BIOCOXLXJMDWEPMZYEQYCD\n",
      "a = 25, b = 18 -> CJPDPYMYKNEXFQNAZFRZDE\n",
      "a = 25, b = 19 -> DKQEQZNZLOFYGROBAGSAEF\n",
      "a = 25, b = 20 -> ELRFRAOAMPGZHSPCBHTBFG\n",
      "a = 25, b = 21 -> FMSGSBPBNQHAITQDCIUCGH\n",
      "a = 25, b = 22 -> GNTHTCQCORIBJUREDJVDHI\n",
      "a = 25, b = 23 -> HOUIUDRDPSJCKVSFEKWEIJ\n",
      "a = 25, b = 24 -> IPVJVESEQTKDLWTGFLXFJK\n",
      "a = 25, b = 25 -> JQWKWFTFRULEMXUHGMYGKL\n"
     ]
    }
   ],
   "source": [
    "# Helper function to calculate the modular inverse of 'a' under modulo 'm'\n",
    "def mod_inverse(a, m):\n",
    "    for x in range(1, m):\n",
    "        if (a * x) % m == 1:\n",
    "            return x\n",
    "    return None  # No modular inverse found if a and m are not coprime\n",
    "\n",
    "# Function to decrypt Affine Cipher\n",
    "def affine_decrypt(cipher_numbers, a, b):\n",
    "    ALPHABET_SIZE = 26\n",
    "    # Calculate the modular inverse of 'a'\n",
    "    a_inv = mod_inverse(a, ALPHABET_SIZE)\n",
    "    \n",
    "    if a_inv is None:\n",
    "        return None  # Skip if no inverse exists\n",
    "    \n",
    "    # Apply the decryption formula: P = a_inv * (C - b) % 26\n",
    "    plaintext_numbers = [(a_inv * (c - b)) % ALPHABET_SIZE for c in cipher_numbers]\n",
    "    \n",
    "    # Convert numbers back to letters (0 = A, 1 = B, ..., 25 = Z)\n",
    "    plaintext = ''.join(chr(num + ord('A')) for num in plaintext_numbers)\n",
    "    \n",
    "    return plaintext\n",
    "\n",
    "# Brute-force function\n",
    "def brute_force_affine(cipher_numbers):\n",
    "    ALPHABET_SIZE = 26\n",
    "    \n",
    "    for a in range(1, ALPHABET_SIZE):\n",
    "        if mod_inverse(a, ALPHABET_SIZE) is not None:  # Only proceed if a has an inverse\n",
    "            for b in range(ALPHABET_SIZE):\n",
    "                decrypted_text = affine_decrypt(cipher_numbers, a, b)\n",
    "                if decrypted_text:\n",
    "                    print(f\"a = {a}, b = {b} -> {decrypted_text}\")\n",
    "\n",
    "# Given ciphertext as numbers\n",
    "cipher_numbers = [16, 9, 3, 15, 3, 20, 6, 20, 8, 5, 14, 21, 13, 2, 5, 18, 19, 13, 1, 19, 15, 14]\n",
    "\n",
    "# Run the brute-force attack\n",
    "brute_force_affine(cipher_numbers)\n",
    "\n"
   ]
  },
  {
   "cell_type": "markdown",
   "metadata": {},
   "source": [
    "For a=1, b=1, we get the decrypted text:a = 1, b = 1 -> PICOCTFTHENUMBERSMASON"
   ]
  },
  {
   "cell_type": "markdown",
   "metadata": {},
   "source": [
    "## PicoCTF Question 3 - Custom encryption"
   ]
  },
  {
   "cell_type": "markdown",
   "metadata": {},
   "source": [
    "Can you get sense of this code file and write the function that will decode the given encrypted file content.  \n",
    "a = 97  \n",
    "b = 22  \n",
    "cipher is: [151146, 1158786, 1276344, 1360314, 1427490, 1377108, 1074816, 1074816, 386262, 705348, 0, 1393902, 352674, 83970, 1141992, 0, 369468, 1444284, 16794, 1041228, 403056, 453438, 100764, 100764, 285498, 100764, 436644, 856494, 537408, 822906, 436644, 117558, 201528, 285498]\n"
   ]
  },
  {
   "cell_type": "code",
   "execution_count": 26,
   "metadata": {},
   "outputs": [
    {
     "name": "stdout",
     "output_type": "stream",
     "text": [
      "a = 93\n",
      "b = 27\n",
      "key = 27\n",
      "cipher is: [218322, 243513, 50382, 117558, 629775, 25191, 537408, 151146, 184734, 167940, 16794, 58779, 25191, 646569, 579393, 184734, 134352, 722142, 688554, 16794, 537408, 193131, 537408, 184734, 722142, 33588, 688554, 159543, 646569, 629775, 596187, 772524, 688554, 0, 570996, 176337, 554202, 545805, 713745, 705348, 722142, 570996, 554202, 134352, 545805, 730539, 159543, 638172, 209925, 142749, 235116, 58779, 8397, 117558, 512217, 134352, 209925, 226719, 8397, 83970, 134352, 159543, 344277, 50382, 193131, 8397, 243513, 176337, 167940, 260307, 335880, 176337, 226719, 109161, 67176, 0, 218322, 319086, 386262, 167940, 134352, 33588, 310689, 41985, 33588, 428247, 344277, 41985, 193131, 0, 142749, 218322, 193131, 50382, 470232, 184734, 159543, 134352, 58779, 327483, 344277, 789318, 50382, 772524, 159543, 747333, 797715]\n"
     ]
    }
   ],
   "source": [
    "from random import randint\n",
    "import sys\n",
    "\n",
    "\n",
    "def generator(g, x, p):\n",
    "    return pow(g, x) % p\n",
    "\n",
    "\n",
    "def encrypt(plaintext, key):\n",
    "    print(\"key =\",key)\n",
    "    cipher = []\n",
    "    for char in plaintext:\n",
    "        cipher.append(((ord(char) * key*311)))\n",
    "    return cipher\n",
    "\n",
    "\n",
    "def is_prime(p):\n",
    "    v = 0\n",
    "    for i in range(2, p + 1):\n",
    "        if p % i == 0:\n",
    "            v = v + 1\n",
    "    if v > 1:\n",
    "        return False\n",
    "    else:\n",
    "        return True\n",
    "\n",
    "\n",
    "def dynamic_xor_encrypt(plaintext, text_key):\n",
    "    cipher_text = \"\"\n",
    "    key_length = len(text_key)\n",
    "    for i, char in enumerate(plaintext[::-1]):\n",
    "        key_char = text_key[i % key_length]\n",
    "        encrypted_char = chr(ord(char) ^ ord(key_char))\n",
    "        cipher_text += encrypted_char\n",
    "    return cipher_text\n",
    "\n",
    "\n",
    "def test(plain_text, text_key):\n",
    "    p = 97\n",
    "    g = 31\n",
    "    if not is_prime(p) and not is_prime(g):\n",
    "        print(\"Enter prime numbers\")\n",
    "        return\n",
    "    a = randint(p-10, p)\n",
    "    b = randint(g-10, g)\n",
    "    print(f\"a = {a}\")\n",
    "    print(f\"b = {b}\")\n",
    "    u = generator(g, a, p)\n",
    "    v = generator(g, b, p)\n",
    "    key = generator(v, a, p)\n",
    "    b_key = generator(u, b, p)\n",
    "    shared_key = None\n",
    "    if key == b_key:\n",
    "        shared_key = key\n",
    "    else:\n",
    "        print(\"Invalid key\")\n",
    "        return\n",
    "    semi_cipher = dynamic_xor_encrypt(plain_text, text_key)\n",
    "    cipher = encrypt(semi_cipher, shared_key)\n",
    "    print(f'cipher is: {cipher}')\n",
    "\n",
    "\n",
    "if __name__ == \"__main__\":\n",
    "    message = sys.argv[1]\n",
    "    test(message, \"trudeau\")\n"
   ]
  },
  {
   "cell_type": "markdown",
   "metadata": {},
   "source": [
    "In this case, it first uses two numbers: a prime number (p = 97) and a generator (g = 31). It then randomly generates the private keys for the two values and generates the public keys for each. With these two keys, it generates the shared key. It takes the text key and the text to perform XOR encryption, and with the output, it uses the shared key (which is a number) to encrypt it further, multiplying each character's Unicode value by the key times 311.\n",
    "\n",
    "To decrypt it, we first need to obtain the shared key. We take the same values (p = 97, g = 31) and the private key values of a and b into the generator function to get the public keys for each letter, which we then use to calculate the shared key. We multiply the shared key by 311, and then divide each number from the given cipher by the value obtained. This returns a list of numbers, which we then convert to characters. Then, we use XOR and the same text key (trudeau) for the XOR decipher."
   ]
  },
  {
   "cell_type": "code",
   "execution_count": 37,
   "metadata": {},
   "outputs": [
    {
     "name": "stdout",
     "output_type": "stream",
     "text": [
      "Decrypted message: picoCTF{custom_d2cr0pt6d_e4530597}\n"
     ]
    }
   ],
   "source": [
    "a = 97  \n",
    "b = 22  \n",
    "\n",
    "def generator(g, x, p):\n",
    "    return pow(g, x) % p\n",
    "\n",
    "def dynamic_xor_decrypt(cipher_text, text_key):\n",
    "    decrypted_text = \"\"\n",
    "    key_length = len(text_key)\n",
    "    for i, char in enumerate(cipher_text):\n",
    "        key_char = text_key[i % key_length]\n",
    "        decrypted_char = chr(ord(char) ^ ord(key_char))\n",
    "        decrypted_text = decrypted_char + decrypted_text \n",
    "    return decrypted_text\n",
    "\n",
    "def decrypt(cipher, text_key):\n",
    "    p = 97\n",
    "    g = 31\n",
    "    u = generator(g, a, p)\n",
    "    v = generator(g, b, p)\n",
    "    key = generator(v, a, p)\n",
    "    shared_key = key\n",
    "    factor = shared_key * 311\n",
    "    semi_decrypted_ascii = [int(c // factor) for c in cipher]\n",
    "    semi_decrypted_text = ''.join([chr(c) for c in semi_decrypted_ascii])\n",
    "    decrypted_text = dynamic_xor_decrypt(semi_decrypted_text, text_key)\n",
    "\n",
    "    return decrypted_text\n",
    "\n",
    "cipher = [151146, 1158786, 1276344, 1360314, 1427490, 1377108, 1074816, 1074816, 386262, 705348, 0, \n",
    "          1393902, 352674, 83970, 1141992, 0, 369468, 1444284, 16794, 1041228, 403056, 453438, 100764, \n",
    "          100764, 285498, 100764, 436644, 856494, 537408, 822906, 436644, 117558, 201528, 285498]\n",
    "text_key = 'trudeau'\n",
    "decrypted_message = decrypt(cipher, text_key)\n",
    "print(f\"Decrypted message: {decrypted_message}\")\n"
   ]
  },
  {
   "cell_type": "markdown",
   "metadata": {},
   "source": [
    "method 2"
   ]
  },
  {
   "cell_type": "markdown",
   "metadata": {},
   "source": [
    "updated implementation of the decryption algorithm encapsulated in a class"
   ]
  },
  {
   "cell_type": "code",
   "execution_count": 78,
   "metadata": {},
   "outputs": [
    {
     "name": "stdout",
     "output_type": "stream",
     "text": [
      "Decrypted message: }c138c910_d6tp0rc2d_motsuc{FTCocip\n"
     ]
    }
   ],
   "source": [
    "class CipherDecryptor:\n",
    "    def __init__(self, a, b, text_key):\n",
    "        self.a = a\n",
    "        self.b = b\n",
    "        self.text_key = text_key\n",
    "        self.p = 97  # prime number\n",
    "        self.g = 31  # generator\n",
    "\n",
    "    def generator(self, g, x, p):\n",
    "        \"\"\"Calculates g^x mod p.\"\"\"\n",
    "        return pow(g, x, p)\n",
    "\n",
    "    def dynamic_xor_decrypt(self, cipher_text):\n",
    "        \"\"\"Decrypts the text using dynamic XOR with the text key.\"\"\"\n",
    "        decrypted_text = \"\"\n",
    "        key_length = len(self.text_key)\n",
    "        \n",
    "        for i, char in enumerate(cipher_text):\n",
    "            key_char = self.text_key[i % key_length]\n",
    "            decrypted_char = chr(ord(char) ^ ord(key_char))\n",
    "            decrypted_text += decrypted_char  # Concatenates to form the decrypted string\n",
    "\n",
    "        return decrypted_text\n",
    "\n",
    "    def decrypt(self, cipher):\n",
    "        \"\"\"Main decryption function.\"\"\"\n",
    "        u = self.generator(self.g, self.a, self.p)\n",
    "        v = self.generator(self.g, self.b, self.p)\n",
    "        key = self.generator(v, self.a, self.p)\n",
    "        shared_key = key\n",
    "        factor = shared_key * 311\n",
    "\n",
    "        # Semi-decrypting ASCII values\n",
    "        semi_decrypted_ascii = [int(c // factor) for c in cipher]\n",
    "        semi_decrypted_text = ''.join(chr(c) for c in semi_decrypted_ascii)\n",
    "        \n",
    "        # Dynamic XOR decryption\n",
    "        decrypted_text = self.dynamic_xor_decrypt(semi_decrypted_text)\n",
    "        return decrypted_text\n",
    "\n",
    "# Cipher text and key\n",
    "cipher = [\n",
    "    97965, 185045, 740180, 946995, 1012305,\n",
    "    21770, 827260, 751065, 718410, 457170,\n",
    "    0, 903455, 228585, 54425, 740180,\n",
    "    0, 239470, 936110, 10885, 674870,\n",
    "    261240, 293895, 65310, 65310, 185045,\n",
    "    65310, 283010, 555135, 348320, 533365,\n",
    "    283010, 76195, 130620, 185045\n",
    "]\n",
    "text_key = 'trudeau'\n",
    "\n",
    "# Decrypting the message\n",
    "decryptor = CipherDecryptor(a=88, b=26, text_key=text_key)\n",
    "decrypted_message = decryptor.decrypt(cipher)\n",
    "print(f\"Decrypted message: {decrypted_message}\")\n",
    "\n"
   ]
  },
  {
   "cell_type": "markdown",
   "metadata": {},
   "source": [
    "### PicoCTF Question 4 - C3"
   ]
  },
  {
   "cell_type": "markdown",
   "metadata": {},
   "source": [
    "Cyphertext = DLSeGAGDgBNJDQJDCFSFnRBIDjgHoDFCFtHDgJpiHtGDmMAQFnRBJKkBAsTMrsPSDDnEFCFtIbEDtDCIbFCFtHTJDKerFldbFObFCFtLBFkBAAAPFnRBJGEkerFlcPgKkImHnIlATJDKbTbFOkdNnsgbnJRMFnRBNAFkBAAAbrcbTKAkOgFpOgFpOpkBAAAAAAAiClFGIPFnRBaKliCgClFGtIBAAAAAAAOgGEkImHnIl\n",
    "\n",
    "Convert:"
   ]
  },
  {
   "cell_type": "code",
   "execution_count": null,
   "metadata": {},
   "outputs": [],
   "source": [
    "import sys\n",
    "chars = \"\"\n",
    "from fileinput import input\n",
    "for line in input():\n",
    "  chars += line\n",
    "\n",
    "lookup1 = \"\\n \\\"#()*+/1:=[]abcdefghijklmnopqrstuvwxyz\"\n",
    "lookup2 = \"ABCDEFGHIJKLMNOPQRSTabcdefghijklmnopqrst\"\n",
    "\n",
    "out = \"\"\n",
    "\n",
    "prev = 0\n",
    "for char in chars:\n",
    "  cur = lookup1.index(char)\n",
    "  out += lookup2[(cur - prev) % 40]\n",
    "  prev = cur\n",
    "\n",
    "sys.stdout.write(out)\n"
   ]
  },
  {
   "cell_type": "code",
   "execution_count": 37,
   "metadata": {},
   "outputs": [
    {
     "name": "stdout",
     "output_type": "stream",
     "text": [
      "#asciiorder\n",
      "#fortychars\n",
      "#selfinput\n",
      "#pythontwo\n",
      "\n",
      "chars = \"\"\n",
      "from fileinput import input\n",
      "for line in input():\n",
      "    chars += line\n",
      "b = 1 / 1\n",
      "\n",
      "for i in range(len(chars)):\n",
      "    if i == b * b * b:\n",
      "        print chars[i] #prints\n",
      "        b += 1 / 1\n",
      "\n"
     ]
    }
   ],
   "source": [
    "cyphertext = 'DLSeGAGDgBNJDQJDCFSFnRBIDjgHoDFCFtHDgJpiHtGDmMAQFnRBJKkBAsTMrsPSDDnEFCFtIbEDtDCIbFCFtHTJDKerFldbFObFCFtLBFkBAAAPFnRBJGEkerFlcPgKkImHnIlATJDKbTbFOkdNnsgbnJRMFnRBNAFkBAAAbrcbTKAkOgFpOgFpOpkBAAAAAAAiClFGIPFnRBaKliCgClFGtIBAAAAAAAOgGEkImHnIl'\n",
    "\n",
    "lookup1 = \"\\n \\\"#()*+/1:=[]abcdefghijklmnopqrstuvwxyz\"\n",
    "lookup2 = \"ABCDEFGHIJKLMNOPQRSTabcdefghijklmnopqrst\"\n",
    "out = ''\n",
    "prev = 0\n",
    "\n",
    "for char in cyphertext:\n",
    "    index = lookup2.index(char)\n",
    "    cur = lookup1[(index+prev)%40]\n",
    "    prev=lookup1.index(cur)\n",
    "    out += cur\n",
    "print(out)"
   ]
  },
  {
   "cell_type": "code",
   "execution_count": 35,
   "metadata": {},
   "outputs": [
    {
     "name": "stdout",
     "output_type": "stream",
     "text": [
      "a\n",
      "d\n",
      "l\n",
      "i\n",
      "b\n",
      "s\n"
     ]
    }
   ],
   "source": [
    "#asciiorder\n",
    "#fortychars\n",
    "#selfinput\n",
    "#pythontwo\n",
    "\n",
    "chars = \"\"\n",
    "for line in out:\n",
    "    chars += line\n",
    "b = 1 / 1\n",
    "\n",
    "for i in range(len(chars)):\n",
    "    if i == b * b * b:\n",
    "        print(chars[i]) #prints\n",
    "        b += 1 / 1\n",
    "\n"
   ]
  },
  {
   "cell_type": "markdown",
   "metadata": {},
   "source": [
    "method 2"
   ]
  },
  {
   "cell_type": "code",
   "execution_count": 42,
   "metadata": {},
   "outputs": [
    {
     "name": "stdout",
     "output_type": "stream",
     "text": [
      "#asciiorder\n",
      "#fortychars\n",
      "#selfinput\n",
      "#pythontwo\n",
      "\n",
      "chars = \"\"\n",
      "from fileinput import input\n",
      "for line in input():\n",
      "    chars += line\n",
      "b = 1 / 1\n",
      "\n",
      "for i in range(len(chars)):\n",
      "    if i == b * b * b:\n",
      "        print chars[i] #prints\n",
      "        b += 1 / 1\n",
      "\n"
     ]
    }
   ],
   "source": [
    "cyphertext = 'DLSeGAGDgBNJDQJDCFSFnRBIDjgHoDFCFtHDgJpiHtGDmMAQFnRBJKkBAsTMrsPSDDnEFCFtIbEDtDCIbFCFtHTJDKerFldbFObFCFtLBFkBAAAPFnRBJGEkerFlcPgKkImHnIlATJDKbTbFOkdNnsgbnJRMFnRBNAFkBAAAbrcbTKAkOgFpOgFpOpkBAAAAAAAiClFGIPFnRBaKliCgClFGtIBAAAAAAAOgGEkImHnIl'\n",
    "\n",
    "lookup1 = \"\\n \\\"#()*+/1:=[]abcdefghijklmnopqrstuvwxyz\"\n",
    "lookup2 = \"ABCDEFGHIJKLMNOPQRSTabcdefghijklmnopqrst\"\n",
    "out = ''\n",
    "prev = 0\n",
    "\n",
    "for char in cyphertext:\n",
    "    index = lookup2.index(char)\n",
    "    cur = lookup1[(index+prev)%40]\n",
    "    prev=lookup1.index(cur)\n",
    "    out += cur\n",
    "print(out)"
   ]
  },
  {
   "cell_type": "markdown",
   "metadata": {},
   "source": [
    "This is code written in python2 so this script is converted to python3 and removed some minor redundancies."
   ]
  },
  {
   "cell_type": "code",
   "execution_count": 43,
   "metadata": {},
   "outputs": [
    {
     "name": "stdout",
     "output_type": "stream",
     "text": [
      "a\n",
      "d\n",
      "l\n",
      "i\n",
      "b\n",
      "s\n"
     ]
    }
   ],
   "source": [
    "chars = \"\"\n",
    "for line in out:\n",
    "    chars += line\n",
    "b = 1 / 1\n",
    "\n",
    "for i in range(len(chars)):\n",
    "    if i == b * b * b:\n",
    "        print(chars[i]) #prints\n",
    "        b += 1 / 1\n",
    "\n"
   ]
  },
  {
   "cell_type": "markdown",
   "metadata": {},
   "source": [
    "### PicoCTF Question 5 - Rotation"
   ]
  },
  {
   "cell_type": "code",
   "execution_count": 62,
   "metadata": {},
   "outputs": [],
   "source": [
    "cypher = 'xqkwKBN{z0bib1wv_l3kzgxb3l_555957n3}'"
   ]
  },
  {
   "cell_type": "markdown",
   "metadata": {},
   "source": [
    "### Method 1\n",
    "Since the title says rotation, we tried with rot13 from cybercheff. We got this output:  \n",
    "\n",
    "Amount =  1: yrlxLCO{a0cjc1xw_m3lahyc3m_555957o3}  \n",
    "Amount =  2: zsmyMDP{b0dkd1yx_n3mbizd3n_555957p3}  \n",
    "Amount =  3: atnzNEQ{c0ele1zy_o3ncjae3o_555957q3}  \n",
    "Amount =  4: buoaOFR{d0fmf1az_p3odkbf3p_555957r3}  \n",
    "Amount =  5: cvpbPGS{e0gng1ba_q3pelcg3q_555957s3}  \n",
    "Amount =  6: dwqcQHT{f0hoh1cb_r3qfmdh3r_555957t3}  \n",
    "Amount =  7: exrdRIU{g0ipi1dc_s3rgnei3s_555957u3}  \n",
    "Amount =  8: fyseSJV{h0jqj1ed_t3shofj3t_555957v3}  \n",
    "Amount =  9: gztfTKW{i0krk1fe_u3tipgk3u_555957w3}  \n",
    "Amount = 10: haugULX{j0lsl1gf_v3ujqhl3v_555957x3}  \n",
    "Amount = 11: ibvhVMY{k0mtm1hg_w3vkrim3w_555957y3}  \n",
    "Amount = 12: jcwiWNZ{l0nun1ih_x3wlsjn3x_555957z3}  \n",
    "Amount = 13: kdxjXOA{m0ovo1ji_y3xmtko3y_555957a3}  \n",
    "Amount = 14: leykYPB{n0pwp1kj_z3ynulp3z_555957b3}  \n",
    "Amount = 15: mfzlZQC{o0qxq1lk_a3zovmq3a_555957c3}  \n",
    "Amount = 16: ngamARD{p0ryr1ml_b3apwnr3b_555957d3}  \n",
    "Amount = 17: ohbnBSE{q0szs1nm_c3bqxos3c_555957e3}    \n",
    "Amount = 18: picoCTF{r0tat1on_d3crypt3d_555957f3}  \n",
    "Amount = 19: qjdpDUG{s0ubu1po_e3dszqu3e_555957g3}  \n",
    "Amount = 20: rkeqEVH{t0vcv1qp_f3etarv3f_555957h3}  \n",
    "Amount = 21: slfrFWI{u0wdw1rq_g3fubsw3g_555957i3}  \n",
    "Amount = 22: tmgsGXJ{v0xex1sr_h3gvctx3h_555957j3}  \n",
    "Amount = 23: unhtHYK{w0yfy1ts_i3hwduy3i_555957k3}  \n",
    "Amount = 24: voiuIZL{x0zgz1ut_j3ixevz3j_555957l3}  \n",
    "Amount = 25: wpjvJAM{y0aha1vu_k3jyfwa3k_555957m3}  \n",
    "\n",
    "from which the only reasonable answer is picoCTF{r0tat1on_d3crypt3d_555957f3}"
   ]
  },
  {
   "cell_type": "markdown",
   "metadata": {},
   "source": [
    "Method 2"
   ]
  },
  {
   "cell_type": "markdown",
   "metadata": {},
   "source": [
    "perform a brute-force rotation over all possible shift values (0 through 25) and print the output for each"
   ]
  },
  {
   "cell_type": "code",
   "execution_count": 44,
   "metadata": {},
   "outputs": [],
   "source": [
    "cypher2 = 'xqkwKBN{z0bib1wv_l3kzgxb3l_4k71n5j0}'"
   ]
  },
  {
   "cell_type": "code",
   "execution_count": 46,
   "metadata": {},
   "outputs": [
    {
     "name": "stdout",
     "output_type": "stream",
     "text": [
      "Shift 0: xqkwKBN{z0bib1wv_l3kzgxb3l_4k71n5j0}\n",
      "Shift 1: yrlxLCO{a0cjc1xw_m3lahyc3m_4l71o5k0}\n",
      "Shift 2: zsmyMDP{b0dkd1yx_n3mbizd3n_4m71p5l0}\n",
      "Shift 3: atnzNEQ{c0ele1zy_o3ncjae3o_4n71q5m0}\n",
      "Shift 4: buoaOFR{d0fmf1az_p3odkbf3p_4o71r5n0}\n",
      "Shift 5: cvpbPGS{e0gng1ba_q3pelcg3q_4p71s5o0}\n",
      "Shift 6: dwqcQHT{f0hoh1cb_r3qfmdh3r_4q71t5p0}\n",
      "Shift 7: exrdRIU{g0ipi1dc_s3rgnei3s_4r71u5q0}\n",
      "Shift 8: fyseSJV{h0jqj1ed_t3shofj3t_4s71v5r0}\n",
      "Shift 9: gztfTKW{i0krk1fe_u3tipgk3u_4t71w5s0}\n",
      "Shift 10: haugULX{j0lsl1gf_v3ujqhl3v_4u71x5t0}\n",
      "Shift 11: ibvhVMY{k0mtm1hg_w3vkrim3w_4v71y5u0}\n",
      "Shift 12: jcwiWNZ{l0nun1ih_x3wlsjn3x_4w71z5v0}\n",
      "Shift 13: kdxjXOA{m0ovo1ji_y3xmtko3y_4x71a5w0}\n",
      "Shift 14: leykYPB{n0pwp1kj_z3ynulp3z_4y71b5x0}\n",
      "Shift 15: mfzlZQC{o0qxq1lk_a3zovmq3a_4z71c5y0}\n",
      "Shift 16: ngamARD{p0ryr1ml_b3apwnr3b_4a71d5z0}\n",
      "Shift 17: ohbnBSE{q0szs1nm_c3bqxos3c_4b71e5a0}\n",
      "Shift 18: picoCTF{r0tat1on_d3crypt3d_4c71f5b0}\n",
      "Shift 19: qjdpDUG{s0ubu1po_e3dszqu3e_4d71g5c0}\n",
      "Shift 20: rkeqEVH{t0vcv1qp_f3etarv3f_4e71h5d0}\n",
      "Shift 21: slfrFWI{u0wdw1rq_g3fubsw3g_4f71i5e0}\n",
      "Shift 22: tmgsGXJ{v0xex1sr_h3gvctx3h_4g71j5f0}\n",
      "Shift 23: unhtHYK{w0yfy1ts_i3hwduy3i_4h71k5g0}\n",
      "Shift 24: voiuIZL{x0zgz1ut_j3ixevz3j_4i71l5h0}\n",
      "Shift 25: wpjvJAM{y0aha1vu_k3jyfwa3k_4j71m5i0}\n"
     ]
    }
   ],
   "source": [
    "def rotate_string(s, shift):\n",
    "    rotated = []\n",
    "    \n",
    "    for char in s:\n",
    "        if char.islower():  # Rotate lowercase letters\n",
    "            rotated_char = chr(((ord(char) - ord('a') + shift) % 26) + ord('a'))\n",
    "        elif char.isupper():  # Rotate uppercase letters\n",
    "            rotated_char = chr(((ord(char) - ord('A') + shift) % 26) + ord('A'))\n",
    "        else:\n",
    "            # Leave non-alphabet characters unchanged\n",
    "            rotated_char = char\n",
    "        \n",
    "        rotated.append(rotated_char)\n",
    "    \n",
    "    return ''.join(rotated)\n",
    "\n",
    "# Try all possible shifts (0 to 25)\n",
    "cypher2 = 'xqkwKBN{z0bib1wv_l3kzgxb3l_4k71n5j0}'\n",
    "\n",
    "for shift_value in range(26):\n",
    "    rotated_message = rotate_string(cypher2, shift_value)\n",
    "    print(f\"Shift {shift_value}: {rotated_message}\")\n",
    "\n"
   ]
  },
  {
   "cell_type": "markdown",
   "metadata": {},
   "source": [
    "# Question 2  \n",
    "Prove that if a cryptosystem has perfect secrecy and |K|= |C|= |P|, then every ciphertext is equally probable"
   ]
  },
  {
   "cell_type": "markdown",
   "metadata": {},
   "source": [
    "Given |K| = |C| = |P| where K = is the size of the key space, C is the size of the ciphertext space and P is the size of plaintext space, we asume (as defined by perfect secrecy), that for every plaintext x and ciphertext y, there is a unique key.  \n",
    "\n",
    "Also we asume P(x|y) = P(x), which means knowing y (ciphertext) gives no aditional information on x (plaintext).  \n",
    "\n",
    "Now, with Bayes theorem: $P(x|y) = {P(y|x)P(x) \\over P(y)}$ we can subsitute P(x) value, giving $ P(x) = { P(y|x)P(x) \\over P(y) } $, then canceling P(x) we get $ P(y) = P(y|x) $, which means the probability of generating a cipher text is the same for every plaintext, or in other words, every ciphertext is equally probable"
   ]
  },
  {
   "cell_type": "markdown",
   "metadata": {},
   "source": [
    "## Question 3\n",
    "\n",
    "Suppose that APNDJI or XYGROBO are ciphertexts that are obtained from encryption using the Shift Cipher. Show in each case that there are two ”meaningful” plaintexts that could encrypt to the given ciphertext.  \n",
    "\n",
    "\n",
    "To easily solve this excersice, we create a script that shows a given number of iterations of the shiftccipher, and then we analyze the results to determine the two meaningful words"
   ]
  },
  {
   "cell_type": "code",
   "execution_count": 4,
   "metadata": {},
   "outputs": [],
   "source": [
    "def shift(text):\n",
    "    result = ''\n",
    "    for char in text:\n",
    "        new_char = chr((ord(char) + 1 - 65) % 26 + 65)\n",
    "        result += new_char\n",
    "    return result"
   ]
  },
  {
   "cell_type": "code",
   "execution_count": 25,
   "metadata": {},
   "outputs": [
    {
     "name": "stdout",
     "output_type": "stream",
     "text": [
      "iteration number 0 BQOEKJ\n",
      "iteration number 1 CRPFLK\n",
      "iteration number 2 DSQGML\n",
      "iteration number 3 ETRHNM\n",
      "iteration number 4 FUSION\n",
      "iteration number 5 GVTJPO\n",
      "iteration number 6 HWUKQP\n",
      "iteration number 7 IXVLRQ\n",
      "iteration number 8 JYWMSR\n",
      "iteration number 9 KZXNTS\n",
      "iteration number 10 LAYOUT\n"
     ]
    }
   ],
   "source": [
    "#For APNDJI\n",
    "cipherText = 'APNDJI'\n",
    "for i in range(11):\n",
    "    cipherText = shift(cipherText)\n",
    "    print(f\"iteration number {i}\",cipherText)"
   ]
  },
  {
   "cell_type": "markdown",
   "metadata": {},
   "source": [
    "For APNDJI we can see that with 11 iterations we found the two meaningful words, being FUSION in the iteration number 4, and LAYOUT in the iteration 10."
   ]
  },
  {
   "cell_type": "code",
   "execution_count": 7,
   "metadata": {},
   "outputs": [
    {
     "name": "stdout",
     "output_type": "stream",
     "text": [
      "iteration number 0 YZHSPCP\n",
      "iteration number 1 ZAITQDQ\n",
      "iteration number 2 ABJURER\n",
      "iteration number 3 BCKVSFS\n",
      "iteration number 4 CDLWTGT\n",
      "iteration number 5 DEMXUHU\n",
      "iteration number 6 EFNYVIV\n",
      "iteration number 7 FGOZWJW\n",
      "iteration number 8 GHPAXKX\n",
      "iteration number 9 HIQBYLY\n",
      "iteration number 10 IJRCZMZ\n",
      "iteration number 11 JKSDANA\n",
      "iteration number 12 KLTEBOB\n",
      "iteration number 13 LMUFCPC\n",
      "iteration number 14 MNVGDQD\n",
      "iteration number 15 NOWHERE\n",
      "iteration number 16 OPXIFSF\n",
      "iteration number 17 PQYJGTG\n",
      "iteration number 18 QRZKHUH\n",
      "iteration number 19 RSALIVI\n",
      "iteration number 20 STBMJWJ\n",
      "iteration number 21 TUCNKXK\n",
      "iteration number 22 UVDOLYL\n",
      "iteration number 23 VWEPMZM\n",
      "iteration number 24 WXFQNAN\n",
      "iteration number 25 XYGROBO\n"
     ]
    }
   ],
   "source": [
    "#For XYGROBO\n",
    "cipherText = 'XYGROBO'\n",
    "for i in range(26):\n",
    "    cipherText = shift(cipherText)\n",
    "    print(f\"iteration number {i}\",cipherText)"
   ]
  },
  {
   "cell_type": "markdown",
   "metadata": {},
   "source": [
    "For XYGROBO we found the meaningful results in iteration 15 (NOWHERE) and in iteration 2 (ABJURER)"
   ]
  },
  {
   "cell_type": "markdown",
   "metadata": {},
   "source": [
    "# Question 4\n",
    "Compute H(K|C) and H(K|P, C) for the Affine Cipher, assuming that keys are used equiprobably and the plaintexts are equiprobable.\n"
   ]
  },
  {
   "cell_type": "markdown",
   "metadata": {},
   "source": [
    "# Entropy Calculations for the Affine Cipher\n",
    "\n",
    "## 1. H(K|C): Conditional Entropy of the Key Space Given the Ciphertext\n",
    "\n",
    "### Description\n",
    "H(K|C) measures the remaining uncertainty about the key when only the ciphertext \\( C \\) is known. In the case of the affine cipher, although the cipher is deterministic (i.e., for each key \\( (a, b) \\), there is a unique ciphertext that can be generated from a plaintext), this does not mean that knowing \\( C \\) alone allows us to determine the key uniquely.\n",
    "\n",
    "### Why It Is Not 0:\n",
    "- The issue is that without knowing the original plaintext \\( P \\), multiple combinations of \\( (a, b) \\) could have produced the same ciphertext \\( C \\). This is because, if only the ciphertext value is known and not the plaintext, there is not enough information to disambiguate between the possible keys.\n",
    "- Since all keys and plaintexts are assumed to be equally likely, \\( C \\) alone does not reduce the uncertainty about which key was used. Therefore, the conditional entropy \\( H(K|C) \\) is equal to the total entropy of the key space, \\( H(K) \\).\n",
    "\n",
    "\n",
    "H(K|C) = H(K) = log₂(φ(m) × m)\n",
    "\n",
    "Where φ(m) is Euler's totient function (counting numbers coprime with m) and m is the alphabet size.\n",
    "\n",
    "### Example\n",
    "For an alphabet of size m = 26 (English alphabet):\n",
    "\n",
    "- Valid values for a are those coprime with 26 (having multiplicative inverses modulo 26)\n",
    "- There are 12 possible values for a: {1, 3, 5, 7, 9, 11, 15, 17, 19, 21, 23, 25}\n",
    "- For each a, there are 26 possible values for b (0 to 25)\n",
    "\n",
    "Total key space size:\n",
    "\n",
    "Thus, the total number of possible keys is:\n",
    "|K| = φ(26) × 26 = 12 × 26 = 312\n",
    "\n",
    "If we receive C = 10 without knowing the plaintext, multiple (a, b) combinations could generate this C. Thus, uncertainty remains equal to H(K) because multiple keys could produce the same ciphertext\n",
    "\n",
    "## 2.H(K|P, C): Conditional Entropy of the Key Space Given the Plaintext and the Ciphertext\n",
    "\n",
    "### Description\n",
    "H(K|P, C) measures the remaining uncertainty about the key when both the plaintext \\( P \\) and the ciphertext \\( C \\) are known. In this case, the key can be determined uniquely because we know the exact relationship between \\( P \\) and \\( C \\) in the affine cipher.\n",
    "\n",
    "### Why It Is 0:\n",
    "- In the affine cipher, the relationship between \\( P \\), \\( C \\), and the key \\( (a, b) \\) is given by:\n",
    "C ≡ (a · P + b) \\bmod m\n",
    "and, by reversing the process, if we know \\( P \\) and \\( C \\), we can solve to find \\( a \\) and \\( b \\) uniquely. For instance:\n",
    "a ≡ (C - b)P^{-1} \\bmod m\n",
    "Having the pair \\( (P, C) \\), we can test all possible values of \\( a \\) and find the one that satisfies this relation, eliminating all uncertainty.\n",
    "\n",
    "H(K|P, C) = 0\n",
    "\n",
    "\n",
    "### Example\n",
    "Let’s again consider an alphabet of 26 letters and assume we know that the plaintext \\( P = 5 \\) and the ciphertext \\( C = 10 \\). Given that we know both \\( P \\) and \\( C \\), we can use the affine cipher equations to find the specific values of \\( a \\) and \\( b \\) that satisfy this relationship. Suppose \\( a = 3 \\) and \\( b = 4 \\). Only this combination of \\( a \\) and \\( b \\) can transform \\( P = 5 \\) into \\( C = 10 \\). Therefore, knowing \\( P \\) and \\( C \\) allows us to determine the key uniquely, and there is no remaining uncertainty.\n",
    "\n",
    "## Conclusions of each case\n",
    "\n",
    "- H(K|C) = log₂(φ(m) × m): The uncertainty about the key is not reduced by knowing only the ciphertext, as multiple keys could produce the same \\( C \\). Therefore, the conditional entropy remains the same as the entropy of the entire key space.\n",
    "\n",
    "- H(K|P, C) = 0: Knowing both the plaintext and the ciphertext allows us to determine the key uniquely, eliminating all uncertainty.\n",
    "\n",
    "These examples and detailed explanations demonstrate why the conditional entropies have the specific values calculated for the affine cipher.\n"
   ]
  },
  {
   "cell_type": "markdown",
   "metadata": {},
   "source": [
    "# Question 5  \n",
    "Below are given four examples of ciphertext, one obtained from a Substitution Cipher, one from a Vigen` ere Cipher, one from an Affine Cipher, and one unspecified. In each case, the task is to determine the plaintext. Give a clearly written description of the steps you followed to decrypt each ciphertext. This should include all statistical analysis and computations you performed. The first two plaintexts were taken from The Diary of Samuel Marchbanks, by Robertson Davies, Clarke Irwin, 1947; the fourth was taken from Lake Wobegon Days, by Garrison Keillor, Viking Penguin, Inc., 1985.\n",
    "### Substitution Cipher\n",
    "EMGLOSUDCGDNCUSWYSFHNSFCYKDPUMLWGYICOXYSIPJCKQPKUGKMGOLICGINCGACKSNISACYKZSCKXECJCKSHYSXCGOIDPKZCNKSHICGIWYGKKGKGOLDSILKGOIUSIGLEDSPWZUGFZCCNDGYYSFUSZCNXEOJNCGYEOWEUPXEZGACGNFGLKNSACIGOIYCKXCJUCIUZCFZCCNDGYYSFEUEKUZCSOCFZCCNCIACZEJNCSHFZEJZEGMXCYHCJUMGKUCY"
   ]
  },
  {
   "cell_type": "code",
   "execution_count": 48,
   "metadata": {},
   "outputs": [],
   "source": [
    "cipher_text = 'EMGLOSUDCGDNCUSWYSFHNSFCYKDPUMLWGYICOXYSIPJCKQPKUGKMGOLICGINCGACKSNISACYKZSCKXECJCKSHYSXCGOIDPKZCNKSHICGIWYGKKGKGOLDSILKGOIUSIGLEDSPWZUGFZCCNDGYYSFUSZCNXEOJNCGYEOWEUPXEZGACGNFGLKNSACIGOIYCKXCJUCIUZCFZCCNDGYYSFEUEKUZCSOCFZCCNCIACZEJNCSHFZEJZEGMXCYHCJUMGKUCY'"
   ]
  },
  {
   "cell_type": "markdown",
   "metadata": {},
   "source": [
    "Functions to and handle data"
   ]
  },
  {
   "cell_type": "code",
   "execution_count": 49,
   "metadata": {},
   "outputs": [
    {
     "name": "stdout",
     "output_type": "stream",
     "text": [
      "Counter({'C': 37, 'G': 24, 'S': 20, 'K': 18, 'Y': 15, 'I': 15, 'U': 14, 'N': 13, 'Z': 13, 'E': 12, 'O': 10, 'F': 9, 'D': 8, 'L': 7, 'X': 7, 'J': 7, 'P': 6, 'M': 5, 'W': 5, 'H': 5, 'A': 5, 'Q': 1})\n"
     ]
    }
   ],
   "source": [
    "from collections import Counter\n",
    "\n",
    "def get_bigrams(text):\n",
    "    bigrams = [text[i:i+2] for i in range(len(text) - 1)]\n",
    "    bigram_counts = Counter(bigrams)\n",
    "    most_common_bigrams = bigram_counts.most_common(10)\n",
    "    print(most_common_bigrams)\n",
    "\n",
    "def get_trigrams(text):\n",
    "    trigrams = [text[i:i+3] for i in range(len(text) - 2)]\n",
    "    trigram_counts = Counter(trigrams)\n",
    "    most_common_trigrams = trigram_counts.most_common(10)\n",
    "    print(most_common_trigrams)\n",
    "\n",
    "def frequencyAnalisis(cipher_text):\n",
    "    frequency = Counter(cipher_text)\n",
    "    print(frequency)\n",
    "\n",
    "def add_letter_to_string(origin, letter,answer_string):\n",
    "    customString = ''\n",
    "    for i in range(len(answer_string)):\n",
    "        if cipher_text[i] == origin:\n",
    "            customString += letter\n",
    "        else:\n",
    "            customString += answer_string[i]\n",
    "    return customString\n",
    "    \n",
    "frequencyAnalisis(cipher_text)\n",
    "answer_string = '_' * len(cipher_text)\n",
    "    "
   ]
  },
  {
   "cell_type": "markdown",
   "metadata": {},
   "source": [
    "According to [Thesaurus](https://www.thesaurus.com/e/ways-to-say/most-common-letter/), E, T, A, O, I, N, S, R, H, and L are the most common letters in the English alphabet, so we can use this to infer the values of some letters. Since the most common letter in the English language is E, and C is the letter with the most repetitions, we replace them accordingly."
   ]
  },
  {
   "cell_type": "code",
   "execution_count": 51,
   "metadata": {},
   "outputs": [
    {
     "name": "stdout",
     "output_type": "stream",
     "text": [
      "________E___E__________E___________E_______E____________E___E__E______E____E___E_E______E_______E_____E___________________________________EE__________E______E_____________E_________E_____E__E__E___E__EE_____________E__E__EE_E__E____E___________E__E______E_\n"
     ]
    }
   ],
   "source": [
    "answer_string = add_letter_to_string('C','E',answer_string)\n",
    "print(answer_string)"
   ]
  },
  {
   "cell_type": "markdown",
   "metadata": {},
   "source": [
    "With this, we look for the most sociable letters, which are letters that appear alongside most other letters, primarily vowels."
   ]
  },
  {
   "cell_type": "code",
   "execution_count": 59,
   "metadata": {},
   "outputs": [
    {
     "name": "stdout",
     "output_type": "stream",
     "text": [
      "Most sociable letters:{'I', 'Y', 'E', 'H', 'J', 'N', 'U', 'S', 'G', 'C', 'F', 'K', 'X', 'O', 'Z', 'D', 'A'} occurrences\n"
     ]
    }
   ],
   "source": [
    "from collections import defaultdict\n",
    "def find_sociable_letters(text):\n",
    "    neighbors = defaultdict(set)\n",
    "    for i in range(len(text)):\n",
    "        current_letter = text[i]\n",
    "        if i > 0:\n",
    "            neighbors[current_letter].add(text[i - 1])\n",
    "        if i < len(text) - 1:\n",
    "            neighbors[current_letter].add(text[i + 1])\n",
    "    most_sociable = max(neighbors, key=lambda letter: len(neighbors[letter]))\n",
    "    return neighbors[most_sociable]\n",
    "\n",
    "max_count = find_sociable_letters(cipher_text)\n",
    "\n",
    "print(f\"Most sociable letters:{max_count} occurrences\")"
   ]
  },
  {
   "cell_type": "markdown",
   "metadata": {},
   "source": [
    "With the list of the most sociable letters, we can assume another value. The letter G from the cipher is one of the most repeated letters, and as one of the sociable letters, and A, being not only one of the most common letters but also one of the most common vowels, allows us to assume G represents A."
   ]
  },
  {
   "cell_type": "code",
   "execution_count": 60,
   "metadata": {},
   "outputs": [
    {
     "name": "stdout",
     "output_type": "stream",
     "text": [
      "__A_____EA__E__________E________A__E_______E_____A__A___EA__EA_E______E____E___E_E______EA______E_____EA___A__A_A_______A_____A________A__EE__A_______E______EA__________A_EA__A_____E_A___E__E__E___E__EE__A__________E__E__EE_E__E____E________A__E__E___A__E_\n"
     ]
    }
   ],
   "source": [
    "answer_string = add_letter_to_string('G','A',answer_string)\n",
    "print(answer_string)"
   ]
  },
  {
   "cell_type": "markdown",
   "metadata": {},
   "source": [
    "Now we use bigrams to find the next value. Considering that the most common [bigram](https://www3.nd.edu/~busiforc/handouts/cryptography/Letter%20Frequencies.html) that includes E in the English language is HE, we can use this information to find the value of H"
   ]
  },
  {
   "cell_type": "code",
   "execution_count": 61,
   "metadata": {},
   "outputs": [
    {
     "name": "stdout",
     "output_type": "stream",
     "text": [
      "[('CG', 7), ('ZC', 7), ('NC', 5), ('YS', 5), ('CK', 5), ('GO', 5), ('AC', 5), ('CN', 5), ('SF', 4), ('CY', 4)]\n"
     ]
    }
   ],
   "source": [
    "get_bigrams(cipher_text)"
   ]
  },
  {
   "cell_type": "markdown",
   "metadata": {},
   "source": [
    "From previous steps, we know C is E, so the first and most common letter bigram with C as the second value is 'ZC'. With this, we'll say Z represents H"
   ]
  },
  {
   "cell_type": "code",
   "execution_count": 63,
   "metadata": {},
   "outputs": [
    {
     "name": "stdout",
     "output_type": "stream",
     "text": [
      "EMGLOSUDCGDNCUSWYSFHNSFCYKDPUMLWGYICOXYSIPJCKQPKUGKMGOLICGINCGACKSNISACYKZSCKXECJCKSHYSXCGOIDPKZCNKSHICGIWYGKKGKGOLDSILKGOIUSIGLEDSPWZUGFZCCNDGYYSFUSZCNXEOJNCGYEOWEUPXEZGACGNFGLKNSACIGOIYCKXCJUCIUZCFZCCNDGYYSFEUEKUZCSOCFZCCNCIACZEJNCSHFZEJZEGMXCYHCJUMGKUCY\n",
      "__A_____EA__E__________E________A__E_______E_____A__A___EA__EA_E______E__H_E___E_E______EA_____HE_____EA___A__A_A_______A_____A______H_A_HEE__A______HE______EA_________HA_EA__A_____E_A___E__E__E__HE_HEE__A_________HE__E_HEE_E__EH___E___H__H_A__E__E___A__E_\n"
     ]
    }
   ],
   "source": [
    "answer_string = add_letter_to_string('Z','H',answer_string)\n",
    "print(cipher_text)\n",
    "print(answer_string)"
   ]
  },
  {
   "cell_type": "code",
   "execution_count": 66,
   "metadata": {},
   "outputs": [
    {
     "name": "stdout",
     "output_type": "stream",
     "text": [
      "[('FZC', 3), ('UZC', 2), ('KZC', 1), ('SZC', 1)]\n"
     ]
    }
   ],
   "source": [
    "trigrams = [cipher_text[i:i+3] for i in range(len(cipher_text) - 2)]\n",
    "zc_trigrams = [trigram for trigram in trigrams if trigram[-2:] == 'ZC']\n",
    "trigram_counts = Counter(zc_trigrams)\n",
    "    \n",
    "most_common_trigrams = trigram_counts.most_common(10)\n",
    "print(most_common_trigrams)"
   ]
  },
  {
   "cell_type": "markdown",
   "metadata": {},
   "source": [
    "With these values, one could think that FZC, where ZC is HE, represents THE since this word is one of the most common trigrams. However, after trial and error, this proved to be incorrect. Now we'll try the second option, where UZC represents THE, with U being T."
   ]
  },
  {
   "cell_type": "code",
   "execution_count": 67,
   "metadata": {},
   "outputs": [
    {
     "name": "stdout",
     "output_type": "stream",
     "text": [
      "EMGLOSUDCGDNCUSWYSFHNSFCYKDPUMLWGYICOXYSIPJCKQPKUGKMGOLICGINCGACKSNISACYKZSCKXECJCKSHYSXCGOIDPKZCNKSHICGIWYGKKGKGOLDSILKGOIUSIGLEDSPWZUGFZCCNDGYYSFUSZCNXEOJNCGYEOWEUPXEZGACGNFGLKNSACIGOIYCKXCJUCIUZCFZCCNDGYYSFEUEKUZCSOCFZCCNCIACZEJNCSHFZEJZEGMXCYHCJUMGKUCY\n",
      "__A___T_EA__ET_________E____T___A__E_______E____TA__A___EA__EA_E______E__H_E___E_E______EA_____HE_____EA___A__A_A_______A__T__A______HTA_HEE__A____T_HE______EA_____T___HA_EA__A_____E_A___E__E_TE_THE_HEE__A_____T__THE__E_HEE_E__EH___E___H__H_A__E__E_T_A_TE_\n"
     ]
    }
   ],
   "source": [
    "answer_string = add_letter_to_string('U','T',answer_string)\n",
    "print(cipher_text)\n",
    "print(answer_string)"
   ]
  },
  {
   "cell_type": "markdown",
   "metadata": {},
   "source": [
    "Now we'll check for repeated words. In English, some of the most repeated letter pairs are 'ss', 'ee', 'tt', 'll', and 'rr'."
   ]
  },
  {
   "cell_type": "code",
   "execution_count": 70,
   "metadata": {},
   "outputs": [
    {
     "name": "stdout",
     "output_type": "stream",
     "text": [
      "{'K': 1, 'C': 3, 'Y': 2}\n"
     ]
    }
   ],
   "source": [
    "repeated = {}\n",
    "i = 0\n",
    "while i < len(cipher_text) - 1:\n",
    "    if cipher_text[i].isalpha() and cipher_text[i] == cipher_text[i + 1]:\n",
    "        letter = cipher_text[i]\n",
    "        count = 2\n",
    "        i += 2\n",
    "        while i < len(cipher_text) and cipher_text[i] == letter:\n",
    "            count += 1\n",
    "            i += 1\n",
    "        repeated[letter] = repeated.get(letter, 0) + (count - 1)\n",
    "    else:\n",
    "        i += 1\n",
    "\n",
    "print(repeated)"
   ]
  },
  {
   "cell_type": "markdown",
   "metadata": {},
   "source": [
    "From this, we know C is E. Y and K have similar frequencies in the ciphertext, and both appear to be repeated letters. Since we've already found the value of T (another repeated letter), the list of most common letter pairs only leaves us with two options: 'ss' or 'rr.' The frequency of [r is 0.0758 and s is 0.05735](https://www.rd.com/article/common-letters-english-language/), so since Y is repeated more, we'll assign Y to R and K to S"
   ]
  },
  {
   "cell_type": "code",
   "execution_count": 74,
   "metadata": {},
   "outputs": [
    {
     "name": "stdout",
     "output_type": "stream",
     "text": [
      "EMGLOSUDCGDNCUSWYSFHNSFCYKDPUMLWGYICOXYSIPJCKQPKUGKMGOLICGINCGACKSNISACYKZSCKXECJCKSHYSXCGOIDPKZCNKSHICGIWYGKKGKGOLDSILKGOIUSIGLEDSPWZUGFZCCNDGYYSFUSZCNXEOJNCGYEOWEUPXEZGACGNFGLKNSACIGOIYCKXCJUCIUZCFZCCNDGYYSFEUEKUZCSOCFZCCNCIACZEJNCSHFZEJZEGMXCYHCJUMGKUCY\n",
      "__A___T_EA__ET__R______ERS__T___AR_E__R____ES__STAS_A___EA__EA_ES_____ERSH_ES__E_ES__R__EA____SHE_S___EA__RASSASA______SA__T__A______HTA_HEE__ARR__T_HE______EAR____T___HA_EA__A_S___E_A__RES_E_TE_THE_HEE__ARR___T_STHE__E_HEE_E__EH___E___H__H_A__ER_E_T_ASTER\n"
     ]
    }
   ],
   "source": [
    "answer_string = add_letter_to_string('Y','R',answer_string)\n",
    "answer_string = add_letter_to_string('K','S',answer_string)\n",
    "print(cipher_text)\n",
    "print(answer_string)"
   ]
  },
  {
   "cell_type": "markdown",
   "metadata": {},
   "source": [
    "Now we'll find the most common trigrams from the text"
   ]
  },
  {
   "cell_type": "code",
   "execution_count": 77,
   "metadata": {},
   "outputs": [
    {
     "name": "stdout",
     "output_type": "stream",
     "text": [
      "[('YSF', 3), ('GOI', 3), ('FZC', 3), ('ZCC', 3), ('CCN', 3), ('CYK', 2), ('JCK', 2), ('GOL', 2), ('ICG', 2), ('CGI', 2)]\n",
      "None\n"
     ]
    }
   ],
   "source": [
    "print(get_trigrams(cipher_text))"
   ]
  },
  {
   "cell_type": "markdown",
   "metadata": {},
   "source": [
    "Here we have some trigrams repeated 3 times, but the one of interest now is GOI. From this we know G = A, and \"AND\" is one of the [most common trigrams](https://www3.nd.edu/~busiforc/handouts/cryptography/Letter%20Frequencies.html). With this, we replace O = N  and I = D"
   ]
  },
  {
   "cell_type": "code",
   "execution_count": 78,
   "metadata": {},
   "outputs": [
    {
     "name": "stdout",
     "output_type": "stream",
     "text": [
      "EMGLOSUDCGDNCUSWYSFHNSFCYKDPUMLWGYICOXYSIPJCKQPKUGKMGOLICGINCGACKSNISACYKZSCKXECJCKSHYSXCGOIDPKZCNKSHICGIWYGKKGKGOLDSILKGOIUSIGLEDSPWZUGFZCCNDGYYSFUSZCNXEOJNCGYEOWEUPXEZGACGNFGLKNSACIGOIYCKXCJUCIUZCFZCCNDGYYSFEUEKUZCSOCFZCCNCIACZEJNCSHFZEJZEGMXCYHCJUMGKUCY\n",
      "__A_N_T_EA__ET__R______ERS__T___ARDEN_R_D__ES__STAS_AN_DEAD_EA_ES__D__ERSH_ES__E_ES__R__EAND__SHE_S__DEAD_RASSASAN___D_SANDT_DA______HTA_HEE__ARR__T_HE___N__EAR_N__T___HA_EA__A_S___EDANDRES_E_TEDTHE_HEE__ARR___T_STHE_NE_HEE_ED_EH___E___H__H_A__ER_E_T_ASTER\n"
     ]
    }
   ],
   "source": [
    "answer_string = add_letter_to_string('O','N',answer_string)\n",
    "answer_string = add_letter_to_string('I','D',answer_string)\n",
    "print(cipher_text)\n",
    "print(answer_string)"
   ]
  },
  {
   "cell_type": "markdown",
   "metadata": {},
   "source": [
    "Now we can find some words we can infer. For example WGYICO into _ARDEN, where well asume W = G. This idea is reinforced with WYGKK to _RASS"
   ]
  },
  {
   "cell_type": "code",
   "execution_count": 79,
   "metadata": {},
   "outputs": [
    {
     "name": "stdout",
     "output_type": "stream",
     "text": [
      "EMGLOSUDCGDNCUSWYSFHNSFCYKDPUMLWGYICOXYSIPJCKQPKUGKMGOLICGINCGACKSNISACYKZSCKXECJCKSHYSXCGOIDPKZCNKSHICGIWYGKKGKGOLDSILKGOIUSIGLEDSPWZUGFZCCNDGYYSFUSZCNXEOJNCGYEOWEUPXEZGACGNFGLKNSACIGOIYCKXCJUCIUZCFZCCNDGYYSFEUEKUZCSOCFZCCNCIACZEJNCSHFZEJZEGMXCYHCJUMGKUCY\n",
      "__A_N_T_EA__ET_GR______ERS__T__GARDEN_R_D__ES__STAS_AN_DEAD_EA_ES__D__ERSH_ES__E_ES__R__EAND__SHE_S__DEADGRASSASAN___D_SANDT_DA_____GHTA_HEE__ARR__T_HE___N__EAR_NG_T___HA_EA__A_S___EDANDRES_E_TEDTHE_HEE__ARR___T_STHE_NE_HEE_ED_EH___E___H__H_A__ER_E_T_ASTER\n"
     ]
    }
   ],
   "source": [
    "answer_string = add_letter_to_string('W','G',answer_string)\n",
    "print(cipher_text)\n",
    "print(answer_string)"
   ]
  },
  {
   "cell_type": "markdown",
   "metadata": {},
   "source": [
    "From the previous output we can see another possible word, being the change from MGKUCY to _ASTER, where M stays the same. "
   ]
  },
  {
   "cell_type": "code",
   "execution_count": 80,
   "metadata": {},
   "outputs": [
    {
     "name": "stdout",
     "output_type": "stream",
     "text": [
      "EMGLOSUDCGDNCUSWYSFHNSFCYKDPUMLWGYICOXYSIPJCKQPKUGKMGOLICGINCGACKSNISACYKZSCKXECJCKSHYSXCGOIDPKZCNKSHICGIWYGKKGKGOLDSILKGOIUSIGLEDSPWZUGFZCCNDGYYSFUSZCNXEOJNCGYEOWEUPXEZGACGNFGLKNSACIGOIYCKXCJUCIUZCFZCCNDGYYSFEUEKUZCSOCFZCCNCIACZEJNCSHFZEJZEGMXCYHCJUMGKUCY\n",
      "_MA_N_T_EA__ET_GR______ERS__TM_GARDEN_R_D__ES__STASMAN_DEAD_EA_ES__D__ERSH_ES__E_ES__R__EAND__SHE_S__DEADGRASSASAN___D_SANDT_DA_____GHTA_HEE__ARR__T_HE___N__EAR_NG_T___HA_EA__A_S___EDANDRES_E_TEDTHE_HEE__ARR___T_STHE_NE_HEE_ED_EH___E___H__H_AM_ER_E_TMASTER\n"
     ]
    }
   ],
   "source": [
    "answer_string = add_letter_to_string('M','M',answer_string)\n",
    "print(cipher_text)\n",
    "print(answer_string)"
   ]
  },
  {
   "cell_type": "markdown",
   "metadata": {},
   "source": [
    "For the first section we have _MA_N. We can asume its at least two separate words, since the only word that could fit there is [amain](https://www.merriam-webster.com/wordfinder/fill-in-blanks/all/5/_ma_n/1), and for [_MA_](https://www.merriam-webster.com/wordfinder/fill-in-blanks/all/4/_ma_/1) the possible words can be considered too uncommon to be used.  \n",
    "With this, we can only use a vowel as the first letter, and we only have available I, O and U, so well use I to start the text, replacing E for I."
   ]
  },
  {
   "cell_type": "code",
   "execution_count": 81,
   "metadata": {},
   "outputs": [
    {
     "name": "stdout",
     "output_type": "stream",
     "text": [
      "EMGLOSUDCGDNCUSWYSFHNSFCYKDPUMLWGYICOXYSIPJCKQPKUGKMGOLICGINCGACKSNISACYKZSCKXECJCKSHYSXCGOIDPKZCNKSHICGIWYGKKGKGOLDSILKGOIUSIGLEDSPWZUGFZCCNDGYYSFUSZCNXEOJNCGYEOWEUPXEZGACGNFGLKNSACIGOIYCKXCJUCIUZCFZCCNDGYYSFEUEKUZCSOCFZCCNCIACZEJNCSHFZEJZEGMXCYHCJUMGKUCY\n",
      "IMA_N_T_EA__ET_GR______ERS__TM_GARDEN_R_D__ES__STASMAN_DEAD_EA_ES__D__ERSH_ES_IE_ES__R__EAND__SHE_S__DEADGRASSASAN___D_SANDT_DA_I___GHTA_HEE__ARR__T_HE__IN__EARINGIT__IHA_EA__A_S___EDANDRES_E_TEDTHE_HEE__ARR__ITISTHE_NE_HEE_ED_EHI__E___HI_HIAM_ER_E_TMASTER\n"
     ]
    }
   ],
   "source": [
    "answer_string = add_letter_to_string('E','I',answer_string)\n",
    "print(cipher_text)\n",
    "print(answer_string)"
   ]
  },
  {
   "cell_type": "markdown",
   "metadata": {},
   "source": [
    "For this scenario (OSU), se seem to need a vowel, and we only have remaining O and U, so well use U since it best fits the context."
   ]
  },
  {
   "cell_type": "code",
   "execution_count": 82,
   "metadata": {},
   "outputs": [
    {
     "name": "stdout",
     "output_type": "stream",
     "text": [
      "EMGLOSUDCGDNCUSWYSFHNSFCYKDPUMLWGYICOXYSIPJCKQPKUGKMGOLICGINCGACKSNISACYKZSCKXECJCKSHYSXCGOIDPKZCNKSHICGIWYGKKGKGOLDSILKGOIUSIGLEDSPWZUGFZCCNDGYYSFUSZCNXEOJNCGYEOWEUPXEZGACGNFGLKNSACIGOIYCKXCJUCIUZCFZCCNDGYYSFEUEKUZCSOCFZCCNCIACZEJNCSHFZEJZEGMXCYHCJUMGKUCY\n",
      "IMA_NOT_EA__ETOGRO___O_ERS__TM_GARDEN_ROD__ES__STASMAN_DEAD_EA_ESO_DO_ERSHOES_IE_ESO_RO_EAND__SHE_SO_DEADGRASSASAN__OD_SANDTODA_I_O_GHTA_HEE__ARRO_TOHE__IN__EARINGIT__IHA_EA__A_S_O_EDANDRES_E_TEDTHE_HEE__ARRO_ITISTHEONE_HEE_ED_EHI__EO__HI_HIAM_ER_E_TMASTER\n"
     ]
    }
   ],
   "source": [
    "answer_string = add_letter_to_string('S','O',answer_string)\n",
    "print(cipher_text)\n",
    "print(answer_string)"
   ]
  },
  {
   "cell_type": "markdown",
   "metadata": {},
   "source": [
    "From context, we'll asume here should say IMA_NOT_E = I MAY NOT BE, so we'll replace L = Y and D = B"
   ]
  },
  {
   "cell_type": "code",
   "execution_count": 83,
   "metadata": {},
   "outputs": [
    {
     "name": "stdout",
     "output_type": "stream",
     "text": [
      "EMGLOSUDCGDNCUSWYSFHNSFCYKDPUMLWGYICOXYSIPJCKQPKUGKMGOLICGINCGACKSNISACYKZSCKXECJCKSHYSXCGOIDPKZCNKSHICGIWYGKKGKGOLDSILKGOIUSIGLEDSPWZUGFZCCNDGYYSFUSZCNXEOJNCGYEOWEUPXEZGACGNFGLKNSACIGOIYCKXCJUCIUZCFZCCNDGYYSFEUEKUZCSOCFZCCNCIACZEJNCSHFZEJZEGMXCYHCJUMGKUCY\n",
      "IMAYNOTBEAB_ETOGRO___O_ERSB_TMYGARDEN_ROD__ES__STASMANYDEAD_EA_ESO_DO_ERSHOES_IE_ESO_RO_EANDB_SHE_SO_DEADGRASSASANYBODYSANDTODAYIBO_GHTA_HEE_BARRO_TOHE__IN__EARINGIT__IHA_EA__AYS_O_EDANDRES_E_TEDTHE_HEE_BARRO_ITISTHEONE_HEE_ED_EHI__EO__HI_HIAM_ER_E_TMASTER\n"
     ]
    }
   ],
   "source": [
    "answer_string = add_letter_to_string('L','Y',answer_string)\n",
    "answer_string = add_letter_to_string('D','B',answer_string)\n",
    "print(cipher_text)\n",
    "print(answer_string)"
   ]
  },
  {
   "cell_type": "markdown",
   "metadata": {},
   "source": [
    "From conext we can also asume AB_ETO means ableto, B_TMY to butmy, IBO_GHT to i bought, which means well change N for L, P to U"
   ]
  },
  {
   "cell_type": "code",
   "execution_count": 84,
   "metadata": {},
   "outputs": [
    {
     "name": "stdout",
     "output_type": "stream",
     "text": [
      "EMGLOSUDCGDNCUSWYSFHNSFCYKDPUMLWGYICOXYSIPJCKQPKUGKMGOLICGINCGACKSNISACYKZSCKXECJCKSHYSXCGOIDPKZCNKSHICGIWYGKKGKGOLDSILKGOIUSIGLEDSPWZUGFZCCNDGYYSFUSZCNXEOJNCGYEOWEUPXEZGACGNFGLKNSACIGOIYCKXCJUCIUZCFZCCNDGYYSFEUEKUZCSOCFZCCNCIACZEJNCSHFZEJZEGMXCYHCJUMGKUCY\n",
      "IMAYNOTBEABLETOGRO__LO_ERSBUTMYGARDEN_RODU_ES_USTASMANYDEADLEA_ESOLDO_ERSHOES_IE_ESO_RO_EANDBUSHELSO_DEADGRASSASANYBODYSANDTODAYIBOUGHTA_HEELBARRO_TOHEL_IN_LEARINGITU_IHA_EAL_AYSLO_EDANDRES_E_TEDTHE_HEELBARRO_ITISTHEONE_HEELED_EHI_LEO__HI_HIAM_ER_E_TMASTER\n"
     ]
    }
   ],
   "source": [
    "answer_string = add_letter_to_string('N','L',answer_string)\n",
    "answer_string = add_letter_to_string('P','U',answer_string)\n",
    "print(cipher_text)\n",
    "print(answer_string)"
   ]
  },
  {
   "cell_type": "markdown",
   "metadata": {},
   "source": [
    "Here 'GARDEN_RODU_ES_UST' we can asume it says 'garden produces just', so well change X to P, J to C, and Q to J"
   ]
  },
  {
   "cell_type": "code",
   "execution_count": 85,
   "metadata": {},
   "outputs": [
    {
     "name": "stdout",
     "output_type": "stream",
     "text": [
      "EMGLOSUDCGDNCUSWYSFHNSFCYKDPUMLWGYICOXYSIPJCKQPKUGKMGOLICGINCGACKSNISACYKZSCKXECJCKSHYSXCGOIDPKZCNKSHICGIWYGKKGKGOLDSILKGOIUSIGLEDSPWZUGFZCCNDGYYSFUSZCNXEOJNCGYEOWEUPXEZGACGNFGLKNSACIGOIYCKXCJUCIUZCFZCCNDGYYSFEUEKUZCSOCFZCCNCIACZEJNCSHFZEJZEGMXCYHCJUMGKUCY\n",
      "IMAYNOTBEABLETOGRO__LO_ERSBUTMYGARDENPRODUCESJUSTASMANYDEADLEA_ESOLDO_ERSHOESPIECESO_ROPEANDBUSHELSO_DEADGRASSASANYBODYSANDTODAYIBOUGHTA_HEELBARRO_TOHELPINCLEARINGITUPIHA_EAL_AYSLO_EDANDRESPECTEDTHE_HEELBARRO_ITISTHEONE_HEELED_EHICLEO__HICHIAMPER_ECTMASTER\n"
     ]
    }
   ],
   "source": [
    "answer_string = add_letter_to_string('X','P',answer_string)\n",
    "answer_string = add_letter_to_string('J','C',answer_string)\n",
    "answer_string = add_letter_to_string('Q','J',answer_string)\n",
    "print(cipher_text)\n",
    "print(answer_string)"
   ]
  },
  {
   "cell_type": "markdown",
   "metadata": {},
   "source": [
    "Here 'LEA_ES' we can asume it meant leaves, 'O_ROPE' means ofrope, and 'ONE_HEELED' being onewheeled. Well change from H to F, from A to V and F to W"
   ]
  },
  {
   "cell_type": "code",
   "execution_count": 86,
   "metadata": {},
   "outputs": [
    {
     "name": "stdout",
     "output_type": "stream",
     "text": [
      "EMGLOSUDCGDNCUSWYSFHNSFCYKDPUMLWGYICOXYSIPJCKQPKUGKMGOLICGINCGACKSNISACYKZSCKXECJCKSHYSXCGOIDPKZCNKSHICGIWYGKKGKGOLDSILKGOIUSIGLEDSPWZUGFZCCNDGYYSFUSZCNXEOJNCGYEOWEUPXEZGACGNFGLKNSACIGOIYCKXCJUCIUZCFZCCNDGYYSFEUEKUZCSOCFZCCNCIACZEJNCSHFZEJZEGMXCYHCJUMGKUCY\n",
      "IMAYNOTBEABLETOGROWFLOWERSBUTMYGARDENPRODUCESJUSTASMANYDEADLEAVESOLDOVERSHOESPIECESOFROPEANDBUSHELSOFDEADGRASSASANYBODYSANDTODAYIBOUGHTAWHEELBARROWTOHELPINCLEARINGITUPIHAVEALWAYSLOVEDANDRESPECTEDTHEWHEELBARROWITISTHEONEWHEELEDVEHICLEOFWHICHIAMPERFECTMASTER\n"
     ]
    }
   ],
   "source": [
    "answer_string = add_letter_to_string('H','F',answer_string)\n",
    "answer_string = add_letter_to_string('A','V',answer_string)\n",
    "answer_string = add_letter_to_string('F','W',answer_string)\n",
    "print(cipher_text)\n",
    "print(answer_string)"
   ]
  },
  {
   "cell_type": "markdown",
   "metadata": {},
   "source": [
    "### Vigenere Cipher  \n",
    "KCCPKBGUFDPHQTYAVINRRTMVGRKDNBVFDETDGILTXRGUDDKOTFMBPVGEGLTGCKQRACQCWDNAWCRXIZAKFTLEWRPTYCQKYVXCHKFTPONCQQRHJVAJUWETMCMSPKQDYHJVDAHCTRLSVSKCGCZQQDZXGSFRLSWCWSJTBHAFSIASPRJAHKJRJUMVGKMITZHFPDISPZLVLGWTFPLKKEBDPGCEBSHCTJRWXBAFSPEZQNRWXCVYCGAONWDDKACKAWBBIKFTIOVKCGGHJVLNHIFFSQESVYCLACNVRWBBIREPBBVFEXOSCDYGZWPFDTKFQIYCWHJVLNHIQIBTKHJVNPIST  \n",
    "\n",
    "For this code we'll follow [this](https://www.youtube.com/watch?v=LaWp_Kq0cKs) method\n",
    "First we'll find the key size. To acomplish this, well move the text to the right, compare it to the main text and count the number of coincidences."
   ]
  },
  {
   "cell_type": "code",
   "execution_count": 60,
   "metadata": {},
   "outputs": [],
   "source": [
    "cipher_text2 = 'KCCPKBGUFDPHQTYAVINRRTMVGRKDNBVFDETDGILTXRGUDDKOTFMBPVGEGLTGCKQRACQCWDNAWCRXIZAKFTLEWRPTYCQKYVXCHKFTPONCQQRHJVAJUWETMCMSPKQDYHJVDAHCTRLSVSKCGCZQQDZXGSFRLSWCWSJTBHAFSIASPRJAHKJRJUMVGKMITZHFPDISPZLVLGWTFPLKKEBDPGCEBSHCTJRWXBAFSPEZQNRWXCVYCGAONWDDKACKAWBBIKFTIOVKCGGHJVLNHIFFSQESVYCLACNVRWBBIREPBBVFEXOSCDYGZWPFDTKFQIYCWHJVLNHIQIBTKHJVNPIST'"
   ]
  },
  {
   "cell_type": "markdown",
   "metadata": {},
   "source": [
    "To solve this Vigenère cipher, we first need to find the key, and to find the key, we need to determine the key length. For this, we'll use the IC (Coincidence Index).  \n",
    "First, we divide the cipher into groups of n, then for each group, we'll find the IC value and calculate the average IC for that n division. We store that value and then repeat the process n + 1 times. The IC function goes as follows:  \n",
    "$ \\sum_{i=1}^{n} \\frac{f_i (f_i - 1)}{N (N - 1)} $  \n",
    "\n",
    "We'll try with a small pool of possible key sizes, up to 30."
   ]
  },
  {
   "cell_type": "code",
   "execution_count": 61,
   "metadata": {},
   "outputs": [
    {
     "name": "stdout",
     "output_type": "stream",
     "text": [
      "0.06282372598162073  with key length:  6\n"
     ]
    }
   ],
   "source": [
    "from collections import Counter\n",
    "#Function to divide the text into n parts\n",
    "def divide_text(text,n):\n",
    "    return [text[i::n] for i in range (n)]\n",
    "\n",
    "#function to find the frecuency of letters in a text\n",
    "def frequency(text):\n",
    "    return Counter(text)\n",
    "\n",
    "#perform IC calculation\n",
    "def IC(text):\n",
    "    n = len(text)\n",
    "    freq = frequency(text)\n",
    "    if (n*(n-1)) == 0:\n",
    "        return 0\n",
    "    return sum([freq[letter]*(freq[letter]-1) for letter in freq])/(n*(n-1))\n",
    "\n",
    "#Process\n",
    "list_of_avg_IC = []\n",
    "for i in range (1,31):\n",
    "    divided_text = divide_text(cipher_text2,i)\n",
    "    if len(divided_text) != 0:\n",
    "        avg_IC = sum([IC(text) for text in divided_text])/len(divided_text)\n",
    "    list_of_avg_IC.append(avg_IC)\n",
    "\n",
    "print(max(list_of_avg_IC), ' with key length: ', list_of_avg_IC.index(max(list_of_avg_IC))+1)"
   ]
  },
  {
   "cell_type": "markdown",
   "metadata": {},
   "source": [
    "Now we know the key has a length of 6. With this information, we can proceed to obtain the key for the text. We'll create the same 6 groups. For each group, we'll try decrypting with Vigenère using every letter from the alphabet and testing it with a fitness function. For each group, we'll find the best value for a key and use it as the letter for that specific group.  \n",
    "\n",
    "Since we'll use a key of 1, we can apply the same rotation cipher to decrypt the message one by one, where the first key to rotate (0) will represent A. We'll evaluate each output string using a fitness function that takes a value and checks each character. The evaluation method will be based on character value (with E having the highest score, followed by T, A, and O with the next highest values)."
   ]
  },
  {
   "cell_type": "code",
   "execution_count": 64,
   "metadata": {},
   "outputs": [
    {
     "name": "stdout",
     "output_type": "stream",
     "text": [
      "Best key letter for this group: C, Fitness Score: 368.0099999999998\n",
      "Best key letter for this group: R, Fitness Score: 394.7699999999999\n",
      "Best key letter for this group: Y, Fitness Score: 328.84\n",
      "Best key letter for this group: P, Fitness Score: 369.47\n",
      "Best key letter for this group: T, Fitness Score: 312.46000000000004\n",
      "Best key letter for this group: O, Fitness Score: 394.44\n"
     ]
    }
   ],
   "source": [
    "def divide_text(text, key_length):\n",
    "    groups = ['' for _ in range(key_length)]\n",
    "    for i, char in enumerate(text):\n",
    "        groups[i % key_length] += char\n",
    "    return groups\n",
    "\n",
    "def rotation_cipher(ciphertext, key_letter):\n",
    "    shift = ord(key_letter.upper()) - ord('A')  \n",
    "    plaintext = ''\n",
    "    \n",
    "    for char in ciphertext:\n",
    "        if char.isalpha(): \n",
    "            offset = ord('A') if char.isupper() else ord('a')\n",
    "            # Reverse the shift (for decryption)\n",
    "            shifted_char = chr((ord(char) - offset - shift) % 26 + offset)\n",
    "            plaintext += shifted_char\n",
    "        else:\n",
    "            plaintext += char \n",
    "    \n",
    "    return plaintext\n",
    "\n",
    "def fitness_function(text):\n",
    "    letter_values = {\n",
    "        'E': 12.70, 'T': 9.06, 'A': 8.17, 'O': 7.51, 'I': 6.97,\n",
    "        'N': 6.75, 'S': 6.33, 'H': 6.09, 'R': 5.99, 'D': 4.25,\n",
    "        'L': 4.03, 'C': 2.78, 'U': 2.76, 'M': 2.41, 'W': 2.36,\n",
    "        'F': 2.23, 'G': 2.02, 'Y': 1.97, 'P': 1.93, 'B': 1.49,\n",
    "        'V': 0.98, 'K': 0.77, 'X': 0.15, 'J': 0.15, 'Q': 0.10,\n",
    "        'Z': 0.07\n",
    "    }\n",
    "\n",
    "    cleaned_text = ''.join(filter(str.isalpha, text.upper()))\n",
    "    score = 0\n",
    "    for char in cleaned_text:\n",
    "        if char in letter_values:\n",
    "            score += letter_values[char]\n",
    "\n",
    "    return score\n",
    "\n",
    "\n",
    "groups = divide_text(cipher_text2, 6)\n",
    "\n",
    "list_of_letters = 'ABCDEFGHIJKLMNOPQRSTUVWXYZ'\n",
    "\n",
    "for group in groups:\n",
    "    list_of_fitness = []\n",
    "    for letter in list_of_letters:\n",
    "        decrypted_text = rotation_cipher(group, letter)  \n",
    "        fitness_score = fitness_function(decrypted_text) \n",
    "        list_of_fitness.append(fitness_score)\n",
    "    \n",
    "    best_fitness = max(list_of_fitness)\n",
    "    best_key_letter = list_of_letters[list_of_fitness.index(best_fitness)]\n",
    "    \n",
    "    print(f\"Best key letter for this group: {best_key_letter}, Fitness Score: {best_fitness}\")\n"
   ]
  },
  {
   "cell_type": "markdown",
   "metadata": {},
   "source": [
    "From the output we got the key 'CRYPTO' which from context seems right."
   ]
  },
  {
   "cell_type": "code",
   "execution_count": 67,
   "metadata": {},
   "outputs": [
    {
     "name": "stdout",
     "output_type": "stream",
     "text": [
      "Decrypted Text:  ILEARNEDHOWTOCALCULATETHEAMOUNTOFPAPERNEEDEDFORAROOMWHENIWASATSCHOOLYOUMULTIPLYTHESQUAREFOOTAGEOFTHEWALLSBYTHECUBICCONTENTSOFTHEFLOORANDCEILINGCOMBINEDANDDOUBLEITYOUTHENALLOWHALFTHETOTALFOROPENINGSSUCHASWINDOWSANDDOORSTHENYOUALLOWTHEOTHERHALFFORMATCHINGTHEPATTERNTHENYOUDOUBLETHEWHOLETHINGAGAINTOGIVEAMARGINOFERRORANDTHENYOUORDERTHEPAPER\n"
     ]
    }
   ],
   "source": [
    "def vigenere_decrypt(ciphertext, key):\n",
    "    plaintext = []\n",
    "    for i, char in enumerate(ciphertext):\n",
    "        offset = ord('A') if char.isupper() else ord('a')\n",
    "        key_char = key[i % len(key)] \n",
    "        key_shift = ord(key_char) - ord('A')\n",
    "        decrypted_char = chr((ord(char) - offset - key_shift) % 26 + offset)\n",
    "        plaintext.append(decrypted_char)\n",
    "       \n",
    "    \n",
    "    return ''.join(plaintext)\n",
    "\n",
    "key = \"CRYPTO\"\n",
    "\n",
    "decrypted_text = vigenere_decrypt(cipher_text2, key)\n",
    "print(\"Decrypted Text: \", decrypted_text)\n"
   ]
  },
  {
   "cell_type": "markdown",
   "metadata": {},
   "source": [
    "Affine Cipher:\n",
    "\n",
    "cipher_text:KQEREJEBCPPCJCRKIEACUZBKRVPKRBCIBQCARBJCVFCUPKRIOFKPACUZQEPBKRXPEIIEABDKPBCPFCDCCAFIEABDKPBCPFEQPKAZBKRHAIBKAPCCIBURCCDKDCCJCIDFUIXPAFFERBICZDFKABICBBENEFCUPJCVKABPCYDCCDPKBCOCPERKIVKSCPICBRKIJPKABI"
   ]
  },
  {
   "cell_type": "code",
   "execution_count": 76,
   "metadata": {},
   "outputs": [
    {
     "name": "stdout",
     "output_type": "stream",
     "text": [
      "Letter Frequencies in the Ciphertext:  [('C', 32), ('B', 21), ('K', 20), ('P', 20), ('I', 16), ('E', 13), ('A', 13), ('R', 12), ('F', 10), ('D', 9), ('J', 6), ('U', 6), ('Q', 4), ('Z', 4), ('V', 4), ('O', 2), ('X', 2), ('H', 1), ('N', 1), ('Y', 1), ('S', 1)]\n",
      "Trying a = 1, b = 0\n",
      "Decrypted text with a = 1, b = 0: KQEREJEBCPPCJCRKIEACUZBKRVPKRBCIBQCARBJCVFCUPKRIOFKPACUZQEPBKRXPEIIEABDKPBCPFCDCCAFIEABDKPBCPFEQPKAZ...\n",
      "Trying a = 1, b = 1\n",
      "Decrypted text with a = 1, b = 1: JPDQDIDABOOBIBQJHDZBTYAJQUOJQABHAPBZQAIBUEBTOJQHNEJOZBTYPDOAJQWODHHDZACJOABOEBCBBZEHDZACJOABOEDPOJZY...\n",
      "Trying a = 1, b = 2\n",
      "Decrypted text with a = 1, b = 2: IOCPCHCZANNAHAPIGCYASXZIPTNIPZAGZOAYPZHATDASNIPGMDINYASXOCNZIPVNCGGCYZBINZANDABAAYDGCYZBINZANDCONIYX...\n",
      "Trying a = 1, b = 3\n",
      "Decrypted text with a = 1, b = 3: HNBOBGBYZMMZGZOHFBXZRWYHOSMHOYZFYNZXOYGZSCZRMHOFLCHMXZRWNBMYHOUMBFFBXYAHMYZMCZAZZXCFBXYAHMYZMCBNMHXW...\n",
      "Trying a = 1, b = 4\n",
      "Decrypted text with a = 1, b = 4: GMANAFAXYLLYFYNGEAWYQVXGNRLGNXYEXMYWNXFYRBYQLGNEKBGLWYQVMALXGNTLAEEAWXZGLXYLBYZYYWBEAWXZGLXYLBAMLGWV...\n",
      "Trying a = 1, b = 5\n",
      "Decrypted text with a = 1, b = 5: FLZMZEZWXKKXEXMFDZVXPUWFMQKFMWXDWLXVMWEXQAXPKFMDJAFKVXPULZKWFMSKZDDZVWYFKWXKAXYXXVADZVWYFKWXKAZLKFVU...\n",
      "Trying a = 1, b = 6\n",
      "Decrypted text with a = 1, b = 6: EKYLYDYVWJJWDWLECYUWOTVELPJELVWCVKWULVDWPZWOJELCIZEJUWOTKYJVELRJYCCYUVXEJVWJZWXWWUZCYUVXEJVWJZYKJEUT...\n",
      "Trying a = 1, b = 7\n",
      "Decrypted text with a = 1, b = 7: DJXKXCXUVIIVCVKDBXTVNSUDKOIDKUVBUJVTKUCVOYVNIDKBHYDITVNSJXIUDKQIXBBXTUWDIUVIYVWVVTYBXTUWDIUVIYXJIDTS...\n",
      "Trying a = 1, b = 8\n",
      "Decrypted text with a = 1, b = 8: CIWJWBWTUHHUBUJCAWSUMRTCJNHCJTUATIUSJTBUNXUMHCJAGXCHSUMRIWHTCJPHWAAWSTVCHTUHXUVUUSXAWSTVCHTUHXWIHCSR...\n",
      "Trying a = 1, b = 9\n",
      "Decrypted text with a = 1, b = 9: BHVIVAVSTGGTATIBZVRTLQSBIMGBISTZSHTRISATMWTLGBIZFWBGRTLQHVGSBIOGVZZVRSUBGSTGWTUTTRWZVRSUBGSTGWVHGBRQ...\n",
      "Trying a = 1, b = 10\n",
      "Decrypted text with a = 1, b = 10: AGUHUZURSFFSZSHAYUQSKPRAHLFAHRSYRGSQHRZSLVSKFAHYEVAFQSKPGUFRAHNFUYYUQRTAFRSFVSTSSQVYUQRTAFRSFVUGFAQP...\n",
      "Trying a = 1, b = 11\n",
      "Decrypted text with a = 1, b = 11: ZFTGTYTQREERYRGZXTPRJOQZGKEZGQRXQFRPGQYRKURJEZGXDUZEPRJOFTEQZGMETXXTPQSZEQREURSRRPUXTPQSZEQREUTFEZPO...\n",
      "Trying a = 1, b = 12\n",
      "Decrypted text with a = 1, b = 12: YESFSXSPQDDQXQFYWSOQINPYFJDYFPQWPEQOFPXQJTQIDYFWCTYDOQINESDPYFLDSWWSOPRYDPQDTQRQQOTWSOPRYDPQDTSEDYON...\n",
      "Trying a = 1, b = 13\n",
      "Decrypted text with a = 1, b = 13: XDRERWROPCCPWPEXVRNPHMOXEICXEOPVODPNEOWPISPHCXEVBSXCNPHMDRCOXEKCRVVRNOQXCOPCSPQPPNSVRNOQXCOPCSRDCXNM...\n",
      "Trying a = 1, b = 14\n",
      "Decrypted text with a = 1, b = 14: WCQDQVQNOBBOVODWUQMOGLNWDHBWDNOUNCOMDNVOHROGBWDUARWBMOGLCQBNWDJBQUUQMNPWBNOBROPOOMRUQMNPWBNOBRQCBWML...\n",
      "Trying a = 1, b = 15\n",
      "Decrypted text with a = 1, b = 15: VBPCPUPMNAANUNCVTPLNFKMVCGAVCMNTMBNLCMUNGQNFAVCTZQVALNFKBPAMVCIAPTTPLMOVAMNAQNONNLQTPLMOVAMNAQPBAVLK...\n",
      "Trying a = 1, b = 16\n",
      "Decrypted text with a = 1, b = 16: UAOBOTOLMZZMTMBUSOKMEJLUBFZUBLMSLAMKBLTMFPMEZUBSYPUZKMEJAOZLUBHZOSSOKLNUZLMZPMNMMKPSOKLNUZLMZPOAZUKJ...\n",
      "Trying a = 1, b = 17\n",
      "Decrypted text with a = 1, b = 17: TZNANSNKLYYLSLATRNJLDIKTAEYTAKLRKZLJAKSLEOLDYTARXOTYJLDIZNYKTAGYNRRNJKMTYKLYOLMLLJORNJKMTYKLYONZYTJI...\n",
      "Trying a = 1, b = 18\n",
      "Decrypted text with a = 1, b = 18: SYMZMRMJKXXKRKZSQMIKCHJSZDXSZJKQJYKIZJRKDNKCXSZQWNSXIKCHYMXJSZFXMQQMIJLSXJKXNKLKKINQMIJLSXJKXNMYXSIH...\n",
      "Trying a = 1, b = 19\n",
      "Decrypted text with a = 1, b = 19: RXLYLQLIJWWJQJYRPLHJBGIRYCWRYIJPIXJHYIQJCMJBWRYPVMRWHJBGXLWIRYEWLPPLHIKRWIJWMJKJJHMPLHIKRWIJWMLXWRHG...\n",
      "Trying a = 1, b = 20\n",
      "Decrypted text with a = 1, b = 20: QWKXKPKHIVVIPIXQOKGIAFHQXBVQXHIOHWIGXHPIBLIAVQXOULQVGIAFWKVHQXDVKOOKGHJQVHIVLIJIIGLOKGHJQVHIVLKWVQGF...\n",
      "Trying a = 1, b = 21\n",
      "Decrypted text with a = 1, b = 21: PVJWJOJGHUUHOHWPNJFHZEGPWAUPWGHNGVHFWGOHAKHZUPWNTKPUFHZEVJUGPWCUJNNJFGIPUGHUKHIHHFKNJFGIPUGHUKJVUPFE...\n",
      "Trying a = 1, b = 22\n",
      "Decrypted text with a = 1, b = 22: OUIVINIFGTTGNGVOMIEGYDFOVZTOVFGMFUGEVFNGZJGYTOVMSJOTEGYDUITFOVBTIMMIEFHOTFGTJGHGGEJMIEFHOTFGTJIUTOED...\n",
      "Trying a = 1, b = 23\n",
      "Decrypted text with a = 1, b = 23: NTHUHMHEFSSFMFUNLHDFXCENUYSNUEFLETFDUEMFYIFXSNULRINSDFXCTHSENUASHLLHDEGNSEFSIFGFFDILHDEGNSEFSIHTSNDC...\n",
      "Trying a = 1, b = 24\n",
      "Decrypted text with a = 1, b = 24: MSGTGLGDERRELETMKGCEWBDMTXRMTDEKDSECTDLEXHEWRMTKQHMRCEWBSGRDMTZRGKKGCDFMRDERHEFEECHKGCDFMRDERHGSRMCB...\n",
      "Trying a = 1, b = 25\n",
      "Decrypted text with a = 1, b = 25: LRFSFKFCDQQDKDSLJFBDVACLSWQLSCDJCRDBSCKDWGDVQLSJPGLQBDVARFQCLSYQFJJFBCELQCDQGDEDDBGJFBCELQCDQGFRQLBA...\n",
      "Trying a = 3, b = 0\n",
      "Decrypted text with a = 3, b = 0: MOKXKDKJSFFSDSXMUKASYRJMXHFMXJSUJOSAXJDSHTSYFMXUWTMFASYROKFJMXZFKUUKAJBMFJSFTSBSSATUKAJBMFJSFTKOFMAR...\n",
      "Trying a = 3, b = 1\n",
      "Decrypted text with a = 3, b = 1: DFBOBUBAJWWJUJODLBRJPIADOYWDOAJLAFJROAUJYKJPWDOLNKDWRJPIFBWADOQWBLLBRASDWAJWKJSJJRKLBRASDWAJWKBFWDRI...\n",
      "Trying a = 3, b = 2\n",
      "Decrypted text with a = 3, b = 2: UWSFSLSRANNALAFUCSIAGZRUFPNUFRACRWAIFRLAPBAGNUFCEBUNIAGZWSNRUFHNSCCSIRJUNRANBAJAAIBCSIRJUNRANBSWNUIZ...\n",
      "Trying a = 3, b = 3\n",
      "Decrypted text with a = 3, b = 3: LNJWJCJIREERCRWLTJZRXQILWGELWIRTINRZWICRGSRXELWTVSLEZRXQNJEILWYEJTTJZIALEIRESRARRZSTJZIALEIRESJNELZQ...\n",
      "Trying a = 3, b = 4\n",
      "Decrypted text with a = 3, b = 4: CEANATAZIVVITINCKAQIOHZCNXVCNZIKZEIQNZTIXJIOVCNKMJCVQIOHEAVZCNPVAKKAQZRCVZIVJIRIIQJKAQZRCVZIVJAEVCQH...\n",
      "Trying a = 3, b = 5\n",
      "Decrypted text with a = 3, b = 5: TVRERKRQZMMZKZETBRHZFYQTEOMTEQZBQVZHEQKZOAZFMTEBDATMHZFYVRMQTEGMRBBRHQITMQZMAZIZZHABRHQITMQZMARVMTHY...\n",
      "Trying a = 3, b = 6\n",
      "Decrypted text with a = 3, b = 6: KMIVIBIHQDDQBQVKSIYQWPHKVFDKVHQSHMQYVHBQFRQWDKVSURKDYQWPMIDHKVXDISSIYHZKDHQDRQZQQYRSIYHZKDHQDRIMDKYP...\n",
      "Trying a = 3, b = 7\n",
      "Decrypted text with a = 3, b = 7: BDZMZSZYHUUHSHMBJZPHNGYBMWUBMYHJYDHPMYSHWIHNUBMJLIBUPHNGDZUYBMOUZJJZPYQBUYHUIHQHHPIJZPYQBUYHUIZDUBPG...\n",
      "Trying a = 3, b = 8\n",
      "Decrypted text with a = 3, b = 8: SUQDQJQPYLLYJYDSAQGYEXPSDNLSDPYAPUYGDPJYNZYELSDACZSLGYEXUQLPSDFLQAAQGPHSLPYLZYHYYGZAQGPHSLPYLZQULSGX...\n",
      "Trying a = 3, b = 9\n",
      "Decrypted text with a = 3, b = 9: JLHUHAHGPCCPAPUJRHXPVOGJUECJUGPRGLPXUGAPEQPVCJURTQJCXPVOLHCGJUWCHRRHXGYJCGPCQPYPPXQRHXGYJCGPCQHLCJXO...\n",
      "Trying a = 3, b = 10\n",
      "Decrypted text with a = 3, b = 10: ACYLYRYXGTTGRGLAIYOGMFXALVTALXGIXCGOLXRGVHGMTALIKHATOGMFCYTXALNTYIIYOXPATXGTHGPGGOHIYOXPATXGTHYCTAOF...\n",
      "Trying a = 3, b = 11\n",
      "Decrypted text with a = 3, b = 11: RTPCPIPOXKKXIXCRZPFXDWORCMKRCOXZOTXFCOIXMYXDKRCZBYRKFXDWTPKORCEKPZZPFOGRKOXKYXGXXFYZPFOGRKOXKYPTKRFW...\n",
      "Trying a = 3, b = 12\n",
      "Decrypted text with a = 3, b = 12: IKGTGZGFOBBOZOTIQGWOUNFITDBITFOQFKOWTFZODPOUBITQSPIBWOUNKGBFITVBGQQGWFXIBFOBPOXOOWPQGWFXIBFOBPGKBIWN...\n",
      "Trying a = 3, b = 13\n",
      "Decrypted text with a = 3, b = 13: ZBXKXQXWFSSFQFKZHXNFLEWZKUSZKWFHWBFNKWQFUGFLSZKHJGZSNFLEBXSWZKMSXHHXNWOZSWFSGFOFFNGHXNWOZSWFSGXBSZNE...\n",
      "Trying a = 3, b = 14\n",
      "Decrypted text with a = 3, b = 14: QSOBOHONWJJWHWBQYOEWCVNQBLJQBNWYNSWEBNHWLXWCJQBYAXQJEWCVSOJNQBDJOYYOENFQJNWJXWFWWEXYOENFQJNWJXOSJQEV...\n",
      "Trying a = 3, b = 15\n",
      "Decrypted text with a = 3, b = 15: HJFSFYFENAANYNSHPFVNTMEHSCAHSENPEJNVSEYNCONTAHSPROHAVNTMJFAEHSUAFPPFVEWHAENAONWNNVOPFVEWHAENAOFJAHVM...\n",
      "Trying a = 3, b = 16\n",
      "Decrypted text with a = 3, b = 16: YAWJWPWVERREPEJYGWMEKDVYJTRYJVEGVAEMJVPETFEKRYJGIFYRMEKDAWRVYJLRWGGWMVNYRVERFENEEMFGWMVNYRVERFWARYMD...\n",
      "Trying a = 3, b = 17\n",
      "Decrypted text with a = 3, b = 17: PRNANGNMVIIVGVAPXNDVBUMPAKIPAMVXMRVDAMGVKWVBIPAXZWPIDVBURNIMPACINXXNDMEPIMVIWVEVVDWXNDMEPIMVIWNRIPDU...\n",
      "Trying a = 3, b = 18\n",
      "Decrypted text with a = 3, b = 18: GIEREXEDMZZMXMRGOEUMSLDGRBZGRDMODIMURDXMBNMSZGROQNGZUMSLIEZDGRTZEOOEUDVGZDMZNMVMMUNOEUDVGZDMZNEIZGUL...\n",
      "Trying a = 3, b = 19\n",
      "Decrypted text with a = 3, b = 19: XZVIVOVUDQQDODIXFVLDJCUXISQXIUDFUZDLIUODSEDJQXIFHEXQLDJCZVQUXIKQVFFVLUMXQUDQEDMDDLEFVLUMXQUDQEVZQXLC...\n",
      "Trying a = 3, b = 20\n",
      "Decrypted text with a = 3, b = 20: OQMZMFMLUHHUFUZOWMCUATLOZJHOZLUWLQUCZLFUJVUAHOZWYVOHCUATQMHLOZBHMWWMCLDOHLUHVUDUUCVWMCLDOHLUHVMQHOCT...\n",
      "Trying a = 3, b = 21\n",
      "Decrypted text with a = 3, b = 21: FHDQDWDCLYYLWLQFNDTLRKCFQAYFQCLNCHLTQCWLAMLRYFQNPMFYTLRKHDYCFQSYDNNDTCUFYCLYMLULLTMNDTCUFYCLYMDHYFTK...\n",
      "Trying a = 3, b = 22\n",
      "Decrypted text with a = 3, b = 22: WYUHUNUTCPPCNCHWEUKCIBTWHRPWHTCETYCKHTNCRDCIPWHEGDWPKCIBYUPTWHJPUEEUKTLWPTCPDCLCCKDEUKTLWPTCPDUYPWKB...\n",
      "Trying a = 3, b = 23\n",
      "Decrypted text with a = 3, b = 23: NPLYLELKTGGTETYNVLBTZSKNYIGNYKTVKPTBYKETIUTZGNYVXUNGBTZSPLGKNYAGLVVLBKCNGKTGUTCTTBUVLBKCNGKTGULPGNBS...\n",
      "Trying a = 3, b = 24\n",
      "Decrypted text with a = 3, b = 24: EGCPCVCBKXXKVKPEMCSKQJBEPZXEPBKMBGKSPBVKZLKQXEPMOLEXSKQJGCXBEPRXCMMCSBTEXBKXLKTKKSLMCSBTEXBKXLCGXESJ...\n",
      "Trying a = 3, b = 25\n",
      "Decrypted text with a = 3, b = 25: VXTGTMTSBOOBMBGVDTJBHASVGQOVGSBDSXBJGSMBQCBHOVGDFCVOJBHAXTOSVGIOTDDTJSKVOSBOCBKBBJCDTJSKVOSBOCTXOVJA...\n",
      "Trying a = 5, b = 0\n",
      "Decrypted text with a = 5, b = 0: CYGTGHGVQDDQHQTCMGAQEFVCTZDCTVQMVYQATVHQZBQEDCTMIBCDAQEFYGDVCTPDGMMGAVLCDVQDBQLQQABMGAVLCDVQDBGYDCAF...\n",
      "Trying a = 5, b = 1\n",
      "Decrypted text with a = 5, b = 1: HDLYLMLAVIIVMVYHRLFVJKAHYEIHYAVRADVFYAMVEGVJIHYRNGHIFVJKDLIAHYUILRRLFAQHIAVIGVQVVFGRLFAQHIAVIGLDIHFK...\n",
      "Trying a = 5, b = 2\n",
      "Decrypted text with a = 5, b = 2: MIQDQRQFANNARADMWQKAOPFMDJNMDFAWFIAKDFRAJLAONMDWSLMNKAOPIQNFMDZNQWWQKFVMNFANLAVAAKLWQKFVMNFANLQINMKP...\n",
      "Trying a = 5, b = 3\n",
      "Decrypted text with a = 5, b = 3: RNVIVWVKFSSFWFIRBVPFTUKRIOSRIKFBKNFPIKWFOQFTSRIBXQRSPFTUNVSKRIESVBBVPKARSKFSQFAFFPQBVPKARSKFSQVNSRPU...\n",
      "Trying a = 5, b = 4\n",
      "Decrypted text with a = 5, b = 4: WSANABAPKXXKBKNWGAUKYZPWNTXWNPKGPSKUNPBKTVKYXWNGCVWXUKYZSAXPWNJXAGGAUPFWXPKXVKFKKUVGAUPFWXPKXVASXWUZ...\n",
      "Trying a = 5, b = 5\n",
      "Decrypted text with a = 5, b = 5: BXFSFGFUPCCPGPSBLFZPDEUBSYCBSUPLUXPZSUGPYAPDCBSLHABCZPDEXFCUBSOCFLLFZUKBCUPCAPKPPZALFZUKBCUPCAFXCBZE...\n",
      "Trying a = 5, b = 6\n",
      "Decrypted text with a = 5, b = 6: GCKXKLKZUHHULUXGQKEUIJZGXDHGXZUQZCUEXZLUDFUIHGXQMFGHEUIJCKHZGXTHKQQKEZPGHZUHFUPUUEFQKEZPGHZUHFKCHGEJ...\n",
      "Trying a = 5, b = 7\n",
      "Decrypted text with a = 5, b = 7: LHPCPQPEZMMZQZCLVPJZNOELCIMLCEZVEHZJCEQZIKZNMLCVRKLMJZNOHPMELCYMPVVPJEULMEZMKZUZZJKVPJEULMEZMKPHMLJO...\n",
      "Trying a = 5, b = 8\n",
      "Decrypted text with a = 5, b = 8: QMUHUVUJERREVEHQAUOESTJQHNRQHJEAJMEOHJVENPESRQHAWPQROESTMURJQHDRUAAUOJZQRJERPEZEEOPAUOJZQRJERPUMRQOT...\n",
      "Trying a = 5, b = 9\n",
      "Decrypted text with a = 5, b = 9: VRZMZAZOJWWJAJMVFZTJXYOVMSWVMOJFORJTMOAJSUJXWVMFBUVWTJXYRZWOVMIWZFFZTOEVWOJWUJEJJTUFZTOEVWOJWUZRWVTY...\n",
      "Trying a = 5, b = 10\n",
      "Decrypted text with a = 5, b = 10: AWEREFETOBBOFORAKEYOCDTARXBARTOKTWOYRTFOXZOCBARKGZABYOCDWEBTARNBEKKEYTJABTOBZOJOOYZKEYTJABTOBZEWBAYD...\n",
      "Trying a = 5, b = 11\n",
      "Decrypted text with a = 5, b = 11: FBJWJKJYTGGTKTWFPJDTHIYFWCGFWYTPYBTDWYKTCETHGFWPLEFGDTHIBJGYFWSGJPPJDYOFGYTGETOTTDEPJDYOFGYTGEJBGFDI...\n",
      "Trying a = 5, b = 12\n",
      "Decrypted text with a = 5, b = 12: KGOBOPODYLLYPYBKUOIYMNDKBHLKBDYUDGYIBDPYHJYMLKBUQJKLIYMNGOLDKBXLOUUOIDTKLDYLJYTYYIJUOIDTKLDYLJOGLKIN...\n",
      "Trying a = 5, b = 13\n",
      "Decrypted text with a = 5, b = 13: PLTGTUTIDQQDUDGPZTNDRSIPGMQPGIDZILDNGIUDMODRQPGZVOPQNDRSLTQIPGCQTZZTNIYPQIDQODYDDNOZTNIYPQIDQOTLQPNS...\n",
      "Trying a = 5, b = 14\n",
      "Decrypted text with a = 5, b = 14: UQYLYZYNIVVIZILUEYSIWXNULRVULNIENQISLNZIRTIWVULEATUVSIWXQYVNULHVYEEYSNDUVNIVTIDIISTEYSNDUVNIVTYQVUSX...\n",
      "Trying a = 5, b = 15\n",
      "Decrypted text with a = 5, b = 15: ZVDQDEDSNAANENQZJDXNBCSZQWAZQSNJSVNXQSENWYNBAZQJFYZAXNBCVDASZQMADJJDXSIZASNAYNINNXYJDXSIZASNAYDVAZXC...\n",
      "Trying a = 5, b = 16\n",
      "Decrypted text with a = 5, b = 16: EAIVIJIXSFFSJSVEOICSGHXEVBFEVXSOXASCVXJSBDSGFEVOKDEFCSGHAIFXEVRFIOOICXNEFXSFDSNSSCDOICXNEFXSFDIAFECH...\n",
      "Trying a = 5, b = 17\n",
      "Decrypted text with a = 5, b = 17: JFNANONCXKKXOXAJTNHXLMCJAGKJACXTCFXHACOXGIXLKJATPIJKHXLMFNKCJAWKNTTNHCSJKCXKIXSXXHITNHCSJKCXKINFKJHM...\n",
      "Trying a = 5, b = 18\n",
      "Decrypted text with a = 5, b = 18: OKSFSTSHCPPCTCFOYSMCQRHOFLPOFHCYHKCMFHTCLNCQPOFYUNOPMCQRKSPHOFBPSYYSMHXOPHCPNCXCCMNYSMHXOPHCPNSKPOMR...\n",
      "Trying a = 5, b = 19\n",
      "Decrypted text with a = 5, b = 19: TPXKXYXMHUUHYHKTDXRHVWMTKQUTKMHDMPHRKMYHQSHVUTKDZSTURHVWPXUMTKGUXDDXRMCTUMHUSHCHHRSDXRMCTUMHUSXPUTRW...\n",
      "Trying a = 5, b = 20\n",
      "Decrypted text with a = 5, b = 20: YUCPCDCRMZZMDMPYICWMABRYPVZYPRMIRUMWPRDMVXMAZYPIEXYZWMABUCZRYPLZCIICWRHYZRMZXMHMMWXICWRHYZRMZXCUZYWB...\n",
      "Trying a = 5, b = 21\n",
      "Decrypted text with a = 5, b = 21: DZHUHIHWREERIRUDNHBRFGWDUAEDUWRNWZRBUWIRACRFEDUNJCDEBRFGZHEWDUQEHNNHBWMDEWRECRMRRBCNHBWMDEWRECHZEDBG...\n",
      "Trying a = 5, b = 22\n",
      "Decrypted text with a = 5, b = 22: IEMZMNMBWJJWNWZISMGWKLBIZFJIZBWSBEWGZBNWFHWKJIZSOHIJGWKLEMJBIZVJMSSMGBRIJBWJHWRWWGHSMGBRIJBWJHMEJIGL...\n",
      "Trying a = 5, b = 23\n",
      "Decrypted text with a = 5, b = 23: NJRERSRGBOOBSBENXRLBPQGNEKONEGBXGJBLEGSBKMBPONEXTMNOLBPQJROGNEAORXXRLGWNOGBOMBWBBLMXRLGWNOGBOMRJONLQ...\n",
      "Trying a = 5, b = 24\n",
      "Decrypted text with a = 5, b = 24: SOWJWXWLGTTGXGJSCWQGUVLSJPTSJLGCLOGQJLXGPRGUTSJCYRSTQGUVOWTLSJFTWCCWQLBSTLGTRGBGGQRCWQLBSTLGTRWOTSQV...\n",
      "Trying a = 5, b = 25\n",
      "Decrypted text with a = 5, b = 25: XTBOBCBQLYYLCLOXHBVLZAQXOUYXOQLHQTLVOQCLUWLZYXOHDWXYVLZATBYQXOKYBHHBVQGXYQLYWLGLLVWHBVQGXYQLYWBTYXVA...\n",
      "Trying a = 7, b = 0\n",
      "Decrypted text with a = 7, b = 0: UGIVIFIPERREFEVUQIAEOLPUVDRUVPEQPGEAVPFEDXEORUVQCXURAEOLGIRPUVHRIQQIAPTURPERXETEEAXQIAPTURPERXIGRUAL...\n",
      "Trying a = 7, b = 1\n",
      "Decrypted text with a = 7, b = 1: FRTGTQTAPCCPQPGFBTLPZWAFGOCFGAPBARPLGAQPOIPZCFGBNIFCLPZWRTCAFGSCTBBTLAEFCAPCIPEPPLIBTLAEFCAPCITRCFLW...\n",
      "Trying a = 7, b = 2\n",
      "Decrypted text with a = 7, b = 2: QCEREBELANNABARQMEWAKHLQRZNQRLAMLCAWRLBAZTAKNQRMYTQNWAKHCENLQRDNEMMEWLPQNLANTAPAAWTMEWLPQNLANTECNQWH...\n",
      "Trying a = 7, b = 3\n",
      "Decrypted text with a = 7, b = 3: BNPCPMPWLYYLMLCBXPHLVSWBCKYBCWLXWNLHCWMLKELVYBCXJEBYHLVSNPYWBCOYPXXPHWABYWLYELALLHEXPHWABYWLYEPNYBHS...\n",
      "Trying a = 7, b = 4\n",
      "Decrypted text with a = 7, b = 4: MYANAXAHWJJWXWNMIASWGDHMNVJMNHWIHYWSNHXWVPWGJMNIUPMJSWGDYAJHMNZJAIIASHLMJHWJPWLWWSPIASHLMJHWJPAYJMSD...\n",
      "Trying a = 7, b = 5\n",
      "Decrypted text with a = 7, b = 5: XJLYLILSHUUHIHYXTLDHROSXYGUXYSHTSJHDYSIHGAHRUXYTFAXUDHROJLUSXYKULTTLDSWXUSHUAHWHHDATLDSWXUSHUALJUXDO...\n",
      "Trying a = 7, b = 6\n",
      "Decrypted text with a = 7, b = 6: IUWJWTWDSFFSTSJIEWOSCZDIJRFIJDSEDUSOJDTSRLSCFIJEQLIFOSCZUWFDIJVFWEEWODHIFDSFLSHSSOLEWODHIFDSFLWUFIOZ...\n",
      "Trying a = 7, b = 7\n",
      "Decrypted text with a = 7, b = 7: TFHUHEHODQQDEDUTPHZDNKOTUCQTUODPOFDZUOEDCWDNQTUPBWTQZDNKFHQOTUGQHPPHZOSTQODQWDSDDZWPHZOSTQODQWHFQTZK...\n",
      "Trying a = 7, b = 8\n",
      "Decrypted text with a = 7, b = 8: EQSFSPSZOBBOPOFEASKOYVZEFNBEFZOAZQOKFZPONHOYBEFAMHEBKOYVQSBZEFRBSAASKZDEBZOBHODOOKHASKZDEBZOBHSQBEKV...\n",
      "Trying a = 7, b = 9\n",
      "Decrypted text with a = 7, b = 9: PBDQDADKZMMZAZQPLDVZJGKPQYMPQKZLKBZVQKAZYSZJMPQLXSPMVZJGBDMKPQCMDLLDVKOPMKZMSZOZZVSLDVKOPMKZMSDBMPVG...\n",
      "Trying a = 7, b = 10\n",
      "Decrypted text with a = 7, b = 10: AMOBOLOVKXXKLKBAWOGKURVABJXABVKWVMKGBVLKJDKUXABWIDAXGKURMOXVABNXOWWOGVZAXVKXDKZKKGDWOGVZAXVKXDOMXAGR...\n",
      "Trying a = 7, b = 11\n",
      "Decrypted text with a = 7, b = 11: LXZMZWZGVIIVWVMLHZRVFCGLMUILMGVHGXVRMGWVUOVFILMHTOLIRVFCXZIGLMYIZHHZRGKLIGVIOVKVVROHZRGKLIGVIOZXILRC...\n",
      "Trying a = 7, b = 12\n",
      "Decrypted text with a = 7, b = 12: WIKXKHKRGTTGHGXWSKCGQNRWXFTWXRGSRIGCXRHGFZGQTWXSEZWTCGQNIKTRWXJTKSSKCRVWTRGTZGVGGCZSKCRVWTRGTZKITWCN...\n",
      "Trying a = 7, b = 13\n",
      "Decrypted text with a = 7, b = 13: HTVIVSVCREERSRIHDVNRBYCHIQEHICRDCTRNICSRQKRBEHIDPKHENRBYTVECHIUEVDDVNCGHECREKRGRRNKDVNCGHECREKVTEHNY...\n",
      "Trying a = 7, b = 14\n",
      "Decrypted text with a = 7, b = 14: SEGTGDGNCPPCDCTSOGYCMJNSTBPSTNCONECYTNDCBVCMPSTOAVSPYCMJEGPNSTFPGOOGYNRSPNCPVCRCCYVOGYNRSPNCPVGEPSYJ...\n",
      "Trying a = 7, b = 15\n",
      "Decrypted text with a = 7, b = 15: DPRERORYNAANONEDZRJNXUYDEMADEYNZYPNJEYONMGNXADEZLGDAJNXUPRAYDEQARZZRJYCDAYNAGNCNNJGZRJYCDAYNAGRPADJU...\n",
      "Trying a = 7, b = 16\n",
      "Decrypted text with a = 7, b = 16: OACPCZCJYLLYZYPOKCUYIFJOPXLOPJYKJAYUPJZYXRYILOPKWROLUYIFACLJOPBLCKKCUJNOLJYLRYNYYURKCUJNOLJYLRCALOUF...\n",
      "Trying a = 7, b = 17\n",
      "Decrypted text with a = 7, b = 17: ZLNANKNUJWWJKJAZVNFJTQUZAIWZAUJVULJFAUKJICJTWZAVHCZWFJTQLNWUZAMWNVVNFUYZWUJWCJYJJFCVNFUYZWUJWCNLWZFQ...\n",
      "Trying a = 7, b = 18\n",
      "Decrypted text with a = 7, b = 18: KWYLYVYFUHHUVULKGYQUEBFKLTHKLFUGFWUQLFVUTNUEHKLGSNKHQUEBWYHFKLXHYGGYQFJKHFUHNUJUUQNGYQFJKHFUHNYWHKQB...\n",
      "Trying a = 7, b = 19\n",
      "Decrypted text with a = 7, b = 19: VHJWJGJQFSSFGFWVRJBFPMQVWESVWQFRQHFBWQGFEYFPSVWRDYVSBFPMHJSQVWISJRRJBQUVSQFSYFUFFBYRJBQUVSQFSYJHSVBM...\n",
      "Trying a = 7, b = 20\n",
      "Decrypted text with a = 7, b = 20: GSUHURUBQDDQRQHGCUMQAXBGHPDGHBQCBSQMHBRQPJQADGHCOJGDMQAXSUDBGHTDUCCUMBFGDBQDJQFQQMJCUMBFGDBQDJUSDGMX...\n",
      "Trying a = 7, b = 21\n",
      "Decrypted text with a = 7, b = 21: RDFSFCFMBOOBCBSRNFXBLIMRSAORSMBNMDBXSMCBAUBLORSNZUROXBLIDFOMRSEOFNNFXMQROMBOUBQBBXUNFXMQROMBOUFDORXI...\n",
      "Trying a = 7, b = 22\n",
      "Decrypted text with a = 7, b = 22: COQDQNQXMZZMNMDCYQIMWTXCDLZCDXMYXOMIDXNMLFMWZCDYKFCZIMWTOQZXCDPZQYYQIXBCZXMZFMBMMIFYQIXBCZXMZFQOZCIT...\n",
      "Trying a = 7, b = 23\n",
      "Decrypted text with a = 7, b = 23: NZBOBYBIXKKXYXONJBTXHEINOWKNOIXJIZXTOIYXWQXHKNOJVQNKTXHEZBKINOAKBJJBTIMNKIXKQXMXXTQJBTIMNKIXKQBZKNTE...\n",
      "Trying a = 7, b = 24\n",
      "Decrypted text with a = 7, b = 24: YKMZMJMTIVVIJIZYUMEISPTYZHVYZTIUTKIEZTJIHBISVYZUGBYVEISPKMVTYZLVMUUMETXYVTIVBIXIIEBUMETXYVTIVBMKVYEP...\n",
      "Trying a = 7, b = 25\n",
      "Decrypted text with a = 7, b = 25: JVXKXUXETGGTUTKJFXPTDAEJKSGJKETFEVTPKEUTSMTDGJKFRMJGPTDAVXGEJKWGXFFXPEIJGETGMTITTPMFXPEIJGETGMXVGJPA...\n",
      "Trying a = 9, b = 0\n",
      "Decrypted text with a = 9, b = 0: EWMZMBMDGTTGBGZEYMAGIXDEZLTEZDGYDWGAZDBGLPGITEZYQPETAGIXWMTDEZRTMYYMADJETDGTPGJGGAPYMADJETDGTPMWTEAX...\n",
      "Trying a = 9, b = 1\n",
      "Decrypted text with a = 9, b = 1: BTJWJYJADQQDYDWBVJXDFUABWIQBWADVATDXWAYDIMDFQBWVNMBQXDFUTJQABWOQJVVJXAGBQADQMDGDDXMVJXAGBQADQMJTQBXU...\n",
      "Trying a = 9, b = 2\n",
      "Decrypted text with a = 9, b = 2: YQGTGVGXANNAVATYSGUACRXYTFNYTXASXQAUTXVAFJACNYTSKJYNUACRQGNXYTLNGSSGUXDYNXANJADAAUJSGUXDYNXANJGQNYUR...\n",
      "Trying a = 9, b = 3\n",
      "Decrypted text with a = 9, b = 3: VNDQDSDUXKKXSXQVPDRXZOUVQCKVQUXPUNXRQUSXCGXZKVQPHGVKRXZONDKUVQIKDPPDRUAVKUXKGXAXXRGPDRUAVKUXKGDNKVRO...\n",
      "Trying a = 9, b = 4\n",
      "Decrypted text with a = 9, b = 4: SKANAPARUHHUPUNSMAOUWLRSNZHSNRUMRKUONRPUZDUWHSNMEDSHOUWLKAHRSNFHAMMAORXSHRUHDUXUUODMAORXSHRUHDAKHSOL...\n",
      "Trying a = 9, b = 5\n",
      "Decrypted text with a = 9, b = 5: PHXKXMXOREERMRKPJXLRTIOPKWEPKORJOHRLKOMRWARTEPKJBAPELRTIHXEOPKCEXJJXLOUPEOREARURRLAJXLOUPEOREAXHEPLI...\n",
      "Trying a = 9, b = 6\n",
      "Decrypted text with a = 9, b = 6: MEUHUJULOBBOJOHMGUIOQFLMHTBMHLOGLEOIHLJOTXOQBMHGYXMBIOQFEUBLMHZBUGGUILRMBLOBXOROOIXGUILRMBLOBXUEBMIF...\n",
      "Trying a = 9, b = 7\n",
      "Decrypted text with a = 9, b = 7: JBRERGRILYYLGLEJDRFLNCIJEQYJEILDIBLFEIGLQULNYJEDVUJYFLNCBRYIJEWYRDDRFIOJYILYULOLLFUDRFIOJYILYURBYJFC...\n",
      "Trying a = 9, b = 8\n",
      "Decrypted text with a = 9, b = 8: GYOBODOFIVVIDIBGAOCIKZFGBNVGBFIAFYICBFDINRIKVGBASRGVCIKZYOVFGBTVOAAOCFLGVFIVRILIICRAOCFLGVFIVROYVGCZ...\n",
      "Trying a = 9, b = 9\n",
      "Decrypted text with a = 9, b = 9: DVLYLALCFSSFAFYDXLZFHWCDYKSDYCFXCVFZYCAFKOFHSDYXPODSZFHWVLSCDYQSLXXLZCIDSCFSOFIFFZOXLZCIDSCFSOLVSDZW...\n",
      "Trying a = 9, b = 10\n",
      "Decrypted text with a = 9, b = 10: ASIVIXIZCPPCXCVAUIWCETZAVHPAVZCUZSCWVZXCHLCEPAVUMLAPWCETSIPZAVNPIUUIWZFAPZCPLCFCCWLUIWZFAPZCPLISPAWT...\n",
      "Trying a = 9, b = 11\n",
      "Decrypted text with a = 9, b = 11: XPFSFUFWZMMZUZSXRFTZBQWXSEMXSWZRWPZTSWUZEIZBMXSRJIXMTZBQPFMWXSKMFRRFTWCXMWZMIZCZZTIRFTWCXMWZMIFPMXTQ...\n",
      "Trying a = 9, b = 12\n",
      "Decrypted text with a = 9, b = 12: UMCPCRCTWJJWRWPUOCQWYNTUPBJUPTWOTMWQPTRWBFWYJUPOGFUJQWYNMCJTUPHJCOOCQTZUJTWJFWZWWQFOCQTZUJTWJFCMJUQN...\n",
      "Trying a = 9, b = 13\n",
      "Decrypted text with a = 9, b = 13: RJZMZOZQTGGTOTMRLZNTVKQRMYGRMQTLQJTNMQOTYCTVGRMLDCRGNTVKJZGQRMEGZLLZNQWRGQTGCTWTTNCLZNQWRGQTGCZJGRNK...\n",
      "Trying a = 9, b = 14\n",
      "Decrypted text with a = 9, b = 14: OGWJWLWNQDDQLQJOIWKQSHNOJVDOJNQINGQKJNLQVZQSDOJIAZODKQSHGWDNOJBDWIIWKNTODNQDZQTQQKZIWKNTODNQDZWGDOKH...\n",
      "Trying a = 9, b = 15\n",
      "Decrypted text with a = 9, b = 15: LDTGTITKNAANINGLFTHNPEKLGSALGKNFKDNHGKINSWNPALGFXWLAHNPEDTAKLGYATFFTHKQLAKNAWNQNNHWFTHKQLAKNAWTDALHE...\n",
      "Trying a = 9, b = 16\n",
      "Decrypted text with a = 9, b = 16: IAQDQFQHKXXKFKDICQEKMBHIDPXIDHKCHAKEDHFKPTKMXIDCUTIXEKMBAQXHIDVXQCCQEHNIXHKXTKNKKETCQEHNIXHKXTQAXIEB...\n",
      "Trying a = 9, b = 17\n",
      "Decrypted text with a = 9, b = 17: FXNANCNEHUUHCHAFZNBHJYEFAMUFAEHZEXHBAECHMQHJUFAZRQFUBHJYXNUEFASUNZZNBEKFUEHUQHKHHBQZNBEKFUEHUQNXUFBY...\n",
      "Trying a = 9, b = 18\n",
      "Decrypted text with a = 9, b = 18: CUKXKZKBERREZEXCWKYEGVBCXJRCXBEWBUEYXBZEJNEGRCXWONCRYEGVUKRBCXPRKWWKYBHCRBERNEHEEYNWKYBHCRBERNKURCYV...\n",
      "Trying a = 9, b = 19\n",
      "Decrypted text with a = 9, b = 19: ZRHUHWHYBOOBWBUZTHVBDSYZUGOZUYBTYRBVUYWBGKBDOZUTLKZOVBDSRHOYZUMOHTTHVYEZOYBOKBEBBVKTHVYEZOYBOKHROZVS...\n",
      "Trying a = 9, b = 20\n",
      "Decrypted text with a = 9, b = 20: WOERETEVYLLYTYRWQESYAPVWRDLWRVYQVOYSRVTYDHYALWRQIHWLSYAPOELVWRJLEQQESVBWLVYLHYBYYSHQESVBWLVYLHEOLWSP...\n",
      "Trying a = 9, b = 21\n",
      "Decrypted text with a = 9, b = 21: TLBOBQBSVIIVQVOTNBPVXMSTOAITOSVNSLVPOSQVAEVXITONFETIPVXMLBISTOGIBNNBPSYTISVIEVYVVPENBPSYTISVIEBLITPM...\n",
      "Trying a = 9, b = 22\n",
      "Decrypted text with a = 9, b = 22: QIYLYNYPSFFSNSLQKYMSUJPQLXFQLPSKPISMLPNSXBSUFQLKCBQFMSUJIYFPQLDFYKKYMPVQFPSFBSVSSMBKYMPVQFPSFBYIFQMJ...\n",
      "Trying a = 9, b = 23\n",
      "Decrypted text with a = 9, b = 23: NFVIVKVMPCCPKPINHVJPRGMNIUCNIMPHMFPJIMKPUYPRCNIHZYNCJPRGFVCMNIACVHHVJMSNCMPCYPSPPJYHVJMSNCMPCYVFCNJG...\n",
      "Trying a = 9, b = 24\n",
      "Decrypted text with a = 9, b = 24: KCSFSHSJMZZMHMFKESGMODJKFRZKFJMEJCMGFJHMRVMOZKFEWVKZGMODCSZJKFXZSEESGJPKZJMZVMPMMGVESGJPKZJMZVSCZKGD...\n",
      "Trying a = 9, b = 25\n",
      "Decrypted text with a = 9, b = 25: HZPCPEPGJWWJEJCHBPDJLAGHCOWHCGJBGZJDCGEJOSJLWHCBTSHWDJLAZPWGHCUWPBBPDGMHWGJWSJMJJDSBPDGMHWGJWSPZWHDA...\n",
      "Trying a = 11, b = 0\n",
      "Decrypted text with a = 11, b = 0: ISYLYPYTMZZMPMLIWYAMQHTILJZILTMWTSMALTPMJRMQZILWGRIZAMQHSYZTILVZYWWYATFIZTMZRMFMMARWYATFIZTMZRYSZIAH...\n",
      "Trying a = 11, b = 1\n",
      "Decrypted text with a = 11, b = 1: PZFSFWFATGGTWTSPDFHTXOAPSQGPSATDAZTHSAWTQYTXGPSDNYPGHTXOZFGAPSCGFDDFHAMPGATGYTMTTHYDFHAMPGATGYFZGPHO...\n",
      "Trying a = 11, b = 2\n",
      "Decrypted text with a = 11, b = 2: WGMZMDMHANNADAZWKMOAEVHWZXNWZHAKHGAOZHDAXFAENWZKUFWNOAEVGMNHWZJNMKKMOHTWNHANFATAAOFKMOHTWNHANFMGNWOV...\n",
      "Trying a = 11, b = 3\n",
      "Decrypted text with a = 11, b = 3: DNTGTKTOHUUHKHGDRTVHLCODGEUDGOHRONHVGOKHEMHLUDGRBMDUVHLCNTUODGQUTRRTVOADUOHUMHAHHVMRTVOADUOHUMTNUDVC...\n",
      "Trying a = 11, b = 4\n",
      "Decrypted text with a = 11, b = 4: KUANARAVOBBORONKYACOSJVKNLBKNVOYVUOCNVROLTOSBKNYITKBCOSJUABVKNXBAYYACVHKBVOBTOHOOCTYACVHKBVOBTAUBKCJ...\n",
      "Trying a = 11, b = 5\n",
      "Decrypted text with a = 11, b = 5: RBHUHYHCVIIVYVURFHJVZQCRUSIRUCVFCBVJUCYVSAVZIRUFPARIJVZQBHICRUEIHFFHJCORICVIAVOVVJAFHJCORICVIAHBIRJQ...\n",
      "Trying a = 11, b = 6\n",
      "Decrypted text with a = 11, b = 6: YIOBOFOJCPPCFCBYMOQCGXJYBZPYBJCMJICQBJFCZHCGPYBMWHYPQCGXIOPJYBLPOMMOQJVYPJCPHCVCCQHMOQJVYPJCPHOIPYQX...\n",
      "Trying a = 11, b = 7\n",
      "Decrypted text with a = 11, b = 7: FPVIVMVQJWWJMJIFTVXJNEQFIGWFIQJTQPJXIQMJGOJNWFITDOFWXJNEPVWQFISWVTTVXQCFWQJWOJCJJXOTVXQCFWQJWOVPWFXE...\n",
      "Trying a = 11, b = 8\n",
      "Decrypted text with a = 11, b = 8: MWCPCTCXQDDQTQPMACEQULXMPNDMPXQAXWQEPXTQNVQUDMPAKVMDEQULWCDXMPZDCAACEXJMDXQDVQJQQEVACEXJMDXQDVCWDMEL...\n",
      "Trying a = 11, b = 9\n",
      "Decrypted text with a = 11, b = 9: TDJWJAJEXKKXAXWTHJLXBSETWUKTWEXHEDXLWEAXUCXBKTWHRCTKLXBSDJKETWGKJHHJLEQTKEXKCXQXXLCHJLEQTKEXKCJDKTLS...\n",
      "Trying a = 11, b = 10\n",
      "Decrypted text with a = 11, b = 10: AKQDQHQLERREHEDAOQSEIZLADBRADLEOLKESDLHEBJEIRADOYJARSEIZKQRLADNRQOOQSLXARLERJEXEESJOQSLXARLERJQKRASZ...\n",
      "Trying a = 11, b = 11\n",
      "Decrypted text with a = 11, b = 11: HRXKXOXSLYYLOLKHVXZLPGSHKIYHKSLVSRLZKSOLIQLPYHKVFQHYZLPGRXYSHKUYXVVXZSEHYSLYQLELLZQVXZSEHYSLYQXRYHZG...\n",
      "Trying a = 11, b = 12\n",
      "Decrypted text with a = 11, b = 12: OYEREVEZSFFSVSROCEGSWNZORPFORZSCZYSGRZVSPXSWFORCMXOFGSWNYEFZORBFECCEGZLOFZSFXSLSSGXCEGZLOFZSFXEYFOGN...\n",
      "Trying a = 11, b = 13\n",
      "Decrypted text with a = 11, b = 13: VFLYLCLGZMMZCZYVJLNZDUGVYWMVYGZJGFZNYGCZWEZDMVYJTEVMNZDUFLMGVYIMLJJLNGSVMGZMEZSZZNEJLNGSVMGZMELFMVNU...\n",
      "Trying a = 11, b = 14\n",
      "Decrypted text with a = 11, b = 14: CMSFSJSNGTTGJGFCQSUGKBNCFDTCFNGQNMGUFNJGDLGKTCFQALCTUGKBMSTNCFPTSQQSUNZCTNGTLGZGGULQSUNZCTNGTLSMTCUB...\n",
      "Trying a = 11, b = 15\n",
      "Decrypted text with a = 11, b = 15: JTZMZQZUNAANQNMJXZBNRIUJMKAJMUNXUTNBMUQNKSNRAJMXHSJABNRITZAUJMWAZXXZBUGJAUNASNGNNBSXZBUGJAUNASZTAJBI...\n",
      "Trying a = 11, b = 16\n",
      "Decrypted text with a = 11, b = 16: QAGTGXGBUHHUXUTQEGIUYPBQTRHQTBUEBAUITBXURZUYHQTEOZQHIUYPAGHBQTDHGEEGIBNQHBUHZUNUUIZEGIBNQHBUHZGAHQIP...\n",
      "Trying a = 11, b = 17\n",
      "Decrypted text with a = 11, b = 17: XHNANENIBOOBEBAXLNPBFWIXAYOXAIBLIHBPAIEBYGBFOXALVGXOPBFWHNOIXAKONLLNPIUXOIBOGBUBBPGLNPIUXOIBOGNHOXPW...\n",
      "Trying a = 11, b = 18\n",
      "Decrypted text with a = 11, b = 18: EOUHULUPIVVILIHESUWIMDPEHFVEHPISPOIWHPLIFNIMVEHSCNEVWIMDOUVPEHRVUSSUWPBEVPIVNIBIIWNSUWPBEVPIVNUOVEWD...\n",
      "Trying a = 11, b = 19\n",
      "Decrypted text with a = 11, b = 19: LVBOBSBWPCCPSPOLZBDPTKWLOMCLOWPZWVPDOWSPMUPTCLOZJULCDPTKVBCWLOYCBZZBDWILCWPCUPIPPDUZBDWILCWPCUBVCLDK...\n",
      "Trying a = 11, b = 20\n",
      "Decrypted text with a = 11, b = 20: SCIVIZIDWJJWZWVSGIKWARDSVTJSVDWGDCWKVDZWTBWAJSVGQBSJKWARCIJDSVFJIGGIKDPSJDWJBWPWWKBGIKDPSJDWJBICJSKR...\n",
      "Trying a = 11, b = 21\n",
      "Decrypted text with a = 11, b = 21: ZJPCPGPKDQQDGDCZNPRDHYKZCAQZCKDNKJDRCKGDAIDHQZCNXIZQRDHYJPQKZCMQPNNPRKWZQKDQIDWDDRINPRKWZQKDQIPJQZRY...\n",
      "Trying a = 11, b = 22\n",
      "Decrypted text with a = 11, b = 22: GQWJWNWRKXXKNKJGUWYKOFRGJHXGJRKURQKYJRNKHPKOXGJUEPGXYKOFQWXRGJTXWUUWYRDGXRKXPKDKKYPUWYRDGXRKXPWQXGYF...\n",
      "Trying a = 11, b = 23\n",
      "Decrypted text with a = 11, b = 23: NXDQDUDYREERURQNBDFRVMYNQOENQYRBYXRFQYUROWRVENQBLWNEFRVMXDEYNQAEDBBDFYKNEYREWRKRRFWBDFYKNEYREWDXENFM...\n",
      "Trying a = 11, b = 24\n",
      "Decrypted text with a = 11, b = 24: UEKXKBKFYLLYBYXUIKMYCTFUXVLUXFYIFEYMXFBYVDYCLUXISDULMYCTEKLFUXHLKIIKMFRULFYLDYRYYMDIKMFRULFYLDKELUMT...\n",
      "Trying a = 11, b = 25\n",
      "Decrypted text with a = 11, b = 25: BLRERIRMFSSFIFEBPRTFJAMBECSBEMFPMLFTEMIFCKFJSBEPZKBSTFJALRSMBEOSRPPRTMYBSMFSKFYFFTKPRTMYBSMFSKRLSBTA...\n",
      "Trying a = 15, b = 0\n",
      "Decrypted text with a = 15, b = 0: SICPCLCHOBBOLOPSECAOKTHSPRBSPHOEHIOAPHLORJOKBSPEUJSBAOKTICBHSPFBCEECAHVSBHOBJOVOOAJECAHVSBHOBJCIBSAT...\n",
      "Trying a = 15, b = 1\n",
      "Decrypted text with a = 15, b = 1: LBVIVEVAHUUHEHILXVTHDMALIKULIAHXABHTIAEHKCHDULIXNCLUTHDMBVUALIYUVXXVTAOLUAHUCHOHHTCXVTAOLUAHUCVBULTM...\n",
      "Trying a = 15, b = 2\n",
      "Decrypted text with a = 15, b = 2: EUOBOXOTANNAXABEQOMAWFTEBDNEBTAQTUAMBTXADVAWNEBQGVENMAWFUONTEBRNOQQOMTHENTANVAHAAMVQOMTHENTANVOUNEMF...\n",
      "Trying a = 15, b = 3\n",
      "Decrypted text with a = 15, b = 3: XNHUHQHMTGGTQTUXJHFTPYMXUWGXUMTJMNTFUMQTWOTPGXUJZOXGFTPYNHGMXUKGHJJHFMAXGMTGOTATTFOJHFMAXGMTGOHNGXFY...\n",
      "Trying a = 15, b = 4\n",
      "Decrypted text with a = 15, b = 4: QGANAJAFMZZMJMNQCAYMIRFQNPZQNFMCFGMYNFJMPHMIZQNCSHQZYMIRGAZFQNDZACCAYFTQZFMZHMTMMYHCAYFTQZFMZHAGZQYR...\n",
      "Trying a = 15, b = 5\n",
      "Decrypted text with a = 15, b = 5: JZTGTCTYFSSFCFGJVTRFBKYJGISJGYFVYZFRGYCFIAFBSJGVLAJSRFBKZTSYJGWSTVVTRYMJSYFSAFMFFRAVTRYMJSYFSATZSJRK...\n",
      "Trying a = 15, b = 6\n",
      "Decrypted text with a = 15, b = 6: CSMZMVMRYLLYVYZCOMKYUDRCZBLCZRYORSYKZRVYBTYULCZOETCLKYUDSMLRCZPLMOOMKRFCLRYLTYFYYKTOMKRFCLRYLTMSLCKD...\n",
      "Trying a = 15, b = 7\n",
      "Decrypted text with a = 15, b = 7: VLFSFOFKREERORSVHFDRNWKVSUEVSKRHKLRDSKORUMRNEVSHXMVEDRNWLFEKVSIEFHHFDKYVEKREMRYRRDMHFDKYVEKREMFLEVDW...\n",
      "Trying a = 15, b = 8\n",
      "Decrypted text with a = 15, b = 8: OEYLYHYDKXXKHKLOAYWKGPDOLNXOLDKADEKWLDHKNFKGXOLAQFOXWKGPEYXDOLBXYAAYWDROXDKXFKRKKWFAYWDROXDKXFYEXOWP...\n",
      "Trying a = 15, b = 9\n",
      "Decrypted text with a = 15, b = 9: HXRERARWDQQDADEHTRPDZIWHEGQHEWDTWXDPEWADGYDZQHETJYHQPDZIXRQWHEUQRTTRPWKHQWDQYDKDDPYTRPWKHQWDQYRXQHPI...\n",
      "Trying a = 15, b = 10\n",
      "Decrypted text with a = 15, b = 10: AQKXKTKPWJJWTWXAMKIWSBPAXZJAXPWMPQWIXPTWZRWSJAXMCRAJIWSBQKJPAXNJKMMKIPDAJPWJRWDWWIRMKIPDAJPWJRKQJAIB...\n",
      "Trying a = 15, b = 11\n",
      "Decrypted text with a = 15, b = 11: TJDQDMDIPCCPMPQTFDBPLUITQSCTQIPFIJPBQIMPSKPLCTQFVKTCBPLUJDCITQGCDFFDBIWTCIPCKPWPPBKFDBIWTCIPCKDJCTBU...\n",
      "Trying a = 15, b = 12\n",
      "Decrypted text with a = 15, b = 12: MCWJWFWBIVVIFIJMYWUIENBMJLVMJBIYBCIUJBFILDIEVMJYODMVUIENCWVBMJZVWYYWUBPMVBIVDIPIIUDYWUBPMVBIVDWCVMUN...\n",
      "Trying a = 15, b = 13\n",
      "Decrypted text with a = 15, b = 13: FVPCPYPUBOOBYBCFRPNBXGUFCEOFCUBRUVBNCUYBEWBXOFCRHWFONBXGVPOUFCSOPRRPNUIFOUBOWBIBBNWRPNUIFOUBOWPVOFNG...\n",
      "Trying a = 15, b = 14\n",
      "Decrypted text with a = 15, b = 14: YOIVIRINUHHURUVYKIGUQZNYVXHYVNUKNOUGVNRUXPUQHYVKAPYHGUQZOIHNYVLHIKKIGNBYHNUHPUBUUGPKIGNBYHNUHPIOHYGZ...\n",
      "Trying a = 15, b = 15\n",
      "Decrypted text with a = 15, b = 15: RHBOBKBGNAANKNORDBZNJSGROQAROGNDGHNZOGKNQINJARODTIRAZNJSHBAGROEABDDBZGURAGNAINUNNZIDBZGURAGNAIBHARZS...\n",
      "Trying a = 15, b = 16\n",
      "Decrypted text with a = 15, b = 16: KAUHUDUZGTTGDGHKWUSGCLZKHJTKHZGWZAGSHZDGJBGCTKHWMBKTSGCLAUTZKHXTUWWUSZNKTZGTBGNGGSBWUSZNKTZGTBUATKSL...\n",
      "Trying a = 15, b = 17\n",
      "Decrypted text with a = 15, b = 17: DTNANWNSZMMZWZADPNLZVESDACMDASZPSTZLASWZCUZVMDAPFUDMLZVETNMSDAQMNPPNLSGDMSZMUZGZZLUPNLSGDMSZMUNTMDLE...\n",
      "Trying a = 15, b = 18\n",
      "Decrypted text with a = 15, b = 18: WMGTGPGLSFFSPSTWIGESOXLWTVFWTLSILMSETLPSVNSOFWTIYNWFESOXMGFLWTJFGIIGELZWFLSFNSZSSENIGELZWFLSFNGMFWEX...\n",
      "Trying a = 15, b = 19\n",
      "Decrypted text with a = 15, b = 19: PFZMZIZELYYLILMPBZXLHQEPMOYPMELBEFLXMEILOGLHYPMBRGPYXLHQFZYEPMCYZBBZXESPYELYGLSLLXGBZXESPYELYGZFYPXQ...\n",
      "Trying a = 15, b = 20\n",
      "Decrypted text with a = 15, b = 20: IYSFSBSXERREBEFIUSQEAJXIFHRIFXEUXYEQFXBEHZEARIFUKZIRQEAJYSRXIFVRSUUSQXLIRXERZELEEQZUSQXLIRXERZSYRIQJ...\n",
      "Trying a = 15, b = 21\n",
      "Decrypted text with a = 15, b = 21: BRLYLULQXKKXUXYBNLJXTCQBYAKBYQXNQRXJYQUXASXTKBYNDSBKJXTCRLKQBYOKLNNLJQEBKQXKSXEXXJSNLJQEBKQXKSLRKBJC...\n",
      "Trying a = 15, b = 22\n",
      "Decrypted text with a = 15, b = 22: UKERENEJQDDQNQRUGECQMVJURTDURJQGJKQCRJNQTLQMDURGWLUDCQMVKEDJURHDEGGECJXUDJQDLQXQQCLGECJXUDJQDLEKDUCV...\n",
      "Trying a = 15, b = 23\n",
      "Decrypted text with a = 15, b = 23: NDXKXGXCJWWJGJKNZXVJFOCNKMWNKCJZCDJVKCGJMEJFWNKZPENWVJFODXWCNKAWXZZXVCQNWCJWEJQJJVEZXVCQNWCJWEXDWNVO...\n",
      "Trying a = 15, b = 24\n",
      "Decrypted text with a = 15, b = 24: GWQDQZQVCPPCZCDGSQOCYHVGDFPGDVCSVWCODVZCFXCYPGDSIXGPOCYHWQPVGDTPQSSQOVJGPVCPXCJCCOXSQOVJGPVCPXQWPGOH...\n",
      "Trying a = 15, b = 25\n",
      "Decrypted text with a = 15, b = 25: ZPJWJSJOVIIVSVWZLJHVRAOZWYIZWOVLOPVHWOSVYQVRIZWLBQZIHVRAPJIOZWMIJLLJHOCZIOVIQVCVVHQLJHOCZIOVIQJPIZHA...\n",
      "Trying a = 17, b = 0\n",
      "Decrypted text with a = 17, b = 0: WEOBOZOXUHHUZUBWCOAUSDXWBPHWBXUCXEUABXZUPLUSHWBCKLWHAUSDEOHXWBJHOCCOAXRWHXUHLURUUALCOAXRWHXUHLOEHWAD...\n",
      "Trying a = 17, b = 1\n",
      "Decrypted text with a = 17, b = 1: ZHRERCRAXKKXCXEZFRDXVGAZESKZEAXFAHXDEACXSOXVKZEFNOZKDXVGHRKAZEMKRFFRDAUZKAXKOXUXXDOFRDAUZKAXKORHKZDG...\n",
      "Trying a = 17, b = 2\n",
      "Decrypted text with a = 17, b = 2: CKUHUFUDANNAFAHCIUGAYJDCHVNCHDAIDKAGHDFAVRAYNCHIQRCNGAYJKUNDCHPNUIIUGDXCNDANRAXAAGRIUGDXCNDANRUKNCGJ...\n",
      "Trying a = 17, b = 3\n",
      "Decrypted text with a = 17, b = 3: FNXKXIXGDQQDIDKFLXJDBMGFKYQFKGDLGNDJKGIDYUDBQFKLTUFQJDBMNXQGFKSQXLLXJGAFQGDQUDADDJULXJGAFQGDQUXNQFJM...\n",
      "Trying a = 17, b = 4\n",
      "Decrypted text with a = 17, b = 4: IQANALAJGTTGLGNIOAMGEPJINBTINJGOJQGMNJLGBXGETINOWXITMGEPQATJINVTAOOAMJDITJGTXGDGGMXOAMJDITJGTXAQTIMP...\n",
      "Trying a = 17, b = 5\n",
      "Decrypted text with a = 17, b = 5: LTDQDODMJWWJOJQLRDPJHSMLQEWLQMJRMTJPQMOJEAJHWLQRZALWPJHSTDWMLQYWDRRDPMGLWMJWAJGJJPARDPMGLWMJWADTWLPS...\n",
      "Trying a = 17, b = 6\n",
      "Decrypted text with a = 17, b = 6: OWGTGRGPMZZMRMTOUGSMKVPOTHZOTPMUPWMSTPRMHDMKZOTUCDOZSMKVWGZPOTBZGUUGSPJOZPMZDMJMMSDUGSPJOZPMZDGWZOSV...\n",
      "Trying a = 17, b = 7\n",
      "Decrypted text with a = 17, b = 7: RZJWJUJSPCCPUPWRXJVPNYSRWKCRWSPXSZPVWSUPKGPNCRWXFGRCVPNYZJCSRWECJXXJVSMRCSPCGPMPPVGXJVSMRCSPCGJZCRVY...\n",
      "Trying a = 17, b = 8\n",
      "Decrypted text with a = 17, b = 8: UCMZMXMVSFFSXSZUAMYSQBVUZNFUZVSAVCSYZVXSNJSQFUZAIJUFYSQBCMFVUZHFMAAMYVPUFVSFJSPSSYJAMYVPUFVSFJMCFUYB...\n",
      "Trying a = 17, b = 9\n",
      "Decrypted text with a = 17, b = 9: XFPCPAPYVIIVAVCXDPBVTEYXCQIXCYVDYFVBCYAVQMVTIXCDLMXIBVTEFPIYXCKIPDDPBYSXIYVIMVSVVBMDPBYSXIYVIMPFIXBE...\n",
      "Trying a = 17, b = 10\n",
      "Decrypted text with a = 17, b = 10: AISFSDSBYLLYDYFAGSEYWHBAFTLAFBYGBIYEFBDYTPYWLAFGOPALEYWHISLBAFNLSGGSEBVALBYLPYVYYEPGSEBVALBYLPSILAEH...\n",
      "Trying a = 17, b = 11\n",
      "Decrypted text with a = 17, b = 11: DLVIVGVEBOOBGBIDJVHBZKEDIWODIEBJELBHIEGBWSBZODIJRSDOHBZKLVOEDIQOVJJVHEYDOEBOSBYBBHSJVHEYDOEBOSVLODHK...\n",
      "Trying a = 17, b = 12\n",
      "Decrypted text with a = 17, b = 12: GOYLYJYHERREJELGMYKECNHGLZRGLHEMHOEKLHJEZVECRGLMUVGRKECNOYRHGLTRYMMYKHBGRHERVEBEEKVMYKHBGRHERVYORGKN...\n",
      "Trying a = 17, b = 13\n",
      "Decrypted text with a = 17, b = 13: JRBOBMBKHUUHMHOJPBNHFQKJOCUJOKHPKRHNOKMHCYHFUJOPXYJUNHFQRBUKJOWUBPPBNKEJUKHUYHEHHNYPBNKEJUKHUYBRUJNQ...\n",
      "Trying a = 17, b = 14\n",
      "Decrypted text with a = 17, b = 14: MUEREPENKXXKPKRMSEQKITNMRFXMRNKSNUKQRNPKFBKIXMRSABMXQKITUEXNMRZXESSEQNHMXNKXBKHKKQBSEQNHMXNKXBEUXMQT...\n",
      "Trying a = 17, b = 15\n",
      "Decrypted text with a = 17, b = 15: PXHUHSHQNAANSNUPVHTNLWQPUIAPUQNVQXNTUQSNIENLAPUVDEPATNLWXHAQPUCAHVVHTQKPAQNAENKNNTEVHTQKPAQNAEHXAPTW...\n",
      "Trying a = 17, b = 16\n",
      "Decrypted text with a = 17, b = 16: SAKXKVKTQDDQVQXSYKWQOZTSXLDSXTQYTAQWXTVQLHQODSXYGHSDWQOZAKDTSXFDKYYKWTNSDTQDHQNQQWHYKWTNSDTQDHKADSWZ...\n",
      "Trying a = 17, b = 17\n",
      "Decrypted text with a = 17, b = 17: VDNANYNWTGGTYTAVBNZTRCWVAOGVAWTBWDTZAWYTOKTRGVABJKVGZTRCDNGWVAIGNBBNZWQVGWTGKTQTTZKBNZWQVGWTGKNDGVZC...\n",
      "Trying a = 17, b = 18\n",
      "Decrypted text with a = 17, b = 18: YGQDQBQZWJJWBWDYEQCWUFZYDRJYDZWEZGWCDZBWRNWUJYDEMNYJCWUFGQJZYDLJQEEQCZTYJZWJNWTWWCNEQCZTYJZWJNQGJYCF...\n",
      "Trying a = 17, b = 19\n",
      "Decrypted text with a = 17, b = 19: BJTGTETCZMMZEZGBHTFZXICBGUMBGCZHCJZFGCEZUQZXMBGHPQBMFZXIJTMCBGOMTHHTFCWBMCZMQZWZZFQHTFCWBMCZMQTJMBFI...\n",
      "Trying a = 17, b = 20\n",
      "Decrypted text with a = 17, b = 20: EMWJWHWFCPPCHCJEKWICALFEJXPEJFCKFMCIJFHCXTCAPEJKSTEPICALMWPFEJRPWKKWIFZEPFCPTCZCCITKWIFZEPFCPTWMPEIL...\n",
      "Trying a = 17, b = 21\n",
      "Decrypted text with a = 17, b = 21: HPZMZKZIFSSFKFMHNZLFDOIHMASHMIFNIPFLMIKFAWFDSHMNVWHSLFDOPZSIHMUSZNNZLICHSIFSWFCFFLWNZLICHSIFSWZPSHLO...\n",
      "Trying a = 17, b = 22\n",
      "Decrypted text with a = 17, b = 22: KSCPCNCLIVVINIPKQCOIGRLKPDVKPLIQLSIOPLNIDZIGVKPQYZKVOIGRSCVLKPXVCQQCOLFKVLIVZIFIIOZQCOLFKVLIVZCSVKOR...\n",
      "Trying a = 17, b = 23\n",
      "Decrypted text with a = 17, b = 23: NVFSFQFOLYYLQLSNTFRLJUONSGYNSOLTOVLRSOQLGCLJYNSTBCNYRLJUVFYONSAYFTTFROINYOLYCLILLRCTFROINYOLYCFVYNRU...\n",
      "Trying a = 17, b = 24\n",
      "Decrypted text with a = 17, b = 24: QYIVITIROBBOTOVQWIUOMXRQVJBQVROWRYOUVRTOJFOMBQVWEFQBUOMXYIBRQVDBIWWIURLQBROBFOLOOUFWIURLQBROBFIYBQUX...\n",
      "Trying a = 17, b = 25\n",
      "Decrypted text with a = 17, b = 25: TBLYLWLUREERWRYTZLXRPAUTYMETYURZUBRXYUWRMIRPETYZHITEXRPABLEUTYGELZZLXUOTEUREIRORRXIZLXUOTEUREILBETXA...\n",
      "Trying a = 19, b = 0\n",
      "Decrypted text with a = 19, b = 0: GUSFSVSLWJJWVWFGKSAWMPLGFXJGFLWKLUWAFLVWXDWMJGFKYDGJAWMPUSJLGFTJSKKSALHGJLWJDWHWWADKSALHGJLWJDSUJGAP...\n",
      "Trying a = 19, b = 1\n",
      "Decrypted text with a = 19, b = 1: VJHUHKHALYYLKLUVZHPLBEAVUMYVUALZAJLPUAKLMSLBYVUZNSVYPLBEJHYAVUIYHZZHPAWVYALYSLWLLPSZHPAWVYALYSHJYVPE...\n",
      "Trying a = 19, b = 2\n",
      "Decrypted text with a = 19, b = 2: KYWJWZWPANNAZAJKOWEAQTPKJBNKJPAOPYAEJPZABHAQNKJOCHKNEAQTYWNPKJXNWOOWEPLKNPANHALAAEHOWEPLKNPANHWYNKET...\n",
      "Trying a = 19, b = 3\n",
      "Decrypted text with a = 19, b = 3: ZNLYLOLEPCCPOPYZDLTPFIEZYQCZYEPDENPTYEOPQWPFCZYDRWZCTPFINLCEZYMCLDDLTEAZCEPCWPAPPTWDLTEAZCEPCWLNCZTI...\n",
      "Trying a = 19, b = 4\n",
      "Decrypted text with a = 19, b = 4: OCANADATERREDENOSAIEUXTONFRONTESTCEINTDEFLEURONSGLORIEUXCARTONBRASSAITPORTERLEPEEILSAITPORTERLACROIX...\n",
      "Trying a = 19, b = 5\n",
      "Decrypted text with a = 19, b = 5: DRPCPSPITGGTSTCDHPXTJMIDCUGDCITHIRTXCISTUATJGDCHVADGXTJMRPGIDCQGPHHPXIEDGITGATETTXAHPXIEDGITGAPRGDXM...\n",
      "Trying a = 19, b = 6\n",
      "Decrypted text with a = 19, b = 6: SGEREHEXIVVIHIRSWEMIYBXSRJVSRXIWXGIMRXHIJPIYVSRWKPSVMIYBGEVXSRFVEWWEMXTSVXIVPITIIMPWEMXTSVXIVPEGVSMB...\n",
      "Trying a = 19, b = 7\n",
      "Decrypted text with a = 19, b = 7: HVTGTWTMXKKXWXGHLTBXNQMHGYKHGMXLMVXBGMWXYEXNKHGLZEHKBXNQVTKMHGUKTLLTBMIHKMXKEXIXXBELTBMIHKMXKETVKHBQ...\n",
      "Trying a = 19, b = 8\n",
      "Decrypted text with a = 19, b = 8: WKIVILIBMZZMLMVWAIQMCFBWVNZWVBMABKMQVBLMNTMCZWVAOTWZQMCFKIZBWVJZIAAIQBXWZBMZTMXMMQTAIQBXWZBMZTIKZWQF...\n",
      "Trying a = 19, b = 9\n",
      "Decrypted text with a = 19, b = 9: LZXKXAXQBOOBABKLPXFBRUQLKCOLKQBPQZBFKQABCIBROLKPDILOFBRUZXOQLKYOXPPXFQMLOQBOIBMBBFIPXFQMLOQBOIXZOLFU...\n",
      "Trying a = 19, b = 10\n",
      "Decrypted text with a = 19, b = 10: AOMZMPMFQDDQPQZAEMUQGJFAZRDAZFQEFOQUZFPQRXQGDAZESXADUQGJOMDFAZNDMEEMUFBADFQDXQBQQUXEMUFBADFQDXMODAUJ...\n",
      "Trying a = 19, b = 11\n",
      "Decrypted text with a = 19, b = 11: PDBOBEBUFSSFEFOPTBJFVYUPOGSPOUFTUDFJOUEFGMFVSPOTHMPSJFVYDBSUPOCSBTTBJUQPSUFSMFQFFJMTBJUQPSUFSMBDSPJY...\n",
      "Trying a = 19, b = 12\n",
      "Decrypted text with a = 19, b = 12: ESQDQTQJUHHUTUDEIQYUKNJEDVHEDJUIJSUYDJTUVBUKHEDIWBEHYUKNSQHJEDRHQIIQYJFEHJUHBUFUUYBIQYJFEHJUHBQSHEYN...\n",
      "Trying a = 19, b = 13\n",
      "Decrypted text with a = 19, b = 13: THFSFIFYJWWJIJSTXFNJZCYTSKWTSYJXYHJNSYIJKQJZWTSXLQTWNJZCHFWYTSGWFXXFNYUTWYJWQJUJJNQXFNYUTWYJWQFHWTNC...\n",
      "Trying a = 19, b = 14\n",
      "Decrypted text with a = 19, b = 14: IWUHUXUNYLLYXYHIMUCYORNIHZLIHNYMNWYCHNXYZFYOLIHMAFILCYORWULNIHVLUMMUCNJILNYLFYJYYCFMUCNJILNYLFUWLICR...\n",
      "Trying a = 19, b = 15\n",
      "Decrypted text with a = 19, b = 15: XLJWJMJCNAANMNWXBJRNDGCXWOAXWCNBCLNRWCMNOUNDAXWBPUXARNDGLJACXWKAJBBJRCYXACNAUNYNNRUBJRCYXACNAUJLAXRG...\n",
      "Trying a = 19, b = 16\n",
      "Decrypted text with a = 19, b = 16: MAYLYBYRCPPCBCLMQYGCSVRMLDPMLRCQRACGLRBCDJCSPMLQEJMPGCSVAYPRMLZPYQQYGRNMPRCPJCNCCGJQYGRNMPRCPJYAPMGV...\n",
      "Trying a = 19, b = 17\n",
      "Decrypted text with a = 19, b = 17: BPNANQNGREERQRABFNVRHKGBASEBAGRFGPRVAGQRSYRHEBAFTYBEVRHKPNEGBAOENFFNVGCBEGREYRCRRVYFNVGCBEGREYNPEBVK...\n",
      "Trying a = 19, b = 18\n",
      "Decrypted text with a = 19, b = 18: QECPCFCVGTTGFGPQUCKGWZVQPHTQPVGUVEGKPVFGHNGWTQPUINQTKGWZECTVQPDTCUUCKVRQTVGTNGRGGKNUCKVRQTVGTNCETQKZ...\n",
      "Trying a = 19, b = 19\n",
      "Decrypted text with a = 19, b = 19: FTRERURKVIIVUVEFJRZVLOKFEWIFEKVJKTVZEKUVWCVLIFEJXCFIZVLOTRIKFESIRJJRZKGFIKVICVGVVZCJRZKGFIKVICRTIFZO...\n",
      "Trying a = 19, b = 20\n",
      "Decrypted text with a = 19, b = 20: UIGTGJGZKXXKJKTUYGOKADZUTLXUTZKYZIKOTZJKLRKAXUTYMRUXOKADIGXZUTHXGYYGOZVUXZKXRKVKKORYGOZVUXZKXRGIXUOD...\n",
      "Trying a = 19, b = 21\n",
      "Decrypted text with a = 19, b = 21: JXVIVYVOZMMZYZIJNVDZPSOJIAMJIOZNOXZDIOYZAGZPMJINBGJMDZPSXVMOJIWMVNNVDOKJMOZMGZKZZDGNVDOKJMOZMGVXMJDS...\n",
      "Trying a = 19, b = 22\n",
      "Decrypted text with a = 19, b = 22: YMKXKNKDOBBONOXYCKSOEHDYXPBYXDOCDMOSXDNOPVOEBYXCQVYBSOEHMKBDYXLBKCCKSDZYBDOBVOZOOSVCKSDZYBDOBVKMBYSH...\n",
      "Trying a = 19, b = 23\n",
      "Decrypted text with a = 19, b = 23: NBZMZCZSDQQDCDMNRZHDTWSNMEQNMSDRSBDHMSCDEKDTQNMRFKNQHDTWBZQSNMAQZRRZHSONQSDQKDODDHKRZHSONQSDQKZBQNHW...\n",
      "Trying a = 19, b = 24\n",
      "Decrypted text with a = 19, b = 24: CQOBOROHSFFSRSBCGOWSILHCBTFCBHSGHQSWBHRSTZSIFCBGUZCFWSILQOFHCBPFOGGOWHDCFHSFZSDSSWZGOWHDCFHSFZOQFCWL...\n",
      "Trying a = 19, b = 25\n",
      "Decrypted text with a = 19, b = 25: RFDQDGDWHUUHGHQRVDLHXAWRQIURQWHVWFHLQWGHIOHXURQVJORULHXAFDUWRQEUDVVDLWSRUWHUOHSHHLOVDLWSRUWHUODFURLA...\n",
      "Trying a = 21, b = 0\n",
      "Decrypted text with a = 21, b = 0: YCUHUTUFKXXKTKHYOUAKWVFYHBXYHFKOFCKAHFTKBZKWXYHOSZYXAKWVCUXFYHLXUOOUAFPYXFKXZKPKKAZOUAFPYXFKXZUCXYAV...\n",
      "Trying a = 21, b = 1\n",
      "Decrypted text with a = 21, b = 1: TXPCPOPAFSSFOFCTJPVFRQATCWSTCAFJAXFVCAOFWUFRSTCJNUTSVFRQXPSATCGSPJJPVAKTSAFSUFKFFVUJPVAKTSAFSUPXSTVQ...\n",
      "Trying a = 21, b = 2\n",
      "Decrypted text with a = 21, b = 2: OSKXKJKVANNAJAXOEKQAMLVOXRNOXVAEVSAQXVJARPAMNOXEIPONQAMLSKNVOXBNKEEKQVFONVANPAFAAQPEKQVFONVANPKSNOQL...\n",
      "Trying a = 21, b = 3\n",
      "Decrypted text with a = 21, b = 3: JNFSFEFQVIIVEVSJZFLVHGQJSMIJSQVZQNVLSQEVMKVHIJSZDKJILVHGNFIQJSWIFZZFLQAJIQVIKVAVVLKZFLQAJIQVIKFNIJLG...\n",
      "Trying a = 21, b = 4\n",
      "Decrypted text with a = 21, b = 4: EIANAZALQDDQZQNEUAGQCBLENHDENLQULIQGNLZQHFQCDENUYFEDGQCBIADLENRDAUUAGLVEDLQDFQVQQGFUAGLVEDLQDFAIDEGB...\n",
      "Trying a = 21, b = 5\n",
      "Decrypted text with a = 21, b = 5: ZDVIVUVGLYYLULIZPVBLXWGZICYZIGLPGDLBIGULCALXYZIPTAZYBLXWDVYGZIMYVPPVBGQZYGLYALQLLBAPVBGQZYGLYAVDYZBW...\n",
      "Trying a = 21, b = 6\n",
      "Decrypted text with a = 21, b = 6: UYQDQPQBGTTGPGDUKQWGSRBUDXTUDBGKBYGWDBPGXVGSTUDKOVUTWGSRYQTBUDHTQKKQWBLUTBGTVGLGGWVKQWBLUTBGTVQYTUWR...\n",
      "Trying a = 21, b = 7\n",
      "Decrypted text with a = 21, b = 7: PTLYLKLWBOOBKBYPFLRBNMWPYSOPYWBFWTBRYWKBSQBNOPYFJQPORBNMTLOWPYCOLFFLRWGPOWBOQBGBBRQFLRWGPOWBOQLTOPRM...\n",
      "Trying a = 21, b = 8\n",
      "Decrypted text with a = 21, b = 8: KOGTGFGRWJJWFWTKAGMWIHRKTNJKTRWAROWMTRFWNLWIJKTAELKJMWIHOGJRKTXJGAAGMRBKJRWJLWBWWMLAGMRBKJRWJLGOJKMH...\n",
      "Trying a = 21, b = 9\n",
      "Decrypted text with a = 21, b = 9: FJBOBABMREERAROFVBHRDCMFOIEFOMRVMJRHOMARIGRDEFOVZGFEHRDCJBEMFOSEBVVBHMWFEMREGRWRRHGVBHMWFEMREGBJEFHC...\n",
      "Trying a = 21, b = 10\n",
      "Decrypted text with a = 21, b = 10: AEWJWVWHMZZMVMJAQWCMYXHAJDZAJHMQHEMCJHVMDBMYZAJQUBAZCMYXEWZHAJNZWQQWCHRAZHMZBMRMMCBQWCHRAZHMZBWEZACX...\n",
      "Trying a = 21, b = 11\n",
      "Decrypted text with a = 21, b = 11: VZRERQRCHUUHQHEVLRXHTSCVEYUVECHLCZHXECQHYWHTUVELPWVUXHTSZRUCVEIURLLRXCMVUCHUWHMHHXWLRXCMVUCHUWRZUVXS...\n",
      "Trying a = 21, b = 12\n",
      "Decrypted text with a = 21, b = 12: QUMZMLMXCPPCLCZQGMSCONXQZTPQZXCGXUCSZXLCTRCOPQZGKRQPSCONUMPXQZDPMGGMSXHQPXCPRCHCCSRGMSXHQPXCPRMUPQSN...\n",
      "Trying a = 21, b = 13\n",
      "Decrypted text with a = 21, b = 13: LPHUHGHSXKKXGXULBHNXJISLUOKLUSXBSPXNUSGXOMXJKLUBFMLKNXJIPHKSLUYKHBBHNSCLKSXKMXCXXNMBHNSCLKSXKMHPKLNI...\n",
      "Trying a = 21, b = 14\n",
      "Decrypted text with a = 21, b = 14: GKCPCBCNSFFSBSPGWCISEDNGPJFGPNSWNKSIPNBSJHSEFGPWAHGFISEDKCFNGPTFCWWCINXGFNSFHSXSSIHWCINXGFNSFHCKFGID...\n",
      "Trying a = 21, b = 15\n",
      "Decrypted text with a = 21, b = 15: BFXKXWXINAANWNKBRXDNZYIBKEABKINRIFNDKIWNECNZABKRVCBADNZYFXAIBKOAXRRXDISBAINACNSNNDCRXDISBAINACXFABDY...\n",
      "Trying a = 21, b = 16\n",
      "Decrypted text with a = 21, b = 16: WASFSRSDIVVIRIFWMSYIUTDWFZVWFDIMDAIYFDRIZXIUVWFMQXWVYIUTASVDWFJVSMMSYDNWVDIVXINIIYXMSYDNWVDIVXSAVWYT...\n",
      "Trying a = 21, b = 17\n",
      "Decrypted text with a = 21, b = 17: RVNANMNYDQQDMDARHNTDPOYRAUQRAYDHYVDTAYMDUSDPQRAHLSRQTDPOVNQYRAEQNHHNTYIRQYDQSDIDDTSHNTYIRQYDQSNVQRTO...\n",
      "Trying a = 21, b = 18\n",
      "Decrypted text with a = 21, b = 18: MQIVIHITYLLYHYVMCIOYKJTMVPLMVTYCTQYOVTHYPNYKLMVCGNMLOYKJQILTMVZLICCIOTDMLTYLNYDYYONCIOTDMLTYLNIQLMOJ...\n",
      "Trying a = 21, b = 19\n",
      "Decrypted text with a = 21, b = 19: HLDQDCDOTGGTCTQHXDJTFEOHQKGHQOTXOLTJQOCTKITFGHQXBIHGJTFELDGOHQUGDXXDJOYHGOTGITYTTJIXDJOYHGOTGIDLGHJE...\n",
      "Trying a = 21, b = 20\n",
      "Decrypted text with a = 21, b = 20: CGYLYXYJOBBOXOLCSYEOAZJCLFBCLJOSJGOELJXOFDOABCLSWDCBEOAZGYBJCLPBYSSYEJTCBJOBDOTOOEDSYEJTCBJOBDYGBCEZ...\n",
      "Trying a = 21, b = 21\n",
      "Decrypted text with a = 21, b = 21: XBTGTSTEJWWJSJGXNTZJVUEXGAWXGEJNEBJZGESJAYJVWXGNRYXWZJVUBTWEXGKWTNNTZEOXWEJWYJOJJZYNTZEOXWEJWYTBWXZU...\n",
      "Trying a = 21, b = 22\n",
      "Decrypted text with a = 21, b = 22: SWOBONOZERRENEBSIOUEQPZSBVRSBZEIZWEUBZNEVTEQRSBIMTSRUEQPWORZSBFROIIOUZJSRZERTEJEEUTIOUZJSRZERTOWRSUP...\n",
      "Trying a = 21, b = 23\n",
      "Decrypted text with a = 21, b = 23: NRJWJIJUZMMZIZWNDJPZLKUNWQMNWUZDURZPWUIZQOZLMNWDHONMPZLKRJMUNWAMJDDJPUENMUZMOZEZZPODJPUENMUZMOJRMNPK...\n",
      "Trying a = 21, b = 24\n",
      "Decrypted text with a = 21, b = 24: IMEREDEPUHHUDURIYEKUGFPIRLHIRPUYPMUKRPDULJUGHIRYCJIHKUGFMEHPIRVHEYYEKPZIHPUHJUZUUKJYEKPZIHPUHJEMHIKF...\n",
      "Trying a = 21, b = 25\n",
      "Decrypted text with a = 21, b = 25: DHZMZYZKPCCPYPMDTZFPBAKDMGCDMKPTKHPFMKYPGEPBCDMTXEDCFPBAHZCKDMQCZTTZFKUDCKPCEPUPPFETZFKUDCKPCEZHCDFA...\n",
      "Trying a = 23, b = 0\n",
      "Decrypted text with a = 23, b = 0: OMQDQXQRIVVIXIDOGQAICJRODTVODRIGRMIADRXITHICVODGEHOVAICJMQVRODBVQGGQARZOVRIVHIZIIAHGQARZOVRIVHQMVOAJ...\n",
      "Trying a = 23, b = 1\n",
      "Decrypted text with a = 23, b = 1: XVZMZGZAREERGRMXPZJRLSAXMCEXMARPAVRJMAGRCQRLEXMPNQXEJRLSVZEAXMKEZPPZJAIXEAREQRIRRJQPZJAIXEAREQZVEXJS...\n",
      "Trying a = 23, b = 2\n",
      "Decrypted text with a = 23, b = 2: GEIVIPIJANNAPAVGYISAUBJGVLNGVJAYJEASVJPALZAUNGVYWZGNSAUBEINJGVTNIYYISJRGNJANZARAASZYISJRGNJANZIENGSB...\n",
      "Trying a = 23, b = 3\n",
      "Decrypted text with a = 23, b = 3: PNRERYRSJWWJYJEPHRBJDKSPEUWPESJHSNJBESYJUIJDWPEHFIPWBJDKNRWSPECWRHHRBSAPWSJWIJAJJBIHRBSAPWSJWIRNWPBK...\n",
      "Trying a = 23, b = 4\n",
      "Decrypted text with a = 23, b = 4: YWANAHABSFFSHSNYQAKSMTBYNDFYNBSQBWSKNBHSDRSMFYNQORYFKSMTWAFBYNLFAQQAKBJYFBSFRSJSSKRQAKBJYFBSFRAWFYKT...\n",
      "Trying a = 23, b = 5\n",
      "Decrypted text with a = 23, b = 5: HFJWJQJKBOOBQBWHZJTBVCKHWMOHWKBZKFBTWKQBMABVOHWZXAHOTBVCFJOKHWUOJZZJTKSHOKBOABSBBTAZJTKSHOKBOAJFOHTC...\n",
      "Trying a = 23, b = 6\n",
      "Decrypted text with a = 23, b = 6: QOSFSZSTKXXKZKFQISCKELTQFVXQFTKITOKCFTZKVJKEXQFIGJQXCKELOSXTQFDXSIISCTBQXTKXJKBKKCJISCTBQXTKXJSOXQCL...\n",
      "Trying a = 23, b = 7\n",
      "Decrypted text with a = 23, b = 7: ZXBOBIBCTGGTITOZRBLTNUCZOEGZOCTRCXTLOCITESTNGZORPSZGLTNUXBGCZOMGBRRBLCKZGCTGSTKTTLSRBLCKZGCTGSBXGZLU...\n",
      "Trying a = 23, b = 8\n",
      "Decrypted text with a = 23, b = 8: IGKXKRKLCPPCRCXIAKUCWDLIXNPIXLCALGCUXLRCNBCWPIXAYBIPUCWDGKPLIXVPKAAKULTIPLCPBCTCCUBAKULTIPLCPBKGPIUD...\n",
      "Trying a = 23, b = 9\n",
      "Decrypted text with a = 23, b = 9: RPTGTATULYYLALGRJTDLFMURGWYRGULJUPLDGUALWKLFYRGJHKRYDLFMPTYURGEYTJJTDUCRYULYKLCLLDKJTDUCRYULYKTPYRDM...\n",
      "Trying a = 23, b = 10\n",
      "Decrypted text with a = 23, b = 10: AYCPCJCDUHHUJUPASCMUOVDAPFHAPDUSDYUMPDJUFTUOHAPSQTAHMUOVYCHDAPNHCSSCMDLAHDUHTULUUMTSCMDLAHDUHTCYHAMV...\n",
      "Trying a = 23, b = 11\n",
      "Decrypted text with a = 23, b = 11: JHLYLSLMDQQDSDYJBLVDXEMJYOQJYMDBMHDVYMSDOCDXQJYBZCJQVDXEHLQMJYWQLBBLVMUJQMDQCDUDDVCBLVMUJQMDQCLHQJVE...\n",
      "Trying a = 23, b = 12\n",
      "Decrypted text with a = 23, b = 12: SQUHUBUVMZZMBMHSKUEMGNVSHXZSHVMKVQMEHVBMXLMGZSHKILSZEMGNQUZVSHFZUKKUEVDSZVMZLMDMMELKUEVDSZVMZLUQZSEN...\n",
      "Trying a = 23, b = 13\n",
      "Decrypted text with a = 23, b = 13: BZDQDKDEVIIVKVQBTDNVPWEBQGIBQEVTEZVNQEKVGUVPIBQTRUBINVPWZDIEBQOIDTTDNEMBIEVIUVMVVNUTDNEMBIEVIUDZIBNW...\n",
      "Trying a = 23, b = 14\n",
      "Decrypted text with a = 23, b = 14: KIMZMTMNERRETEZKCMWEYFNKZPRKZNECNIEWZNTEPDEYRKZCADKRWEYFIMRNKZXRMCCMWNVKRNERDEVEEWDCMWNVKRNERDMIRKWF...\n",
      "Trying a = 23, b = 15\n",
      "Decrypted text with a = 23, b = 15: TRVIVCVWNAANCNITLVFNHOWTIYATIWNLWRNFIWCNYMNHATILJMTAFNHORVAWTIGAVLLVFWETAWNAMNENNFMLVFWETAWNAMVRATFO...\n",
      "Trying a = 23, b = 16\n",
      "Decrypted text with a = 23, b = 16: CAERELEFWJJWLWRCUEOWQXFCRHJCRFWUFAWORFLWHVWQJCRUSVCJOWQXAEJFCRPJEUUEOFNCJFWJVWNWWOVUEOFNCJFWJVEAJCOX...\n",
      "Trying a = 23, b = 17\n",
      "Decrypted text with a = 23, b = 17: LJNANUNOFSSFUFALDNXFZGOLAQSLAOFDOJFXAOUFQEFZSLADBELSXFZGJNSOLAYSNDDNXOWLSOFSEFWFFXEDNXOWLSOFSENJSLXG...\n",
      "Trying a = 23, b = 18\n",
      "Decrypted text with a = 23, b = 18: USWJWDWXOBBODOJUMWGOIPXUJZBUJXOMXSOGJXDOZNOIBUJMKNUBGOIPSWBXUJHBWMMWGXFUBXOBNOFOOGNMWGXFUBXOBNWSBUGP...\n",
      "Trying a = 23, b = 19\n",
      "Decrypted text with a = 23, b = 19: DBFSFMFGXKKXMXSDVFPXRYGDSIKDSGXVGBXPSGMXIWXRKDSVTWDKPXRYBFKGDSQKFVVFPGODKGXKWXOXXPWVFPGODKGXKWFBKDPY...\n",
      "Trying a = 23, b = 20\n",
      "Decrypted text with a = 23, b = 20: MKOBOVOPGTTGVGBMEOYGAHPMBRTMBPGEPKGYBPVGRFGATMBECFMTYGAHKOTPMBZTOEEOYPXMTPGTFGXGGYFEOYPXMTPGTFOKTMYH...\n",
      "Trying a = 23, b = 21\n",
      "Decrypted text with a = 23, b = 21: VTXKXEXYPCCPEPKVNXHPJQYVKACVKYPNYTPHKYEPAOPJCVKNLOVCHPJQTXCYVKICXNNXHYGVCYPCOPGPPHONXHYGVCYPCOXTCVHQ...\n",
      "Trying a = 23, b = 22\n",
      "Decrypted text with a = 23, b = 22: ECGTGNGHYLLYNYTEWGQYSZHETJLETHYWHCYQTHNYJXYSLETWUXELQYSZCGLHETRLGWWGQHPELHYLXYPYYQXWGQHPELHYLXGCLEQZ...\n",
      "Trying a = 23, b = 23\n",
      "Decrypted text with a = 23, b = 23: NLPCPWPQHUUHWHCNFPZHBIQNCSUNCQHFQLHZCQWHSGHBUNCFDGNUZHBILPUQNCAUPFFPZQYNUQHUGHYHHZGFPZQYNUQHUGPLUNZI...\n",
      "Trying a = 23, b = 24\n",
      "Decrypted text with a = 23, b = 24: WUYLYFYZQDDQFQLWOYIQKRZWLBDWLZQOZUQILZFQBPQKDWLOMPWDIQKRUYDZWLJDYOOYIZHWDZQDPQHQQIPOYIZHWDZQDPYUDWIR...\n",
      "Trying a = 23, b = 25\n",
      "Decrypted text with a = 23, b = 25: FDHUHOHIZMMZOZUFXHRZTAIFUKMFUIZXIDZRUIOZKYZTMFUXVYFMRZTADHMIFUSMHXXHRIQFMIZMYZQZZRYXHRIQFMIZMYHDMFRA...\n",
      "Trying a = 25, b = 0\n",
      "Decrypted text with a = 25, b = 0: QKWJWRWZYLLYRYJQSWAYGBZQJFLQJZYSZKYAJZRYFVYGLQJSMVQLAYGBKWLZQJDLWSSWAZXQLZYLVYXYYAVSWAZXQLZYLVWKLQAB...\n",
      "Trying a = 25, b = 1\n",
      "Decrypted text with a = 25, b = 1: RLXKXSXAZMMZSZKRTXBZHCARKGMRKAZTALZBKASZGWZHMRKTNWRMBZHCLXMARKEMXTTXBAYRMAZMWZYZZBWTXBAYRMAZMWXLMRBC...\n",
      "Trying a = 25, b = 2\n",
      "Decrypted text with a = 25, b = 2: SMYLYTYBANNATALSUYCAIDBSLHNSLBAUBMACLBTAHXAINSLUOXSNCAIDMYNBSLFNYUUYCBZSNBANXAZAACXUYCBZSNBANXYMNSCD...\n",
      "Trying a = 25, b = 3\n",
      "Decrypted text with a = 25, b = 3: TNZMZUZCBOOBUBMTVZDBJECTMIOTMCBVCNBDMCUBIYBJOTMVPYTODBJENZOCTMGOZVVZDCATOCBOYBABBDYVZDCATOCBOYZNOTDE...\n",
      "Trying a = 25, b = 4\n",
      "Decrypted text with a = 25, b = 4: UOANAVADCPPCVCNUWAECKFDUNJPUNDCWDOCENDVCJZCKPUNWQZUPECKFOAPDUNHPAWWAEDBUPDCPZCBCCEZWAEDBUPDCPZAOPUEF...\n",
      "Trying a = 25, b = 5\n",
      "Decrypted text with a = 25, b = 5: VPBOBWBEDQQDWDOVXBFDLGEVOKQVOEDXEPDFOEWDKADLQVOXRAVQFDLGPBQEVOIQBXXBFECVQEDQADCDDFAXBFECVQEDQABPQVFG...\n",
      "Trying a = 25, b = 6\n",
      "Decrypted text with a = 25, b = 6: WQCPCXCFERREXEPWYCGEMHFWPLRWPFEYFQEGPFXELBEMRWPYSBWRGEMHQCRFWPJRCYYCGFDWRFERBEDEEGBYCGFDWRFERBCQRWGH...\n",
      "Trying a = 25, b = 7\n",
      "Decrypted text with a = 25, b = 7: XRDQDYDGFSSFYFQXZDHFNIGXQMSXQGFZGRFHQGYFMCFNSXQZTCXSHFNIRDSGXQKSDZZDHGEXSGFSCFEFFHCZDHGEXSGFSCDRSXHI...\n",
      "Trying a = 25, b = 8\n",
      "Decrypted text with a = 25, b = 8: YSEREZEHGTTGZGRYAEIGOJHYRNTYRHGAHSGIRHZGNDGOTYRAUDYTIGOJSETHYRLTEAAEIHFYTHGTDGFGGIDAEIHFYTHGTDESTYIJ...\n",
      "Trying a = 25, b = 9\n",
      "Decrypted text with a = 25, b = 9: ZTFSFAFIHUUHAHSZBFJHPKIZSOUZSIHBITHJSIAHOEHPUZSBVEZUJHPKTFUIZSMUFBBFJIGZUIHUEHGHHJEBFJIGZUIHUEFTUZJK...\n",
      "Trying a = 25, b = 10\n",
      "Decrypted text with a = 25, b = 10: AUGTGBGJIVVIBITACGKIQLJATPVATJICJUIKTJBIPFIQVATCWFAVKIQLUGVJATNVGCCGKJHAVJIVFIHIIKFCGKJHAVJIVFGUVAKL...\n",
      "Trying a = 25, b = 11\n",
      "Decrypted text with a = 25, b = 11: BVHUHCHKJWWJCJUBDHLJRMKBUQWBUKJDKVJLUKCJQGJRWBUDXGBWLJRMVHWKBUOWHDDHLKIBWKJWGJIJJLGDHLKIBWKJWGHVWBLM...\n",
      "Trying a = 25, b = 12\n",
      "Decrypted text with a = 25, b = 12: CWIVIDILKXXKDKVCEIMKSNLCVRXCVLKELWKMVLDKRHKSXCVEYHCXMKSNWIXLCVPXIEEIMLJCXLKXHKJKKMHEIMLJCXLKXHIWXCMN...\n",
      "Trying a = 25, b = 13\n",
      "Decrypted text with a = 25, b = 13: DXJWJEJMLYYLELWDFJNLTOMDWSYDWMLFMXLNWMELSILTYDWFZIDYNLTOXJYMDWQYJFFJNMKDYMLYILKLLNIFJNMKDYMLYIJXYDNO...\n",
      "Trying a = 25, b = 14\n",
      "Decrypted text with a = 25, b = 14: EYKXKFKNMZZMFMXEGKOMUPNEXTZEXNMGNYMOXNFMTJMUZEXGAJEZOMUPYKZNEXRZKGGKONLEZNMZJMLMMOJGKONLEZNMZJKYZEOP...\n",
      "Trying a = 25, b = 15\n",
      "Decrypted text with a = 25, b = 15: FZLYLGLONAANGNYFHLPNVQOFYUAFYONHOZNPYOGNUKNVAFYHBKFAPNVQZLAOFYSALHHLPOMFAONAKNMNNPKHLPOMFAONAKLZAFPQ...\n",
      "Trying a = 25, b = 16\n",
      "Decrypted text with a = 25, b = 16: GAMZMHMPOBBOHOZGIMQOWRPGZVBGZPOIPAOQZPHOVLOWBGZICLGBQOWRAMBPGZTBMIIMQPNGBPOBLONOOQLIMQPNGBPOBLMABGQR...\n",
      "Trying a = 25, b = 17\n",
      "Decrypted text with a = 25, b = 17: HBNANINQPCCPIPAHJNRPXSQHAWCHAQPJQBPRAQIPWMPXCHAJDMHCRPXSBNCQHAUCNJJNRQOHCQPCMPOPPRMJNRQOHCQPCMNBCHRS...\n",
      "Trying a = 25, b = 18\n",
      "Decrypted text with a = 25, b = 18: ICOBOJORQDDQJQBIKOSQYTRIBXDIBRQKRCQSBRJQXNQYDIBKENIDSQYTCODRIBVDOKKOSRPIDRQDNQPQQSNKOSRPIDRQDNOCDIST...\n",
      "Trying a = 25, b = 19\n",
      "Decrypted text with a = 25, b = 19: JDPCPKPSREERKRCJLPTRZUSJCYEJCSRLSDRTCSKRYORZEJCLFOJETRZUDPESJCWEPLLPTSQJESREORQRRTOLPTSQJESREOPDEJTU...\n",
      "Trying a = 25, b = 20\n",
      "Decrypted text with a = 25, b = 20: KEQDQLQTSFFSLSDKMQUSAVTKDZFKDTSMTESUDTLSZPSAFKDMGPKFUSAVEQFTKDXFQMMQUTRKFTSFPSRSSUPMQUTRKFTSFPQEFKUV...\n",
      "Trying a = 25, b = 21\n",
      "Decrypted text with a = 25, b = 21: LFRERMRUTGGTMTELNRVTBWULEAGLEUTNUFTVEUMTAQTBGLENHQLGVTBWFRGULEYGRNNRVUSLGUTGQTSTTVQNRVUSLGUTGQRFGLVW...\n",
      "Trying a = 25, b = 22\n",
      "Decrypted text with a = 25, b = 22: MGSFSNSVUHHUNUFMOSWUCXVMFBHMFVUOVGUWFVNUBRUCHMFOIRMHWUCXGSHVMFZHSOOSWVTMHVUHRUTUUWROSWVTMHVUHRSGHMWX...\n",
      "Trying a = 25, b = 23\n",
      "Decrypted text with a = 25, b = 23: NHTGTOTWVIIVOVGNPTXVDYWNGCINGWVPWHVXGWOVCSVDINGPJSNIXVDYHTIWNGAITPPTXWUNIWVISVUVVXSPTXWUNIWVISTHINXY...\n",
      "Trying a = 25, b = 24\n",
      "Decrypted text with a = 25, b = 24: OIUHUPUXWJJWPWHOQUYWEZXOHDJOHXWQXIWYHXPWDTWEJOHQKTOJYWEZIUJXOHBJUQQUYXVOJXWJTWVWWYTQUYXVOJXWJTUIJOYZ...\n",
      "Trying a = 25, b = 25\n",
      "Decrypted text with a = 25, b = 25: PJVIVQVYXKKXQXIPRVZXFAYPIEKPIYXRYJXZIYQXEUXFKPIRLUPKZXFAJVKYPICKVRRVZYWPKYXKUXWXXZURVZYWPKYXKUVJKPZA...\n"
     ]
    }
   ],
   "source": [
    "from collections import Counter\n",
    "import string\n",
    "\n",
    "# Alphabet size\n",
    "ALPHABET_SIZE = 26\n",
    "\n",
    "# Affine cipher decryption formula: D(y) = a_inv * (y - b) % 26\n",
    "def mod_inverse(a, m):\n",
    "    # Find the modular inverse using the Extended Euclidean Algorithm\n",
    "    for x in range(1, m):\n",
    "        if (a * x) % m == 1:\n",
    "            return x\n",
    "    return None\n",
    "\n",
    "def affine_decrypt(ciphertext, a, b):\n",
    "    # Find the modular inverse of a\n",
    "    a_inv = mod_inverse(a, ALPHABET_SIZE)\n",
    "    if a_inv is None:\n",
    "        raise ValueError(\"No modular inverse exists for a = {}\".format(a))\n",
    "    \n",
    "    # Convert ciphertext to numbers\n",
    "    ciphertext_numbers = [ord(char) - ord('A') for char in ciphertext if char.isalpha()]\n",
    "    \n",
    "    # Apply the decryption formula to each character\n",
    "    decrypted_numbers = [(a_inv * (c - b)) % ALPHABET_SIZE for c in ciphertext_numbers]\n",
    "    \n",
    "    # Convert numbers back to letters\n",
    "    decrypted_text = ''.join(chr(num + ord('A')) for num in decrypted_numbers)\n",
    "    \n",
    "    return decrypted_text\n",
    "\n",
    "# Example ciphertext (from the problem)\n",
    "ciphertext = \"KQEREJEBCPPCJCRKIEACUZBKRVPKRBCIBQCARBJCVFCUPKRIOFKPACUZQEPBKRXPEIIEABDKPBCPFCDCCAFIEABDKPBCPFEQPKAZBKRHAIBKAPCCIBURCCDKDCCJCIDFUIXPAFFERBICZDFKABICBBENEFCUPJCVKABPCYDCCDPKBCOCPERKIVKSCPICBRKIJPKABI\"\n",
    "\n",
    "# Frequency analysis to find most common letters\n",
    "def frequency_analysis(text):\n",
    "    text = [char for char in text if char.isalpha()]\n",
    "    frequencies = Counter(text)\n",
    "    return frequencies.most_common()\n",
    "\n",
    "# Try different values of a and b based on common letters (frequency analysis helps narrow it down)\n",
    "def guess_key(ciphertext):\n",
    "    # Frequency analysis of the ciphertext\n",
    "    frequencies = frequency_analysis(ciphertext)\n",
    "    print(\"Letter Frequencies in the Ciphertext: \", frequencies)\n",
    "\n",
    "    # Common English letter frequency: 'E' is most frequent, so map the most frequent cipher letter to 'E'\n",
    "    most_common_cipher_letter = frequencies[0][0]\n",
    "    most_common_cipher_value = ord(most_common_cipher_letter) - ord('A')\n",
    "    \n",
    "    # Assuming 'E' (most common letter in English) corresponds to this cipher letter\n",
    "    expected_plaintext_value = ord('E') - ord('A')\n",
    "    \n",
    "    # Iterate over all possible values of a and find modular inverse for each\n",
    "    possible_a_values = [a for a in range(1, ALPHABET_SIZE) if mod_inverse(a, ALPHABET_SIZE)]\n",
    "    \n",
    "    # Test each combination of a and b\n",
    "    for a in possible_a_values:\n",
    "        for b in range(ALPHABET_SIZE):\n",
    "            try:\n",
    "                print(f\"Trying a = {a}, b = {b}\")\n",
    "                # Decrypt the ciphertext with the current guess of a and b\n",
    "                decrypted_text = affine_decrypt(ciphertext, a, b)\n",
    "                print(f\"Decrypted text with a = {a}, b = {b}: {decrypted_text[:100]}...\")  # Print first 100 chars\n",
    "            except ValueError as e:\n",
    "                # If there's an error (like no modular inverse), skip that key pair\n",
    "                continue\n",
    "\n",
    "# Try decrypting with all possible keys\n",
    "guess_key(ciphertext)\n",
    "\n"
   ]
  },
  {
   "cell_type": "markdown",
   "metadata": {},
   "source": [
    "After of an analysis of each combination , we get the correct keys: a=19, b = 4"
   ]
  },
  {
   "cell_type": "code",
   "execution_count": 50,
   "metadata": {},
   "outputs": [
    {
     "data": {
      "text/plain": [
       "'OCANADATERREDENOSAIEUXTONFRONTESTCEINTDEFLEURONSGLORIEUXCARTONBRASSAITPORTERLEPEEILSAITPORTERLACROIXTONHISTOIREESTUNEEPOPEEDESPLUSBRILLANTSEXPLOITSETTAVALEURDEFOITREMPEEPROTEGERANOSFOYERSETNOSDROITS'"
      ]
     },
     "execution_count": 50,
     "metadata": {},
     "output_type": "execute_result"
    }
   ],
   "source": [
    "# Redefining everything for a clean execution\n",
    "ALPHABET_SIZE = 26\n",
    "ciphertext = \"KQEREJEBCPPCJCRKIEACUZBKRVPKRBCIBQCARBJCVFCUPKRIOFKPACUZQEPBKRXPEIIEABDKPBCPFCDCCAFIEABDKPBCPFEQPKAZBKRHAIBKAPCCIBURCCDKDCCJCIDFUIXPAFFERBICZDFKABICBBENEFCUPJCVKABPCYDCCDPKBCOCPERKIVKSCPICBRKIJPKABI\"\n",
    "\n",
    "# Modular inverse function\n",
    "def mod_inverse(a, m):\n",
    "    for x in range(1, m):\n",
    "        if (a * x) % m == 1:\n",
    "            return x\n",
    "\n",
    "# Affine cipher decryption formula: D(y) = a_inv * (y - b) % 26\n",
    "def affine_decrypt(ciphertext, a, b):\n",
    "    a_inv = mod_inverse(a, ALPHABET_SIZE)\n",
    "    ciphertext_numbers = [ord(char) - ord('A') for char in ciphertext if char.isalpha()]\n",
    "    decrypted_numbers = [(a_inv * (c - b)) % ALPHABET_SIZE for c in ciphertext_numbers]\n",
    "    decrypted_text = ''.join(chr(num + ord('A')) for num in decrypted_numbers)\n",
    "    return decrypted_text\n",
    "\n",
    "# Use the correct keys (a = 19, b = 4)\n",
    "a_correct = 19\n",
    "b_correct = 4\n",
    "\n",
    "# Decrypt the full ciphertext with the correct keys\n",
    "decrypted_full_text = affine_decrypt(ciphertext, a_correct, b_correct)\n",
    "decrypted_full_text\n"
   ]
  },
  {
   "cell_type": "markdown",
   "metadata": {},
   "source": [
    "This is the French version of the Canadian national anthem"
   ]
  },
  {
   "cell_type": "markdown",
   "metadata": {},
   "source": [
    "### Unspecified cipher\n",
    "BNVSNSIHQCEELSSKKYERIFJKXUMBGYKAMQLJTYAVFBKVTDVBPVVRJYYLAOKYMPQSCGDLFSRLLPROYGESEBUUALRWXMMASAZLGLEDFJBZAVVPXWICGJXASCBYEHOSNMULKCEAHTQOKMFLEBKFXLRRFDTZXCIWBJSICBGAWDVYDHAVFJXZIBKCGJIWEAHTTOEWTUHKRQVVRGZBXYIREMMASCSPBNLHJMBLRFFJELHWEYLWISTFVVYFJCMHYUYRUFSFMGESIGRLWALSWMNUHSIMYYITCCQPZSICEHBCCMZFEGVJYOCDEMMPGHVAAUMELCMOEHVLTIPSUYILVGFLMVWDVYDBTHFRAYISYSGKVSUUHYHGGCKTMBLRX"
   ]
  },
  {
   "cell_type": "code",
   "execution_count": 68,
   "metadata": {},
   "outputs": [],
   "source": [
    "unspecified_cipher = 'BNVSNSIHQCEELSSKKYERIFJKXUMBGYKAMQLJTYAVFBKVTDVBPVVRJYYLAOKYMPQSCGDLFSRLLPROYGESEBUUALRWXMMASAZLGLEDFJBZAVVPXWICGJXASCBYEHOSNMULKCEAHTQOKMFLEBKFXLRRFDTZXCIWBJSICBGAWDVYDHAVFJXZIBKCGJIWEAHTTOEWTUHKRQVVRGZBXYIREMMASCSPBNLHJMBLRFFJELHWEYLWISTFVVYFJCMHYUYRUFSFMGESIGRLWALSWMNUHSIMYYITCCQPZSICEHBCCMZFEGVJYOCDEMMPGHVAAUMELCMOEHVLTIPSUYILVGFLMVWDVYDBTHFRAYISYSGKVSUUHYHGGCKTMBLRX'"
   ]
  },
  {
   "cell_type": "code",
   "execution_count": 87,
   "metadata": {},
   "outputs": [
    {
     "name": "stdout",
     "output_type": "stream",
     "text": [
      "Counter({'S': 23, 'L': 23, 'Y': 22, 'V': 21, 'M': 21, 'E': 20, 'C': 18, 'B': 17, 'F': 17, 'A': 17, 'I': 16, 'H': 16, 'G': 16, 'R': 15, 'K': 13, 'J': 12, 'U': 12, 'T': 12, 'W': 11, 'X': 9, 'D': 9, 'P': 8, 'O': 7, 'Z': 7, 'Q': 6, 'N': 5})\n",
      "0.04138199429213872\n",
      "373\n"
     ]
    }
   ],
   "source": [
    "from collections import Counter\n",
    "\n",
    "print(Counter(unspecified_cipher))\n",
    "\n",
    "print(IC(unspecified_cipher))\n",
    "\n",
    "print(len(unspecified_cipher))"
   ]
  },
  {
   "cell_type": "markdown",
   "metadata": {},
   "source": [
    "From the counter output, we analyze the frequency of each letter. Since in English the letter E tends to be repeated many times, and here we see that there's not a significant difference in the first ~5 most common letters (indicating a more 'uniform' distribution), we could be dealing with a polyalphabetic cipher, the most common of which is the Vigenère Cipher.\n",
    "\n",
    "Additionally, the IC is lower than the normal IC for a monoalphabetic cipher, but for a Vigenère Cipher, this is considered normal since multiple substitution alphabets are used. With this, we'll assume it's a Vigenère Cipher and use the same functions that we applied in the previous exercise."
   ]
  },
  {
   "cell_type": "code",
   "execution_count": 82,
   "metadata": {},
   "outputs": [
    {
     "name": "stdout",
     "output_type": "stream",
     "text": [
      "0.06062272138422323  with key length:  6\n"
     ]
    }
   ],
   "source": [
    "avg_ic = []\n",
    "for i in range (1,11):\n",
    "    divided_text = divide_text(unspecified_cipher,i)\n",
    "    if len(divided_text) != 0:\n",
    "        avg_IC = sum([IC(text) for text in divided_text])/len(divided_text)\n",
    "    avg_ic.append(avg_IC)\n",
    "\n",
    "print(max(avg_ic), ' with key length: ', avg_ic.index(max(avg_ic))+1)"
   ]
  },
  {
   "cell_type": "code",
   "execution_count": 83,
   "metadata": {},
   "outputs": [
    {
     "name": "stdout",
     "output_type": "stream",
     "text": [
      "Best key letter for this group: T, Fitness Score: 384.13999999999976\n",
      "Best key letter for this group: H, Fitness Score: 421.75\n",
      "Best key letter for this group: E, Fitness Score: 378.86999999999995\n",
      "Best key letter for this group: O, Fitness Score: 429.1499999999999\n",
      "Best key letter for this group: R, Fitness Score: 391.95999999999987\n",
      "Best key letter for this group: Y, Fitness Score: 400.0099999999999\n"
     ]
    }
   ],
   "source": [
    "groups = divide_text(unspecified_cipher, 6)\n",
    "\n",
    "\n",
    "for group in groups:\n",
    "    list_of_fitness = []\n",
    "    for letter in list_of_letters:\n",
    "        decrypted_text = rotation_cipher(group, letter)  \n",
    "        fitness_score = fitness_function(decrypted_text) \n",
    "        list_of_fitness.append(fitness_score)\n",
    "    \n",
    "    best_fitness = max(list_of_fitness)\n",
    "    best_key_letter = list_of_letters[list_of_fitness.index(best_fitness)]\n",
    "    \n",
    "    print(f\"Best key letter for this group: {best_key_letter}, Fitness Score: {best_fitness}\")"
   ]
  },
  {
   "cell_type": "markdown",
   "metadata": {},
   "source": [
    "Here we found that the key is 'THEORY,' which makes sense given the context. Now we'll use the same Vigenère decrypt function as before."
   ]
  },
  {
   "cell_type": "code",
   "execution_count": 88,
   "metadata": {},
   "outputs": [
    {
     "name": "stdout",
     "output_type": "stream",
     "text": [
      "Decrypted Text:  IGREWUPAMONGSLOWTALKERSMENINPARTICULARWHODROPPEDWORDSAFEWATATIMELIKEBEANSINAHILLANDWHENIGOTTOMINNEAPOLISWHEREPEOPLETOOKALAKEWOBEGONCOMMATOMEANTHEENDOFASTORYICOULDNTSPEAKAWHOLESENTENCEINCOMPANYANDWASCONSIDEREDNOTTOOBRIGHTSOIENROLLEDINASPEECHCOURSETAUGHTBYORVILLESANDTHEFOUNDEROFREFLEXIVERELAXOLOGYASELFHYPNOTICTECHNIQUETHATENABLEDAPERSONTOSPEAKUPTOTHREEHUNDREDWORDSPERMINUTE\n",
      "373\n"
     ]
    }
   ],
   "source": [
    "key = \"THEORY\"\n",
    "\n",
    "decrypted_text = vigenere_decrypt(unspecified_cipher, key)\n",
    "print(\"Decrypted Text: \", decrypted_text)"
   ]
  }
 ],
 "metadata": {
  "kernelspec": {
   "display_name": "Python 3",
   "language": "python",
   "name": "python3"
  },
  "language_info": {
   "codemirror_mode": {
    "name": "ipython",
    "version": 3
   },
   "file_extension": ".py",
   "mimetype": "text/x-python",
   "name": "python",
   "nbconvert_exporter": "python",
   "pygments_lexer": "ipython3",
   "version": "3.12.5"
  }
 },
 "nbformat": 4,
 "nbformat_minor": 2
}
